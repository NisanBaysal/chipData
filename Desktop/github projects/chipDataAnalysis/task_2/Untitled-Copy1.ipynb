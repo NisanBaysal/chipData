{
 "cells": [
  {
   "cell_type": "code",
   "execution_count": 208,
   "id": "05ffd267",
   "metadata": {},
   "outputs": [],
   "source": [
    "import pandas as pd\n",
    "import numpy as np\n",
    "import matplotlib.pyplot as plt\n",
    "import seaborn as sns\n",
    "from scipy.stats import ttest_ind\n",
    "from scipy.stats import t\n",
    "from plotnine import *\n"
   ]
  },
  {
   "cell_type": "code",
   "execution_count": 209,
   "id": "1306347a",
   "metadata": {},
   "outputs": [],
   "source": [
    "missing_values = [\"n/a\", \"na\", \"--\"]\n",
    "combined_df_task2=pd.read_csv(\"files/combined_df_for_task2.csv\",na_values = missing_values)"
   ]
  },
  {
   "cell_type": "code",
   "execution_count": 210,
   "id": "7516c24d",
   "metadata": {},
   "outputs": [],
   "source": [
    "QVI_data=pd.read_csv(\"files/QVI_data.csv\",na_values = missing_values)"
   ]
  },
  {
   "cell_type": "code",
   "execution_count": 211,
   "id": "7d04d847",
   "metadata": {},
   "outputs": [],
   "source": [
    "QVI_data[\"DATE\"]=pd.to_datetime(QVI_data[\"DATE\"])"
   ]
  },
  {
   "cell_type": "code",
   "execution_count": 212,
   "id": "677c3b44",
   "metadata": {},
   "outputs": [],
   "source": [
    "QVI_data['year_filter']=QVI_data['DATE'].dt.year\n",
    "QVI_data['month_filter']=QVI_data['DATE'].dt.month\n",
    "QVI_data['yyyymm']=QVI_data['year_filter'].astype(str)+QVI_data['month_filter'].astype(str).str.zfill(2)"
   ]
  },
  {
   "cell_type": "markdown",
   "id": "d96a867e",
   "metadata": {},
   "source": [
    "## Part 1-Selecting Control Stores  <br>\n",
    "Let's pick the control stores\n",
    "Our trial stores are 77, 86, 88\n",
    "Let's filter out the stores from before 2019 february."
   ]
  },
  {
   "cell_type": "code",
   "execution_count": 213,
   "id": "84aa68f1",
   "metadata": {},
   "outputs": [],
   "source": [
    "QVI_data_pretrial=QVI_data.loc[(QVI_data['year_filter']<2019)|(QVI_data['year_filter']==2019)& (QVI_data['month_filter']<2)]"
   ]
  },
  {
   "cell_type": "markdown",
   "id": "5aa32ae7",
   "metadata": {},
   "source": [
    "What we want to calculate: <br>\n",
    "monthly overall sales for each store <br>\n",
    "monthly number of customers for each store <br>\n",
    "monthly number of transactions per store per customer <br>"
   ]
  },
  {
   "cell_type": "markdown",
   "id": "e3ca7756",
   "metadata": {},
   "source": [
    "Let's calculate these for our trial stores. Let's build a function to do that."
   ]
  },
  {
   "cell_type": "code",
   "execution_count": 214,
   "id": "c5d8280b",
   "metadata": {},
   "outputs": [],
   "source": [
    "#function to get the averages\n",
    "def find_monthly_numbers(storenumber,dataframe_name):\n",
    "    filter=pd.DataFrame(dataframe_name.loc[(dataframe_name['STORE_NBR']==storenumber)])\n",
    "    monthly_sale=pd.DataFrame(filter.groupby(['yyyymm'])['TOT_SALES'].sum())\n",
    "    monthly_customer=pd.DataFrame(filter.groupby(['yyyymm'])['LYLTY_CARD_NBR'].nunique())\n",
    "    monthly_transaction=pd.DataFrame(filter.groupby(['yyyymm','LYLTY_CARD_NBR'])['TOT_SALES'].sum())\n",
    "    return monthly_sale,monthly_customer,monthly_transaction\n",
    "#function to visualise the results\n",
    "def create_graph(dataframe_to_visualise):\n",
    "    fig,ax=plt.subplots()\n",
    "    ax.plot(dataframe_to_visualise.index,dataframe_to_visualise.iloc[:,0])\n",
    "    ax.set_xlabel(dataframe_to_visualise.index.name)\n",
    "    ax.set_ylabel(dataframe_to_visualise.columns[0])"
   ]
  },
  {
   "cell_type": "code",
   "execution_count": 215,
   "id": "f8330bcc",
   "metadata": {
    "scrolled": true
   },
   "outputs": [],
   "source": [
    "x,y,z=find_monthly_numbers(77,QVI_data_pretrial)\n",
    "#create_graph(x)\n",
    "#create_graph(y)\n",
    "x2,y2,z2=find_monthly_numbers(86,QVI_data_pretrial)\n",
    "#create_graph(x2)\n",
    "#create_graph(y2)\n",
    "x3,y3,z3=find_monthly_numbers(88,QVI_data_pretrial)\n",
    "#create_graph(x3)\n",
    "#create_graph(y3)\n"
   ]
  },
  {
   "cell_type": "markdown",
   "id": "fd8080e6",
   "metadata": {},
   "source": [
    "When we visualise the results we can see that monthly number of customers and monthly transactions follow a similar pattern."
   ]
  },
  {
   "cell_type": "markdown",
   "id": "24a9a8d3",
   "metadata": {},
   "source": [
    "Let's calculate\n",
    "monthly overall sales for each store\n",
    "monthly number of customers for each store\n",
    "monthly number of transactions per store per customer\n",
    "monthly chips per customer\n",
    "average price per unit"
   ]
  },
  {
   "cell_type": "code",
   "execution_count": 216,
   "id": "34c42767",
   "metadata": {},
   "outputs": [],
   "source": [
    "#monthly overall sales for each store\n",
    "overall_sales_pretrial=QVI_data_pretrial.groupby(['yyyymm','STORE_NBR'])['TOT_SALES'].sum()\n",
    "overall_sales_pretrial=pd.DataFrame(overall_sales_pretrial)"
   ]
  },
  {
   "cell_type": "code",
   "execution_count": 217,
   "id": "110b890f",
   "metadata": {},
   "outputs": [],
   "source": [
    "overall_sales_pretrial=overall_sales_pretrial.unstack()\n",
    "#overall_sales_pretrial"
   ]
  },
  {
   "cell_type": "code",
   "execution_count": 218,
   "id": "0357fddb",
   "metadata": {},
   "outputs": [
    {
     "data": {
      "text/html": [
       "<div>\n",
       "<style scoped>\n",
       "    .dataframe tbody tr th:only-of-type {\n",
       "        vertical-align: middle;\n",
       "    }\n",
       "\n",
       "    .dataframe tbody tr th {\n",
       "        vertical-align: top;\n",
       "    }\n",
       "\n",
       "    .dataframe thead tr th {\n",
       "        text-align: left;\n",
       "    }\n",
       "\n",
       "    .dataframe thead tr:last-of-type th {\n",
       "        text-align: right;\n",
       "    }\n",
       "</style>\n",
       "<table border=\"1\" class=\"dataframe\">\n",
       "  <thead>\n",
       "    <tr>\n",
       "      <th></th>\n",
       "      <th colspan=\"21\" halign=\"left\">TOT_SALES</th>\n",
       "    </tr>\n",
       "    <tr>\n",
       "      <th>STORE_NBR</th>\n",
       "      <th>1</th>\n",
       "      <th>2</th>\n",
       "      <th>3</th>\n",
       "      <th>4</th>\n",
       "      <th>5</th>\n",
       "      <th>6</th>\n",
       "      <th>7</th>\n",
       "      <th>8</th>\n",
       "      <th>9</th>\n",
       "      <th>10</th>\n",
       "      <th>...</th>\n",
       "      <th>263</th>\n",
       "      <th>264</th>\n",
       "      <th>265</th>\n",
       "      <th>266</th>\n",
       "      <th>267</th>\n",
       "      <th>268</th>\n",
       "      <th>269</th>\n",
       "      <th>270</th>\n",
       "      <th>271</th>\n",
       "      <th>272</th>\n",
       "    </tr>\n",
       "    <tr>\n",
       "      <th>yyyymm</th>\n",
       "      <th></th>\n",
       "      <th></th>\n",
       "      <th></th>\n",
       "      <th></th>\n",
       "      <th></th>\n",
       "      <th></th>\n",
       "      <th></th>\n",
       "      <th></th>\n",
       "      <th></th>\n",
       "      <th></th>\n",
       "      <th></th>\n",
       "      <th></th>\n",
       "      <th></th>\n",
       "      <th></th>\n",
       "      <th></th>\n",
       "      <th></th>\n",
       "      <th></th>\n",
       "      <th></th>\n",
       "      <th></th>\n",
       "      <th></th>\n",
       "      <th></th>\n",
       "    </tr>\n",
       "  </thead>\n",
       "  <tbody>\n",
       "    <tr>\n",
       "      <th>201807</th>\n",
       "      <td>206.9</td>\n",
       "      <td>150.8</td>\n",
       "      <td>1205.70</td>\n",
       "      <td>1399.9</td>\n",
       "      <td>812.0</td>\n",
       "      <td>260.0</td>\n",
       "      <td>1024.7</td>\n",
       "      <td>381.6</td>\n",
       "      <td>289.7</td>\n",
       "      <td>892.00</td>\n",
       "      <td>...</td>\n",
       "      <td>38.7</td>\n",
       "      <td>232.6</td>\n",
       "      <td>247.8</td>\n",
       "      <td>127.3</td>\n",
       "      <td>6.2</td>\n",
       "      <td>224.00</td>\n",
       "      <td>982.0</td>\n",
       "      <td>962.80</td>\n",
       "      <td>956.6</td>\n",
       "      <td>433.10</td>\n",
       "    </tr>\n",
       "    <tr>\n",
       "      <th>201808</th>\n",
       "      <td>176.1</td>\n",
       "      <td>193.8</td>\n",
       "      <td>1079.75</td>\n",
       "      <td>1259.5</td>\n",
       "      <td>745.1</td>\n",
       "      <td>203.2</td>\n",
       "      <td>1119.9</td>\n",
       "      <td>383.0</td>\n",
       "      <td>327.5</td>\n",
       "      <td>878.65</td>\n",
       "      <td>...</td>\n",
       "      <td>28.0</td>\n",
       "      <td>203.3</td>\n",
       "      <td>227.1</td>\n",
       "      <td>154.5</td>\n",
       "      <td>24.9</td>\n",
       "      <td>322.65</td>\n",
       "      <td>835.1</td>\n",
       "      <td>1003.75</td>\n",
       "      <td>683.9</td>\n",
       "      <td>372.85</td>\n",
       "    </tr>\n",
       "    <tr>\n",
       "      <th>201809</th>\n",
       "      <td>278.8</td>\n",
       "      <td>154.4</td>\n",
       "      <td>1021.50</td>\n",
       "      <td>1198.6</td>\n",
       "      <td>896.0</td>\n",
       "      <td>207.7</td>\n",
       "      <td>1147.3</td>\n",
       "      <td>293.0</td>\n",
       "      <td>369.7</td>\n",
       "      <td>945.00</td>\n",
       "      <td>...</td>\n",
       "      <td>21.8</td>\n",
       "      <td>199.5</td>\n",
       "      <td>133.5</td>\n",
       "      <td>139.0</td>\n",
       "      <td>23.3</td>\n",
       "      <td>174.40</td>\n",
       "      <td>886.0</td>\n",
       "      <td>845.40</td>\n",
       "      <td>798.4</td>\n",
       "      <td>304.70</td>\n",
       "    </tr>\n",
       "    <tr>\n",
       "      <th>201810</th>\n",
       "      <td>188.1</td>\n",
       "      <td>167.8</td>\n",
       "      <td>1037.90</td>\n",
       "      <td>1346.4</td>\n",
       "      <td>798.0</td>\n",
       "      <td>292.4</td>\n",
       "      <td>1063.9</td>\n",
       "      <td>422.8</td>\n",
       "      <td>361.0</td>\n",
       "      <td>910.80</td>\n",
       "      <td>...</td>\n",
       "      <td>36.6</td>\n",
       "      <td>170.0</td>\n",
       "      <td>162.9</td>\n",
       "      <td>170.4</td>\n",
       "      <td>14.4</td>\n",
       "      <td>237.60</td>\n",
       "      <td>1078.4</td>\n",
       "      <td>816.40</td>\n",
       "      <td>790.0</td>\n",
       "      <td>430.60</td>\n",
       "    </tr>\n",
       "    <tr>\n",
       "      <th>201811</th>\n",
       "      <td>192.6</td>\n",
       "      <td>162.9</td>\n",
       "      <td>1008.00</td>\n",
       "      <td>1212.0</td>\n",
       "      <td>771.4</td>\n",
       "      <td>255.3</td>\n",
       "      <td>1076.5</td>\n",
       "      <td>349.2</td>\n",
       "      <td>374.4</td>\n",
       "      <td>885.00</td>\n",
       "      <td>...</td>\n",
       "      <td>15.8</td>\n",
       "      <td>184.5</td>\n",
       "      <td>282.8</td>\n",
       "      <td>144.2</td>\n",
       "      <td>40.3</td>\n",
       "      <td>225.40</td>\n",
       "      <td>967.2</td>\n",
       "      <td>965.00</td>\n",
       "      <td>886.4</td>\n",
       "      <td>376.20</td>\n",
       "    </tr>\n",
       "    <tr>\n",
       "      <th>201812</th>\n",
       "      <td>189.6</td>\n",
       "      <td>136.0</td>\n",
       "      <td>1121.60</td>\n",
       "      <td>1185.6</td>\n",
       "      <td>879.2</td>\n",
       "      <td>209.1</td>\n",
       "      <td>906.1</td>\n",
       "      <td>356.4</td>\n",
       "      <td>382.6</td>\n",
       "      <td>936.60</td>\n",
       "      <td>...</td>\n",
       "      <td>24.6</td>\n",
       "      <td>288.5</td>\n",
       "      <td>205.3</td>\n",
       "      <td>157.8</td>\n",
       "      <td>15.4</td>\n",
       "      <td>207.30</td>\n",
       "      <td>935.4</td>\n",
       "      <td>1038.00</td>\n",
       "      <td>807.4</td>\n",
       "      <td>403.90</td>\n",
       "    </tr>\n",
       "    <tr>\n",
       "      <th>201901</th>\n",
       "      <td>154.8</td>\n",
       "      <td>162.8</td>\n",
       "      <td>1051.70</td>\n",
       "      <td>1525.0</td>\n",
       "      <td>838.0</td>\n",
       "      <td>191.1</td>\n",
       "      <td>975.1</td>\n",
       "      <td>445.0</td>\n",
       "      <td>399.4</td>\n",
       "      <td>878.60</td>\n",
       "      <td>...</td>\n",
       "      <td>21.3</td>\n",
       "      <td>247.3</td>\n",
       "      <td>176.7</td>\n",
       "      <td>148.7</td>\n",
       "      <td>34.4</td>\n",
       "      <td>157.70</td>\n",
       "      <td>980.4</td>\n",
       "      <td>1066.60</td>\n",
       "      <td>842.4</td>\n",
       "      <td>423.00</td>\n",
       "    </tr>\n",
       "  </tbody>\n",
       "</table>\n",
       "<p>7 rows × 271 columns</p>\n",
       "</div>"
      ],
      "text/plain": [
       "          TOT_SALES                                                        \n",
       "STORE_NBR       1      2        3       4      5      6       7      8     \n",
       "yyyymm                                                                     \n",
       "201807        206.9  150.8  1205.70  1399.9  812.0  260.0  1024.7  381.6  \\\n",
       "201808        176.1  193.8  1079.75  1259.5  745.1  203.2  1119.9  383.0   \n",
       "201809        278.8  154.4  1021.50  1198.6  896.0  207.7  1147.3  293.0   \n",
       "201810        188.1  167.8  1037.90  1346.4  798.0  292.4  1063.9  422.8   \n",
       "201811        192.6  162.9  1008.00  1212.0  771.4  255.3  1076.5  349.2   \n",
       "201812        189.6  136.0  1121.60  1185.6  879.2  209.1   906.1  356.4   \n",
       "201901        154.8  162.8  1051.70  1525.0  838.0  191.1   975.1  445.0   \n",
       "\n",
       "                          ...                                            \n",
       "STORE_NBR    9       10   ...   263    264    265    266   267     268   \n",
       "yyyymm                    ...                                            \n",
       "201807     289.7  892.00  ...  38.7  232.6  247.8  127.3   6.2  224.00  \\\n",
       "201808     327.5  878.65  ...  28.0  203.3  227.1  154.5  24.9  322.65   \n",
       "201809     369.7  945.00  ...  21.8  199.5  133.5  139.0  23.3  174.40   \n",
       "201810     361.0  910.80  ...  36.6  170.0  162.9  170.4  14.4  237.60   \n",
       "201811     374.4  885.00  ...  15.8  184.5  282.8  144.2  40.3  225.40   \n",
       "201812     382.6  936.60  ...  24.6  288.5  205.3  157.8  15.4  207.30   \n",
       "201901     399.4  878.60  ...  21.3  247.3  176.7  148.7  34.4  157.70   \n",
       "\n",
       "                                           \n",
       "STORE_NBR     269      270    271     272  \n",
       "yyyymm                                     \n",
       "201807      982.0   962.80  956.6  433.10  \n",
       "201808      835.1  1003.75  683.9  372.85  \n",
       "201809      886.0   845.40  798.4  304.70  \n",
       "201810     1078.4   816.40  790.0  430.60  \n",
       "201811      967.2   965.00  886.4  376.20  \n",
       "201812      935.4  1038.00  807.4  403.90  \n",
       "201901      980.4  1066.60  842.4  423.00  \n",
       "\n",
       "[7 rows x 271 columns]"
      ]
     },
     "execution_count": 218,
     "metadata": {},
     "output_type": "execute_result"
    }
   ],
   "source": [
    "overall_sales_pretrial"
   ]
  },
  {
   "cell_type": "markdown",
   "id": "2cc11e66",
   "metadata": {},
   "source": [
    "**We are looking for control stores for 77,86 and 88. Let's create a function that finds the correlation between the given store and all other stores, and picks the stores above a certain correlation.**"
   ]
  },
  {
   "cell_type": "code",
   "execution_count": 219,
   "id": "d61f06ab",
   "metadata": {},
   "outputs": [],
   "source": [
    "def sales_correlation(trial_store,threshold):\n",
    "    x = overall_sales_pretrial.corrwith(overall_sales_pretrial.iloc[:, (trial_store-1)])\n",
    "    x=x.unstack().transpose()\n",
    "    x=pd.DataFrame(x)\n",
    "    x = x.loc[:, (x != 0).any(axis=0)]\n",
    "    x = x.rename(columns={x.columns[0]: 'columnname'})\n",
    "    x.index.name = 'index'\n",
    "    x=x[x['columnname']>threshold]\n",
    "    return x\n",
    "    #sns.scatterplot(data=x)\n"
   ]
  },
  {
   "cell_type": "markdown",
   "id": "40b558e5",
   "metadata": {},
   "source": [
    "Now we can easily see the correlated stores"
   ]
  },
  {
   "cell_type": "code",
   "execution_count": 220,
   "id": "ab1ffb32",
   "metadata": {},
   "outputs": [
    {
     "name": "stderr",
     "output_type": "stream",
     "text": [
      "/Users/nisanbaysal/opt/anaconda3/lib/python3.8/site-packages/numpy/lib/function_base.py:2821: RuntimeWarning: Degrees of freedom <= 0 for slice\n",
      "/Users/nisanbaysal/opt/anaconda3/lib/python3.8/site-packages/numpy/lib/function_base.py:2680: RuntimeWarning: divide by zero encountered in true_divide\n"
     ]
    },
    {
     "data": {
      "text/html": [
       "<div>\n",
       "<style scoped>\n",
       "    .dataframe tbody tr th:only-of-type {\n",
       "        vertical-align: middle;\n",
       "    }\n",
       "\n",
       "    .dataframe tbody tr th {\n",
       "        vertical-align: top;\n",
       "    }\n",
       "\n",
       "    .dataframe thead th {\n",
       "        text-align: right;\n",
       "    }\n",
       "</style>\n",
       "<table border=\"1\" class=\"dataframe\">\n",
       "  <thead>\n",
       "    <tr style=\"text-align: right;\">\n",
       "      <th></th>\n",
       "      <th>columnname</th>\n",
       "    </tr>\n",
       "    <tr>\n",
       "      <th>index</th>\n",
       "      <th></th>\n",
       "    </tr>\n",
       "  </thead>\n",
       "  <tbody>\n",
       "    <tr>\n",
       "      <th>3</th>\n",
       "      <td>0.806644</td>\n",
       "    </tr>\n",
       "    <tr>\n",
       "      <th>11</th>\n",
       "      <td>1.000000</td>\n",
       "    </tr>\n",
       "    <tr>\n",
       "      <th>17</th>\n",
       "      <td>0.842668</td>\n",
       "    </tr>\n",
       "    <tr>\n",
       "      <th>31</th>\n",
       "      <td>1.000000</td>\n",
       "    </tr>\n",
       "    <tr>\n",
       "      <th>71</th>\n",
       "      <td>0.914106</td>\n",
       "    </tr>\n",
       "    <tr>\n",
       "      <th>77</th>\n",
       "      <td>1.000000</td>\n",
       "    </tr>\n",
       "    <tr>\n",
       "      <th>119</th>\n",
       "      <td>0.867664</td>\n",
       "    </tr>\n",
       "    <tr>\n",
       "      <th>233</th>\n",
       "      <td>0.903774</td>\n",
       "    </tr>\n",
       "  </tbody>\n",
       "</table>\n",
       "</div>"
      ],
      "text/plain": [
       "       columnname\n",
       "index            \n",
       "3        0.806644\n",
       "11       1.000000\n",
       "17       0.842668\n",
       "31       1.000000\n",
       "71       0.914106\n",
       "77       1.000000\n",
       "119      0.867664\n",
       "233      0.903774"
      ]
     },
     "execution_count": 220,
     "metadata": {},
     "output_type": "execute_result"
    }
   ],
   "source": [
    "sales_correlation(77,0.8)"
   ]
  },
  {
   "cell_type": "code",
   "execution_count": 221,
   "id": "04b574ca",
   "metadata": {},
   "outputs": [
    {
     "name": "stderr",
     "output_type": "stream",
     "text": [
      "/Users/nisanbaysal/opt/anaconda3/lib/python3.8/site-packages/numpy/lib/function_base.py:2821: RuntimeWarning: Degrees of freedom <= 0 for slice\n",
      "/Users/nisanbaysal/opt/anaconda3/lib/python3.8/site-packages/numpy/lib/function_base.py:2680: RuntimeWarning: divide by zero encountered in true_divide\n"
     ]
    },
    {
     "data": {
      "text/html": [
       "<div>\n",
       "<style scoped>\n",
       "    .dataframe tbody tr th:only-of-type {\n",
       "        vertical-align: middle;\n",
       "    }\n",
       "\n",
       "    .dataframe tbody tr th {\n",
       "        vertical-align: top;\n",
       "    }\n",
       "\n",
       "    .dataframe thead th {\n",
       "        text-align: right;\n",
       "    }\n",
       "</style>\n",
       "<table border=\"1\" class=\"dataframe\">\n",
       "  <thead>\n",
       "    <tr style=\"text-align: right;\">\n",
       "      <th></th>\n",
       "      <th>columnname</th>\n",
       "    </tr>\n",
       "    <tr>\n",
       "      <th>index</th>\n",
       "      <th></th>\n",
       "    </tr>\n",
       "  </thead>\n",
       "  <tbody>\n",
       "    <tr>\n",
       "      <th>31</th>\n",
       "      <td>1.000000</td>\n",
       "    </tr>\n",
       "    <tr>\n",
       "      <th>86</th>\n",
       "      <td>1.000000</td>\n",
       "    </tr>\n",
       "    <tr>\n",
       "      <th>132</th>\n",
       "      <td>0.846517</td>\n",
       "    </tr>\n",
       "    <tr>\n",
       "      <th>155</th>\n",
       "      <td>0.877882</td>\n",
       "    </tr>\n",
       "    <tr>\n",
       "      <th>240</th>\n",
       "      <td>0.825066</td>\n",
       "    </tr>\n",
       "  </tbody>\n",
       "</table>\n",
       "</div>"
      ],
      "text/plain": [
       "       columnname\n",
       "index            \n",
       "31       1.000000\n",
       "86       1.000000\n",
       "132      0.846517\n",
       "155      0.877882\n",
       "240      0.825066"
      ]
     },
     "execution_count": 221,
     "metadata": {},
     "output_type": "execute_result"
    }
   ],
   "source": [
    "sales_correlation(86,0.8)"
   ]
  },
  {
   "cell_type": "code",
   "execution_count": 222,
   "id": "879595e4",
   "metadata": {},
   "outputs": [
    {
     "name": "stderr",
     "output_type": "stream",
     "text": [
      "/Users/nisanbaysal/opt/anaconda3/lib/python3.8/site-packages/numpy/lib/function_base.py:2821: RuntimeWarning: Degrees of freedom <= 0 for slice\n",
      "/Users/nisanbaysal/opt/anaconda3/lib/python3.8/site-packages/numpy/lib/function_base.py:2680: RuntimeWarning: divide by zero encountered in true_divide\n"
     ]
    },
    {
     "data": {
      "text/html": [
       "<div>\n",
       "<style scoped>\n",
       "    .dataframe tbody tr th:only-of-type {\n",
       "        vertical-align: middle;\n",
       "    }\n",
       "\n",
       "    .dataframe tbody tr th {\n",
       "        vertical-align: top;\n",
       "    }\n",
       "\n",
       "    .dataframe thead th {\n",
       "        text-align: right;\n",
       "    }\n",
       "</style>\n",
       "<table border=\"1\" class=\"dataframe\">\n",
       "  <thead>\n",
       "    <tr style=\"text-align: right;\">\n",
       "      <th></th>\n",
       "      <th>columnname</th>\n",
       "    </tr>\n",
       "    <tr>\n",
       "      <th>index</th>\n",
       "      <th></th>\n",
       "    </tr>\n",
       "  </thead>\n",
       "  <tbody>\n",
       "    <tr>\n",
       "      <th>1</th>\n",
       "      <td>0.813636</td>\n",
       "    </tr>\n",
       "    <tr>\n",
       "      <th>88</th>\n",
       "      <td>1.000000</td>\n",
       "    </tr>\n",
       "    <tr>\n",
       "      <th>134</th>\n",
       "      <td>0.864293</td>\n",
       "    </tr>\n",
       "    <tr>\n",
       "      <th>159</th>\n",
       "      <td>0.903186</td>\n",
       "    </tr>\n",
       "    <tr>\n",
       "      <th>204</th>\n",
       "      <td>0.885774</td>\n",
       "    </tr>\n",
       "    <tr>\n",
       "      <th>253</th>\n",
       "      <td>0.811838</td>\n",
       "    </tr>\n",
       "  </tbody>\n",
       "</table>\n",
       "</div>"
      ],
      "text/plain": [
       "       columnname\n",
       "index            \n",
       "1        0.813636\n",
       "88       1.000000\n",
       "134      0.864293\n",
       "159      0.903186\n",
       "204      0.885774\n",
       "253      0.811838"
      ]
     },
     "execution_count": 222,
     "metadata": {},
     "output_type": "execute_result"
    }
   ],
   "source": [
    "sales_correlation(88,0.8)"
   ]
  },
  {
   "cell_type": "code",
   "execution_count": 223,
   "id": "98b34dd2",
   "metadata": {},
   "outputs": [],
   "source": [
    "#monthly number of customer for each store\n",
    "customer_number_pretrial=QVI_data_pretrial.groupby(['yyyymm','STORE_NBR'])['LYLTY_CARD_NBR'].nunique()\n",
    "customer_number_pretrial=pd.DataFrame(customer_number_pretrial)"
   ]
  },
  {
   "cell_type": "code",
   "execution_count": 224,
   "id": "07831ddc",
   "metadata": {},
   "outputs": [],
   "source": [
    "#customer_number_pretrial=customer_number_pretrial.unstack()\n",
    "def customer_number_correlation(trial_store, threshold):\n",
    "    y1=customer_number_pretrial.unstack()\n",
    "    y = y1.corrwith(y1.iloc[:, (trial_store-1)])\n",
    "    y=y.unstack().transpose()\n",
    "    y = y.loc[:, (y != 0).any(axis=0)]\n",
    "    y=pd.DataFrame(y)\n",
    "    y.index.name = 'index'\n",
    "    y = y.rename(columns={y.columns[0]: 'columnname'})\n",
    "    y=y[y['columnname']>threshold]\n",
    "    return y\n"
   ]
  },
  {
   "cell_type": "code",
   "execution_count": 225,
   "id": "bfe00421",
   "metadata": {},
   "outputs": [
    {
     "name": "stderr",
     "output_type": "stream",
     "text": [
      "/Users/nisanbaysal/opt/anaconda3/lib/python3.8/site-packages/numpy/lib/function_base.py:2821: RuntimeWarning: Degrees of freedom <= 0 for slice\n",
      "/Users/nisanbaysal/opt/anaconda3/lib/python3.8/site-packages/numpy/lib/function_base.py:2680: RuntimeWarning: divide by zero encountered in true_divide\n"
     ]
    },
    {
     "data": {
      "text/html": [
       "<div>\n",
       "<style scoped>\n",
       "    .dataframe tbody tr th:only-of-type {\n",
       "        vertical-align: middle;\n",
       "    }\n",
       "\n",
       "    .dataframe tbody tr th {\n",
       "        vertical-align: top;\n",
       "    }\n",
       "\n",
       "    .dataframe thead th {\n",
       "        text-align: right;\n",
       "    }\n",
       "</style>\n",
       "<table border=\"1\" class=\"dataframe\">\n",
       "  <thead>\n",
       "    <tr style=\"text-align: right;\">\n",
       "      <th></th>\n",
       "      <th>columnname</th>\n",
       "    </tr>\n",
       "    <tr>\n",
       "      <th>index</th>\n",
       "      <th></th>\n",
       "    </tr>\n",
       "  </thead>\n",
       "  <tbody>\n",
       "    <tr>\n",
       "      <th>3</th>\n",
       "      <td>0.834207</td>\n",
       "    </tr>\n",
       "    <tr>\n",
       "      <th>41</th>\n",
       "      <td>0.844219</td>\n",
       "    </tr>\n",
       "    <tr>\n",
       "      <th>77</th>\n",
       "      <td>1.000000</td>\n",
       "    </tr>\n",
       "    <tr>\n",
       "      <th>84</th>\n",
       "      <td>0.858571</td>\n",
       "    </tr>\n",
       "    <tr>\n",
       "      <th>113</th>\n",
       "      <td>0.901348</td>\n",
       "    </tr>\n",
       "    <tr>\n",
       "      <th>119</th>\n",
       "      <td>0.983267</td>\n",
       "    </tr>\n",
       "    <tr>\n",
       "      <th>233</th>\n",
       "      <td>0.990358</td>\n",
       "    </tr>\n",
       "    <tr>\n",
       "      <th>254</th>\n",
       "      <td>0.916208</td>\n",
       "    </tr>\n",
       "  </tbody>\n",
       "</table>\n",
       "</div>"
      ],
      "text/plain": [
       "       columnname\n",
       "index            \n",
       "3        0.834207\n",
       "41       0.844219\n",
       "77       1.000000\n",
       "84       0.858571\n",
       "113      0.901348\n",
       "119      0.983267\n",
       "233      0.990358\n",
       "254      0.916208"
      ]
     },
     "execution_count": 225,
     "metadata": {},
     "output_type": "execute_result"
    }
   ],
   "source": [
    "customer_number_correlation(77, 0.8)"
   ]
  },
  {
   "cell_type": "code",
   "execution_count": 226,
   "id": "40722251",
   "metadata": {},
   "outputs": [
    {
     "name": "stderr",
     "output_type": "stream",
     "text": [
      "/Users/nisanbaysal/opt/anaconda3/lib/python3.8/site-packages/numpy/lib/function_base.py:2821: RuntimeWarning: Degrees of freedom <= 0 for slice\n",
      "/Users/nisanbaysal/opt/anaconda3/lib/python3.8/site-packages/numpy/lib/function_base.py:2680: RuntimeWarning: divide by zero encountered in true_divide\n"
     ]
    },
    {
     "data": {
      "text/html": [
       "<div>\n",
       "<style scoped>\n",
       "    .dataframe tbody tr th:only-of-type {\n",
       "        vertical-align: middle;\n",
       "    }\n",
       "\n",
       "    .dataframe tbody tr th {\n",
       "        vertical-align: top;\n",
       "    }\n",
       "\n",
       "    .dataframe thead th {\n",
       "        text-align: right;\n",
       "    }\n",
       "</style>\n",
       "<table border=\"1\" class=\"dataframe\">\n",
       "  <thead>\n",
       "    <tr style=\"text-align: right;\">\n",
       "      <th></th>\n",
       "      <th>columnname</th>\n",
       "    </tr>\n",
       "    <tr>\n",
       "      <th>index</th>\n",
       "      <th></th>\n",
       "    </tr>\n",
       "  </thead>\n",
       "  <tbody>\n",
       "    <tr>\n",
       "      <th>86</th>\n",
       "      <td>1.000000</td>\n",
       "    </tr>\n",
       "    <tr>\n",
       "      <th>114</th>\n",
       "      <td>0.855339</td>\n",
       "    </tr>\n",
       "    <tr>\n",
       "      <th>155</th>\n",
       "      <td>0.942876</td>\n",
       "    </tr>\n",
       "    <tr>\n",
       "      <th>260</th>\n",
       "      <td>0.846502</td>\n",
       "    </tr>\n",
       "  </tbody>\n",
       "</table>\n",
       "</div>"
      ],
      "text/plain": [
       "       columnname\n",
       "index            \n",
       "86       1.000000\n",
       "114      0.855339\n",
       "155      0.942876\n",
       "260      0.846502"
      ]
     },
     "execution_count": 226,
     "metadata": {},
     "output_type": "execute_result"
    }
   ],
   "source": [
    "customer_number_correlation(86, 0.8)"
   ]
  },
  {
   "cell_type": "code",
   "execution_count": 227,
   "id": "ac3288f1",
   "metadata": {},
   "outputs": [
    {
     "name": "stderr",
     "output_type": "stream",
     "text": [
      "/Users/nisanbaysal/opt/anaconda3/lib/python3.8/site-packages/numpy/lib/function_base.py:2821: RuntimeWarning: Degrees of freedom <= 0 for slice\n",
      "/Users/nisanbaysal/opt/anaconda3/lib/python3.8/site-packages/numpy/lib/function_base.py:2680: RuntimeWarning: divide by zero encountered in true_divide\n"
     ]
    },
    {
     "data": {
      "text/html": [
       "<div>\n",
       "<style scoped>\n",
       "    .dataframe tbody tr th:only-of-type {\n",
       "        vertical-align: middle;\n",
       "    }\n",
       "\n",
       "    .dataframe tbody tr th {\n",
       "        vertical-align: top;\n",
       "    }\n",
       "\n",
       "    .dataframe thead th {\n",
       "        text-align: right;\n",
       "    }\n",
       "</style>\n",
       "<table border=\"1\" class=\"dataframe\">\n",
       "  <thead>\n",
       "    <tr style=\"text-align: right;\">\n",
       "      <th></th>\n",
       "      <th>columnname</th>\n",
       "    </tr>\n",
       "    <tr>\n",
       "      <th>index</th>\n",
       "      <th></th>\n",
       "    </tr>\n",
       "  </thead>\n",
       "  <tbody>\n",
       "    <tr>\n",
       "      <th>14</th>\n",
       "      <td>0.942976</td>\n",
       "    </tr>\n",
       "    <tr>\n",
       "      <th>35</th>\n",
       "      <td>0.899594</td>\n",
       "    </tr>\n",
       "    <tr>\n",
       "      <th>69</th>\n",
       "      <td>0.815792</td>\n",
       "    </tr>\n",
       "    <tr>\n",
       "      <th>88</th>\n",
       "      <td>1.000000</td>\n",
       "    </tr>\n",
       "    <tr>\n",
       "      <th>113</th>\n",
       "      <td>0.862632</td>\n",
       "    </tr>\n",
       "    <tr>\n",
       "      <th>178</th>\n",
       "      <td>0.939466</td>\n",
       "    </tr>\n",
       "    <tr>\n",
       "      <th>237</th>\n",
       "      <td>0.947326</td>\n",
       "    </tr>\n",
       "    <tr>\n",
       "      <th>265</th>\n",
       "      <td>0.841013</td>\n",
       "    </tr>\n",
       "  </tbody>\n",
       "</table>\n",
       "</div>"
      ],
      "text/plain": [
       "       columnname\n",
       "index            \n",
       "14       0.942976\n",
       "35       0.899594\n",
       "69       0.815792\n",
       "88       1.000000\n",
       "113      0.862632\n",
       "178      0.939466\n",
       "237      0.947326\n",
       "265      0.841013"
      ]
     },
     "execution_count": 227,
     "metadata": {},
     "output_type": "execute_result"
    }
   ],
   "source": [
    "customer_number_correlation(88, 0.8)"
   ]
  },
  {
   "cell_type": "code",
   "execution_count": 228,
   "id": "62d75706",
   "metadata": {},
   "outputs": [],
   "source": [
    "#monthly number of transactions per store per customer\n",
    "customer_transaction_pretrial=QVI_data_pretrial.groupby(['yyyymm','STORE_NBR','LYLTY_CARD_NBR'])['TOT_SALES'].sum()\n",
    "customer_transaction_pretrial=pd.DataFrame(customer_transaction_pretrial)"
   ]
  },
  {
   "cell_type": "code",
   "execution_count": 229,
   "id": "9485939a",
   "metadata": {},
   "outputs": [],
   "source": [
    "#monthly chips per customer\n",
    "chips_per_customer=QVI_data_pretrial.groupby(['yyyymm','STORE_NBR','LYLTY_CARD_NBR'])['PROD_QTY'].sum()\n",
    "chips_per_customer=pd.DataFrame(chips_per_customer)"
   ]
  },
  {
   "cell_type": "markdown",
   "id": "f308f9ea",
   "metadata": {},
   "source": [
    "If we use our previous functions we can pick our control stores. Let's find the stores that are correlated to our trial stores in both customer number and sales."
   ]
  },
  {
   "cell_type": "code",
   "execution_count": 230,
   "id": "aaeb255f",
   "metadata": {},
   "outputs": [
    {
     "name": "stderr",
     "output_type": "stream",
     "text": [
      "/Users/nisanbaysal/opt/anaconda3/lib/python3.8/site-packages/numpy/lib/function_base.py:2821: RuntimeWarning: Degrees of freedom <= 0 for slice\n",
      "/Users/nisanbaysal/opt/anaconda3/lib/python3.8/site-packages/numpy/lib/function_base.py:2680: RuntimeWarning: divide by zero encountered in true_divide\n",
      "/Users/nisanbaysal/opt/anaconda3/lib/python3.8/site-packages/numpy/lib/function_base.py:2821: RuntimeWarning: Degrees of freedom <= 0 for slice\n",
      "/Users/nisanbaysal/opt/anaconda3/lib/python3.8/site-packages/numpy/lib/function_base.py:2680: RuntimeWarning: divide by zero encountered in true_divide\n"
     ]
    },
    {
     "data": {
      "text/plain": [
       "[233, 77]"
      ]
     },
     "execution_count": 230,
     "metadata": {},
     "output_type": "execute_result"
    }
   ],
   "source": [
    "#store 77\n",
    "store77_1=sales_correlation(77,0.9)\n",
    "store77_2=customer_number_correlation(77, 0.9)\n",
    "common_index = set(store77_1.index).intersection(set(store77_2.index))\n",
    "common_index_list = list(common_index)\n",
    "common_index_list"
   ]
  },
  {
   "cell_type": "code",
   "execution_count": 231,
   "id": "11ec6dfa",
   "metadata": {},
   "outputs": [
    {
     "name": "stderr",
     "output_type": "stream",
     "text": [
      "/Users/nisanbaysal/opt/anaconda3/lib/python3.8/site-packages/numpy/lib/function_base.py:2821: RuntimeWarning: Degrees of freedom <= 0 for slice\n",
      "/Users/nisanbaysal/opt/anaconda3/lib/python3.8/site-packages/numpy/lib/function_base.py:2680: RuntimeWarning: divide by zero encountered in true_divide\n",
      "/Users/nisanbaysal/opt/anaconda3/lib/python3.8/site-packages/numpy/lib/function_base.py:2821: RuntimeWarning: Degrees of freedom <= 0 for slice\n",
      "/Users/nisanbaysal/opt/anaconda3/lib/python3.8/site-packages/numpy/lib/function_base.py:2680: RuntimeWarning: divide by zero encountered in true_divide\n"
     ]
    },
    {
     "data": {
      "text/plain": [
       "[155, 86]"
      ]
     },
     "execution_count": 231,
     "metadata": {},
     "output_type": "execute_result"
    }
   ],
   "source": [
    "#store 86\n",
    "store86_1=sales_correlation(86,0.8)\n",
    "store86_2=customer_number_correlation(86, 0.8)\n",
    "common_index = set(store86_1.index).intersection(set(store86_2.index))\n",
    "common_index_list = list(common_index)\n",
    "common_index_list"
   ]
  },
  {
   "cell_type": "code",
   "execution_count": 232,
   "id": "b817002c",
   "metadata": {},
   "outputs": [
    {
     "name": "stderr",
     "output_type": "stream",
     "text": [
      "/Users/nisanbaysal/opt/anaconda3/lib/python3.8/site-packages/numpy/lib/function_base.py:2821: RuntimeWarning: Degrees of freedom <= 0 for slice\n",
      "/Users/nisanbaysal/opt/anaconda3/lib/python3.8/site-packages/numpy/lib/function_base.py:2680: RuntimeWarning: divide by zero encountered in true_divide\n",
      "/Users/nisanbaysal/opt/anaconda3/lib/python3.8/site-packages/numpy/lib/function_base.py:2821: RuntimeWarning: Degrees of freedom <= 0 for slice\n",
      "/Users/nisanbaysal/opt/anaconda3/lib/python3.8/site-packages/numpy/lib/function_base.py:2680: RuntimeWarning: divide by zero encountered in true_divide\n"
     ]
    },
    {
     "data": {
      "text/plain": [
       "[88, 178]"
      ]
     },
     "execution_count": 232,
     "metadata": {},
     "output_type": "execute_result"
    }
   ],
   "source": [
    "#store 88\n",
    "store88_1=sales_correlation(88,0.7)\n",
    "store88_2=customer_number_correlation(88, 0.7)\n",
    "common_index = set(store88_1.index).intersection(set(store88_2.index))\n",
    "common_index_list = list(common_index)\n",
    "common_index_list"
   ]
  },
  {
   "cell_type": "markdown",
   "id": "82e5b806",
   "metadata": {},
   "source": [
    "To find correlated stores in both customer number and transactions, I played with the correlation value. Store 77 had a high correlation to 233 however the other two trial stores didn't have another store that was that much correlated with them. In order to get similar stores that have a similar pattern, I lowered the correlation value."
   ]
  },
  {
   "cell_type": "markdown",
   "id": "6e6799c2",
   "metadata": {},
   "source": [
    "We can see that;\n",
    "store 233 has a high correlation to store 77 in both cutomer numbers and sales.<br>\n",
    "Store 155 has a high correlation to store 86 in both cutomer numbers and sales <br>\n",
    "Store 178 has a high correlation to store 88 in both cutomer numbers and sales <br>"
   ]
  },
  {
   "cell_type": "markdown",
   "id": "5a55ad74",
   "metadata": {},
   "source": [
    "We can now use the function we created to visualise the trial store transactions and customer numbers to check if our control stores show similar patterns as we expected."
   ]
  },
  {
   "cell_type": "code",
   "execution_count": 233,
   "id": "a7e36d56",
   "metadata": {},
   "outputs": [],
   "source": [
    "x,y,z=find_monthly_numbers(77,QVI_data_pretrial)\n"
   ]
  },
  {
   "cell_type": "code",
   "execution_count": 234,
   "id": "3446869b",
   "metadata": {},
   "outputs": [],
   "source": [
    "def create_graph(trial_store,control_store):\n",
    "    #remember x,y,z=monthly_sale,monthly_customer,monthly_transaction\n",
    "    x,y,z=find_monthly_numbers(trial_store,QVI_data_pretrial)\n",
    "    x1,y1,z1=find_monthly_numbers(control_store,QVI_data_pretrial)\n",
    "    fig, axs = plt.subplots(nrows=1, ncols=2, figsize=(8, 4))\n",
    "    \n",
    "    #monthly sale control vs trial store\n",
    "    ax = x.plot(kind='line', marker='o', label='Trial Store', ax=axs[0])\n",
    "    x1.plot(kind='line', marker='s', label='Control Store',ax=axs[0])\n",
    "    axs[0].set_title('Monthly Sales Trial vs Control Store')\n",
    "    axs[0].set_xlabel('Month')\n",
    "    axs[0].set_ylabel('Sales')\n",
    "    axs[0].legend(labels=['Trial Store', 'Control Store'])\n",
    "\n",
    "    #monthly customer control vs trial store.\n",
    "    ax = y.plot(kind='line', marker='o', label='Trial Store' ,ax=axs[1])\n",
    "    y1.plot(kind='line', marker='s',label='Control Store', ax=axs[1])\n",
    "    axs[1].set_title('Monthly Customer Trial vs Control Store')\n",
    "    axs[1].set_xlabel('Month')\n",
    "    axs[1].set_ylabel('Customer Count')\n",
    "    axs[1].legend(labels=['Trial Store', 'Control Store'])\n",
    "    \n",
    "    plt.subplots_adjust(wspace=1.0)"
   ]
  },
  {
   "cell_type": "code",
   "execution_count": 235,
   "id": "632bac84",
   "metadata": {},
   "outputs": [
    {
     "data": {
      "image/png": "[encoded data removed]",
      "text/plain": [
       "<Figure size 576x288 with 2 Axes>"
      ]
     },
     "metadata": {
      "needs_background": "light"
     },
     "output_type": "display_data"
    }
   ],
   "source": [
    "create_graph(77,233)"
   ]
  },
  {
   "cell_type": "code",
   "execution_count": 236,
   "id": "7c0dd0a2",
   "metadata": {},
   "outputs": [
    {
     "data": {
      "image/png": "[encoded data removed]",
      "text/plain": [
       "<Figure size 576x288 with 2 Axes>"
      ]
     },
     "metadata": {
      "needs_background": "light"
     },
     "output_type": "display_data"
    }
   ],
   "source": [
    "create_graph(86,155)"
   ]
  },
  {
   "cell_type": "code",
   "execution_count": 237,
   "id": "4c2b29a7",
   "metadata": {},
   "outputs": [
    {
     "data": {
      "image/png": "[encoded data removed]",
      "text/plain": [
       "<Figure size 576x288 with 2 Axes>"
      ]
     },
     "metadata": {
      "needs_background": "light"
     },
     "output_type": "display_data"
    }
   ],
   "source": [
    "create_graph(88,178)"
   ]
  },
  {
   "cell_type": "markdown",
   "id": "ba95bf63",
   "metadata": {},
   "source": [
    "We can see that all these stores indeed have similar trends! We can now go on to see assess if the trial stores have shown any improvement."
   ]
  },
  {
   "cell_type": "markdown",
   "id": "22c80ead",
   "metadata": {},
   "source": [
    "# Part 2- Assessment of trial #"
   ]
  },
  {
   "cell_type": "markdown",
   "id": "e3ce1522",
   "metadata": {},
   "source": [
    "## Stores 77 and 233 assessment ##"
   ]
  },
  {
   "cell_type": "markdown",
   "id": "f966ba56",
   "metadata": {},
   "source": [
    "### Assessing monthly sales ###"
   ]
  },
  {
   "cell_type": "markdown",
   "id": "f0ecc637",
   "metadata": {},
   "source": [
    "We will first find the scaling factor, we find this by dividing pretrial trial store numbers by pretrial trial store numbers"
   ]
  },
  {
   "cell_type": "code",
   "execution_count": 239,
   "id": "7ab6a21e",
   "metadata": {},
   "outputs": [],
   "source": [
    "QVI_data_pretrial=QVI_data.loc[(QVI_data['year_filter']<2019)|(QVI_data['year_filter']==2019)& (QVI_data['month_filter']<3)]"
   ]
  },
  {
   "cell_type": "markdown",
   "id": "e0622b50",
   "metadata": {},
   "source": [
    "### Finding the scaling factors between control and trial stores ###"
   ]
  },
  {
   "cell_type": "code",
   "execution_count": 240,
   "id": "c8040ed7",
   "metadata": {},
   "outputs": [],
   "source": [
    "#scale factor for monthly_sale_233 \n",
    "pretrial_sale_77,pretrial_customer_77,pretrial_transaction_77=find_monthly_numbers(77,QVI_data_pretrial)\n",
    "pretrial_sale_233,pretrial_customer_233,pretrial_transaction_233=find_monthly_numbers(233,QVI_data_pretrial)\n",
    "scaling_77_233=pretrial_sale_77.sum()/pretrial_sale_233.sum()"
   ]
  },
  {
   "cell_type": "code",
   "execution_count": 241,
   "id": "63e9ec31",
   "metadata": {},
   "outputs": [],
   "source": [
    "QVI_data_assess=QVI_data.loc[(QVI_data['year_filter']>2019)|(QVI_data['year_filter']==2019)& (QVI_data['month_filter']>2)]"
   ]
  },
  {
   "cell_type": "markdown",
   "id": "4019c125",
   "metadata": {},
   "source": [
    "### Finding the transaction patterns during the trial period ###"
   ]
  },
  {
   "cell_type": "code",
   "execution_count": 242,
   "id": "cd9905aa",
   "metadata": {},
   "outputs": [],
   "source": [
    "trial_monthly_sale_77,trial_monthly_customer_77,trial_monthly_transaction_77=find_monthly_numbers(77,QVI_data_assess)\n",
    "trial_monthly_sale_233,trial_monthly_customer_233,trial_monthly_transaction_233=find_monthly_numbers(233,QVI_data_assess)\n"
   ]
  },
  {
   "cell_type": "markdown",
   "id": "a13258df",
   "metadata": {},
   "source": [
    "### Scaling up the control stores & finding the percentage difference. ###"
   ]
  },
  {
   "cell_type": "markdown",
   "id": "0505a84f",
   "metadata": {},
   "source": [
    "We now have seperate tables for pre-trial and trial periods. Let's merge the tables"
   ]
  },
  {
   "cell_type": "code",
   "execution_count": 243,
   "id": "e0d1b003",
   "metadata": {},
   "outputs": [],
   "source": [
    "saletable77 = pd.concat([pretrial_sale_77, trial_monthly_sale_77])\n",
    "scaledsaletable233 = pd.concat([pretrial_sale_233, trial_monthly_sale_233])*scaling_77_233\n",
    "mergedsale77_233 = pd.merge(saletable77, scaledsaletable233, left_index=True, right_index=True)\n",
    "mergedsale77_233.rename(columns={'TOT_SALES_x': 'saletable77', 'TOT_SALES_y': 'scaledsaletable233'}, inplace=True)\n",
    "mergedsale77_233['percentagediff']=(abs(mergedsale77_233['scaledsaletable233']-mergedsale77_233['saletable77']))/mergedsale77_233['scaledsaletable233']"
   ]
  },
  {
   "cell_type": "markdown",
   "id": "bdda06c6",
   "metadata": {},
   "source": [
    "### Finding the stdev and the t_value ###"
   ]
  },
  {
   "cell_type": "code",
   "execution_count": 244,
   "id": "771a0b97",
   "metadata": {},
   "outputs": [],
   "source": [
    "mergedsale77_233['YEARMONTH']=mergedsale77_233.index\n",
    "mergedsale77_233['YEARMONTH']=mergedsale77_233['YEARMONTH'].astype(int)\n",
    "stdDev = np.std(mergedsale77_233[mergedsale77_233['YEARMONTH'] < 201902]['percentagediff'].values)\n",
    "degreesOfFreedom = 7"
   ]
  },
  {
   "cell_type": "code",
   "execution_count": 245,
   "id": "c85177c8",
   "metadata": {},
   "outputs": [
    {
     "name": "stdout",
     "output_type": "stream",
     "text": [
      "       TransactionMonth     tValue\n",
      "yyyymm                            \n",
      "201902       2019-02-01   1.062077\n",
      "201903       2019-03-01   7.710263\n",
      "201904       2019-04-01  12.998029\n",
      "the t value of the 95th percentile: 1.894578605061305\n"
     ]
    }
   ],
   "source": [
    "#finding the t_value\n",
    "mergedsale77_233['tValue'] = (mergedsale77_233['percentagediff'] - 0) / stdDev\n",
    "mergedsale77_233['TransactionMonth'] = pd.to_datetime(mergedsale77_233['YEARMONTH'].astype(str), format='%Y%m')\n",
    "#finding the t_value of 2019-02, 2019-03, 2019-04\n",
    "result77_233 = mergedsale77_233[(mergedsale77_233['YEARMONTH'] < 201905) & (mergedsale77_233['YEARMONTH'] > 201901)][['TransactionMonth', 'tValue']]\n",
    "#the t value of the 95th percentile\n",
    "t_value = t.ppf(0.95, df=degreesOfFreedom)\n",
    "\n",
    "print(result77_233)\n",
    "print('the t value of the 95th percentile:', t_value)"
   ]
  },
  {
   "cell_type": "markdown",
   "id": "5aa2ec14",
   "metadata": {},
   "source": [
    "We can see that the t values of march and april are higher than the 95th percentile meaning the increase in sales in the trial store during the trial period was statistically higher than the control store."
   ]
  },
  {
   "cell_type": "markdown",
   "id": "2ec7daf2",
   "metadata": {},
   "source": [
    "### Let's create a nice plot to show our results ###"
   ]
  },
  {
   "cell_type": "code",
   "execution_count": 246,
   "id": "c80961a6",
   "metadata": {},
   "outputs": [],
   "source": [
    "#will use for visualisation\n",
    "forvisualisation = QVI_data.groupby(['STORE_NBR', 'yyyymm']).agg(\n",
    "    totSales=('TOT_SALES', 'sum'),\n",
    "    nCustomers=('LYLTY_CARD_NBR', pd.Series.nunique),\n",
    ").reset_index().sort_values(['STORE_NBR', 'yyyymm'])"
   ]
  },
  {
   "cell_type": "code",
   "execution_count": 247,
   "id": "7b2fcc17",
   "metadata": {},
   "outputs": [
    {
     "data": {
      "text/html": [
       "<div>\n",
       "<style scoped>\n",
       "    .dataframe tbody tr th:only-of-type {\n",
       "        vertical-align: middle;\n",
       "    }\n",
       "\n",
       "    .dataframe tbody tr th {\n",
       "        vertical-align: top;\n",
       "    }\n",
       "\n",
       "    .dataframe thead th {\n",
       "        text-align: right;\n",
       "    }\n",
       "</style>\n",
       "<table border=\"1\" class=\"dataframe\">\n",
       "  <thead>\n",
       "    <tr style=\"text-align: right;\">\n",
       "      <th></th>\n",
       "      <th>STORE_NBR</th>\n",
       "      <th>yyyymm</th>\n",
       "      <th>totSales</th>\n",
       "      <th>nCustomers</th>\n",
       "    </tr>\n",
       "  </thead>\n",
       "  <tbody>\n",
       "    <tr>\n",
       "      <th>0</th>\n",
       "      <td>1</td>\n",
       "      <td>201807</td>\n",
       "      <td>206.9</td>\n",
       "      <td>49</td>\n",
       "    </tr>\n",
       "    <tr>\n",
       "      <th>1</th>\n",
       "      <td>1</td>\n",
       "      <td>201808</td>\n",
       "      <td>176.1</td>\n",
       "      <td>42</td>\n",
       "    </tr>\n",
       "    <tr>\n",
       "      <th>2</th>\n",
       "      <td>1</td>\n",
       "      <td>201809</td>\n",
       "      <td>278.8</td>\n",
       "      <td>59</td>\n",
       "    </tr>\n",
       "    <tr>\n",
       "      <th>3</th>\n",
       "      <td>1</td>\n",
       "      <td>201810</td>\n",
       "      <td>188.1</td>\n",
       "      <td>44</td>\n",
       "    </tr>\n",
       "    <tr>\n",
       "      <th>4</th>\n",
       "      <td>1</td>\n",
       "      <td>201811</td>\n",
       "      <td>192.6</td>\n",
       "      <td>46</td>\n",
       "    </tr>\n",
       "    <tr>\n",
       "      <th>...</th>\n",
       "      <td>...</td>\n",
       "      <td>...</td>\n",
       "      <td>...</td>\n",
       "      <td>...</td>\n",
       "    </tr>\n",
       "    <tr>\n",
       "      <th>3164</th>\n",
       "      <td>272</td>\n",
       "      <td>201902</td>\n",
       "      <td>395.5</td>\n",
       "      <td>45</td>\n",
       "    </tr>\n",
       "    <tr>\n",
       "      <th>3165</th>\n",
       "      <td>272</td>\n",
       "      <td>201903</td>\n",
       "      <td>442.3</td>\n",
       "      <td>50</td>\n",
       "    </tr>\n",
       "    <tr>\n",
       "      <th>3166</th>\n",
       "      <td>272</td>\n",
       "      <td>201904</td>\n",
       "      <td>445.1</td>\n",
       "      <td>54</td>\n",
       "    </tr>\n",
       "    <tr>\n",
       "      <th>3167</th>\n",
       "      <td>272</td>\n",
       "      <td>201905</td>\n",
       "      <td>314.6</td>\n",
       "      <td>34</td>\n",
       "    </tr>\n",
       "    <tr>\n",
       "      <th>3168</th>\n",
       "      <td>272</td>\n",
       "      <td>201906</td>\n",
       "      <td>312.1</td>\n",
       "      <td>34</td>\n",
       "    </tr>\n",
       "  </tbody>\n",
       "</table>\n",
       "<p>3169 rows × 4 columns</p>\n",
       "</div>"
      ],
      "text/plain": [
       "      STORE_NBR  yyyymm  totSales  nCustomers\n",
       "0             1  201807     206.9          49\n",
       "1             1  201808     176.1          42\n",
       "2             1  201809     278.8          59\n",
       "3             1  201810     188.1          44\n",
       "4             1  201811     192.6          46\n",
       "...         ...     ...       ...         ...\n",
       "3164        272  201902     395.5          45\n",
       "3165        272  201903     442.3          50\n",
       "3166        272  201904     445.1          54\n",
       "3167        272  201905     314.6          34\n",
       "3168        272  201906     312.1          34\n",
       "\n",
       "[3169 rows x 4 columns]"
      ]
     },
     "execution_count": 247,
     "metadata": {},
     "output_type": "execute_result"
    }
   ],
   "source": [
    "forvisualisation"
   ]
  },
  {
   "cell_type": "code",
   "execution_count": 249,
   "id": "a7ee5c27",
   "metadata": {},
   "outputs": [],
   "source": [
    "#defining a function to use for visualisation later on\n",
    "\n",
    "def sales_for_visualisation(trial_store,control_store):\n",
    "    a='QVI_data_'+str(trial_store)+'_'+str(control_store)\n",
    "    a=forvisualisation.copy()\n",
    "    a['Store_type'] = np.where(a['STORE_NBR'] == trial_store, \"Trial\",np.where(a['STORE_NBR'] == control_store, \"Control\", \"Other stores\"))\n",
    "    a = a.groupby(['yyyymm', 'Store_type']).mean('TOT_SALES').reset_index()\n",
    "    #a = a.groupby(['yyyymm', 'Store_type']).agg({'totSales': 'mean'}).reset_index()\n",
    "\n",
    "    a['TransactionMonth'] = pd.to_datetime(a['yyyymm'].astype(str), format='%Y%m')\n",
    "    a = a[a['Store_type'].isin(['Trial', 'Control'])]\n",
    " \n",
    "    pastSales_Controls95 = a[a['Store_type'] == 'Control'].copy()\n",
    "    pastSales_Controls95['stdDev'] = pastSales_Controls95['totSales'].std()\n",
    "    pastSales_Controls95['totSales'] = pastSales_Controls95['totSales'] * (1 + pastSales_Controls95['stdDev'] * 2)\n",
    "    pastSales_Controls95['Store_type'] = 'Control 95th % confidence interval'\n",
    "\n",
    "    pastSales_Controls = a[a['Store_type'] == 'Control']\n",
    "    stdDev = pastSales_Controls['totSales'].std()\n",
    "    pastSales_Controls5 = pastSales_Controls.copy()\n",
    "    pastSales_Controls5['totSales'] = pastSales_Controls5['totSales'] * (1 - stdDev * 2)\n",
    "    pastSales_Controls5['Store_type'] = 'Control 5th % confidence interval'\n",
    "    \n",
    "    trial_assessment = pd.concat([a, pastSales_Controls95, pastSales_Controls5], ignore_index=True)\n",
    "    \n",
    "    #return trial_assessment\n",
    "    return a\n",
    "\n",
    "trial_dataframe=sales_for_visualisation(77,233)"
   ]
  },
  {
   "cell_type": "code",
   "execution_count": 250,
   "id": "db0dac7f",
   "metadata": {},
   "outputs": [],
   "source": [
    "rect_data = trial_dataframe[(trial_dataframe['yyyymm'].astype(int) < 201905) &\n",
    "                            (trial_dataframe['yyyymm'].astype(int) > 201901)]"
   ]
  },
  {
   "cell_type": "code",
   "execution_count": 251,
   "id": "079b0b3f",
   "metadata": {},
   "outputs": [],
   "source": [
    "transaction_month = pd.to_datetime(rect_data['TransactionMonth'])\n",
    "xmin = transaction_month.min()\n",
    "xmax = transaction_month.max()\n",
    "ymin=0\n",
    "ymax=float('inf')"
   ]
  },
  {
   "cell_type": "code",
   "execution_count": 252,
   "id": "6eeb5f32",
   "metadata": {},
   "outputs": [
    {
     "data": {
      "image/png": "[encoded data removed]",
      "text/plain": [
       "<Figure size 640x480 with 1 Axes>"
      ]
     },
     "metadata": {},
     "output_type": "display_data"
    },
    {
     "data": {
      "text/plain": [
       "<ggplot: (8781267189836)>"
      ]
     },
     "execution_count": 252,
     "metadata": {},
     "output_type": "execute_result"
    }
   ],
   "source": [
    "ggplot(trial_dataframe, aes('TransactionMonth', 'totSales', color='Store_type')) \\\n",
    "    + geom_rect(aes(xmin=xmin, xmax=xmax, ymin=ymin,\n",
    "                  ymax=ymax,alpha=0.2 ), show_legend=False)\\\n",
    "    + geom_line() + labs(x=\"Month of operation\", y=\"Total sales\", title=\"Total sales by month\")\n"
   ]
  },
  {
   "cell_type": "markdown",
   "id": "1a10c48e",
   "metadata": {},
   "source": [
    "### Assessing number of customers ###"
   ]
  },
  {
   "cell_type": "markdown",
   "id": "7916b05d",
   "metadata": {},
   "source": [
    "### Finding the scaling factor ###"
   ]
  },
  {
   "cell_type": "code",
   "execution_count": 253,
   "id": "5026d947",
   "metadata": {},
   "outputs": [],
   "source": [
    "scaling_77_233_customer=pretrial_customer_77.sum()/pretrial_customer_233.sum()"
   ]
  },
  {
   "cell_type": "markdown",
   "id": "960ba3ac",
   "metadata": {},
   "source": [
    "### Scaling up the control stores & finding the percentage difference. ###"
   ]
  },
  {
   "cell_type": "markdown",
   "id": "6bf64791",
   "metadata": {},
   "source": [
    "We now have seperate tables for pre-trial and trial periods. Let's merge the tables"
   ]
  },
  {
   "cell_type": "code",
   "execution_count": 254,
   "id": "39899909",
   "metadata": {},
   "outputs": [],
   "source": [
    "trial_monthly_sale_77,trial_monthly_customer_77,trial_monthly_transaction_77=find_monthly_numbers(77,QVI_data_assess)\n",
    "trial_monthly_sale_233,trial_monthly_customer_233,trial_monthly_transaction_233=find_monthly_numbers(233,QVI_data_assess)\n"
   ]
  },
  {
   "cell_type": "code",
   "execution_count": 255,
   "id": "13ca43a9",
   "metadata": {},
   "outputs": [],
   "source": [
    "custtable77 = pd.concat([pretrial_customer_77, trial_monthly_customer_77])\n",
    "scaledcusttable233 = pd.concat([pretrial_customer_233, trial_monthly_customer_233])*scaling_77_233_customer\n",
    "mergedcust77_233 = pd.merge(custtable77, scaledcusttable233, left_index=True, right_index=True)\n",
    "mergedcust77_233.rename(columns={'LYLTY_CARD_NBR_x': 'customerTable77', 'LYLTY_CARD_NBR_y': 'scaledCustomerTable233'}, inplace=True)\n",
    "mergedcust77_233['percentagediff']=(abs(mergedcust77_233['scaledCustomerTable233']-mergedcust77_233['customerTable77']))/mergedcust77_233['scaledCustomerTable233']"
   ]
  },
  {
   "cell_type": "code",
   "execution_count": 256,
   "id": "dc8fc9a2",
   "metadata": {},
   "outputs": [
    {
     "data": {
      "text/html": [
       "<div>\n",
       "<style scoped>\n",
       "    .dataframe tbody tr th:only-of-type {\n",
       "        vertical-align: middle;\n",
       "    }\n",
       "\n",
       "    .dataframe tbody tr th {\n",
       "        vertical-align: top;\n",
       "    }\n",
       "\n",
       "    .dataframe thead th {\n",
       "        text-align: right;\n",
       "    }\n",
       "</style>\n",
       "<table border=\"1\" class=\"dataframe\">\n",
       "  <thead>\n",
       "    <tr style=\"text-align: right;\">\n",
       "      <th></th>\n",
       "      <th>customerTable77</th>\n",
       "      <th>scaledCustomerTable233</th>\n",
       "      <th>percentagediff</th>\n",
       "    </tr>\n",
       "    <tr>\n",
       "      <th>yyyymm</th>\n",
       "      <th></th>\n",
       "      <th></th>\n",
       "      <th></th>\n",
       "    </tr>\n",
       "  </thead>\n",
       "  <tbody>\n",
       "    <tr>\n",
       "      <th>201807</th>\n",
       "      <td>51</td>\n",
       "      <td>51.148688</td>\n",
       "      <td>0.002907</td>\n",
       "    </tr>\n",
       "    <tr>\n",
       "      <th>201808</th>\n",
       "      <td>47</td>\n",
       "      <td>48.139942</td>\n",
       "      <td>0.023680</td>\n",
       "    </tr>\n",
       "    <tr>\n",
       "      <th>201809</th>\n",
       "      <td>42</td>\n",
       "      <td>42.122449</td>\n",
       "      <td>0.002907</td>\n",
       "    </tr>\n",
       "    <tr>\n",
       "      <th>201810</th>\n",
       "      <td>37</td>\n",
       "      <td>35.102041</td>\n",
       "      <td>0.054070</td>\n",
       "    </tr>\n",
       "    <tr>\n",
       "      <th>201811</th>\n",
       "      <td>41</td>\n",
       "      <td>40.116618</td>\n",
       "      <td>0.022020</td>\n",
       "    </tr>\n",
       "    <tr>\n",
       "      <th>201812</th>\n",
       "      <td>46</td>\n",
       "      <td>47.137026</td>\n",
       "      <td>0.024122</td>\n",
       "    </tr>\n",
       "    <tr>\n",
       "      <th>201901</th>\n",
       "      <td>35</td>\n",
       "      <td>35.102041</td>\n",
       "      <td>0.002907</td>\n",
       "    </tr>\n",
       "    <tr>\n",
       "      <th>201902</th>\n",
       "      <td>45</td>\n",
       "      <td>45.131195</td>\n",
       "      <td>0.002907</td>\n",
       "    </tr>\n",
       "    <tr>\n",
       "      <th>201903</th>\n",
       "      <td>50</td>\n",
       "      <td>40.116618</td>\n",
       "      <td>0.246366</td>\n",
       "    </tr>\n",
       "    <tr>\n",
       "      <th>201904</th>\n",
       "      <td>47</td>\n",
       "      <td>30.087464</td>\n",
       "      <td>0.562112</td>\n",
       "    </tr>\n",
       "    <tr>\n",
       "      <th>201905</th>\n",
       "      <td>55</td>\n",
       "      <td>57.166181</td>\n",
       "      <td>0.037893</td>\n",
       "    </tr>\n",
       "    <tr>\n",
       "      <th>201906</th>\n",
       "      <td>41</td>\n",
       "      <td>41.119534</td>\n",
       "      <td>0.002907</td>\n",
       "    </tr>\n",
       "  </tbody>\n",
       "</table>\n",
       "</div>"
      ],
      "text/plain": [
       "        customerTable77  scaledCustomerTable233  percentagediff\n",
       "yyyymm                                                         \n",
       "201807               51               51.148688        0.002907\n",
       "201808               47               48.139942        0.023680\n",
       "201809               42               42.122449        0.002907\n",
       "201810               37               35.102041        0.054070\n",
       "201811               41               40.116618        0.022020\n",
       "201812               46               47.137026        0.024122\n",
       "201901               35               35.102041        0.002907\n",
       "201902               45               45.131195        0.002907\n",
       "201903               50               40.116618        0.246366\n",
       "201904               47               30.087464        0.562112\n",
       "201905               55               57.166181        0.037893\n",
       "201906               41               41.119534        0.002907"
      ]
     },
     "execution_count": 256,
     "metadata": {},
     "output_type": "execute_result"
    }
   ],
   "source": [
    "mergedcust77_233"
   ]
  },
  {
   "cell_type": "markdown",
   "id": "93c2fb4b",
   "metadata": {},
   "source": [
    "## Finding the stdev and the t_value ###"
   ]
  },
  {
   "cell_type": "code",
   "execution_count": 262,
   "id": "5adbef53",
   "metadata": {},
   "outputs": [],
   "source": [
    "#finding the standard deviation\n",
    "mergedcust77_233['YEARMONTH']=mergedcust77_233.index\n",
    "mergedcust77_233['YEARMONTH']=mergedcust77_233['YEARMONTH'].astype(int)\n",
    "stdDev = np.std(mergedcust77_233[mergedcust77_233['YEARMONTH'] < 201902]['percentagediff'].values)\n",
    "degreesOfFreedom = 7"
   ]
  },
  {
   "cell_type": "code",
   "execution_count": 263,
   "id": "c6b79a42",
   "metadata": {},
   "outputs": [
    {
     "name": "stdout",
     "output_type": "stream",
     "text": [
      "       TransactionMonth     tValue\n",
      "yyyymm                            \n",
      "201902       2019-02-01   0.169289\n",
      "201903       2019-03-01  14.347203\n",
      "201904       2019-04-01  32.734759\n",
      "the t value of the 95th percentile: 1.894578605061305\n"
     ]
    }
   ],
   "source": [
    "#finding the t_value\n",
    "mergedcust77_233['tValue'] = (mergedcust77_233['percentagediff'] - 0) / stdDev\n",
    "mergedcust77_233['TransactionMonth'] = pd.to_datetime(mergedcust77_233['YEARMONTH'].astype(str), format='%Y%m')\n",
    "#finding the t_value of 2019-02, 2019-03, 2019-04\n",
    "resultcust77_233 = mergedcust77_233[(mergedcust77_233['YEARMONTH'] < 201905) & (mergedcust77_233['YEARMONTH'] > 201901)][['TransactionMonth', 'tValue']]\n",
    "#the t value of the 95th percentile\n",
    "t_value = t.ppf(0.95, df=degreesOfFreedom)\n",
    "\n",
    "print(resultcust77_233)\n",
    "print('the t value of the 95th percentile:', t_value)"
   ]
  },
  {
   "cell_type": "markdown",
   "id": "bf881737",
   "metadata": {},
   "source": [
    "### Let's create a nice plot to show our results ###"
   ]
  },
  {
   "cell_type": "code",
   "execution_count": 264,
   "id": "dfe84781",
   "metadata": {},
   "outputs": [
    {
     "data": {
      "text/html": [
       "<div>\n",
       "<style scoped>\n",
       "    .dataframe tbody tr th:only-of-type {\n",
       "        vertical-align: middle;\n",
       "    }\n",
       "\n",
       "    .dataframe tbody tr th {\n",
       "        vertical-align: top;\n",
       "    }\n",
       "\n",
       "    .dataframe thead th {\n",
       "        text-align: right;\n",
       "    }\n",
       "</style>\n",
       "<table border=\"1\" class=\"dataframe\">\n",
       "  <thead>\n",
       "    <tr style=\"text-align: right;\">\n",
       "      <th></th>\n",
       "      <th>yyyymm</th>\n",
       "      <th>Store_type</th>\n",
       "      <th>STORE_NBR</th>\n",
       "      <th>totSales</th>\n",
       "      <th>nCustomers</th>\n",
       "      <th>TransactionMonth</th>\n",
       "    </tr>\n",
       "  </thead>\n",
       "  <tbody>\n",
       "    <tr>\n",
       "      <th>0</th>\n",
       "      <td>201807</td>\n",
       "      <td>Control</td>\n",
       "      <td>233.0</td>\n",
       "      <td>290.7</td>\n",
       "      <td>51.0</td>\n",
       "      <td>2018-07-01</td>\n",
       "    </tr>\n",
       "    <tr>\n",
       "      <th>2</th>\n",
       "      <td>201807</td>\n",
       "      <td>Trial</td>\n",
       "      <td>77.0</td>\n",
       "      <td>296.8</td>\n",
       "      <td>51.0</td>\n",
       "      <td>2018-07-01</td>\n",
       "    </tr>\n",
       "    <tr>\n",
       "      <th>3</th>\n",
       "      <td>201808</td>\n",
       "      <td>Control</td>\n",
       "      <td>233.0</td>\n",
       "      <td>285.9</td>\n",
       "      <td>48.0</td>\n",
       "      <td>2018-08-01</td>\n",
       "    </tr>\n",
       "    <tr>\n",
       "      <th>5</th>\n",
       "      <td>201808</td>\n",
       "      <td>Trial</td>\n",
       "      <td>77.0</td>\n",
       "      <td>255.5</td>\n",
       "      <td>47.0</td>\n",
       "      <td>2018-08-01</td>\n",
       "    </tr>\n",
       "    <tr>\n",
       "      <th>6</th>\n",
       "      <td>201809</td>\n",
       "      <td>Control</td>\n",
       "      <td>233.0</td>\n",
       "      <td>228.6</td>\n",
       "      <td>42.0</td>\n",
       "      <td>2018-09-01</td>\n",
       "    </tr>\n",
       "    <tr>\n",
       "      <th>8</th>\n",
       "      <td>201809</td>\n",
       "      <td>Trial</td>\n",
       "      <td>77.0</td>\n",
       "      <td>225.2</td>\n",
       "      <td>42.0</td>\n",
       "      <td>2018-09-01</td>\n",
       "    </tr>\n",
       "    <tr>\n",
       "      <th>9</th>\n",
       "      <td>201810</td>\n",
       "      <td>Control</td>\n",
       "      <td>233.0</td>\n",
       "      <td>185.7</td>\n",
       "      <td>35.0</td>\n",
       "      <td>2018-10-01</td>\n",
       "    </tr>\n",
       "    <tr>\n",
       "      <th>11</th>\n",
       "      <td>201810</td>\n",
       "      <td>Trial</td>\n",
       "      <td>77.0</td>\n",
       "      <td>204.5</td>\n",
       "      <td>37.0</td>\n",
       "      <td>2018-10-01</td>\n",
       "    </tr>\n",
       "    <tr>\n",
       "      <th>12</th>\n",
       "      <td>201811</td>\n",
       "      <td>Control</td>\n",
       "      <td>233.0</td>\n",
       "      <td>211.6</td>\n",
       "      <td>40.0</td>\n",
       "      <td>2018-11-01</td>\n",
       "    </tr>\n",
       "    <tr>\n",
       "      <th>14</th>\n",
       "      <td>201811</td>\n",
       "      <td>Trial</td>\n",
       "      <td>77.0</td>\n",
       "      <td>245.3</td>\n",
       "      <td>41.0</td>\n",
       "      <td>2018-11-01</td>\n",
       "    </tr>\n",
       "    <tr>\n",
       "      <th>15</th>\n",
       "      <td>201812</td>\n",
       "      <td>Control</td>\n",
       "      <td>233.0</td>\n",
       "      <td>279.8</td>\n",
       "      <td>47.0</td>\n",
       "      <td>2018-12-01</td>\n",
       "    </tr>\n",
       "    <tr>\n",
       "      <th>17</th>\n",
       "      <td>201812</td>\n",
       "      <td>Trial</td>\n",
       "      <td>77.0</td>\n",
       "      <td>267.3</td>\n",
       "      <td>46.0</td>\n",
       "      <td>2018-12-01</td>\n",
       "    </tr>\n",
       "    <tr>\n",
       "      <th>18</th>\n",
       "      <td>201901</td>\n",
       "      <td>Control</td>\n",
       "      <td>233.0</td>\n",
       "      <td>177.5</td>\n",
       "      <td>35.0</td>\n",
       "      <td>2019-01-01</td>\n",
       "    </tr>\n",
       "    <tr>\n",
       "      <th>20</th>\n",
       "      <td>201901</td>\n",
       "      <td>Trial</td>\n",
       "      <td>77.0</td>\n",
       "      <td>204.4</td>\n",
       "      <td>35.0</td>\n",
       "      <td>2019-01-01</td>\n",
       "    </tr>\n",
       "    <tr>\n",
       "      <th>21</th>\n",
       "      <td>201902</td>\n",
       "      <td>Control</td>\n",
       "      <td>233.0</td>\n",
       "      <td>244.0</td>\n",
       "      <td>45.0</td>\n",
       "      <td>2019-02-01</td>\n",
       "    </tr>\n",
       "    <tr>\n",
       "      <th>23</th>\n",
       "      <td>201902</td>\n",
       "      <td>Trial</td>\n",
       "      <td>77.0</td>\n",
       "      <td>235.0</td>\n",
       "      <td>45.0</td>\n",
       "      <td>2019-02-01</td>\n",
       "    </tr>\n",
       "    <tr>\n",
       "      <th>24</th>\n",
       "      <td>201903</td>\n",
       "      <td>Control</td>\n",
       "      <td>233.0</td>\n",
       "      <td>199.1</td>\n",
       "      <td>40.0</td>\n",
       "      <td>2019-03-01</td>\n",
       "    </tr>\n",
       "    <tr>\n",
       "      <th>26</th>\n",
       "      <td>201903</td>\n",
       "      <td>Trial</td>\n",
       "      <td>77.0</td>\n",
       "      <td>278.5</td>\n",
       "      <td>50.0</td>\n",
       "      <td>2019-03-01</td>\n",
       "    </tr>\n",
       "    <tr>\n",
       "      <th>27</th>\n",
       "      <td>201904</td>\n",
       "      <td>Control</td>\n",
       "      <td>233.0</td>\n",
       "      <td>158.6</td>\n",
       "      <td>30.0</td>\n",
       "      <td>2019-04-01</td>\n",
       "    </tr>\n",
       "    <tr>\n",
       "      <th>29</th>\n",
       "      <td>201904</td>\n",
       "      <td>Trial</td>\n",
       "      <td>77.0</td>\n",
       "      <td>263.5</td>\n",
       "      <td>47.0</td>\n",
       "      <td>2019-04-01</td>\n",
       "    </tr>\n",
       "    <tr>\n",
       "      <th>30</th>\n",
       "      <td>201905</td>\n",
       "      <td>Control</td>\n",
       "      <td>233.0</td>\n",
       "      <td>344.4</td>\n",
       "      <td>57.0</td>\n",
       "      <td>2019-05-01</td>\n",
       "    </tr>\n",
       "    <tr>\n",
       "      <th>32</th>\n",
       "      <td>201905</td>\n",
       "      <td>Trial</td>\n",
       "      <td>77.0</td>\n",
       "      <td>299.3</td>\n",
       "      <td>55.0</td>\n",
       "      <td>2019-05-01</td>\n",
       "    </tr>\n",
       "    <tr>\n",
       "      <th>33</th>\n",
       "      <td>201906</td>\n",
       "      <td>Control</td>\n",
       "      <td>233.0</td>\n",
       "      <td>221.0</td>\n",
       "      <td>41.0</td>\n",
       "      <td>2019-06-01</td>\n",
       "    </tr>\n",
       "    <tr>\n",
       "      <th>35</th>\n",
       "      <td>201906</td>\n",
       "      <td>Trial</td>\n",
       "      <td>77.0</td>\n",
       "      <td>264.7</td>\n",
       "      <td>41.0</td>\n",
       "      <td>2019-06-01</td>\n",
       "    </tr>\n",
       "  </tbody>\n",
       "</table>\n",
       "</div>"
      ],
      "text/plain": [
       "    yyyymm Store_type  STORE_NBR  totSales  nCustomers TransactionMonth\n",
       "0   201807    Control      233.0     290.7        51.0       2018-07-01\n",
       "2   201807      Trial       77.0     296.8        51.0       2018-07-01\n",
       "3   201808    Control      233.0     285.9        48.0       2018-08-01\n",
       "5   201808      Trial       77.0     255.5        47.0       2018-08-01\n",
       "6   201809    Control      233.0     228.6        42.0       2018-09-01\n",
       "8   201809      Trial       77.0     225.2        42.0       2018-09-01\n",
       "9   201810    Control      233.0     185.7        35.0       2018-10-01\n",
       "11  201810      Trial       77.0     204.5        37.0       2018-10-01\n",
       "12  201811    Control      233.0     211.6        40.0       2018-11-01\n",
       "14  201811      Trial       77.0     245.3        41.0       2018-11-01\n",
       "15  201812    Control      233.0     279.8        47.0       2018-12-01\n",
       "17  201812      Trial       77.0     267.3        46.0       2018-12-01\n",
       "18  201901    Control      233.0     177.5        35.0       2019-01-01\n",
       "20  201901      Trial       77.0     204.4        35.0       2019-01-01\n",
       "21  201902    Control      233.0     244.0        45.0       2019-02-01\n",
       "23  201902      Trial       77.0     235.0        45.0       2019-02-01\n",
       "24  201903    Control      233.0     199.1        40.0       2019-03-01\n",
       "26  201903      Trial       77.0     278.5        50.0       2019-03-01\n",
       "27  201904    Control      233.0     158.6        30.0       2019-04-01\n",
       "29  201904      Trial       77.0     263.5        47.0       2019-04-01\n",
       "30  201905    Control      233.0     344.4        57.0       2019-05-01\n",
       "32  201905      Trial       77.0     299.3        55.0       2019-05-01\n",
       "33  201906    Control      233.0     221.0        41.0       2019-06-01\n",
       "35  201906      Trial       77.0     264.7        41.0       2019-06-01"
      ]
     },
     "execution_count": 264,
     "metadata": {},
     "output_type": "execute_result"
    }
   ],
   "source": [
    "#Let's use the function we've created for sales\n",
    "\n",
    "customer77_233_dataframe=sales_for_visualisation(77,233)\n",
    "customer77_233_dataframe"
   ]
  },
  {
   "cell_type": "code",
   "execution_count": 265,
   "id": "5b68d5fc",
   "metadata": {},
   "outputs": [],
   "source": [
    "rect_data = customer77_233_dataframe[(customer77_233_dataframe['yyyymm'].astype(int) < 201905) &\n",
    "                            (customer77_233_dataframe['yyyymm'].astype(int) > 201901)]"
   ]
  },
  {
   "cell_type": "code",
   "execution_count": 266,
   "id": "7f6a00b8",
   "metadata": {},
   "outputs": [],
   "source": [
    "transaction_month = pd.to_datetime(rect_data['TransactionMonth'])\n",
    "xmin = transaction_month.min()\n",
    "xmax = transaction_month.max()\n",
    "ymin=0\n",
    "ymax=float('inf')"
   ]
  },
  {
   "cell_type": "code",
   "execution_count": 268,
   "id": "b5145e1b",
   "metadata": {},
   "outputs": [
    {
     "data": {
      "image/png": "[encoded data removed]",
      "text/plain": [
       "<Figure size 640x480 with 1 Axes>"
      ]
     },
     "metadata": {},
     "output_type": "display_data"
    },
    {
     "data": {
      "text/plain": [
       "<ggplot: (8781211655476)>"
      ]
     },
     "execution_count": 268,
     "metadata": {},
     "output_type": "execute_result"
    }
   ],
   "source": [
    "ggplot(customer77_233_dataframe, aes('TransactionMonth', 'nCustomers', color='Store_type')) \\\n",
    "    + geom_rect(aes(xmin=xmin, xmax=xmax, ymin=ymin,\n",
    "                  ymax=ymax,alpha=0.2 ), show_legend=False)\\\n",
    "    + geom_line() + labs(x=\"Month of operation\", y=\"Customer Number\", title=\"Customer Number by month\")\n"
   ]
  },
  {
   "cell_type": "markdown",
   "id": "29944dfd",
   "metadata": {},
   "source": [
    "## Stores 86 and 155 assessment ##"
   ]
  },
  {
   "cell_type": "markdown",
   "id": "495d9480",
   "metadata": {},
   "source": [
    "### Assessing monthly sales ###\n"
   ]
  },
  {
   "cell_type": "code",
   "execution_count": 269,
   "id": "c4be5cc2",
   "metadata": {},
   "outputs": [],
   "source": [
    "QVI_data_pretrial=QVI_data.loc[(QVI_data['year_filter']<2019)|(QVI_data['year_filter']==2019)& (QVI_data['month_filter']<3)]"
   ]
  },
  {
   "cell_type": "markdown",
   "id": "5c6ff7e3",
   "metadata": {},
   "source": [
    "### Finding the scaling factors between control and trial stores ###"
   ]
  },
  {
   "cell_type": "code",
   "execution_count": 277,
   "id": "f26067d8",
   "metadata": {},
   "outputs": [],
   "source": [
    "#scale factor for monthly_sale_155 \n",
    "pretrial_sale_86,pretrial_customer_86,pretrial_transaction_86=find_monthly_numbers(86,QVI_data_pretrial)\n",
    "pretrial_sale_155,pretrial_customer_155,pretrial_transaction_155=find_monthly_numbers(155,QVI_data_pretrial)\n",
    "\n",
    "scaling_86_155=pretrial_sale_86.sum()/pretrial_sale_155.sum()"
   ]
  },
  {
   "cell_type": "code",
   "execution_count": 278,
   "id": "c6d21cf6",
   "metadata": {},
   "outputs": [],
   "source": [
    "QVI_data_assess=QVI_data.loc[(QVI_data['year_filter']>2019)|(QVI_data['year_filter']==2019)& (QVI_data['month_filter']>2)]"
   ]
  },
  {
   "cell_type": "markdown",
   "id": "1da41a53",
   "metadata": {},
   "source": [
    "### Finding the transaction patterns during the trial period ###"
   ]
  },
  {
   "cell_type": "code",
   "execution_count": 279,
   "id": "b5307576",
   "metadata": {},
   "outputs": [],
   "source": [
    "trial_monthly_sale_86,trial_monthly_customer_86,trial_monthly_transaction_86=find_monthly_numbers(86,QVI_data_assess)\n",
    "trial_monthly_sale_155,trial_monthly_customer_155,trial_monthly_transaction_155=find_monthly_numbers(155,QVI_data_assess)\n"
   ]
  },
  {
   "cell_type": "markdown",
   "id": "3ae45288",
   "metadata": {},
   "source": [
    "### Scaling up the control stores & finding the percentage difference. ###"
   ]
  },
  {
   "cell_type": "code",
   "execution_count": 280,
   "id": "7e6f43f1",
   "metadata": {},
   "outputs": [],
   "source": [
    "saletable86 = pd.concat([pretrial_sale_86, trial_monthly_sale_86])\n",
    "scaledsaletable155 = pd.concat([pretrial_sale_155, trial_monthly_sale_155])*scaling_86_155\n",
    "mergedsale86_155 = pd.merge(saletable86, scaledsaletable155, left_index=True, right_index=True)\n",
    "mergedsale86_155.rename(columns={'TOT_SALES_x': 'saletable86', 'TOT_SALES_y': 'scaledsaletable155'}, inplace=True)\n",
    "mergedsale86_155['percentagediff']=(abs(mergedsale86_155['scaledsaletable155']-mergedsale86_155['saletable86']))/mergedsale86_155['scaledsaletable155']"
   ]
  },
  {
   "cell_type": "markdown",
   "id": "85c00f75",
   "metadata": {},
   "source": [
    "### Finding the stdev and the t_value ###"
   ]
  },
  {
   "cell_type": "code",
   "execution_count": 281,
   "id": "7c6caa13",
   "metadata": {},
   "outputs": [],
   "source": [
    "mergedsale86_155['YEARMONTH']=mergedsale86_155.index\n",
    "mergedsale86_155['YEARMONTH']=mergedsale86_155['YEARMONTH'].astype(int)\n",
    "stdDev = np.std(mergedsale86_155[mergedsale86_155['YEARMONTH'] < 201902]['percentagediff'].values)\n",
    "degreesOfFreedom = 7"
   ]
  },
  {
   "cell_type": "code",
   "execution_count": 282,
   "id": "ffe7b764",
   "metadata": {},
   "outputs": [
    {
     "name": "stdout",
     "output_type": "stream",
     "text": [
      "       TransactionMonth     tValue\n",
      "yyyymm                            \n",
      "201902       2019-02-01   1.948453\n",
      "201903       2019-03-01  12.199404\n",
      "201904       2019-04-01   1.116980\n",
      "the t value of the 95th percentile: 1.894578605061305\n"
     ]
    }
   ],
   "source": [
    "#finding the t_value\n",
    "mergedsale86_155['tValue'] = (mergedsale86_155['percentagediff'] - 0) / stdDev\n",
    "mergedsale86_155['TransactionMonth'] = pd.to_datetime(mergedsale86_155['YEARMONTH'].astype(str), format='%Y%m')\n",
    "#finding the t_value of 2019-02, 2019-03, 2019-04\n",
    "result86_155 = mergedsale86_155[(mergedsale86_155['YEARMONTH'] < 201905) & (mergedsale86_155['YEARMONTH'] > 201901)][['TransactionMonth', 'tValue']]\n",
    "#the t value of the 95th percentile\n",
    "t_value = t.ppf(0.95, df=degreesOfFreedom)\n",
    "\n",
    "print(result86_155)\n",
    "print('the t value of the 95th percentile:', t_value)"
   ]
  },
  {
   "cell_type": "markdown",
   "id": "f38f7527",
   "metadata": {},
   "source": [
    "We can see that both 201902 and 201904 have lower values than 1.96. So for those two months the difference between the control and the trial stores are not significant."
   ]
  },
  {
   "cell_type": "markdown",
   "id": "6f9032ce",
   "metadata": {},
   "source": [
    "### Let's create a nice plot to show our results ###"
   ]
  },
  {
   "cell_type": "code",
   "execution_count": 283,
   "id": "20802e47",
   "metadata": {},
   "outputs": [
    {
     "data": {
      "image/png": "[encoded data removed]",
      "text/plain": [
       "<Figure size 640x480 with 1 Axes>"
      ]
     },
     "metadata": {},
     "output_type": "display_data"
    },
    {
     "data": {
      "text/plain": [
       "<ggplot: (8781280250305)>"
      ]
     },
     "execution_count": 283,
     "metadata": {},
     "output_type": "execute_result"
    }
   ],
   "source": [
    "trial_dataframe86_155=sales_for_visualisation(86,155)\n",
    "\n",
    "\n",
    "rect_data = trial_dataframe86_155[(trial_dataframe86_155['yyyymm'].astype(int) < 201905) &\n",
    "                            (trial_dataframe86_155['yyyymm'].astype(int) > 201901)]\n",
    "\n",
    "transaction_month = pd.to_datetime(rect_data['TransactionMonth'])\n",
    "xmin = transaction_month.min()\n",
    "xmax = transaction_month.max()\n",
    "ymin=0\n",
    "ymax=float('inf')\n",
    "\n",
    "\n",
    "ggplot(trial_dataframe86_155, aes('TransactionMonth', 'totSales', color='Store_type')) \\\n",
    "    + geom_rect(aes(xmin=xmin, xmax=xmax, ymin=ymin,\n",
    "                  ymax=ymax,alpha=0.2 ), show_legend=False)\\\n",
    "    + geom_line() + labs(x=\"Month of operation\", y=\"Total sales\", title=\"Total sales by month\")\n"
   ]
  },
  {
   "cell_type": "markdown",
   "id": "1ff373da",
   "metadata": {},
   "source": [
    "The plot shows the difference between the control and trial store sales wihtin the trial period. This is a nice way to confirm our findings above."
   ]
  },
  {
   "cell_type": "markdown",
   "id": "cb1bca10",
   "metadata": {},
   "source": [
    "### Assessing number of customers ###\n"
   ]
  },
  {
   "cell_type": "markdown",
   "id": "d62e079a",
   "metadata": {},
   "source": [
    "### Finding the scaling factor ###"
   ]
  },
  {
   "cell_type": "code",
   "execution_count": 284,
   "id": "9aeb107b",
   "metadata": {},
   "outputs": [],
   "source": [
    "scaling_86_155_customer=pretrial_customer_86.sum()/pretrial_customer_155.sum()"
   ]
  },
  {
   "cell_type": "markdown",
   "id": "686b7fe4",
   "metadata": {},
   "source": [
    "### Scaling up the control stores & finding the percentage difference. ###"
   ]
  },
  {
   "cell_type": "code",
   "execution_count": 285,
   "id": "cafd0132",
   "metadata": {},
   "outputs": [],
   "source": [
    "custtable86 = pd.concat([pretrial_customer_86, trial_monthly_customer_86])\n",
    "scaledcusttable155 = pd.concat([pretrial_customer_155, trial_monthly_customer_155])*scaling_86_155_customer\n",
    "mergedcust86_155 = pd.merge(custtable86, scaledcusttable155, left_index=True, right_index=True)\n",
    "mergedcust86_155.rename(columns={'LYLTY_CARD_NBR_x': 'customerTable86', 'LYLTY_CARD_NBR_y': 'scaledCustomerTable155'}, inplace=True)\n",
    "mergedcust86_155['percentagediff']=(abs(mergedcust86_155['scaledCustomerTable155']-mergedcust86_155['customerTable86']))/mergedcust86_155['scaledCustomerTable155']"
   ]
  },
  {
   "cell_type": "markdown",
   "id": "bb6ae024",
   "metadata": {},
   "source": [
    "## Finding the stdev and the t_value ###"
   ]
  },
  {
   "cell_type": "code",
   "execution_count": 286,
   "id": "bbbb9a36",
   "metadata": {},
   "outputs": [],
   "source": [
    "#finding the standard deviation\n",
    "mergedcust86_155['YEARMONTH']=mergedcust86_155.index\n",
    "mergedcust86_155['YEARMONTH']=mergedcust86_155['YEARMONTH'].astype(int)\n",
    "stdDev = np.std(mergedcust86_155[mergedcust86_155['YEARMONTH'] < 201902]['percentagediff'].values)\n",
    "degreesOfFreedom = 7"
   ]
  },
  {
   "cell_type": "code",
   "execution_count": 288,
   "id": "9b69b3ca",
   "metadata": {},
   "outputs": [
    {
     "name": "stdout",
     "output_type": "stream",
     "text": [
      "       TransactionMonth     tValue\n",
      "yyyymm                            \n",
      "201902       2019-02-01   9.484050\n",
      "201903       2019-03-01  17.767214\n",
      "201904       2019-04-01   3.877983\n",
      "the t value of the 95th percentile: 1.894578605061305\n"
     ]
    }
   ],
   "source": [
    "#finding the t_value\n",
    "mergedcust86_155['tValue'] = (mergedcust86_155['percentagediff'] - 0) / stdDev\n",
    "mergedcust86_155['TransactionMonth'] = pd.to_datetime(mergedcust86_155['YEARMONTH'].astype(str), format='%Y%m')\n",
    "#finding the t_value of 2019-02, 2019-03, 2019-04\n",
    "resultcust86_155 = mergedcust86_155[(mergedcust86_155['YEARMONTH'] < 201905) & (mergedcust86_155['YEARMONTH'] > 201901)][['TransactionMonth', 'tValue']]\n",
    "#the t value of the 95th percentile\n",
    "t_value = t.ppf(0.95, df=degreesOfFreedom)\n",
    "\n",
    "print(resultcust86_155)\n",
    "print('the t value of the 95th percentile:', t_value)"
   ]
  },
  {
   "cell_type": "markdown",
   "id": "0fb7b9e6",
   "metadata": {},
   "source": [
    "### Let's create a nice plot to show our results ###\n"
   ]
  },
  {
   "cell_type": "code",
   "execution_count": 289,
   "id": "9398d234",
   "metadata": {},
   "outputs": [],
   "source": [
    "#forvisualisation"
   ]
  },
  {
   "cell_type": "code",
   "execution_count": 291,
   "id": "3b1a2ed6",
   "metadata": {},
   "outputs": [
    {
     "data": {
      "text/html": [
       "<div>\n",
       "<style scoped>\n",
       "    .dataframe tbody tr th:only-of-type {\n",
       "        vertical-align: middle;\n",
       "    }\n",
       "\n",
       "    .dataframe tbody tr th {\n",
       "        vertical-align: top;\n",
       "    }\n",
       "\n",
       "    .dataframe thead th {\n",
       "        text-align: right;\n",
       "    }\n",
       "</style>\n",
       "<table border=\"1\" class=\"dataframe\">\n",
       "  <thead>\n",
       "    <tr style=\"text-align: right;\">\n",
       "      <th></th>\n",
       "      <th>yyyymm</th>\n",
       "      <th>Store_type</th>\n",
       "      <th>STORE_NBR</th>\n",
       "      <th>totSales</th>\n",
       "      <th>nCustomers</th>\n",
       "      <th>TransactionMonth</th>\n",
       "    </tr>\n",
       "  </thead>\n",
       "  <tbody>\n",
       "    <tr>\n",
       "      <th>0</th>\n",
       "      <td>201807</td>\n",
       "      <td>Control</td>\n",
       "      <td>155.0</td>\n",
       "      <td>924.60</td>\n",
       "      <td>101.0</td>\n",
       "      <td>2018-07-01</td>\n",
       "    </tr>\n",
       "    <tr>\n",
       "      <th>2</th>\n",
       "      <td>201807</td>\n",
       "      <td>Trial</td>\n",
       "      <td>86.0</td>\n",
       "      <td>892.20</td>\n",
       "      <td>99.0</td>\n",
       "      <td>2018-07-01</td>\n",
       "    </tr>\n",
       "    <tr>\n",
       "      <th>3</th>\n",
       "      <td>201808</td>\n",
       "      <td>Control</td>\n",
       "      <td>155.0</td>\n",
       "      <td>782.70</td>\n",
       "      <td>91.0</td>\n",
       "      <td>2018-08-01</td>\n",
       "    </tr>\n",
       "    <tr>\n",
       "      <th>5</th>\n",
       "      <td>201808</td>\n",
       "      <td>Trial</td>\n",
       "      <td>86.0</td>\n",
       "      <td>764.05</td>\n",
       "      <td>94.0</td>\n",
       "      <td>2018-08-01</td>\n",
       "    </tr>\n",
       "    <tr>\n",
       "      <th>6</th>\n",
       "      <td>201809</td>\n",
       "      <td>Control</td>\n",
       "      <td>155.0</td>\n",
       "      <td>1014.40</td>\n",
       "      <td>103.0</td>\n",
       "      <td>2018-09-01</td>\n",
       "    </tr>\n",
       "    <tr>\n",
       "      <th>8</th>\n",
       "      <td>201809</td>\n",
       "      <td>Trial</td>\n",
       "      <td>86.0</td>\n",
       "      <td>914.60</td>\n",
       "      <td>103.0</td>\n",
       "      <td>2018-09-01</td>\n",
       "    </tr>\n",
       "    <tr>\n",
       "      <th>9</th>\n",
       "      <td>201810</td>\n",
       "      <td>Control</td>\n",
       "      <td>155.0</td>\n",
       "      <td>963.80</td>\n",
       "      <td>108.0</td>\n",
       "      <td>2018-10-01</td>\n",
       "    </tr>\n",
       "    <tr>\n",
       "      <th>11</th>\n",
       "      <td>201810</td>\n",
       "      <td>Trial</td>\n",
       "      <td>86.0</td>\n",
       "      <td>948.40</td>\n",
       "      <td>109.0</td>\n",
       "      <td>2018-10-01</td>\n",
       "    </tr>\n",
       "    <tr>\n",
       "      <th>12</th>\n",
       "      <td>201811</td>\n",
       "      <td>Control</td>\n",
       "      <td>155.0</td>\n",
       "      <td>898.80</td>\n",
       "      <td>101.0</td>\n",
       "      <td>2018-11-01</td>\n",
       "    </tr>\n",
       "    <tr>\n",
       "      <th>14</th>\n",
       "      <td>201811</td>\n",
       "      <td>Trial</td>\n",
       "      <td>86.0</td>\n",
       "      <td>918.00</td>\n",
       "      <td>100.0</td>\n",
       "      <td>2018-11-01</td>\n",
       "    </tr>\n",
       "    <tr>\n",
       "      <th>15</th>\n",
       "      <td>201812</td>\n",
       "      <td>Control</td>\n",
       "      <td>155.0</td>\n",
       "      <td>849.80</td>\n",
       "      <td>97.0</td>\n",
       "      <td>2018-12-01</td>\n",
       "    </tr>\n",
       "    <tr>\n",
       "      <th>17</th>\n",
       "      <td>201812</td>\n",
       "      <td>Trial</td>\n",
       "      <td>86.0</td>\n",
       "      <td>841.20</td>\n",
       "      <td>98.0</td>\n",
       "      <td>2018-12-01</td>\n",
       "    </tr>\n",
       "    <tr>\n",
       "      <th>18</th>\n",
       "      <td>201901</td>\n",
       "      <td>Control</td>\n",
       "      <td>155.0</td>\n",
       "      <td>874.60</td>\n",
       "      <td>96.0</td>\n",
       "      <td>2019-01-01</td>\n",
       "    </tr>\n",
       "    <tr>\n",
       "      <th>20</th>\n",
       "      <td>201901</td>\n",
       "      <td>Trial</td>\n",
       "      <td>86.0</td>\n",
       "      <td>841.40</td>\n",
       "      <td>94.0</td>\n",
       "      <td>2019-01-01</td>\n",
       "    </tr>\n",
       "    <tr>\n",
       "      <th>21</th>\n",
       "      <td>201902</td>\n",
       "      <td>Control</td>\n",
       "      <td>155.0</td>\n",
       "      <td>891.20</td>\n",
       "      <td>95.0</td>\n",
       "      <td>2019-02-01</td>\n",
       "    </tr>\n",
       "    <tr>\n",
       "      <th>23</th>\n",
       "      <td>201902</td>\n",
       "      <td>Trial</td>\n",
       "      <td>86.0</td>\n",
       "      <td>913.20</td>\n",
       "      <td>107.0</td>\n",
       "      <td>2019-02-01</td>\n",
       "    </tr>\n",
       "    <tr>\n",
       "      <th>24</th>\n",
       "      <td>201903</td>\n",
       "      <td>Control</td>\n",
       "      <td>155.0</td>\n",
       "      <td>804.40</td>\n",
       "      <td>94.0</td>\n",
       "      <td>2019-03-01</td>\n",
       "    </tr>\n",
       "    <tr>\n",
       "      <th>26</th>\n",
       "      <td>201903</td>\n",
       "      <td>Trial</td>\n",
       "      <td>86.0</td>\n",
       "      <td>1026.80</td>\n",
       "      <td>115.0</td>\n",
       "      <td>2019-03-01</td>\n",
       "    </tr>\n",
       "    <tr>\n",
       "      <th>27</th>\n",
       "      <td>201904</td>\n",
       "      <td>Control</td>\n",
       "      <td>155.0</td>\n",
       "      <td>844.60</td>\n",
       "      <td>99.0</td>\n",
       "      <td>2019-04-01</td>\n",
       "    </tr>\n",
       "    <tr>\n",
       "      <th>29</th>\n",
       "      <td>201904</td>\n",
       "      <td>Trial</td>\n",
       "      <td>86.0</td>\n",
       "      <td>848.20</td>\n",
       "      <td>105.0</td>\n",
       "      <td>2019-04-01</td>\n",
       "    </tr>\n",
       "    <tr>\n",
       "      <th>30</th>\n",
       "      <td>201905</td>\n",
       "      <td>Control</td>\n",
       "      <td>155.0</td>\n",
       "      <td>922.85</td>\n",
       "      <td>106.0</td>\n",
       "      <td>2019-05-01</td>\n",
       "    </tr>\n",
       "    <tr>\n",
       "      <th>32</th>\n",
       "      <td>201905</td>\n",
       "      <td>Trial</td>\n",
       "      <td>86.0</td>\n",
       "      <td>889.30</td>\n",
       "      <td>104.0</td>\n",
       "      <td>2019-05-01</td>\n",
       "    </tr>\n",
       "    <tr>\n",
       "      <th>33</th>\n",
       "      <td>201906</td>\n",
       "      <td>Control</td>\n",
       "      <td>155.0</td>\n",
       "      <td>857.20</td>\n",
       "      <td>95.0</td>\n",
       "      <td>2019-06-01</td>\n",
       "    </tr>\n",
       "    <tr>\n",
       "      <th>35</th>\n",
       "      <td>201906</td>\n",
       "      <td>Trial</td>\n",
       "      <td>86.0</td>\n",
       "      <td>838.00</td>\n",
       "      <td>98.0</td>\n",
       "      <td>2019-06-01</td>\n",
       "    </tr>\n",
       "  </tbody>\n",
       "</table>\n",
       "</div>"
      ],
      "text/plain": [
       "    yyyymm Store_type  STORE_NBR  totSales  nCustomers TransactionMonth\n",
       "0   201807    Control      155.0    924.60       101.0       2018-07-01\n",
       "2   201807      Trial       86.0    892.20        99.0       2018-07-01\n",
       "3   201808    Control      155.0    782.70        91.0       2018-08-01\n",
       "5   201808      Trial       86.0    764.05        94.0       2018-08-01\n",
       "6   201809    Control      155.0   1014.40       103.0       2018-09-01\n",
       "8   201809      Trial       86.0    914.60       103.0       2018-09-01\n",
       "9   201810    Control      155.0    963.80       108.0       2018-10-01\n",
       "11  201810      Trial       86.0    948.40       109.0       2018-10-01\n",
       "12  201811    Control      155.0    898.80       101.0       2018-11-01\n",
       "14  201811      Trial       86.0    918.00       100.0       2018-11-01\n",
       "15  201812    Control      155.0    849.80        97.0       2018-12-01\n",
       "17  201812      Trial       86.0    841.20        98.0       2018-12-01\n",
       "18  201901    Control      155.0    874.60        96.0       2019-01-01\n",
       "20  201901      Trial       86.0    841.40        94.0       2019-01-01\n",
       "21  201902    Control      155.0    891.20        95.0       2019-02-01\n",
       "23  201902      Trial       86.0    913.20       107.0       2019-02-01\n",
       "24  201903    Control      155.0    804.40        94.0       2019-03-01\n",
       "26  201903      Trial       86.0   1026.80       115.0       2019-03-01\n",
       "27  201904    Control      155.0    844.60        99.0       2019-04-01\n",
       "29  201904      Trial       86.0    848.20       105.0       2019-04-01\n",
       "30  201905    Control      155.0    922.85       106.0       2019-05-01\n",
       "32  201905      Trial       86.0    889.30       104.0       2019-05-01\n",
       "33  201906    Control      155.0    857.20        95.0       2019-06-01\n",
       "35  201906      Trial       86.0    838.00        98.0       2019-06-01"
      ]
     },
     "execution_count": 291,
     "metadata": {},
     "output_type": "execute_result"
    }
   ],
   "source": [
    "#Let's use the function we've created for sales\n",
    "customer86_155_dataframe=sales_for_visualisation(86,155)\n",
    "customer86_155_dataframe"
   ]
  },
  {
   "cell_type": "code",
   "execution_count": 293,
   "id": "a190561c",
   "metadata": {},
   "outputs": [],
   "source": [
    "rect_data = customer86_155_dataframe[(customer86_155_dataframe['yyyymm'].astype(int) < 201905) &\n",
    "                            (customer86_155_dataframe['yyyymm'].astype(int) > 201901)]"
   ]
  },
  {
   "cell_type": "code",
   "execution_count": 294,
   "id": "48d950d4",
   "metadata": {},
   "outputs": [],
   "source": [
    "transaction_month = pd.to_datetime(rect_data['TransactionMonth'])\n",
    "xmin = transaction_month.min()\n",
    "xmax = transaction_month.max()\n",
    "ymin=0\n",
    "ymax=float('inf')"
   ]
  },
  {
   "cell_type": "code",
   "execution_count": 295,
   "id": "5465ffeb",
   "metadata": {},
   "outputs": [
    {
     "data": {
      "image/png": "[encoded data removed]",
      "text/plain": [
       "<Figure size 640x480 with 1 Axes>"
      ]
     },
     "metadata": {},
     "output_type": "display_data"
    },
    {
     "data": {
      "text/plain": [
       "<ggplot: (8781178371226)>"
      ]
     },
     "execution_count": 295,
     "metadata": {},
     "output_type": "execute_result"
    }
   ],
   "source": [
    "ggplot(customer86_155_dataframe, aes('TransactionMonth', 'nCustomers', color='Store_type')) \\\n",
    "    + geom_rect(aes(xmin=xmin, xmax=xmax, ymin=ymin,\n",
    "                  ymax=ymax,alpha=0.2 ), show_legend=False)\\\n",
    "    + geom_line() + labs(x=\"Month of operation\", y=\"Customer Number\", title=\"Customer Number by month\")\n"
   ]
  },
  {
   "cell_type": "markdown",
   "id": "b497f812",
   "metadata": {},
   "source": [
    "It looks like the customer numbers are significantly higher."
   ]
  },
  {
   "cell_type": "markdown",
   "id": "3d336ac5",
   "metadata": {},
   "source": [
    "## Stores 88 and 178 assessment ##"
   ]
  },
  {
   "cell_type": "markdown",
   "id": "7e164f88",
   "metadata": {},
   "source": [
    "### Assessing monthly sales ###\n"
   ]
  },
  {
   "cell_type": "code",
   "execution_count": 297,
   "id": "46082fb7",
   "metadata": {},
   "outputs": [],
   "source": [
    "QVI_data_pretrial=QVI_data.loc[(QVI_data['year_filter']<2019)|(QVI_data['year_filter']==2019)& (QVI_data['month_filter']<3)]"
   ]
  },
  {
   "cell_type": "markdown",
   "id": "134ba15b",
   "metadata": {},
   "source": [
    "### Finding the scaling factors between control and trial stores ###"
   ]
  },
  {
   "cell_type": "code",
   "execution_count": 300,
   "id": "f3006dde",
   "metadata": {},
   "outputs": [],
   "source": [
    "#scale factor for  monthly_sale_178 \n",
    "pretrial_sale_88,pretrial_customer_88,pretrial_transaction_88=find_monthly_numbers(88,QVI_data_pretrial)\n",
    "pretrial_sale_178,pretrial_customer_178,pretrial_transaction_178=find_monthly_numbers(178,QVI_data_pretrial)\n",
    "scaling_88_178=pretrial_sale_88.sum()/pretrial_sale_178.sum()"
   ]
  },
  {
   "cell_type": "code",
   "execution_count": 195,
   "id": "96f507d4",
   "metadata": {},
   "outputs": [],
   "source": [
    "QVI_data_assess=QVI_data.loc[(QVI_data['year_filter']>2019)|(QVI_data['year_filter']==2019)& (QVI_data['month_filter']>2)]\n"
   ]
  },
  {
   "cell_type": "code",
   "execution_count": 192,
   "id": "55a8e0ae",
   "metadata": {},
   "outputs": [
    {
     "data": {
      "text/plain": [
       "TOT_SALES    1.408801\n",
       "dtype: float64"
      ]
     },
     "execution_count": 192,
     "metadata": {},
     "output_type": "execute_result"
    }
   ],
   "source": [
    "#pretrial_sale_88,pretrial_sale_178\n",
    "#scaling_88_178"
   ]
  },
  {
   "cell_type": "markdown",
   "id": "676b5e4f",
   "metadata": {},
   "source": [
    "### Finding the transaction patterns during the trial period ###"
   ]
  },
  {
   "cell_type": "code",
   "execution_count": 186,
   "id": "19ffc956",
   "metadata": {},
   "outputs": [],
   "source": [
    "trial_monthly_sale_88,trial_monthly_customer_88,trial_monthly_transaction_88=find_monthly_numbers(88,QVI_data_assess)\n",
    "trial_monthly_sale_178,trial_monthly_customer_178,trial_monthly_transaction_178=find_monthly_numbers(178,QVI_data_assess)\n"
   ]
  },
  {
   "cell_type": "markdown",
   "id": "7e4ee101",
   "metadata": {},
   "source": [
    "### Scaling up the control stores & finding the percentage difference. ###"
   ]
  },
  {
   "cell_type": "code",
   "execution_count": 306,
   "id": "00768f4a",
   "metadata": {},
   "outputs": [],
   "source": [
    "saletable88 = pd.concat([pretrial_sale_88, trial_monthly_sale_88])\n",
    "scaledsaletable178 = pd.concat([pretrial_sale_178, trial_monthly_sale_178])*scaling_88_178\n",
    "mergedsale88_178 = pd.merge(saletable88, scaledsaletable178, left_index=True, right_index=True)\n",
    "mergedsale88_178.rename(columns={'TOT_SALES_x': 'saletable88', 'TOT_SALES_y': 'scaledsaletable178'}, inplace=True)\n",
    "mergedsale88_178['percentagediff']=(abs(mergedsale88_178['scaledsaletable178']-mergedsale88_178['saletable88']))/mergedsale88_178['scaledsaletable178']"
   ]
  },
  {
   "cell_type": "code",
   "execution_count": 307,
   "id": "c3511a4e",
   "metadata": {},
   "outputs": [
    {
     "data": {
      "text/html": [
       "<div>\n",
       "<style scoped>\n",
       "    .dataframe tbody tr th:only-of-type {\n",
       "        vertical-align: middle;\n",
       "    }\n",
       "\n",
       "    .dataframe tbody tr th {\n",
       "        vertical-align: top;\n",
       "    }\n",
       "\n",
       "    .dataframe thead th {\n",
       "        text-align: right;\n",
       "    }\n",
       "</style>\n",
       "<table border=\"1\" class=\"dataframe\">\n",
       "  <thead>\n",
       "    <tr style=\"text-align: right;\">\n",
       "      <th></th>\n",
       "      <th>saletable88</th>\n",
       "      <th>scaledsaletable178</th>\n",
       "      <th>percentagediff</th>\n",
       "    </tr>\n",
       "    <tr>\n",
       "      <th>yyyymm</th>\n",
       "      <th></th>\n",
       "      <th></th>\n",
       "      <th></th>\n",
       "    </tr>\n",
       "  </thead>\n",
       "  <tbody>\n",
       "    <tr>\n",
       "      <th>201807</th>\n",
       "      <td>1310.00</td>\n",
       "      <td>1341.178468</td>\n",
       "      <td>0.023247</td>\n",
       "    </tr>\n",
       "    <tr>\n",
       "      <th>201808</th>\n",
       "      <td>1323.80</td>\n",
       "      <td>1289.757235</td>\n",
       "      <td>0.026395</td>\n",
       "    </tr>\n",
       "    <tr>\n",
       "      <th>201809</th>\n",
       "      <td>1423.00</td>\n",
       "      <td>1344.559590</td>\n",
       "      <td>0.058339</td>\n",
       "    </tr>\n",
       "    <tr>\n",
       "      <th>201810</th>\n",
       "      <td>1352.40</td>\n",
       "      <td>1356.111758</td>\n",
       "      <td>0.002737</td>\n",
       "    </tr>\n",
       "    <tr>\n",
       "      <th>201811</th>\n",
       "      <td>1382.80</td>\n",
       "      <td>1374.426170</td>\n",
       "      <td>0.006093</td>\n",
       "    </tr>\n",
       "    <tr>\n",
       "      <th>201812</th>\n",
       "      <td>1325.20</td>\n",
       "      <td>1334.416224</td>\n",
       "      <td>0.006907</td>\n",
       "    </tr>\n",
       "    <tr>\n",
       "      <th>201901</th>\n",
       "      <td>1266.40</td>\n",
       "      <td>1179.448123</td>\n",
       "      <td>0.073723</td>\n",
       "    </tr>\n",
       "    <tr>\n",
       "      <th>201902</th>\n",
       "      <td>1370.20</td>\n",
       "      <td>1533.902433</td>\n",
       "      <td>0.106723</td>\n",
       "    </tr>\n",
       "    <tr>\n",
       "      <th>201903</th>\n",
       "      <td>1477.20</td>\n",
       "      <td>1407.110351</td>\n",
       "      <td>0.049811</td>\n",
       "    </tr>\n",
       "    <tr>\n",
       "      <th>201904</th>\n",
       "      <td>1439.40</td>\n",
       "      <td>1493.047206</td>\n",
       "      <td>0.035931</td>\n",
       "    </tr>\n",
       "    <tr>\n",
       "      <th>201905</th>\n",
       "      <td>1308.25</td>\n",
       "      <td>1251.015210</td>\n",
       "      <td>0.045751</td>\n",
       "    </tr>\n",
       "    <tr>\n",
       "      <th>201906</th>\n",
       "      <td>1354.60</td>\n",
       "      <td>1017.999539</td>\n",
       "      <td>0.330649</td>\n",
       "    </tr>\n",
       "  </tbody>\n",
       "</table>\n",
       "</div>"
      ],
      "text/plain": [
       "        saletable88  scaledsaletable178  percentagediff\n",
       "yyyymm                                                 \n",
       "201807      1310.00         1341.178468        0.023247\n",
       "201808      1323.80         1289.757235        0.026395\n",
       "201809      1423.00         1344.559590        0.058339\n",
       "201810      1352.40         1356.111758        0.002737\n",
       "201811      1382.80         1374.426170        0.006093\n",
       "201812      1325.20         1334.416224        0.006907\n",
       "201901      1266.40         1179.448123        0.073723\n",
       "201902      1370.20         1533.902433        0.106723\n",
       "201903      1477.20         1407.110351        0.049811\n",
       "201904      1439.40         1493.047206        0.035931\n",
       "201905      1308.25         1251.015210        0.045751\n",
       "201906      1354.60         1017.999539        0.330649"
      ]
     },
     "execution_count": 307,
     "metadata": {},
     "output_type": "execute_result"
    }
   ],
   "source": [
    "mergedsale88_178"
   ]
  },
  {
   "cell_type": "markdown",
   "id": "cc7030c6",
   "metadata": {},
   "source": [
    "### Finding the stdev and the t_value ###"
   ]
  },
  {
   "cell_type": "code",
   "execution_count": 311,
   "id": "549c9ada",
   "metadata": {},
   "outputs": [
    {
     "data": {
      "text/html": [
       "<div>\n",
       "<style scoped>\n",
       "    .dataframe tbody tr th:only-of-type {\n",
       "        vertical-align: middle;\n",
       "    }\n",
       "\n",
       "    .dataframe tbody tr th {\n",
       "        vertical-align: top;\n",
       "    }\n",
       "\n",
       "    .dataframe thead th {\n",
       "        text-align: right;\n",
       "    }\n",
       "</style>\n",
       "<table border=\"1\" class=\"dataframe\">\n",
       "  <thead>\n",
       "    <tr style=\"text-align: right;\">\n",
       "      <th></th>\n",
       "      <th>saletable88</th>\n",
       "      <th>scaledsaletable178</th>\n",
       "      <th>percentagediff</th>\n",
       "      <th>YEARMONTH</th>\n",
       "      <th>tValue</th>\n",
       "      <th>TransactionMonth</th>\n",
       "    </tr>\n",
       "    <tr>\n",
       "      <th>yyyymm</th>\n",
       "      <th></th>\n",
       "      <th></th>\n",
       "      <th></th>\n",
       "      <th></th>\n",
       "      <th></th>\n",
       "      <th></th>\n",
       "    </tr>\n",
       "  </thead>\n",
       "  <tbody>\n",
       "    <tr>\n",
       "      <th>201807</th>\n",
       "      <td>1310.00</td>\n",
       "      <td>1341.178468</td>\n",
       "      <td>0.023247</td>\n",
       "      <td>201807</td>\n",
       "      <td>0.906958</td>\n",
       "      <td>2018-07-01</td>\n",
       "    </tr>\n",
       "    <tr>\n",
       "      <th>201808</th>\n",
       "      <td>1323.80</td>\n",
       "      <td>1289.757235</td>\n",
       "      <td>0.026395</td>\n",
       "      <td>201808</td>\n",
       "      <td>1.029760</td>\n",
       "      <td>2018-08-01</td>\n",
       "    </tr>\n",
       "    <tr>\n",
       "      <th>201809</th>\n",
       "      <td>1423.00</td>\n",
       "      <td>1344.559590</td>\n",
       "      <td>0.058339</td>\n",
       "      <td>201809</td>\n",
       "      <td>2.276034</td>\n",
       "      <td>2018-09-01</td>\n",
       "    </tr>\n",
       "    <tr>\n",
       "      <th>201810</th>\n",
       "      <td>1352.40</td>\n",
       "      <td>1356.111758</td>\n",
       "      <td>0.002737</td>\n",
       "      <td>201810</td>\n",
       "      <td>0.106783</td>\n",
       "      <td>2018-10-01</td>\n",
       "    </tr>\n",
       "    <tr>\n",
       "      <th>201811</th>\n",
       "      <td>1382.80</td>\n",
       "      <td>1374.426170</td>\n",
       "      <td>0.006093</td>\n",
       "      <td>201811</td>\n",
       "      <td>0.237696</td>\n",
       "      <td>2018-11-01</td>\n",
       "    </tr>\n",
       "    <tr>\n",
       "      <th>201812</th>\n",
       "      <td>1325.20</td>\n",
       "      <td>1334.416224</td>\n",
       "      <td>0.006907</td>\n",
       "      <td>201812</td>\n",
       "      <td>0.269452</td>\n",
       "      <td>2018-12-01</td>\n",
       "    </tr>\n",
       "    <tr>\n",
       "      <th>201901</th>\n",
       "      <td>1266.40</td>\n",
       "      <td>1179.448123</td>\n",
       "      <td>0.073723</td>\n",
       "      <td>201901</td>\n",
       "      <td>2.876200</td>\n",
       "      <td>2019-01-01</td>\n",
       "    </tr>\n",
       "    <tr>\n",
       "      <th>201902</th>\n",
       "      <td>1370.20</td>\n",
       "      <td>1533.902433</td>\n",
       "      <td>0.106723</td>\n",
       "      <td>201902</td>\n",
       "      <td>4.163671</td>\n",
       "      <td>2019-02-01</td>\n",
       "    </tr>\n",
       "    <tr>\n",
       "      <th>201903</th>\n",
       "      <td>1477.20</td>\n",
       "      <td>1407.110351</td>\n",
       "      <td>0.049811</td>\n",
       "      <td>201903</td>\n",
       "      <td>1.943322</td>\n",
       "      <td>2019-03-01</td>\n",
       "    </tr>\n",
       "    <tr>\n",
       "      <th>201904</th>\n",
       "      <td>1439.40</td>\n",
       "      <td>1493.047206</td>\n",
       "      <td>0.035931</td>\n",
       "      <td>201904</td>\n",
       "      <td>1.401821</td>\n",
       "      <td>2019-04-01</td>\n",
       "    </tr>\n",
       "    <tr>\n",
       "      <th>201905</th>\n",
       "      <td>1308.25</td>\n",
       "      <td>1251.015210</td>\n",
       "      <td>0.045751</td>\n",
       "      <td>201905</td>\n",
       "      <td>1.784911</td>\n",
       "      <td>2019-05-01</td>\n",
       "    </tr>\n",
       "    <tr>\n",
       "      <th>201906</th>\n",
       "      <td>1354.60</td>\n",
       "      <td>1017.999539</td>\n",
       "      <td>0.330649</td>\n",
       "      <td>201906</td>\n",
       "      <td>12.899893</td>\n",
       "      <td>2019-06-01</td>\n",
       "    </tr>\n",
       "  </tbody>\n",
       "</table>\n",
       "</div>"
      ],
      "text/plain": [
       "        saletable88  scaledsaletable178  percentagediff  YEARMONTH     tValue   \n",
       "yyyymm                                                                          \n",
       "201807      1310.00         1341.178468        0.023247     201807   0.906958  \\\n",
       "201808      1323.80         1289.757235        0.026395     201808   1.029760   \n",
       "201809      1423.00         1344.559590        0.058339     201809   2.276034   \n",
       "201810      1352.40         1356.111758        0.002737     201810   0.106783   \n",
       "201811      1382.80         1374.426170        0.006093     201811   0.237696   \n",
       "201812      1325.20         1334.416224        0.006907     201812   0.269452   \n",
       "201901      1266.40         1179.448123        0.073723     201901   2.876200   \n",
       "201902      1370.20         1533.902433        0.106723     201902   4.163671   \n",
       "201903      1477.20         1407.110351        0.049811     201903   1.943322   \n",
       "201904      1439.40         1493.047206        0.035931     201904   1.401821   \n",
       "201905      1308.25         1251.015210        0.045751     201905   1.784911   \n",
       "201906      1354.60         1017.999539        0.330649     201906  12.899893   \n",
       "\n",
       "       TransactionMonth  \n",
       "yyyymm                   \n",
       "201807       2018-07-01  \n",
       "201808       2018-08-01  \n",
       "201809       2018-09-01  \n",
       "201810       2018-10-01  \n",
       "201811       2018-11-01  \n",
       "201812       2018-12-01  \n",
       "201901       2019-01-01  \n",
       "201902       2019-02-01  \n",
       "201903       2019-03-01  \n",
       "201904       2019-04-01  \n",
       "201905       2019-05-01  \n",
       "201906       2019-06-01  "
      ]
     },
     "execution_count": 311,
     "metadata": {},
     "output_type": "execute_result"
    }
   ],
   "source": [
    "mergedsale88_178['YEARMONTH']=mergedsale88_178.index\n",
    "mergedsale88_178['YEARMONTH']=mergedsale88_178['YEARMONTH'].astype(int)\n",
    "stdDev = np.std(mergedsale88_178[mergedsale88_178['YEARMONTH'] < 201902]['percentagediff'].values)\n",
    "degreesOfFreedom = 7\n",
    "mergedsale88_178"
   ]
  },
  {
   "cell_type": "code",
   "execution_count": 309,
   "id": "97a712f5",
   "metadata": {},
   "outputs": [
    {
     "name": "stdout",
     "output_type": "stream",
     "text": [
      "       TransactionMonth    tValue\n",
      "yyyymm                           \n",
      "201902       2019-02-01  4.163671\n",
      "201903       2019-03-01  1.943322\n",
      "201904       2019-04-01  1.401821\n",
      "the t value of the 95th percentile: 1.894578605061305\n"
     ]
    }
   ],
   "source": [
    "#finding the t_value\n",
    "mergedsale88_178['tValue'] = (mergedsale88_178['percentagediff'] - 0) / stdDev\n",
    "mergedsale88_178['TransactionMonth'] = pd.to_datetime(mergedsale88_178['YEARMONTH'].astype(str), format='%Y%m')\n",
    "#finding the t_value of 2019-02, 2019-03, 2019-04\n",
    "result88_178 = mergedsale88_178[(mergedsale88_178['YEARMONTH'] < 201905) & (mergedsale86_155['YEARMONTH'] > 201901)][['TransactionMonth', 'tValue']]\n",
    "#the t value of the 95th percentile\n",
    "t_value = t.ppf(0.95, df=degreesOfFreedom)\n",
    "\n",
    "print(result88_178)\n",
    "print('the t value of the 95th percentile:', t_value)"
   ]
  },
  {
   "cell_type": "markdown",
   "id": "4745b998",
   "metadata": {},
   "source": [
    "### Let's create a nice plot to show our results ###\n"
   ]
  },
  {
   "cell_type": "code",
   "execution_count": 310,
   "id": "ab645f86",
   "metadata": {},
   "outputs": [
    {
     "data": {
      "image/png": "[encoded data removed]",
      "text/plain": [
       "<Figure size 640x480 with 1 Axes>"
      ]
     },
     "metadata": {},
     "output_type": "display_data"
    },
    {
     "data": {
      "text/plain": [
       "<ggplot: (8781246152364)>"
      ]
     },
     "execution_count": 310,
     "metadata": {},
     "output_type": "execute_result"
    }
   ],
   "source": [
    "### creating visualisation for stores 88,178 sales ###\n",
    "trial_dataframe88_178=sales_for_visualisation(88,178)\n",
    "\n",
    "\n",
    "rect_data = trial_dataframe88_178[(trial_dataframe88_178['yyyymm'].astype(int) < 201905) &\n",
    "                            (trial_dataframe88_178['yyyymm'].astype(int) > 201901)]\n",
    "\n",
    "transaction_month = pd.to_datetime(rect_data['TransactionMonth'])\n",
    "xmin = transaction_month.min()\n",
    "xmax = transaction_month.max()\n",
    "ymin=0\n",
    "ymax=float('inf')\n",
    "\n",
    "\n",
    "ggplot(trial_dataframe88_178, aes('TransactionMonth', 'totSales', color='Store_type')) \\\n",
    "    + geom_rect(aes(xmin=xmin, xmax=xmax, ymin=ymin,\n",
    "                  ymax=ymax,alpha=0.2 ), show_legend=False)\\\n",
    "    + geom_line() + labs(x=\"Month of operation\", y=\"Total sales\", title=\"Total sales by month\")\n"
   ]
  },
  {
   "cell_type": "markdown",
   "id": "74a6cdf0",
   "metadata": {},
   "source": [
    "### Assessing number of customers ###\n"
   ]
  },
  {
   "cell_type": "markdown",
   "id": "d116694d",
   "metadata": {},
   "source": [
    "### Finding the scaling factor ###"
   ]
  },
  {
   "cell_type": "code",
   "execution_count": 202,
   "id": "6e1b3e7a",
   "metadata": {},
   "outputs": [],
   "source": [
    "scaling_88_178_customer=pretrial_customer_88.sum()/pretrial_customer_178.sum()"
   ]
  },
  {
   "cell_type": "markdown",
   "id": "85ee93ae",
   "metadata": {},
   "source": [
    "### Scaling up the control stores & finding the percentage difference. ###"
   ]
  },
  {
   "cell_type": "code",
   "execution_count": 203,
   "id": "5a490127",
   "metadata": {},
   "outputs": [],
   "source": [
    "custtable88 = pd.concat([pretrial_customer_88, trial_monthly_customer_88])\n",
    "scaledcusttable178 = pd.concat([pretrial_customer_178, trial_monthly_customer_178])*scaling_88_178_customer\n",
    "mergedcust88_178 = pd.merge(custtable88, scaledcusttable178, left_index=True, right_index=True)\n",
    "mergedcust88_178.rename(columns={'LYLTY_CARD_NBR_x': 'customerTable88', 'LYLTY_CARD_NBR_y': 'scaledCustomerTable178'}, inplace=True)\n",
    "mergedcust88_178['percentagediff']=(abs(mergedcust88_178['scaledCustomerTable178']-mergedcust88_178['customerTable88']))/mergedcust88_178['scaledCustomerTable178']"
   ]
  },
  {
   "cell_type": "markdown",
   "id": "dca9601f",
   "metadata": {},
   "source": [
    "## Finding the stdev and the t_value ###\n"
   ]
  },
  {
   "cell_type": "code",
   "execution_count": 204,
   "id": "1dc6a9a8",
   "metadata": {},
   "outputs": [],
   "source": [
    "#finding the standard deviation\n",
    "mergedcust88_178['YEARMONTH']=mergedcust88_178.index\n",
    "mergedcust88_178['YEARMONTH']=mergedcust88_178['YEARMONTH'].astype(int)\n",
    "stdDev = np.std(mergedcust88_178[mergedcust88_178['YEARMONTH'] < 201902]['percentagediff'].values)\n",
    "degreesOfFreedom = 7"
   ]
  },
  {
   "cell_type": "code",
   "execution_count": 177,
   "id": "8a60113b",
   "metadata": {},
   "outputs": [
    {
     "name": "stdout",
     "output_type": "stream",
     "text": [
      "       TransactionMonth    tValue\n",
      "yyyymm                           \n",
      "201902       2019-02-01  3.166641\n",
      "201903       2019-03-01  2.070771\n",
      "201904       2019-04-01  7.458868\n",
      "the t value of the 95th percentile: 1.894578605061305\n"
     ]
    }
   ],
   "source": [
    "#finding the t_value\n",
    "mergedcust88_178['tValue'] = (mergedcust88_178['percentagediff'] - 0) / stdDev\n",
    "mergedcust88_178['TransactionMonth'] = pd.to_datetime(mergedcust88_178['YEARMONTH'].astype(str), format='%Y%m')\n",
    "#finding the t_value of 2019-02, 2019-03, 2019-04\n",
    "resultcust88_178 = mergedcust88_178[(mergedcust88_178['YEARMONTH'] < 201905) & (mergedcust88_178['YEARMONTH'] > 201901)][['TransactionMonth', 'tValue']]\n",
    "#the t value of the 95th percentile\n",
    "t_value = t.ppf(0.95, df=degreesOfFreedom)\n",
    "\n",
    "print(resultcust88_178)\n",
    "print('the t value of the 95th percentile:', t_value)"
   ]
  },
  {
   "cell_type": "markdown",
   "id": "3ce3f3da",
   "metadata": {},
   "source": [
    "### Let's create a nice plot to show our results ###\n"
   ]
  },
  {
   "cell_type": "code",
   "execution_count": 179,
   "id": "691a410a",
   "metadata": {},
   "outputs": [],
   "source": [
    "#Let's use the function we've created for sales\n",
    "customer88_178_dataframe=sales_for_visualisation(88,178)\n",
    "#customer88_178_dataframe"
   ]
  },
  {
   "cell_type": "code",
   "execution_count": 180,
   "id": "874089b2",
   "metadata": {},
   "outputs": [],
   "source": [
    "rect_data = customer88_178_dataframe[(customer88_178_dataframe['yyyymm'].astype(int) < 201905) &\n",
    "                            (customer88_178_dataframe['yyyymm'].astype(int) > 201901)]"
   ]
  },
  {
   "cell_type": "code",
   "execution_count": 181,
   "id": "5897fec3",
   "metadata": {},
   "outputs": [],
   "source": [
    "transaction_month = pd.to_datetime(rect_data['TransactionMonth'])\n",
    "xmin = transaction_month.min()\n",
    "xmax = transaction_month.max()\n",
    "ymin=0\n",
    "ymax=float('inf')"
   ]
  },
  {
   "cell_type": "code",
   "execution_count": 182,
   "id": "f2538f8a",
   "metadata": {},
   "outputs": [
    {
     "data": {
      "image/png": "[encoded data removed]",
      "text/plain": [
       "<Figure size 640x480 with 1 Axes>"
      ]
     },
     "metadata": {},
     "output_type": "display_data"
    },
    {
     "data": {
      "text/plain": [
       "<ggplot: (8781246169254)>"
      ]
     },
     "execution_count": 182,
     "metadata": {},
     "output_type": "execute_result"
    }
   ],
   "source": [
    "ggplot(customer88_178_dataframe, aes('TransactionMonth', 'nCustomers', color='Store_type')) \\\n",
    "    + geom_rect(aes(xmin=xmin, xmax=xmax, ymin=ymin,\n",
    "                  ymax=ymax,alpha=0.2 ), show_legend=False)\\\n",
    "    + geom_line() + labs(x=\"Month of operation\", y=\"Customer Number\", title=\"Customer Number by month\")\n"
   ]
  },
  {
   "cell_type": "code",
   "execution_count": 140,
   "id": "adf5711a",
   "metadata": {},
   "outputs": [],
   "source": []
  },
  {
   "cell_type": "code",
   "execution_count": 212,
   "id": "8477e433",
   "metadata": {},
   "outputs": [],
   "source": []
  },
  {
   "cell_type": "code",
   "execution_count": 213,
   "id": "c24d6720",
   "metadata": {},
   "outputs": [],
   "source": []
  },
  {
   "cell_type": "code",
   "execution_count": null,
   "id": "91d40767",
   "metadata": {},
   "outputs": [],
   "source": []
  },
  {
   "cell_type": "code",
   "execution_count": null,
   "id": "9a584754",
   "metadata": {},
   "outputs": [],
   "source": []
  },
  {
   "cell_type": "code",
   "execution_count": null,
   "id": "303b8ff8",
   "metadata": {},
   "outputs": [],
   "source": []
  }
 ],
 "metadata": {
  "kernelspec": {
   "display_name": "Python 3",
   "language": "python",
   "name": "python3"
  },
  "language_info": {
   "codemirror_mode": {
    "name": "ipython",
    "version": 3
   },
   "file_extension": ".py",
   "mimetype": "text/x-python",
   "name": "python",
   "nbconvert_exporter": "python",
   "pygments_lexer": "ipython3",
   "version": "3.8.8"
  }
 },
 "nbformat": 4,
 "nbformat_minor": 5
}
