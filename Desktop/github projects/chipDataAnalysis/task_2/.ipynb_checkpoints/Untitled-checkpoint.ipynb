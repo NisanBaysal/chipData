{
 "cells": [
  {
   "cell_type": "code",
   "execution_count": 120,
   "id": "05ffd267",
   "metadata": {},
   "outputs": [],
   "source": [
    "import pandas as pd\n",
    "import numpy as np\n",
    "import matplotlib.pyplot as plt\n",
    "import seaborn as sns\n",
    "from scipy.stats import ttest_ind\n"
   ]
  },
  {
   "cell_type": "code",
   "execution_count": 60,
   "id": "1306347a",
   "metadata": {},
   "outputs": [],
   "source": [
    "missing_values = [\"n/a\", \"na\", \"--\"]\n",
    "combined_df_task2=pd.read_csv(\"files/combined_df_for_task2.csv\",na_values = missing_values)"
   ]
  },
  {
   "cell_type": "code",
   "execution_count": 61,
   "id": "7516c24d",
   "metadata": {},
   "outputs": [],
   "source": [
    "QVI_data=pd.read_csv(\"files/QVI_data.csv\",na_values = missing_values)"
   ]
  },
  {
   "cell_type": "code",
   "execution_count": 62,
   "id": "7d04d847",
   "metadata": {},
   "outputs": [],
   "source": [
    "QVI_data[\"DATE\"]=pd.to_datetime(QVI_data[\"DATE\"])"
   ]
  },
  {
   "cell_type": "code",
   "execution_count": 63,
   "id": "677c3b44",
   "metadata": {},
   "outputs": [],
   "source": [
    "QVI_data['year_filter']=QVI_data['DATE'].dt.year\n",
    "QVI_data['month_filter']=QVI_data['DATE'].dt.month\n",
    "QVI_data['yyyymm']=QVI_data['year_filter'].astype(str)+QVI_data['month_filter'].astype(str)"
   ]
  },
  {
   "cell_type": "code",
   "execution_count": 64,
   "id": "d4842c1b",
   "metadata": {},
   "outputs": [],
   "source": [
    "#QVI_data"
   ]
  },
  {
   "cell_type": "markdown",
   "id": "d96a867e",
   "metadata": {},
   "source": [
    "## Part 1-Selecting Control Stores  <br>\n",
    "Let's pick the control stores\n",
    "Our trial stores are 77, 86, 88\n",
    "Let's filter out the stores from before 2019 february."
   ]
  },
  {
   "cell_type": "code",
   "execution_count": 70,
   "id": "84aa68f1",
   "metadata": {},
   "outputs": [],
   "source": [
    "QVI_data_control=QVI_data.loc[(QVI_data['year_filter']<2019)|(QVI_data['year_filter']==2019)& (QVI_data['month_filter']<2)]"
   ]
  },
  {
   "cell_type": "markdown",
   "id": "5aa32ae7",
   "metadata": {},
   "source": [
    "What we want to calculate: <br>\n",
    "monthly overall sales for each store <br>\n",
    "monthly number of customers for each store <br>\n",
    "monthly number of transactions per store per customer <br>"
   ]
  },
  {
   "cell_type": "markdown",
   "id": "e3ca7756",
   "metadata": {},
   "source": [
    "Let's calculate these for our trial stores. Let's build a function to do that."
   ]
  },
  {
   "cell_type": "code",
   "execution_count": 71,
   "id": "c5d8280b",
   "metadata": {},
   "outputs": [],
   "source": [
    "#function to get the averages\n",
    "def find_monthly_numbers(storenumber,dataframe_name):\n",
    "    filter=pd.DataFrame(dataframe_name.loc[(dataframe_name['STORE_NBR']==storenumber)])\n",
    "    monthly_sale=pd.DataFrame(filter.groupby(['yyyymm'])['TOT_SALES'].sum())\n",
    "    monthly_customer=pd.DataFrame(filter.groupby(['yyyymm'])['LYLTY_CARD_NBR'].nunique())\n",
    "    monthly_transaction=pd.DataFrame(filter.groupby(['yyyymm','LYLTY_CARD_NBR'])['TOT_SALES'].sum())\n",
    "    return monthly_sale,monthly_customer,monthly_transaction\n",
    "#function to visualise the results\n",
    "def create_graph(dataframe_to_visualise):\n",
    "    fig,ax=plt.subplots()\n",
    "    ax.plot(dataframe_to_visualise.index,dataframe_to_visualise.iloc[:,0])\n",
    "    ax.set_xlabel(dataframe_to_visualise.index.name)\n",
    "    ax.set_ylabel(dataframe_to_visualise.columns[0])"
   ]
  },
  {
   "cell_type": "code",
   "execution_count": 9,
   "id": "f8330bcc",
   "metadata": {
    "scrolled": true
   },
   "outputs": [],
   "source": [
    "x,y,z=find_monthly_numbers(77,QVI_data_control)\n",
    "#create_graph(x)\n",
    "#create_graph(y)\n",
    "x2,y2,z2=find_monthly_numbers(86,QVI_data_control)\n",
    "#create_graph(x2)\n",
    "#create_graph(y2)\n",
    "x3,y3,z3=find_monthly_numbers(88,QVI_data_control)\n",
    "#create_graph(x3)\n",
    "#create_graph(y3)\n"
   ]
  },
  {
   "cell_type": "markdown",
   "id": "fd8080e6",
   "metadata": {},
   "source": [
    "When we visualise the results we can see that monthly number of customers and monthly transactions follow a similar pattern."
   ]
  },
  {
   "cell_type": "markdown",
   "id": "24a9a8d3",
   "metadata": {},
   "source": [
    "Let's calculate\n",
    "monthly overall sales for each store\n",
    "monthly number of customers for each store\n",
    "monthly number of transactions per store per customer\n",
    "monthly chips per customer\n",
    "average price per unit"
   ]
  },
  {
   "cell_type": "code",
   "execution_count": 72,
   "id": "34c42767",
   "metadata": {},
   "outputs": [],
   "source": [
    "#monthly overall sales for each store\n",
    "overall_sales_control=QVI_data_control.groupby(['yyyymm','STORE_NBR'])['TOT_SALES'].sum()\n",
    "overall_sales_control=pd.DataFrame(overall_sales_control)"
   ]
  },
  {
   "cell_type": "code",
   "execution_count": 73,
   "id": "110b890f",
   "metadata": {},
   "outputs": [],
   "source": [
    "overall_sales_control=overall_sales_control.unstack()\n",
    "#overall_sales_control"
   ]
  },
  {
   "cell_type": "markdown",
   "id": "2cc11e66",
   "metadata": {},
   "source": [
    "**We are looking for control stores for 77,86 and 88. Let's create a function that finds the correlation between the given store and all other stores, and picks the stores above a certain correlation.**"
   ]
  },
  {
   "cell_type": "code",
   "execution_count": 74,
   "id": "d61f06ab",
   "metadata": {},
   "outputs": [],
   "source": [
    "def sales_correlation(trial_store,threshold):\n",
    "    x = overall_sales_control.corrwith(overall_sales_control.iloc[:, (trial_store-1)])\n",
    "    x=x.unstack().transpose()\n",
    "    x=pd.DataFrame(x)\n",
    "    x = x.loc[:, (x != 0).any(axis=0)]\n",
    "    x = x.rename(columns={x.columns[0]: 'columnname'})\n",
    "    x.index.name = 'index'\n",
    "    x=x[x['columnname']>threshold]\n",
    "    return x\n",
    "    #sns.scatterplot(data=x)\n"
   ]
  },
  {
   "cell_type": "markdown",
   "id": "40b558e5",
   "metadata": {},
   "source": [
    "Now we can easily see the correlated stores"
   ]
  },
  {
   "cell_type": "code",
   "execution_count": 75,
   "id": "ab1ffb32",
   "metadata": {},
   "outputs": [
    {
     "name": "stderr",
     "output_type": "stream",
     "text": [
      "/Users/nisanbaysal/opt/anaconda3/lib/python3.8/site-packages/numpy/lib/function_base.py:2634: RuntimeWarning: Degrees of freedom <= 0 for slice\n",
      "  c = cov(x, y, rowvar, dtype=dtype)\n",
      "/Users/nisanbaysal/opt/anaconda3/lib/python3.8/site-packages/numpy/lib/function_base.py:2493: RuntimeWarning: divide by zero encountered in true_divide\n",
      "  c *= np.true_divide(1, fact)\n"
     ]
    },
    {
     "data": {
      "text/html": [
       "<div>\n",
       "<style scoped>\n",
       "    .dataframe tbody tr th:only-of-type {\n",
       "        vertical-align: middle;\n",
       "    }\n",
       "\n",
       "    .dataframe tbody tr th {\n",
       "        vertical-align: top;\n",
       "    }\n",
       "\n",
       "    .dataframe thead th {\n",
       "        text-align: right;\n",
       "    }\n",
       "</style>\n",
       "<table border=\"1\" class=\"dataframe\">\n",
       "  <thead>\n",
       "    <tr style=\"text-align: right;\">\n",
       "      <th></th>\n",
       "      <th>columnname</th>\n",
       "    </tr>\n",
       "    <tr>\n",
       "      <th>index</th>\n",
       "      <th></th>\n",
       "    </tr>\n",
       "  </thead>\n",
       "  <tbody>\n",
       "    <tr>\n",
       "      <th>3</th>\n",
       "      <td>0.806644</td>\n",
       "    </tr>\n",
       "    <tr>\n",
       "      <th>11</th>\n",
       "      <td>1.000000</td>\n",
       "    </tr>\n",
       "    <tr>\n",
       "      <th>17</th>\n",
       "      <td>0.842668</td>\n",
       "    </tr>\n",
       "    <tr>\n",
       "      <th>31</th>\n",
       "      <td>1.000000</td>\n",
       "    </tr>\n",
       "    <tr>\n",
       "      <th>71</th>\n",
       "      <td>0.914106</td>\n",
       "    </tr>\n",
       "    <tr>\n",
       "      <th>77</th>\n",
       "      <td>1.000000</td>\n",
       "    </tr>\n",
       "    <tr>\n",
       "      <th>119</th>\n",
       "      <td>0.867664</td>\n",
       "    </tr>\n",
       "    <tr>\n",
       "      <th>233</th>\n",
       "      <td>0.903774</td>\n",
       "    </tr>\n",
       "  </tbody>\n",
       "</table>\n",
       "</div>"
      ],
      "text/plain": [
       "       columnname\n",
       "index            \n",
       "3        0.806644\n",
       "11       1.000000\n",
       "17       0.842668\n",
       "31       1.000000\n",
       "71       0.914106\n",
       "77       1.000000\n",
       "119      0.867664\n",
       "233      0.903774"
      ]
     },
     "execution_count": 75,
     "metadata": {},
     "output_type": "execute_result"
    }
   ],
   "source": [
    "sales_correlation(77,0.8)\n",
    "#sales_correlation(86,0.8)\n",
    "#sales_correlation(88,0.8)"
   ]
  },
  {
   "cell_type": "code",
   "execution_count": 76,
   "id": "98b34dd2",
   "metadata": {},
   "outputs": [],
   "source": [
    "#monthly number of customer for each store\n",
    "customer_number_control=QVI_data_control.groupby(['yyyymm','STORE_NBR'])['LYLTY_CARD_NBR'].nunique()\n",
    "customer_number_control=pd.DataFrame(customer_number_control)"
   ]
  },
  {
   "cell_type": "code",
   "execution_count": 77,
   "id": "07831ddc",
   "metadata": {},
   "outputs": [],
   "source": [
    "#customer_number_control=customer_number_control.unstack()\n",
    "def customer_number_correlation(trial_store, threshold):\n",
    "    y1=customer_number_control.unstack()\n",
    "    y = y1.corrwith(y1.iloc[:, (trial_store-1)])\n",
    "    y=y.unstack().transpose()\n",
    "    y = y.loc[:, (y != 0).any(axis=0)]\n",
    "    y=pd.DataFrame(y)\n",
    "    y.index.name = 'index'\n",
    "    y = y.rename(columns={y.columns[0]: 'columnname'})\n",
    "    y=y[y['columnname']>threshold]\n",
    "    return y\n"
   ]
  },
  {
   "cell_type": "code",
   "execution_count": 78,
   "id": "ac3288f1",
   "metadata": {},
   "outputs": [],
   "source": [
    "#customer_number_correlation(77, 0.8)\n",
    "#customer_number_correlation(86, 0.8)\n",
    "#customer_number_correlation(88, 0.8)"
   ]
  },
  {
   "cell_type": "code",
   "execution_count": 79,
   "id": "62d75706",
   "metadata": {},
   "outputs": [],
   "source": [
    "#monthly number of transactions per store per customer\n",
    "customer_transaction_control=QVI_data_control.groupby(['yyyymm','STORE_NBR','LYLTY_CARD_NBR'])['TOT_SALES'].sum()\n",
    "customer_transaction_control=pd.DataFrame(customer_transaction_control)"
   ]
  },
  {
   "cell_type": "code",
   "execution_count": 80,
   "id": "9485939a",
   "metadata": {},
   "outputs": [],
   "source": [
    "#monthly chips per customer\n",
    "chips_per_customer=QVI_data_control.groupby(['yyyymm','STORE_NBR','LYLTY_CARD_NBR'])['PROD_QTY'].sum()\n",
    "chips_per_customer=pd.DataFrame(chips_per_customer)"
   ]
  },
  {
   "cell_type": "markdown",
   "id": "f308f9ea",
   "metadata": {},
   "source": [
    "If we use our previous functions we can pick our control stores. Let's find the stores that are correlated to our trial stores in both customer number and sales."
   ]
  },
  {
   "cell_type": "code",
   "execution_count": 81,
   "id": "aaeb255f",
   "metadata": {},
   "outputs": [
    {
     "name": "stderr",
     "output_type": "stream",
     "text": [
      "/Users/nisanbaysal/opt/anaconda3/lib/python3.8/site-packages/numpy/lib/function_base.py:2634: RuntimeWarning: Degrees of freedom <= 0 for slice\n",
      "  c = cov(x, y, rowvar, dtype=dtype)\n",
      "/Users/nisanbaysal/opt/anaconda3/lib/python3.8/site-packages/numpy/lib/function_base.py:2493: RuntimeWarning: divide by zero encountered in true_divide\n",
      "  c *= np.true_divide(1, fact)\n",
      "/Users/nisanbaysal/opt/anaconda3/lib/python3.8/site-packages/numpy/lib/function_base.py:2634: RuntimeWarning: Degrees of freedom <= 0 for slice\n",
      "  c = cov(x, y, rowvar, dtype=dtype)\n",
      "/Users/nisanbaysal/opt/anaconda3/lib/python3.8/site-packages/numpy/lib/function_base.py:2493: RuntimeWarning: divide by zero encountered in true_divide\n",
      "  c *= np.true_divide(1, fact)\n"
     ]
    },
    {
     "data": {
      "text/plain": [
       "[233, 77]"
      ]
     },
     "execution_count": 81,
     "metadata": {},
     "output_type": "execute_result"
    }
   ],
   "source": [
    "#store 77\n",
    "store77_1=sales_correlation(77,0.9)\n",
    "store77_2=customer_number_correlation(77, 0.9)\n",
    "common_index = set(store77_1.index).intersection(set(store77_2.index))\n",
    "common_index_list = list(common_index)\n",
    "common_index_list"
   ]
  },
  {
   "cell_type": "code",
   "execution_count": 82,
   "id": "11ec6dfa",
   "metadata": {},
   "outputs": [
    {
     "name": "stderr",
     "output_type": "stream",
     "text": [
      "/Users/nisanbaysal/opt/anaconda3/lib/python3.8/site-packages/numpy/lib/function_base.py:2634: RuntimeWarning: Degrees of freedom <= 0 for slice\n",
      "  c = cov(x, y, rowvar, dtype=dtype)\n",
      "/Users/nisanbaysal/opt/anaconda3/lib/python3.8/site-packages/numpy/lib/function_base.py:2493: RuntimeWarning: divide by zero encountered in true_divide\n",
      "  c *= np.true_divide(1, fact)\n",
      "/Users/nisanbaysal/opt/anaconda3/lib/python3.8/site-packages/numpy/lib/function_base.py:2634: RuntimeWarning: Degrees of freedom <= 0 for slice\n",
      "  c = cov(x, y, rowvar, dtype=dtype)\n",
      "/Users/nisanbaysal/opt/anaconda3/lib/python3.8/site-packages/numpy/lib/function_base.py:2493: RuntimeWarning: divide by zero encountered in true_divide\n",
      "  c *= np.true_divide(1, fact)\n"
     ]
    },
    {
     "data": {
      "text/plain": [
       "[155, 86]"
      ]
     },
     "execution_count": 82,
     "metadata": {},
     "output_type": "execute_result"
    }
   ],
   "source": [
    "#store 86\n",
    "store86_1=sales_correlation(86,0.8)\n",
    "store86_2=customer_number_correlation(86, 0.8)\n",
    "common_index = set(store86_1.index).intersection(set(store86_2.index))\n",
    "common_index_list = list(common_index)\n",
    "common_index_list"
   ]
  },
  {
   "cell_type": "code",
   "execution_count": 83,
   "id": "b817002c",
   "metadata": {},
   "outputs": [
    {
     "name": "stderr",
     "output_type": "stream",
     "text": [
      "/Users/nisanbaysal/opt/anaconda3/lib/python3.8/site-packages/numpy/lib/function_base.py:2634: RuntimeWarning: Degrees of freedom <= 0 for slice\n",
      "  c = cov(x, y, rowvar, dtype=dtype)\n",
      "/Users/nisanbaysal/opt/anaconda3/lib/python3.8/site-packages/numpy/lib/function_base.py:2493: RuntimeWarning: divide by zero encountered in true_divide\n",
      "  c *= np.true_divide(1, fact)\n",
      "/Users/nisanbaysal/opt/anaconda3/lib/python3.8/site-packages/numpy/lib/function_base.py:2634: RuntimeWarning: Degrees of freedom <= 0 for slice\n",
      "  c = cov(x, y, rowvar, dtype=dtype)\n",
      "/Users/nisanbaysal/opt/anaconda3/lib/python3.8/site-packages/numpy/lib/function_base.py:2493: RuntimeWarning: divide by zero encountered in true_divide\n",
      "  c *= np.true_divide(1, fact)\n"
     ]
    },
    {
     "data": {
      "text/plain": [
       "[88, 178]"
      ]
     },
     "execution_count": 83,
     "metadata": {},
     "output_type": "execute_result"
    }
   ],
   "source": [
    "#store 88\n",
    "store88_1=sales_correlation(88,0.7)\n",
    "store88_2=customer_number_correlation(88, 0.7)\n",
    "common_index = set(store88_1.index).intersection(set(store88_2.index))\n",
    "common_index_list = list(common_index)\n",
    "common_index_list"
   ]
  },
  {
   "cell_type": "markdown",
   "id": "82e5b806",
   "metadata": {},
   "source": [
    "To find correlated stores in both customer number and transactions, I played with the correlation value. Store 77 had a high correlation to 233 however the other two trial stores didn't have another store that was that much correlated with them. In order to get similar stores that have a similar pattern, I lowered the correlation value."
   ]
  },
  {
   "cell_type": "markdown",
   "id": "6e6799c2",
   "metadata": {},
   "source": [
    "We can see that;\n",
    "store 233 has a high correlation to store 77 in both cutomer numbers and sales.<br>\n",
    "Store 155 has a high correlation to store 86 in both cutomer numbers and sales <br>\n",
    "Store 178 has a high correlation to store 88 in both cutomer numbers and sales <br>"
   ]
  },
  {
   "cell_type": "markdown",
   "id": "5a55ad74",
   "metadata": {},
   "source": [
    "We can now use the function we created to visualise the trial store tarnsactions and customer numbers to check if our control stores show similar patterns as we expected."
   ]
  },
  {
   "cell_type": "code",
   "execution_count": 84,
   "id": "3446869b",
   "metadata": {},
   "outputs": [],
   "source": [
    "def create_graph(trial_store,control_store):\n",
    "    x,y,z=find_monthly_numbers(trial_store,QVI_data_control)\n",
    "    x1,y1,z1=find_monthly_numbers(control_store,QVI_data_control)\n",
    "    fig, axs = plt.subplots(nrows=1, ncols=2)\n",
    "    \n",
    "    ax = x.plot(kind='line', marker='o', label=trial_store,ax=axs[0])\n",
    "    x1.plot(kind='line', marker='s', label=control_store,ax=axs[0])\n",
    "\n",
    "    ax = y.plot(kind='line', marker='o',ax=axs[1])\n",
    "    y1.plot(kind='line', marker='s', ax=axs[1])\n",
    "    "
   ]
  },
  {
   "cell_type": "code",
   "execution_count": 85,
   "id": "632bac84",
   "metadata": {},
   "outputs": [
    {
     "data": {
      "image/png": "[encoded data removed]",
      "text/plain": [
       "<Figure size 432x288 with 2 Axes>"
      ]
     },
     "metadata": {
      "needs_background": "light"
     },
     "output_type": "display_data"
    }
   ],
   "source": [
    "create_graph(77,233)"
   ]
  },
  {
   "cell_type": "code",
   "execution_count": 86,
   "id": "7c0dd0a2",
   "metadata": {},
   "outputs": [
    {
     "data": {
      "image/png": "[encoded data removed]",
      "text/plain": [
       "<Figure size 432x288 with 2 Axes>"
      ]
     },
     "metadata": {
      "needs_background": "light"
     },
     "output_type": "display_data"
    }
   ],
   "source": [
    "create_graph(86,155)"
   ]
  },
  {
   "cell_type": "code",
   "execution_count": 87,
   "id": "4c2b29a7",
   "metadata": {},
   "outputs": [
    {
     "data": {
      "image/png": "[encoded data removed]",
      "text/plain": [
       "<Figure size 432x288 with 2 Axes>"
      ]
     },
     "metadata": {
      "needs_background": "light"
     },
     "output_type": "display_data"
    }
   ],
   "source": [
    "create_graph(88,178)"
   ]
  },
  {
   "cell_type": "markdown",
   "id": "ba95bf63",
   "metadata": {},
   "source": [
    "We can see that all these stores indeed have similar trends! We can now go on to see assess if the trial stores have shown any improvement."
   ]
  },
  {
   "cell_type": "markdown",
   "id": "22c80ead",
   "metadata": {},
   "source": [
    "## Part 2- Assessment of trial ##"
   ]
  },
  {
   "cell_type": "markdown",
   "id": "f966ba56",
   "metadata": {},
   "source": [
    "## Assessing monthly sales ##"
   ]
  },
  {
   "cell_type": "code",
   "execution_count": 143,
   "id": "691a410a",
   "metadata": {},
   "outputs": [],
   "source": [
    "#scale up monthly_sale_233 \n",
    "monthly_sale_77,monthly_customer_77,monthly_transaction_77=find_monthly_numbers(77,QVI_data_control)\n",
    "monthly_sale_233,monthly_customer_233,monthly_transaction_233=find_monthly_numbers(233,QVI_data_control)\n",
    "scaling_77_233=monthly_sale_77.sum()/monthly_sale_233.sum()"
   ]
  },
  {
   "cell_type": "code",
   "execution_count": 144,
   "id": "fa67fa31",
   "metadata": {},
   "outputs": [],
   "source": [
    "scaled_233_pre_trial=monthly_sale_233*scaling_77_233"
   ]
  },
  {
   "cell_type": "code",
   "execution_count": 145,
   "id": "d11dac7a",
   "metadata": {},
   "outputs": [],
   "source": [
    "#scale up monthly_sale_155 \n",
    "monthly_sale_86,monthly_customer_86,monthly_transaction_86=find_monthly_numbers(86,QVI_data_control)\n",
    "monthly_sale_155,monthly_customer_155,monthly_transaction_155=find_monthly_numbers(155,QVI_data_control)\n",
    "\n",
    "scaling_86_155=monthly_sale_86.sum()/monthly_sale_155.sum()"
   ]
  },
  {
   "cell_type": "code",
   "execution_count": 146,
   "id": "adf5711a",
   "metadata": {},
   "outputs": [],
   "source": [
    "scaled_155_pre_trial=monthly_sale_155*scaling_86_155"
   ]
  },
  {
   "cell_type": "code",
   "execution_count": 147,
   "id": "bed09b19",
   "metadata": {},
   "outputs": [],
   "source": [
    "#scale up monthly_sale_178 \n",
    "monthly_sale_88,monthly_customer_88,monthly_transaction_88=find_monthly_numbers(88,QVI_data_control)\n",
    "monthly_sale_178,monthly_customer_178,monthly_transaction_178=find_monthly_numbers(178,QVI_data_control)\n",
    "scaling_88_178=monthly_sale_88.sum()/monthly_sale_178.sum()"
   ]
  },
  {
   "cell_type": "code",
   "execution_count": 148,
   "id": "cb3e6f64",
   "metadata": {},
   "outputs": [],
   "source": [
    "scaled_178_pre_trial=monthly_sale_178*scaling_88_178"
   ]
  },
  {
   "cell_type": "code",
   "execution_count": 149,
   "id": "211677ee",
   "metadata": {},
   "outputs": [],
   "source": [
    "QVI_data_assess=QVI_data.loc[(QVI_data['year_filter']>2019)|(QVI_data['year_filter']==2019)& (QVI_data['month_filter']>2)]\n",
    "QVI_data_assess\n",
    "#let's find the transaction trends for within the trial period\n",
    "#\n",
    "trial_monthly_sale_77,trial_monthly_customer_77,trial_monthly_transaction_77=find_monthly_numbers(77,QVI_data_assess)\n",
    "trial_monthly_sale_233,trial_monthly_customer_233,trial_monthly_transaction_233=find_monthly_numbers(233,QVI_data_assess)\n",
    "scaled_control_trialperiod_233=trial_monthly_sale_233*scaling_77_233\n",
    "#\n",
    "trial_monthly_sale_86,trial_monthly_customer_86,trial_monthly_transaction_86=find_monthly_numbers(86,QVI_data_assess)\n",
    "trial_monthly_sale_155,trial_monthly_customer_155,trial_monthly_transaction_155=find_monthly_numbers(155,QVI_data_assess)\n",
    "scaled_control_trialperiod_155=trial_monthly_sale_155*scaling_86_155\n",
    "\n",
    "#\n",
    "trial_monthly_sale_88,trial_monthly_customer_88,trial_monthly_transaction_88=find_monthly_numbers(88,QVI_data_assess)\n",
    "trial_monthly_sale_178,trial_monthly_customer_178,trial_monthly_transaction_178=find_monthly_numbers(178,QVI_data_assess)\n",
    "scaled_control_trialperiod_178=trial_monthly_sale_178*scaling_88_178"
   ]
  },
  {
   "cell_type": "markdown",
   "id": "8dfcdbba",
   "metadata": {},
   "source": [
    "Now we have our scaled up sales information for our control stores and trial store information. Let's see the percentage difference between them."
   ]
  },
  {
   "cell_type": "code",
   "execution_count": 160,
   "id": "6713d3de",
   "metadata": {},
   "outputs": [
    {
     "data": {
      "text/html": [
       "<div>\n",
       "<style scoped>\n",
       "    .dataframe tbody tr th:only-of-type {\n",
       "        vertical-align: middle;\n",
       "    }\n",
       "\n",
       "    .dataframe tbody tr th {\n",
       "        vertical-align: top;\n",
       "    }\n",
       "\n",
       "    .dataframe thead th {\n",
       "        text-align: right;\n",
       "    }\n",
       "</style>\n",
       "<table border=\"1\" class=\"dataframe\">\n",
       "  <thead>\n",
       "    <tr style=\"text-align: right;\">\n",
       "      <th></th>\n",
       "      <th>TOT_SALES</th>\n",
       "    </tr>\n",
       "    <tr>\n",
       "      <th>yyyymm</th>\n",
       "      <th></th>\n",
       "    </tr>\n",
       "  </thead>\n",
       "  <tbody>\n",
       "    <tr>\n",
       "      <th>20193</th>\n",
       "      <td>36.652103</td>\n",
       "    </tr>\n",
       "    <tr>\n",
       "      <th>20194</th>\n",
       "      <td>62.307960</td>\n",
       "    </tr>\n",
       "    <tr>\n",
       "      <th>20195</th>\n",
       "      <td>-15.100339</td>\n",
       "    </tr>\n",
       "    <tr>\n",
       "      <th>20196</th>\n",
       "      <td>17.010288</td>\n",
       "    </tr>\n",
       "  </tbody>\n",
       "</table>\n",
       "</div>"
      ],
      "text/plain": [
       "        TOT_SALES\n",
       "yyyymm           \n",
       "20193   36.652103\n",
       "20194   62.307960\n",
       "20195  -15.100339\n",
       "20196   17.010288"
      ]
     },
     "execution_count": 160,
     "metadata": {},
     "output_type": "execute_result"
    }
   ],
   "source": [
    "#Let's calculate it for store 77 and 233\n",
    "a=trial_monthly_sale_77\n",
    "b=scaled_control_trialperiod_233\n",
    "percentage_difference_77_233 = (a - b) / b * 100\n",
    "percentage_difference_77_233"
   ]
  },
  {
   "cell_type": "code",
   "execution_count": 161,
   "id": "c9de008e",
   "metadata": {},
   "outputs": [
    {
     "data": {
      "text/html": [
       "<div>\n",
       "<style scoped>\n",
       "    .dataframe tbody tr th:only-of-type {\n",
       "        vertical-align: middle;\n",
       "    }\n",
       "\n",
       "    .dataframe tbody tr th {\n",
       "        vertical-align: top;\n",
       "    }\n",
       "\n",
       "    .dataframe thead th {\n",
       "        text-align: right;\n",
       "    }\n",
       "</style>\n",
       "<table border=\"1\" class=\"dataframe\">\n",
       "  <thead>\n",
       "    <tr style=\"text-align: right;\">\n",
       "      <th></th>\n",
       "      <th>TOT_SALES</th>\n",
       "    </tr>\n",
       "    <tr>\n",
       "      <th>yyyymm</th>\n",
       "      <th></th>\n",
       "    </tr>\n",
       "  </thead>\n",
       "  <tbody>\n",
       "    <tr>\n",
       "      <th>20193</th>\n",
       "      <td>31.586973</td>\n",
       "    </tr>\n",
       "    <tr>\n",
       "      <th>20194</th>\n",
       "      <td>3.525250</td>\n",
       "    </tr>\n",
       "    <tr>\n",
       "      <th>20195</th>\n",
       "      <td>-0.661803</td>\n",
       "    </tr>\n",
       "    <tr>\n",
       "      <th>20196</th>\n",
       "      <td>0.776891</td>\n",
       "    </tr>\n",
       "  </tbody>\n",
       "</table>\n",
       "</div>"
      ],
      "text/plain": [
       "        TOT_SALES\n",
       "yyyymm           \n",
       "20193   31.586973\n",
       "20194    3.525250\n",
       "20195   -0.661803\n",
       "20196    0.776891"
      ]
     },
     "execution_count": 161,
     "metadata": {},
     "output_type": "execute_result"
    }
   ],
   "source": [
    "#Let's calculate it for store 86 and 155\n",
    "a=trial_monthly_sale_86\n",
    "b=scaled_control_trialperiod_155\n",
    "percentage_difference_86_155 = (a - b) / b * 100\n",
    "percentage_difference_86_155"
   ]
  },
  {
   "cell_type": "code",
   "execution_count": 162,
   "id": "1268fc98",
   "metadata": {},
   "outputs": [
    {
     "data": {
      "text/html": [
       "<div>\n",
       "<style scoped>\n",
       "    .dataframe tbody tr th:only-of-type {\n",
       "        vertical-align: middle;\n",
       "    }\n",
       "\n",
       "    .dataframe tbody tr th {\n",
       "        vertical-align: top;\n",
       "    }\n",
       "\n",
       "    .dataframe thead th {\n",
       "        text-align: right;\n",
       "    }\n",
       "</style>\n",
       "<table border=\"1\" class=\"dataframe\">\n",
       "  <thead>\n",
       "    <tr style=\"text-align: right;\">\n",
       "      <th></th>\n",
       "      <th>TOT_SALES</th>\n",
       "    </tr>\n",
       "    <tr>\n",
       "      <th>yyyymm</th>\n",
       "      <th></th>\n",
       "    </tr>\n",
       "  </thead>\n",
       "  <tbody>\n",
       "    <tr>\n",
       "      <th>20193</th>\n",
       "      <td>3.149648</td>\n",
       "    </tr>\n",
       "    <tr>\n",
       "      <th>20194</th>\n",
       "      <td>-5.275010</td>\n",
       "    </tr>\n",
       "    <tr>\n",
       "      <th>20195</th>\n",
       "      <td>2.750694</td>\n",
       "    </tr>\n",
       "    <tr>\n",
       "      <th>20196</th>\n",
       "      <td>30.743498</td>\n",
       "    </tr>\n",
       "  </tbody>\n",
       "</table>\n",
       "</div>"
      ],
      "text/plain": [
       "        TOT_SALES\n",
       "yyyymm           \n",
       "20193    3.149648\n",
       "20194   -5.275010\n",
       "20195    2.750694\n",
       "20196   30.743498"
      ]
     },
     "execution_count": 162,
     "metadata": {},
     "output_type": "execute_result"
    }
   ],
   "source": [
    "#Let's calculate it for store 88 and 178\n",
    "a=trial_monthly_sale_88\n",
    "b=scaled_control_trialperiod_178\n",
    "percentage_difference_88_178 = (a - b) / b * 100\n",
    "percentage_difference_88_178"
   ]
  },
  {
   "cell_type": "markdown",
   "id": "43ce575d",
   "metadata": {},
   "source": [
    "We can see that when we compare the trial period data with scaled control trial period data there is generally a positive percentage difference meaning more sales. But are these differences significant?"
   ]
  },
  {
   "cell_type": "markdown",
   "id": "68f246f1",
   "metadata": {},
   "source": [
    "Let's compare the pre-trial scaled control data to trial data"
   ]
  },
  {
   "cell_type": "code",
   "execution_count": 164,
   "id": "92a4667f",
   "metadata": {},
   "outputs": [
    {
     "name": "stdout",
     "output_type": "stream",
     "text": [
      "t-statistic_77_233:  [-1.29908719]\n",
      "p-value_77_233:  [0.22620618]\n"
     ]
    }
   ],
   "source": [
    "t_statistic_77_233, p_value_77_233 = ttest_ind(scaled_233_pre_trial, trial_monthly_sale_77)\n",
    "# Print t-statistic and p-value\n",
    "print(\"t-statistic_77_233: \", t_statistic_77_233)\n",
    "print(\"p-value_77_233: \", p_value_77_233)"
   ]
  },
  {
   "cell_type": "code",
   "execution_count": 165,
   "id": "d13000ad",
   "metadata": {},
   "outputs": [
    {
     "name": "stdout",
     "output_type": "stream",
     "text": [
      "t-statistic_86_155:  [-0.53526808]\n",
      "p-value_86_155:  [0.60543595]\n"
     ]
    }
   ],
   "source": [
    "t_statistic_86_155, p_value_86_155 = ttest_ind(scaled_155_pre_trial, trial_monthly_sale_86)\n",
    "# Print t-statistic and p-value\n",
    "print(\"t-statistic_86_155: \", t_statistic_86_155)\n",
    "print(\"p-value_86_155: \", p_value_86_155)"
   ]
  },
  {
   "cell_type": "code",
   "execution_count": 166,
   "id": "c02b8111",
   "metadata": {},
   "outputs": [
    {
     "name": "stdout",
     "output_type": "stream",
     "text": [
      "t-statistic_88_178:  [-1.22680962]\n",
      "p-value_88_178:  [0.251019]\n"
     ]
    }
   ],
   "source": [
    "t_statistic_88_178, p_value_88_178 = ttest_ind(scaled_178_pre_trial, trial_monthly_sale_88)\n",
    "# Print t-statistic and p-value\n",
    "print(\"t-statistic_88_178: \", t_statistic_88_178)\n",
    "print(\"p-value_88_178: \", p_value_88_178)"
   ]
  },
  {
   "cell_type": "markdown",
   "id": "ddc52a2e",
   "metadata": {},
   "source": [
    "Our p-value is too high in all cases. We can say that we couldn't find a significant difference between the pre-trial and trial periods."
   ]
  },
  {
   "cell_type": "markdown",
   "id": "65241cb3",
   "metadata": {},
   "source": [
    "## Assessing Number of Customers ##"
   ]
  },
  {
   "cell_type": "code",
   "execution_count": 156,
   "id": "7935d7ce",
   "metadata": {},
   "outputs": [],
   "source": [
    "#trial period customer numbers -->trial_monthly_customer_77 \n",
    "#pre-trial-trial-store-data --> monthly_customer_77\n",
    "#pre-trial-control-store-data --> monthly_customer_233\n",
    "# finding the scaling value --> \n",
    "scaling_77_233_customer=monthly_customer_77.sum()/monthly_customer_233.sum()\n",
    "scaled_233_pre_trial_customer=monthly_customer_233*scaling_77_233_customer\n",
    "#scaled_233_pre_trial_customer"
   ]
  },
  {
   "cell_type": "code",
   "execution_count": 157,
   "id": "d8bde194",
   "metadata": {},
   "outputs": [],
   "source": [
    "#same for 86, 155\n",
    "scaling_86_155_customer=monthly_customer_86.sum()/monthly_customer_155.sum()\n",
    "scaled_155_pre_trial_customer=monthly_customer_155*scaling_86_155_customer\n",
    "#scaled_155_pre_trial_customer"
   ]
  },
  {
   "cell_type": "code",
   "execution_count": 159,
   "id": "75f621fa",
   "metadata": {},
   "outputs": [],
   "source": [
    "#same for 88, 178 \n",
    "scaling_88_178_customer=monthly_customer_88.sum()/monthly_customer_178.sum()\n",
    "scaled_178_pre_trial_customer=monthly_customer_178*scaling_88_178_customer\n",
    "#scaled_178_pre_trial_customer"
   ]
  },
  {
   "cell_type": "markdown",
   "id": "03d25516",
   "metadata": {},
   "source": [
    "Let's see if the pre-trial control customer numbers are significantly different than the trial period numbers for the trial stores."
   ]
  },
  {
   "cell_type": "code",
   "execution_count": 167,
   "id": "995e93e1",
   "metadata": {},
   "outputs": [
    {
     "name": "stdout",
     "output_type": "stream",
     "text": [
      "t-statistic_77_233:  [-1.42424118]\n",
      "p-value_77_233:  [0.18811216]\n"
     ]
    }
   ],
   "source": [
    "t_statistic_77_233_cust, p_value_77_233_cust = ttest_ind(scaled_233_pre_trial_customer, trial_monthly_customer_77)\n",
    "# Print t-statistic and p-value\n",
    "print(\"t-statistic_77_233: \", t_statistic_77_233_cust)\n",
    "print(\"p-value_77_233: \", p_value_77_233_cust)"
   ]
  },
  {
   "cell_type": "code",
   "execution_count": 168,
   "id": "c1c8c672",
   "metadata": {},
   "outputs": [
    {
     "name": "stdout",
     "output_type": "stream",
     "text": [
      "t-statistic_86_155:  [-1.56510938]\n",
      "p-value_86_155:  [0.15199727]\n"
     ]
    }
   ],
   "source": [
    "t_statistic_86_155_cust, p_value_86_155_cust = ttest_ind(scaled_155_pre_trial_customer, trial_monthly_customer_86)\n",
    "# Print t-statistic and p-value\n",
    "print(\"t-statistic_86_155: \", t_statistic_86_155_cust)\n",
    "print(\"p-value_86_155: \", p_value_86_155_cust)"
   ]
  },
  {
   "cell_type": "code",
   "execution_count": 169,
   "id": "2bd48f61",
   "metadata": {},
   "outputs": [
    {
     "name": "stdout",
     "output_type": "stream",
     "text": [
      "t-statistic_88_178:  [-0.52562499]\n",
      "p-value_88_178:  [0.61185199]\n"
     ]
    }
   ],
   "source": [
    "t_statistic_88_178_cust, p_value_88_178_cust = ttest_ind(scaled_178_pre_trial_customer, trial_monthly_customer_88)\n",
    "# Print t-statistic and p-value\n",
    "print(\"t-statistic_88_178: \", t_statistic_88_178_cust)\n",
    "print(\"p-value_88_178: \", p_value_88_178_cust)"
   ]
  },
  {
   "cell_type": "markdown",
   "id": "e58aa678",
   "metadata": {},
   "source": [
    "We can see that our p-values again are too big. Meaning we couln't find a significant difference."
   ]
  }
 ],
 "metadata": {
  "kernelspec": {
   "display_name": "Python 3",
   "language": "python",
   "name": "python3"
  },
  "language_info": {
   "codemirror_mode": {
    "name": "ipython",
    "version": 3
   },
   "file_extension": ".py",
   "mimetype": "text/x-python",
   "name": "python",
   "nbconvert_exporter": "python",
   "pygments_lexer": "ipython3",
   "version": "3.8.8"
  }
 },
 "nbformat": 4,
 "nbformat_minor": 5
}
