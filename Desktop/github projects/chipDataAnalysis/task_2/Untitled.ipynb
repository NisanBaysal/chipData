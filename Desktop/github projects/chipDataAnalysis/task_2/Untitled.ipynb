{
 "cells": [
  {
   "cell_type": "code",
   "execution_count": 219,
   "id": "05ffd267",
   "metadata": {},
   "outputs": [],
   "source": [
    "import pandas as pd\n",
    "import numpy as np\n",
    "import matplotlib.pyplot as plt\n",
    "import seaborn as sns\n",
    "from scipy.stats import ttest_ind\n",
    "from scipy.stats import t\n",
    "from plotnine import *\n"
   ]
  },
  {
   "cell_type": "code",
   "execution_count": 220,
   "id": "1306347a",
   "metadata": {},
   "outputs": [],
   "source": [
    "missing_values = [\"n/a\", \"na\", \"--\"]\n",
    "combined_df_task2=pd.read_csv(\"files/combined_df_for_task2.csv\",na_values = missing_values)"
   ]
  },
  {
   "cell_type": "code",
   "execution_count": 221,
   "id": "7516c24d",
   "metadata": {},
   "outputs": [],
   "source": [
    "QVI_data=pd.read_csv(\"files/QVI_data.csv\",na_values = missing_values)"
   ]
  },
  {
   "cell_type": "code",
   "execution_count": 222,
   "id": "7d04d847",
   "metadata": {},
   "outputs": [],
   "source": [
    "QVI_data[\"DATE\"]=pd.to_datetime(QVI_data[\"DATE\"])"
   ]
  },
  {
   "cell_type": "code",
   "execution_count": 223,
   "id": "677c3b44",
   "metadata": {},
   "outputs": [],
   "source": [
    "QVI_data['year_filter']=QVI_data['DATE'].dt.year\n",
    "QVI_data['month_filter']=QVI_data['DATE'].dt.month\n",
    "QVI_data['yyyymm']=QVI_data['year_filter'].astype(str)+QVI_data['month_filter'].astype(str).str.zfill(2)"
   ]
  },
  {
   "cell_type": "markdown",
   "id": "d96a867e",
   "metadata": {},
   "source": [
    "## Part 1-Selecting Control Stores  <br>\n",
    "Let's pick the control stores\n",
    "Our trial stores are 77, 86, 88\n",
    "Let's filter out the stores from before 2019 february."
   ]
  },
  {
   "cell_type": "code",
   "execution_count": 225,
   "id": "84aa68f1",
   "metadata": {},
   "outputs": [],
   "source": [
    "QVI_data_pretrial=QVI_data.loc[(QVI_data['year_filter']<2019)|(QVI_data['year_filter']==2019)& (QVI_data['month_filter']<2)]"
   ]
  },
  {
   "cell_type": "markdown",
   "id": "5aa32ae7",
   "metadata": {},
   "source": [
    "What we want to calculate: <br>\n",
    "monthly overall sales for each store <br>\n",
    "monthly number of customers for each store <br>\n",
    "monthly number of transactions per store per customer <br>"
   ]
  },
  {
   "cell_type": "markdown",
   "id": "e3ca7756",
   "metadata": {},
   "source": [
    "Let's calculate these for our trial stores. Let's build a function to do that."
   ]
  },
  {
   "cell_type": "code",
   "execution_count": 226,
   "id": "c5d8280b",
   "metadata": {},
   "outputs": [],
   "source": [
    "#function to get the averages\n",
    "def find_monthly_numbers(storenumber,dataframe_name):\n",
    "    filter=pd.DataFrame(dataframe_name.loc[(dataframe_name['STORE_NBR']==storenumber)])\n",
    "    monthly_sale=pd.DataFrame(filter.groupby(['yyyymm'])['TOT_SALES'].sum())\n",
    "    monthly_customer=pd.DataFrame(filter.groupby(['yyyymm'])['LYLTY_CARD_NBR'].nunique())\n",
    "    monthly_transaction=pd.DataFrame(filter.groupby(['yyyymm','LYLTY_CARD_NBR'])['TOT_SALES'].sum())\n",
    "    return monthly_sale,monthly_customer,monthly_transaction\n",
    "#function to visualise the results\n",
    "def create_graph(dataframe_to_visualise):\n",
    "    fig,ax=plt.subplots()\n",
    "    ax.plot(dataframe_to_visualise.index,dataframe_to_visualise.iloc[:,0])\n",
    "    ax.set_xlabel(dataframe_to_visualise.index.name)\n",
    "    ax.set_ylabel(dataframe_to_visualise.columns[0])"
   ]
  },
  {
   "cell_type": "code",
   "execution_count": 227,
   "id": "f8330bcc",
   "metadata": {
    "scrolled": true
   },
   "outputs": [],
   "source": [
    "x,y,z=find_monthly_numbers(77,QVI_data_pretrial)\n",
    "#create_graph(x)\n",
    "#create_graph(y)\n",
    "x2,y2,z2=find_monthly_numbers(86,QVI_data_pretrial)\n",
    "#create_graph(x2)\n",
    "#create_graph(y2)\n",
    "x3,y3,z3=find_monthly_numbers(88,QVI_data_pretrial)\n",
    "#create_graph(x3)\n",
    "#create_graph(y3)\n"
   ]
  },
  {
   "cell_type": "markdown",
   "id": "fd8080e6",
   "metadata": {},
   "source": [
    "When we visualise the results we can see that monthly number of customers and monthly transactions follow a similar pattern."
   ]
  },
  {
   "cell_type": "markdown",
   "id": "24a9a8d3",
   "metadata": {},
   "source": [
    "Let's calculate\n",
    "monthly overall sales for each store\n",
    "monthly number of customers for each store\n",
    "monthly number of transactions per store per customer\n",
    "monthly chips per customer\n",
    "average price per unit"
   ]
  },
  {
   "cell_type": "code",
   "execution_count": 228,
   "id": "34c42767",
   "metadata": {},
   "outputs": [],
   "source": [
    "#monthly overall sales for each store\n",
    "overall_sales_pretrial=QVI_data_pretrial.groupby(['yyyymm','STORE_NBR'])['TOT_SALES'].sum()\n",
    "overall_sales_pretrial=pd.DataFrame(overall_sales_pretrial)"
   ]
  },
  {
   "cell_type": "code",
   "execution_count": 229,
   "id": "110b890f",
   "metadata": {},
   "outputs": [],
   "source": [
    "overall_sales_pretrial=overall_sales_pretrial.unstack()\n",
    "#overall_sales_pretrial"
   ]
  },
  {
   "cell_type": "code",
   "execution_count": 230,
   "id": "0357fddb",
   "metadata": {},
   "outputs": [
    {
     "data": {
      "text/html": [
       "<div>\n",
       "<style scoped>\n",
       "    .dataframe tbody tr th:only-of-type {\n",
       "        vertical-align: middle;\n",
       "    }\n",
       "\n",
       "    .dataframe tbody tr th {\n",
       "        vertical-align: top;\n",
       "    }\n",
       "\n",
       "    .dataframe thead tr th {\n",
       "        text-align: left;\n",
       "    }\n",
       "\n",
       "    .dataframe thead tr:last-of-type th {\n",
       "        text-align: right;\n",
       "    }\n",
       "</style>\n",
       "<table border=\"1\" class=\"dataframe\">\n",
       "  <thead>\n",
       "    <tr>\n",
       "      <th></th>\n",
       "      <th colspan=\"21\" halign=\"left\">TOT_SALES</th>\n",
       "    </tr>\n",
       "    <tr>\n",
       "      <th>STORE_NBR</th>\n",
       "      <th>1</th>\n",
       "      <th>2</th>\n",
       "      <th>3</th>\n",
       "      <th>4</th>\n",
       "      <th>5</th>\n",
       "      <th>6</th>\n",
       "      <th>7</th>\n",
       "      <th>8</th>\n",
       "      <th>9</th>\n",
       "      <th>10</th>\n",
       "      <th>...</th>\n",
       "      <th>263</th>\n",
       "      <th>264</th>\n",
       "      <th>265</th>\n",
       "      <th>266</th>\n",
       "      <th>267</th>\n",
       "      <th>268</th>\n",
       "      <th>269</th>\n",
       "      <th>270</th>\n",
       "      <th>271</th>\n",
       "      <th>272</th>\n",
       "    </tr>\n",
       "    <tr>\n",
       "      <th>yyyymm</th>\n",
       "      <th></th>\n",
       "      <th></th>\n",
       "      <th></th>\n",
       "      <th></th>\n",
       "      <th></th>\n",
       "      <th></th>\n",
       "      <th></th>\n",
       "      <th></th>\n",
       "      <th></th>\n",
       "      <th></th>\n",
       "      <th></th>\n",
       "      <th></th>\n",
       "      <th></th>\n",
       "      <th></th>\n",
       "      <th></th>\n",
       "      <th></th>\n",
       "      <th></th>\n",
       "      <th></th>\n",
       "      <th></th>\n",
       "      <th></th>\n",
       "      <th></th>\n",
       "    </tr>\n",
       "  </thead>\n",
       "  <tbody>\n",
       "    <tr>\n",
       "      <th>201807</th>\n",
       "      <td>206.9</td>\n",
       "      <td>150.8</td>\n",
       "      <td>1205.70</td>\n",
       "      <td>1399.9</td>\n",
       "      <td>812.0</td>\n",
       "      <td>260.0</td>\n",
       "      <td>1024.7</td>\n",
       "      <td>381.6</td>\n",
       "      <td>289.7</td>\n",
       "      <td>892.00</td>\n",
       "      <td>...</td>\n",
       "      <td>38.7</td>\n",
       "      <td>232.6</td>\n",
       "      <td>247.8</td>\n",
       "      <td>127.3</td>\n",
       "      <td>6.2</td>\n",
       "      <td>224.00</td>\n",
       "      <td>982.0</td>\n",
       "      <td>962.80</td>\n",
       "      <td>956.6</td>\n",
       "      <td>433.10</td>\n",
       "    </tr>\n",
       "    <tr>\n",
       "      <th>201808</th>\n",
       "      <td>176.1</td>\n",
       "      <td>193.8</td>\n",
       "      <td>1079.75</td>\n",
       "      <td>1259.5</td>\n",
       "      <td>745.1</td>\n",
       "      <td>203.2</td>\n",
       "      <td>1119.9</td>\n",
       "      <td>383.0</td>\n",
       "      <td>327.5</td>\n",
       "      <td>878.65</td>\n",
       "      <td>...</td>\n",
       "      <td>28.0</td>\n",
       "      <td>203.3</td>\n",
       "      <td>227.1</td>\n",
       "      <td>154.5</td>\n",
       "      <td>24.9</td>\n",
       "      <td>322.65</td>\n",
       "      <td>835.1</td>\n",
       "      <td>1003.75</td>\n",
       "      <td>683.9</td>\n",
       "      <td>372.85</td>\n",
       "    </tr>\n",
       "    <tr>\n",
       "      <th>201809</th>\n",
       "      <td>278.8</td>\n",
       "      <td>154.4</td>\n",
       "      <td>1021.50</td>\n",
       "      <td>1198.6</td>\n",
       "      <td>896.0</td>\n",
       "      <td>207.7</td>\n",
       "      <td>1147.3</td>\n",
       "      <td>293.0</td>\n",
       "      <td>369.7</td>\n",
       "      <td>945.00</td>\n",
       "      <td>...</td>\n",
       "      <td>21.8</td>\n",
       "      <td>199.5</td>\n",
       "      <td>133.5</td>\n",
       "      <td>139.0</td>\n",
       "      <td>23.3</td>\n",
       "      <td>174.40</td>\n",
       "      <td>886.0</td>\n",
       "      <td>845.40</td>\n",
       "      <td>798.4</td>\n",
       "      <td>304.70</td>\n",
       "    </tr>\n",
       "    <tr>\n",
       "      <th>201810</th>\n",
       "      <td>188.1</td>\n",
       "      <td>167.8</td>\n",
       "      <td>1037.90</td>\n",
       "      <td>1346.4</td>\n",
       "      <td>798.0</td>\n",
       "      <td>292.4</td>\n",
       "      <td>1063.9</td>\n",
       "      <td>422.8</td>\n",
       "      <td>361.0</td>\n",
       "      <td>910.80</td>\n",
       "      <td>...</td>\n",
       "      <td>36.6</td>\n",
       "      <td>170.0</td>\n",
       "      <td>162.9</td>\n",
       "      <td>170.4</td>\n",
       "      <td>14.4</td>\n",
       "      <td>237.60</td>\n",
       "      <td>1078.4</td>\n",
       "      <td>816.40</td>\n",
       "      <td>790.0</td>\n",
       "      <td>430.60</td>\n",
       "    </tr>\n",
       "    <tr>\n",
       "      <th>201811</th>\n",
       "      <td>192.6</td>\n",
       "      <td>162.9</td>\n",
       "      <td>1008.00</td>\n",
       "      <td>1212.0</td>\n",
       "      <td>771.4</td>\n",
       "      <td>255.3</td>\n",
       "      <td>1076.5</td>\n",
       "      <td>349.2</td>\n",
       "      <td>374.4</td>\n",
       "      <td>885.00</td>\n",
       "      <td>...</td>\n",
       "      <td>15.8</td>\n",
       "      <td>184.5</td>\n",
       "      <td>282.8</td>\n",
       "      <td>144.2</td>\n",
       "      <td>40.3</td>\n",
       "      <td>225.40</td>\n",
       "      <td>967.2</td>\n",
       "      <td>965.00</td>\n",
       "      <td>886.4</td>\n",
       "      <td>376.20</td>\n",
       "    </tr>\n",
       "    <tr>\n",
       "      <th>201812</th>\n",
       "      <td>189.6</td>\n",
       "      <td>136.0</td>\n",
       "      <td>1121.60</td>\n",
       "      <td>1185.6</td>\n",
       "      <td>879.2</td>\n",
       "      <td>209.1</td>\n",
       "      <td>906.1</td>\n",
       "      <td>356.4</td>\n",
       "      <td>382.6</td>\n",
       "      <td>936.60</td>\n",
       "      <td>...</td>\n",
       "      <td>24.6</td>\n",
       "      <td>288.5</td>\n",
       "      <td>205.3</td>\n",
       "      <td>157.8</td>\n",
       "      <td>15.4</td>\n",
       "      <td>207.30</td>\n",
       "      <td>935.4</td>\n",
       "      <td>1038.00</td>\n",
       "      <td>807.4</td>\n",
       "      <td>403.90</td>\n",
       "    </tr>\n",
       "    <tr>\n",
       "      <th>201901</th>\n",
       "      <td>154.8</td>\n",
       "      <td>162.8</td>\n",
       "      <td>1051.70</td>\n",
       "      <td>1525.0</td>\n",
       "      <td>838.0</td>\n",
       "      <td>191.1</td>\n",
       "      <td>975.1</td>\n",
       "      <td>445.0</td>\n",
       "      <td>399.4</td>\n",
       "      <td>878.60</td>\n",
       "      <td>...</td>\n",
       "      <td>21.3</td>\n",
       "      <td>247.3</td>\n",
       "      <td>176.7</td>\n",
       "      <td>148.7</td>\n",
       "      <td>34.4</td>\n",
       "      <td>157.70</td>\n",
       "      <td>980.4</td>\n",
       "      <td>1066.60</td>\n",
       "      <td>842.4</td>\n",
       "      <td>423.00</td>\n",
       "    </tr>\n",
       "  </tbody>\n",
       "</table>\n",
       "<p>7 rows × 271 columns</p>\n",
       "</div>"
      ],
      "text/plain": [
       "          TOT_SALES                                                        \n",
       "STORE_NBR       1      2        3       4      5      6       7      8     \n",
       "yyyymm                                                                     \n",
       "201807        206.9  150.8  1205.70  1399.9  812.0  260.0  1024.7  381.6  \\\n",
       "201808        176.1  193.8  1079.75  1259.5  745.1  203.2  1119.9  383.0   \n",
       "201809        278.8  154.4  1021.50  1198.6  896.0  207.7  1147.3  293.0   \n",
       "201810        188.1  167.8  1037.90  1346.4  798.0  292.4  1063.9  422.8   \n",
       "201811        192.6  162.9  1008.00  1212.0  771.4  255.3  1076.5  349.2   \n",
       "201812        189.6  136.0  1121.60  1185.6  879.2  209.1   906.1  356.4   \n",
       "201901        154.8  162.8  1051.70  1525.0  838.0  191.1   975.1  445.0   \n",
       "\n",
       "                          ...                                            \n",
       "STORE_NBR    9       10   ...   263    264    265    266   267     268   \n",
       "yyyymm                    ...                                            \n",
       "201807     289.7  892.00  ...  38.7  232.6  247.8  127.3   6.2  224.00  \\\n",
       "201808     327.5  878.65  ...  28.0  203.3  227.1  154.5  24.9  322.65   \n",
       "201809     369.7  945.00  ...  21.8  199.5  133.5  139.0  23.3  174.40   \n",
       "201810     361.0  910.80  ...  36.6  170.0  162.9  170.4  14.4  237.60   \n",
       "201811     374.4  885.00  ...  15.8  184.5  282.8  144.2  40.3  225.40   \n",
       "201812     382.6  936.60  ...  24.6  288.5  205.3  157.8  15.4  207.30   \n",
       "201901     399.4  878.60  ...  21.3  247.3  176.7  148.7  34.4  157.70   \n",
       "\n",
       "                                           \n",
       "STORE_NBR     269      270    271     272  \n",
       "yyyymm                                     \n",
       "201807      982.0   962.80  956.6  433.10  \n",
       "201808      835.1  1003.75  683.9  372.85  \n",
       "201809      886.0   845.40  798.4  304.70  \n",
       "201810     1078.4   816.40  790.0  430.60  \n",
       "201811      967.2   965.00  886.4  376.20  \n",
       "201812      935.4  1038.00  807.4  403.90  \n",
       "201901      980.4  1066.60  842.4  423.00  \n",
       "\n",
       "[7 rows x 271 columns]"
      ]
     },
     "execution_count": 230,
     "metadata": {},
     "output_type": "execute_result"
    }
   ],
   "source": [
    "overall_sales_pretrial"
   ]
  },
  {
   "cell_type": "markdown",
   "id": "2cc11e66",
   "metadata": {},
   "source": [
    "**We are looking for control stores for 77,86 and 88. Let's create a function that finds the correlation between the given store and all other stores, and picks the stores above a certain correlation.**"
   ]
  },
  {
   "cell_type": "code",
   "execution_count": 231,
   "id": "d61f06ab",
   "metadata": {},
   "outputs": [],
   "source": [
    "def sales_correlation(trial_store,threshold):\n",
    "    x = overall_sales_pretrial.corrwith(overall_sales_pretrial.iloc[:, (trial_store-1)])\n",
    "    x=x.unstack().transpose()\n",
    "    x=pd.DataFrame(x)\n",
    "    x = x.loc[:, (x != 0).any(axis=0)]\n",
    "    x = x.rename(columns={x.columns[0]: 'columnname'})\n",
    "    x.index.name = 'index'\n",
    "    x=x[x['columnname']>threshold]\n",
    "    return x\n",
    "    #sns.scatterplot(data=x)\n"
   ]
  },
  {
   "cell_type": "markdown",
   "id": "40b558e5",
   "metadata": {},
   "source": [
    "Now we can easily see the correlated stores"
   ]
  },
  {
   "cell_type": "code",
   "execution_count": 233,
   "id": "ab1ffb32",
   "metadata": {},
   "outputs": [
    {
     "name": "stderr",
     "output_type": "stream",
     "text": [
      "/Users/nisanbaysal/opt/anaconda3/lib/python3.8/site-packages/numpy/lib/function_base.py:2821: RuntimeWarning: Degrees of freedom <= 0 for slice\n",
      "/Users/nisanbaysal/opt/anaconda3/lib/python3.8/site-packages/numpy/lib/function_base.py:2680: RuntimeWarning: divide by zero encountered in true_divide\n"
     ]
    },
    {
     "data": {
      "text/html": [
       "<div>\n",
       "<style scoped>\n",
       "    .dataframe tbody tr th:only-of-type {\n",
       "        vertical-align: middle;\n",
       "    }\n",
       "\n",
       "    .dataframe tbody tr th {\n",
       "        vertical-align: top;\n",
       "    }\n",
       "\n",
       "    .dataframe thead th {\n",
       "        text-align: right;\n",
       "    }\n",
       "</style>\n",
       "<table border=\"1\" class=\"dataframe\">\n",
       "  <thead>\n",
       "    <tr style=\"text-align: right;\">\n",
       "      <th></th>\n",
       "      <th>columnname</th>\n",
       "    </tr>\n",
       "    <tr>\n",
       "      <th>index</th>\n",
       "      <th></th>\n",
       "    </tr>\n",
       "  </thead>\n",
       "  <tbody>\n",
       "    <tr>\n",
       "      <th>3</th>\n",
       "      <td>0.806644</td>\n",
       "    </tr>\n",
       "    <tr>\n",
       "      <th>11</th>\n",
       "      <td>1.000000</td>\n",
       "    </tr>\n",
       "    <tr>\n",
       "      <th>17</th>\n",
       "      <td>0.842668</td>\n",
       "    </tr>\n",
       "    <tr>\n",
       "      <th>31</th>\n",
       "      <td>1.000000</td>\n",
       "    </tr>\n",
       "    <tr>\n",
       "      <th>71</th>\n",
       "      <td>0.914106</td>\n",
       "    </tr>\n",
       "    <tr>\n",
       "      <th>77</th>\n",
       "      <td>1.000000</td>\n",
       "    </tr>\n",
       "    <tr>\n",
       "      <th>119</th>\n",
       "      <td>0.867664</td>\n",
       "    </tr>\n",
       "    <tr>\n",
       "      <th>233</th>\n",
       "      <td>0.903774</td>\n",
       "    </tr>\n",
       "  </tbody>\n",
       "</table>\n",
       "</div>"
      ],
      "text/plain": [
       "       columnname\n",
       "index            \n",
       "3        0.806644\n",
       "11       1.000000\n",
       "17       0.842668\n",
       "31       1.000000\n",
       "71       0.914106\n",
       "77       1.000000\n",
       "119      0.867664\n",
       "233      0.903774"
      ]
     },
     "execution_count": 233,
     "metadata": {},
     "output_type": "execute_result"
    }
   ],
   "source": [
    "sales_correlation(77,0.8)"
   ]
  },
  {
   "cell_type": "code",
   "execution_count": 234,
   "id": "9fe0e6ab",
   "metadata": {},
   "outputs": [
    {
     "name": "stderr",
     "output_type": "stream",
     "text": [
      "/Users/nisanbaysal/opt/anaconda3/lib/python3.8/site-packages/numpy/lib/function_base.py:2821: RuntimeWarning: Degrees of freedom <= 0 for slice\n",
      "/Users/nisanbaysal/opt/anaconda3/lib/python3.8/site-packages/numpy/lib/function_base.py:2680: RuntimeWarning: divide by zero encountered in true_divide\n"
     ]
    },
    {
     "data": {
      "text/html": [
       "<div>\n",
       "<style scoped>\n",
       "    .dataframe tbody tr th:only-of-type {\n",
       "        vertical-align: middle;\n",
       "    }\n",
       "\n",
       "    .dataframe tbody tr th {\n",
       "        vertical-align: top;\n",
       "    }\n",
       "\n",
       "    .dataframe thead th {\n",
       "        text-align: right;\n",
       "    }\n",
       "</style>\n",
       "<table border=\"1\" class=\"dataframe\">\n",
       "  <thead>\n",
       "    <tr style=\"text-align: right;\">\n",
       "      <th></th>\n",
       "      <th>columnname</th>\n",
       "    </tr>\n",
       "    <tr>\n",
       "      <th>index</th>\n",
       "      <th></th>\n",
       "    </tr>\n",
       "  </thead>\n",
       "  <tbody>\n",
       "    <tr>\n",
       "      <th>31</th>\n",
       "      <td>1.000000</td>\n",
       "    </tr>\n",
       "    <tr>\n",
       "      <th>86</th>\n",
       "      <td>1.000000</td>\n",
       "    </tr>\n",
       "    <tr>\n",
       "      <th>132</th>\n",
       "      <td>0.846517</td>\n",
       "    </tr>\n",
       "    <tr>\n",
       "      <th>155</th>\n",
       "      <td>0.877882</td>\n",
       "    </tr>\n",
       "    <tr>\n",
       "      <th>240</th>\n",
       "      <td>0.825066</td>\n",
       "    </tr>\n",
       "  </tbody>\n",
       "</table>\n",
       "</div>"
      ],
      "text/plain": [
       "       columnname\n",
       "index            \n",
       "31       1.000000\n",
       "86       1.000000\n",
       "132      0.846517\n",
       "155      0.877882\n",
       "240      0.825066"
      ]
     },
     "execution_count": 234,
     "metadata": {},
     "output_type": "execute_result"
    }
   ],
   "source": [
    "sales_correlation(86,0.8)"
   ]
  },
  {
   "cell_type": "code",
   "execution_count": 235,
   "id": "4dd20aae",
   "metadata": {},
   "outputs": [
    {
     "name": "stderr",
     "output_type": "stream",
     "text": [
      "/Users/nisanbaysal/opt/anaconda3/lib/python3.8/site-packages/numpy/lib/function_base.py:2821: RuntimeWarning: Degrees of freedom <= 0 for slice\n",
      "/Users/nisanbaysal/opt/anaconda3/lib/python3.8/site-packages/numpy/lib/function_base.py:2680: RuntimeWarning: divide by zero encountered in true_divide\n"
     ]
    },
    {
     "data": {
      "text/html": [
       "<div>\n",
       "<style scoped>\n",
       "    .dataframe tbody tr th:only-of-type {\n",
       "        vertical-align: middle;\n",
       "    }\n",
       "\n",
       "    .dataframe tbody tr th {\n",
       "        vertical-align: top;\n",
       "    }\n",
       "\n",
       "    .dataframe thead th {\n",
       "        text-align: right;\n",
       "    }\n",
       "</style>\n",
       "<table border=\"1\" class=\"dataframe\">\n",
       "  <thead>\n",
       "    <tr style=\"text-align: right;\">\n",
       "      <th></th>\n",
       "      <th>columnname</th>\n",
       "    </tr>\n",
       "    <tr>\n",
       "      <th>index</th>\n",
       "      <th></th>\n",
       "    </tr>\n",
       "  </thead>\n",
       "  <tbody>\n",
       "    <tr>\n",
       "      <th>1</th>\n",
       "      <td>0.813636</td>\n",
       "    </tr>\n",
       "    <tr>\n",
       "      <th>88</th>\n",
       "      <td>1.000000</td>\n",
       "    </tr>\n",
       "    <tr>\n",
       "      <th>134</th>\n",
       "      <td>0.864293</td>\n",
       "    </tr>\n",
       "    <tr>\n",
       "      <th>159</th>\n",
       "      <td>0.903186</td>\n",
       "    </tr>\n",
       "    <tr>\n",
       "      <th>204</th>\n",
       "      <td>0.885774</td>\n",
       "    </tr>\n",
       "    <tr>\n",
       "      <th>253</th>\n",
       "      <td>0.811838</td>\n",
       "    </tr>\n",
       "  </tbody>\n",
       "</table>\n",
       "</div>"
      ],
      "text/plain": [
       "       columnname\n",
       "index            \n",
       "1        0.813636\n",
       "88       1.000000\n",
       "134      0.864293\n",
       "159      0.903186\n",
       "204      0.885774\n",
       "253      0.811838"
      ]
     },
     "execution_count": 235,
     "metadata": {},
     "output_type": "execute_result"
    }
   ],
   "source": [
    "sales_correlation(88,0.8)"
   ]
  },
  {
   "cell_type": "code",
   "execution_count": 236,
   "id": "98b34dd2",
   "metadata": {},
   "outputs": [],
   "source": [
    "#monthly number of customer for each store\n",
    "customer_number_pretrial=QVI_data_pretrial.groupby(['yyyymm','STORE_NBR'])['LYLTY_CARD_NBR'].nunique()\n",
    "customer_number_pretrial=pd.DataFrame(customer_number_pretrial)"
   ]
  },
  {
   "cell_type": "code",
   "execution_count": 237,
   "id": "07831ddc",
   "metadata": {},
   "outputs": [],
   "source": [
    "#customer_number_pretrial=customer_number_pretrial.unstack()\n",
    "def customer_number_correlation(trial_store, threshold):\n",
    "    y1=customer_number_pretrial.unstack()\n",
    "    y = y1.corrwith(y1.iloc[:, (trial_store-1)])\n",
    "    y=y.unstack().transpose()\n",
    "    y = y.loc[:, (y != 0).any(axis=0)]\n",
    "    y=pd.DataFrame(y)\n",
    "    y.index.name = 'index'\n",
    "    y = y.rename(columns={y.columns[0]: 'columnname'})\n",
    "    y=y[y['columnname']>threshold]\n",
    "    return y\n"
   ]
  },
  {
   "cell_type": "code",
   "execution_count": 238,
   "id": "60861e4c",
   "metadata": {},
   "outputs": [
    {
     "name": "stderr",
     "output_type": "stream",
     "text": [
      "/Users/nisanbaysal/opt/anaconda3/lib/python3.8/site-packages/numpy/lib/function_base.py:2821: RuntimeWarning: Degrees of freedom <= 0 for slice\n",
      "/Users/nisanbaysal/opt/anaconda3/lib/python3.8/site-packages/numpy/lib/function_base.py:2680: RuntimeWarning: divide by zero encountered in true_divide\n"
     ]
    },
    {
     "data": {
      "text/html": [
       "<div>\n",
       "<style scoped>\n",
       "    .dataframe tbody tr th:only-of-type {\n",
       "        vertical-align: middle;\n",
       "    }\n",
       "\n",
       "    .dataframe tbody tr th {\n",
       "        vertical-align: top;\n",
       "    }\n",
       "\n",
       "    .dataframe thead th {\n",
       "        text-align: right;\n",
       "    }\n",
       "</style>\n",
       "<table border=\"1\" class=\"dataframe\">\n",
       "  <thead>\n",
       "    <tr style=\"text-align: right;\">\n",
       "      <th></th>\n",
       "      <th>columnname</th>\n",
       "    </tr>\n",
       "    <tr>\n",
       "      <th>index</th>\n",
       "      <th></th>\n",
       "    </tr>\n",
       "  </thead>\n",
       "  <tbody>\n",
       "    <tr>\n",
       "      <th>3</th>\n",
       "      <td>0.834207</td>\n",
       "    </tr>\n",
       "    <tr>\n",
       "      <th>41</th>\n",
       "      <td>0.844219</td>\n",
       "    </tr>\n",
       "    <tr>\n",
       "      <th>77</th>\n",
       "      <td>1.000000</td>\n",
       "    </tr>\n",
       "    <tr>\n",
       "      <th>84</th>\n",
       "      <td>0.858571</td>\n",
       "    </tr>\n",
       "    <tr>\n",
       "      <th>113</th>\n",
       "      <td>0.901348</td>\n",
       "    </tr>\n",
       "    <tr>\n",
       "      <th>119</th>\n",
       "      <td>0.983267</td>\n",
       "    </tr>\n",
       "    <tr>\n",
       "      <th>233</th>\n",
       "      <td>0.990358</td>\n",
       "    </tr>\n",
       "    <tr>\n",
       "      <th>254</th>\n",
       "      <td>0.916208</td>\n",
       "    </tr>\n",
       "  </tbody>\n",
       "</table>\n",
       "</div>"
      ],
      "text/plain": [
       "       columnname\n",
       "index            \n",
       "3        0.834207\n",
       "41       0.844219\n",
       "77       1.000000\n",
       "84       0.858571\n",
       "113      0.901348\n",
       "119      0.983267\n",
       "233      0.990358\n",
       "254      0.916208"
      ]
     },
     "execution_count": 238,
     "metadata": {},
     "output_type": "execute_result"
    }
   ],
   "source": [
    "customer_number_correlation(77, 0.8)"
   ]
  },
  {
   "cell_type": "code",
   "execution_count": 239,
   "id": "6c941cff",
   "metadata": {},
   "outputs": [
    {
     "name": "stderr",
     "output_type": "stream",
     "text": [
      "/Users/nisanbaysal/opt/anaconda3/lib/python3.8/site-packages/numpy/lib/function_base.py:2821: RuntimeWarning: Degrees of freedom <= 0 for slice\n",
      "/Users/nisanbaysal/opt/anaconda3/lib/python3.8/site-packages/numpy/lib/function_base.py:2680: RuntimeWarning: divide by zero encountered in true_divide\n"
     ]
    },
    {
     "data": {
      "text/html": [
       "<div>\n",
       "<style scoped>\n",
       "    .dataframe tbody tr th:only-of-type {\n",
       "        vertical-align: middle;\n",
       "    }\n",
       "\n",
       "    .dataframe tbody tr th {\n",
       "        vertical-align: top;\n",
       "    }\n",
       "\n",
       "    .dataframe thead th {\n",
       "        text-align: right;\n",
       "    }\n",
       "</style>\n",
       "<table border=\"1\" class=\"dataframe\">\n",
       "  <thead>\n",
       "    <tr style=\"text-align: right;\">\n",
       "      <th></th>\n",
       "      <th>columnname</th>\n",
       "    </tr>\n",
       "    <tr>\n",
       "      <th>index</th>\n",
       "      <th></th>\n",
       "    </tr>\n",
       "  </thead>\n",
       "  <tbody>\n",
       "    <tr>\n",
       "      <th>86</th>\n",
       "      <td>1.000000</td>\n",
       "    </tr>\n",
       "    <tr>\n",
       "      <th>114</th>\n",
       "      <td>0.855339</td>\n",
       "    </tr>\n",
       "    <tr>\n",
       "      <th>155</th>\n",
       "      <td>0.942876</td>\n",
       "    </tr>\n",
       "    <tr>\n",
       "      <th>260</th>\n",
       "      <td>0.846502</td>\n",
       "    </tr>\n",
       "  </tbody>\n",
       "</table>\n",
       "</div>"
      ],
      "text/plain": [
       "       columnname\n",
       "index            \n",
       "86       1.000000\n",
       "114      0.855339\n",
       "155      0.942876\n",
       "260      0.846502"
      ]
     },
     "execution_count": 239,
     "metadata": {},
     "output_type": "execute_result"
    }
   ],
   "source": [
    "customer_number_correlation(86, 0.8)"
   ]
  },
  {
   "cell_type": "code",
   "execution_count": 240,
   "id": "ac3288f1",
   "metadata": {},
   "outputs": [
    {
     "name": "stderr",
     "output_type": "stream",
     "text": [
      "/Users/nisanbaysal/opt/anaconda3/lib/python3.8/site-packages/numpy/lib/function_base.py:2821: RuntimeWarning: Degrees of freedom <= 0 for slice\n",
      "/Users/nisanbaysal/opt/anaconda3/lib/python3.8/site-packages/numpy/lib/function_base.py:2680: RuntimeWarning: divide by zero encountered in true_divide\n"
     ]
    },
    {
     "data": {
      "text/html": [
       "<div>\n",
       "<style scoped>\n",
       "    .dataframe tbody tr th:only-of-type {\n",
       "        vertical-align: middle;\n",
       "    }\n",
       "\n",
       "    .dataframe tbody tr th {\n",
       "        vertical-align: top;\n",
       "    }\n",
       "\n",
       "    .dataframe thead th {\n",
       "        text-align: right;\n",
       "    }\n",
       "</style>\n",
       "<table border=\"1\" class=\"dataframe\">\n",
       "  <thead>\n",
       "    <tr style=\"text-align: right;\">\n",
       "      <th></th>\n",
       "      <th>columnname</th>\n",
       "    </tr>\n",
       "    <tr>\n",
       "      <th>index</th>\n",
       "      <th></th>\n",
       "    </tr>\n",
       "  </thead>\n",
       "  <tbody>\n",
       "    <tr>\n",
       "      <th>14</th>\n",
       "      <td>0.942976</td>\n",
       "    </tr>\n",
       "    <tr>\n",
       "      <th>35</th>\n",
       "      <td>0.899594</td>\n",
       "    </tr>\n",
       "    <tr>\n",
       "      <th>69</th>\n",
       "      <td>0.815792</td>\n",
       "    </tr>\n",
       "    <tr>\n",
       "      <th>88</th>\n",
       "      <td>1.000000</td>\n",
       "    </tr>\n",
       "    <tr>\n",
       "      <th>113</th>\n",
       "      <td>0.862632</td>\n",
       "    </tr>\n",
       "    <tr>\n",
       "      <th>178</th>\n",
       "      <td>0.939466</td>\n",
       "    </tr>\n",
       "    <tr>\n",
       "      <th>237</th>\n",
       "      <td>0.947326</td>\n",
       "    </tr>\n",
       "    <tr>\n",
       "      <th>265</th>\n",
       "      <td>0.841013</td>\n",
       "    </tr>\n",
       "  </tbody>\n",
       "</table>\n",
       "</div>"
      ],
      "text/plain": [
       "       columnname\n",
       "index            \n",
       "14       0.942976\n",
       "35       0.899594\n",
       "69       0.815792\n",
       "88       1.000000\n",
       "113      0.862632\n",
       "178      0.939466\n",
       "237      0.947326\n",
       "265      0.841013"
      ]
     },
     "execution_count": 240,
     "metadata": {},
     "output_type": "execute_result"
    }
   ],
   "source": [
    "customer_number_correlation(88, 0.8)"
   ]
  },
  {
   "cell_type": "code",
   "execution_count": 241,
   "id": "62d75706",
   "metadata": {},
   "outputs": [],
   "source": [
    "#monthly number of transactions per store per customer\n",
    "customer_transaction_pretrial=QVI_data_pretrial.groupby(['yyyymm','STORE_NBR','LYLTY_CARD_NBR'])['TOT_SALES'].sum()\n",
    "customer_transaction_pretrial=pd.DataFrame(customer_transaction_pretrial)"
   ]
  },
  {
   "cell_type": "code",
   "execution_count": 242,
   "id": "9485939a",
   "metadata": {},
   "outputs": [],
   "source": [
    "#monthly chips per customer\n",
    "chips_per_customer=QVI_data_pretrial.groupby(['yyyymm','STORE_NBR','LYLTY_CARD_NBR'])['PROD_QTY'].sum()\n",
    "chips_per_customer=pd.DataFrame(chips_per_customer)"
   ]
  },
  {
   "cell_type": "markdown",
   "id": "f308f9ea",
   "metadata": {},
   "source": [
    "If we use our previous functions we can pick our control stores. Let's find the stores that are correlated to our trial stores in both customer number and sales."
   ]
  },
  {
   "cell_type": "code",
   "execution_count": 243,
   "id": "aaeb255f",
   "metadata": {},
   "outputs": [
    {
     "name": "stderr",
     "output_type": "stream",
     "text": [
      "/Users/nisanbaysal/opt/anaconda3/lib/python3.8/site-packages/numpy/lib/function_base.py:2821: RuntimeWarning: Degrees of freedom <= 0 for slice\n",
      "/Users/nisanbaysal/opt/anaconda3/lib/python3.8/site-packages/numpy/lib/function_base.py:2680: RuntimeWarning: divide by zero encountered in true_divide\n",
      "/Users/nisanbaysal/opt/anaconda3/lib/python3.8/site-packages/numpy/lib/function_base.py:2821: RuntimeWarning: Degrees of freedom <= 0 for slice\n",
      "/Users/nisanbaysal/opt/anaconda3/lib/python3.8/site-packages/numpy/lib/function_base.py:2680: RuntimeWarning: divide by zero encountered in true_divide\n"
     ]
    },
    {
     "data": {
      "text/plain": [
       "[233, 77]"
      ]
     },
     "execution_count": 243,
     "metadata": {},
     "output_type": "execute_result"
    }
   ],
   "source": [
    "#store 77\n",
    "store77_1=sales_correlation(77,0.9)\n",
    "store77_2=customer_number_correlation(77, 0.9)\n",
    "common_index = set(store77_1.index).intersection(set(store77_2.index))\n",
    "common_index_list = list(common_index)\n",
    "common_index_list"
   ]
  },
  {
   "cell_type": "code",
   "execution_count": 244,
   "id": "11ec6dfa",
   "metadata": {},
   "outputs": [
    {
     "name": "stderr",
     "output_type": "stream",
     "text": [
      "/Users/nisanbaysal/opt/anaconda3/lib/python3.8/site-packages/numpy/lib/function_base.py:2821: RuntimeWarning: Degrees of freedom <= 0 for slice\n",
      "/Users/nisanbaysal/opt/anaconda3/lib/python3.8/site-packages/numpy/lib/function_base.py:2680: RuntimeWarning: divide by zero encountered in true_divide\n",
      "/Users/nisanbaysal/opt/anaconda3/lib/python3.8/site-packages/numpy/lib/function_base.py:2821: RuntimeWarning: Degrees of freedom <= 0 for slice\n",
      "/Users/nisanbaysal/opt/anaconda3/lib/python3.8/site-packages/numpy/lib/function_base.py:2680: RuntimeWarning: divide by zero encountered in true_divide\n"
     ]
    },
    {
     "data": {
      "text/plain": [
       "[155, 86]"
      ]
     },
     "execution_count": 244,
     "metadata": {},
     "output_type": "execute_result"
    }
   ],
   "source": [
    "#store 86\n",
    "store86_1=sales_correlation(86,0.8)\n",
    "store86_2=customer_number_correlation(86, 0.8)\n",
    "common_index = set(store86_1.index).intersection(set(store86_2.index))\n",
    "common_index_list = list(common_index)\n",
    "common_index_list"
   ]
  },
  {
   "cell_type": "code",
   "execution_count": 245,
   "id": "b817002c",
   "metadata": {},
   "outputs": [
    {
     "name": "stderr",
     "output_type": "stream",
     "text": [
      "/Users/nisanbaysal/opt/anaconda3/lib/python3.8/site-packages/numpy/lib/function_base.py:2821: RuntimeWarning: Degrees of freedom <= 0 for slice\n",
      "/Users/nisanbaysal/opt/anaconda3/lib/python3.8/site-packages/numpy/lib/function_base.py:2680: RuntimeWarning: divide by zero encountered in true_divide\n",
      "/Users/nisanbaysal/opt/anaconda3/lib/python3.8/site-packages/numpy/lib/function_base.py:2821: RuntimeWarning: Degrees of freedom <= 0 for slice\n",
      "/Users/nisanbaysal/opt/anaconda3/lib/python3.8/site-packages/numpy/lib/function_base.py:2680: RuntimeWarning: divide by zero encountered in true_divide\n"
     ]
    },
    {
     "data": {
      "text/plain": [
       "[88, 178]"
      ]
     },
     "execution_count": 245,
     "metadata": {},
     "output_type": "execute_result"
    }
   ],
   "source": [
    "#store 88\n",
    "store88_1=sales_correlation(88,0.7)\n",
    "store88_2=customer_number_correlation(88, 0.7)\n",
    "common_index = set(store88_1.index).intersection(set(store88_2.index))\n",
    "common_index_list = list(common_index)\n",
    "common_index_list"
   ]
  },
  {
   "cell_type": "markdown",
   "id": "82e5b806",
   "metadata": {},
   "source": [
    "To find correlated stores in both customer number and transactions, I played with the correlation value. Store 77 had a high correlation to 233 however the other two trial stores didn't have another store that was that much correlated with them. In order to get similar stores that have a similar pattern, I lowered the correlation value."
   ]
  },
  {
   "cell_type": "markdown",
   "id": "6e6799c2",
   "metadata": {},
   "source": [
    "We can see that;\n",
    "store 233 has a high correlation to store 77 in both cutomer numbers and sales.<br>\n",
    "Store 155 has a high correlation to store 86 in both cutomer numbers and sales <br>\n",
    "Store 178 has a high correlation to store 88 in both cutomer numbers and sales <br>"
   ]
  },
  {
   "cell_type": "markdown",
   "id": "5a55ad74",
   "metadata": {},
   "source": [
    "We can now use the function we created to visualise the trial store transactions and customer numbers to check if our control stores show similar patterns as we expected."
   ]
  },
  {
   "cell_type": "code",
   "execution_count": 246,
   "id": "a7e36d56",
   "metadata": {},
   "outputs": [],
   "source": [
    "x,y,z=find_monthly_numbers(77,QVI_data_pretrial)\n"
   ]
  },
  {
   "cell_type": "code",
   "execution_count": 248,
   "id": "3446869b",
   "metadata": {},
   "outputs": [],
   "source": [
    "def create_graph(trial_store,control_store):\n",
    "    #remember x,y,z=monthly_sale,monthly_customer,monthly_transaction\n",
    "    x,y,z=find_monthly_numbers(trial_store,QVI_data_pretrial)\n",
    "    x1,y1,z1=find_monthly_numbers(control_store,QVI_data_pretrial)\n",
    "    fig, axs = plt.subplots(nrows=1, ncols=2, figsize=(8, 4))\n",
    "    \n",
    "    #monthly sale control vs trial store\n",
    "    ax = x.plot(kind='line', marker='o', label='Trial Store', ax=axs[0])\n",
    "    x1.plot(kind='line', marker='s', label='Control Store',ax=axs[0])\n",
    "    axs[0].set_title('Monthly Sales Trial vs Control Store')\n",
    "    axs[0].set_xlabel('Month')\n",
    "    axs[0].set_ylabel('Sales')\n",
    "    axs[0].legend(labels=['Trial Store', 'Control Store'])\n",
    "\n",
    "    #monthly customer control vs trial store.\n",
    "    ax = y.plot(kind='line', marker='o', label='Trial Store' ,ax=axs[1])\n",
    "    y1.plot(kind='line', marker='s',label='Control Store', ax=axs[1])\n",
    "    axs[1].set_title('Monthly Customer Trial vs Control Store')\n",
    "    axs[1].set_xlabel('Month')\n",
    "    axs[1].set_ylabel('Customer Count')\n",
    "    axs[1].legend(labels=['Trial Store', 'Control Store'])\n",
    "    \n",
    "    plt.subplots_adjust(wspace=1.0)"
   ]
  },
  {
   "cell_type": "code",
   "execution_count": 249,
   "id": "632bac84",
   "metadata": {},
   "outputs": [
    {
     "data": {
      "image/png": "[encoded data removed]",
      "text/plain": [
       "<Figure size 576x288 with 2 Axes>"
      ]
     },
     "metadata": {
      "needs_background": "light"
     },
     "output_type": "display_data"
    }
   ],
   "source": [
    "create_graph(77,233)"
   ]
  },
  {
   "cell_type": "code",
   "execution_count": 250,
   "id": "7c0dd0a2",
   "metadata": {},
   "outputs": [
    {
     "data": {
      "image/png": "[encoded data removed]",
      "text/plain": [
       "<Figure size 576x288 with 2 Axes>"
      ]
     },
     "metadata": {
      "needs_background": "light"
     },
     "output_type": "display_data"
    }
   ],
   "source": [
    "create_graph(86,155)"
   ]
  },
  {
   "cell_type": "code",
   "execution_count": 251,
   "id": "4c2b29a7",
   "metadata": {},
   "outputs": [
    {
     "data": {
      "image/png": "[encoded data removed]",
      "text/plain": [
       "<Figure size 576x288 with 2 Axes>"
      ]
     },
     "metadata": {
      "needs_background": "light"
     },
     "output_type": "display_data"
    }
   ],
   "source": [
    "create_graph(88,178)"
   ]
  },
  {
   "cell_type": "markdown",
   "id": "ba95bf63",
   "metadata": {},
   "source": [
    "We can see that all these stores indeed have similar trends! We can now go on to see assess if the trial stores have shown any improvement."
   ]
  },
  {
   "cell_type": "markdown",
   "id": "22c80ead",
   "metadata": {},
   "source": [
    "## Part 2- Assessment of trial ##"
   ]
  },
  {
   "cell_type": "markdown",
   "id": "f966ba56",
   "metadata": {},
   "source": [
    "## Assessing monthly sales ##"
   ]
  },
  {
   "cell_type": "markdown",
   "id": "f0ecc637",
   "metadata": {},
   "source": [
    "We will first find the scaling factor, we find this by dividing pretrial trial store numbers by pretrial trial store numbers"
   ]
  },
  {
   "cell_type": "code",
   "execution_count": 252,
   "id": "7ab6a21e",
   "metadata": {},
   "outputs": [],
   "source": [
    "QVI_data_pretrial=QVI_data.loc[(QVI_data['year_filter']<2019)|(QVI_data['year_filter']==2019)& (QVI_data['month_filter']<3)]"
   ]
  },
  {
   "cell_type": "code",
   "execution_count": null,
   "id": "af3da0bf",
   "metadata": {},
   "outputs": [],
   "source": []
  },
  {
   "cell_type": "code",
   "execution_count": null,
   "id": "f5046488",
   "metadata": {},
   "outputs": [],
   "source": []
  },
  {
   "cell_type": "code",
   "execution_count": null,
   "id": "8db400f2",
   "metadata": {},
   "outputs": [],
   "source": []
  },
  {
   "cell_type": "code",
   "execution_count": null,
   "id": "ea88ec40",
   "metadata": {},
   "outputs": [],
   "source": []
  },
  {
   "cell_type": "code",
   "execution_count": null,
   "id": "8eb4495f",
   "metadata": {},
   "outputs": [],
   "source": []
  },
  {
   "cell_type": "code",
   "execution_count": null,
   "id": "9652b124",
   "metadata": {},
   "outputs": [],
   "source": []
  },
  {
   "cell_type": "code",
   "execution_count": null,
   "id": "47689f97",
   "metadata": {},
   "outputs": [],
   "source": []
  },
  {
   "cell_type": "code",
   "execution_count": null,
   "id": "3dab25ad",
   "metadata": {},
   "outputs": [],
   "source": []
  },
  {
   "cell_type": "code",
   "execution_count": null,
   "id": "fa433d70",
   "metadata": {},
   "outputs": [],
   "source": []
  },
  {
   "cell_type": "code",
   "execution_count": null,
   "id": "6b44b562",
   "metadata": {},
   "outputs": [],
   "source": []
  },
  {
   "cell_type": "code",
   "execution_count": null,
   "id": "842d8d01",
   "metadata": {},
   "outputs": [],
   "source": []
  },
  {
   "cell_type": "code",
   "execution_count": null,
   "id": "5dd49b06",
   "metadata": {},
   "outputs": [],
   "source": []
  },
  {
   "cell_type": "code",
   "execution_count": null,
   "id": "7267aa7a",
   "metadata": {},
   "outputs": [],
   "source": []
  },
  {
   "cell_type": "code",
   "execution_count": null,
   "id": "2d53c269",
   "metadata": {},
   "outputs": [],
   "source": []
  },
  {
   "cell_type": "code",
   "execution_count": null,
   "id": "d7658bff",
   "metadata": {},
   "outputs": [],
   "source": []
  },
  {
   "cell_type": "code",
   "execution_count": null,
   "id": "d976a27a",
   "metadata": {},
   "outputs": [],
   "source": []
  },
  {
   "cell_type": "code",
   "execution_count": null,
   "id": "6a4160d6",
   "metadata": {},
   "outputs": [],
   "source": []
  },
  {
   "cell_type": "code",
   "execution_count": null,
   "id": "323c6fc5",
   "metadata": {},
   "outputs": [],
   "source": []
  },
  {
   "cell_type": "code",
   "execution_count": null,
   "id": "f328d882",
   "metadata": {},
   "outputs": [],
   "source": []
  },
  {
   "cell_type": "code",
   "execution_count": null,
   "id": "c78eaf4c",
   "metadata": {},
   "outputs": [],
   "source": []
  },
  {
   "cell_type": "code",
   "execution_count": null,
   "id": "94aba706",
   "metadata": {},
   "outputs": [],
   "source": []
  },
  {
   "cell_type": "code",
   "execution_count": null,
   "id": "28c74935",
   "metadata": {},
   "outputs": [],
   "source": []
  },
  {
   "cell_type": "code",
   "execution_count": null,
   "id": "6cbd6aed",
   "metadata": {},
   "outputs": [],
   "source": []
  },
  {
   "cell_type": "code",
   "execution_count": null,
   "id": "09460270",
   "metadata": {},
   "outputs": [],
   "source": []
  },
  {
   "cell_type": "code",
   "execution_count": null,
   "id": "e4b376f1",
   "metadata": {},
   "outputs": [],
   "source": []
  },
  {
   "cell_type": "code",
   "execution_count": null,
   "id": "51e1e4c2",
   "metadata": {},
   "outputs": [],
   "source": []
  },
  {
   "cell_type": "code",
   "execution_count": null,
   "id": "671f6078",
   "metadata": {},
   "outputs": [],
   "source": []
  },
  {
   "cell_type": "markdown",
   "id": "3e2be770",
   "metadata": {},
   "source": [
    "### Finding the scaling factors between control and trial stores ###"
   ]
  },
  {
   "cell_type": "code",
   "execution_count": 253,
   "id": "691a410a",
   "metadata": {},
   "outputs": [],
   "source": [
    "#scale factor for monthly_sale_233 \n",
    "pretrial_sale_77,pretrial_customer_77,pretrial_transaction_77=find_monthly_numbers(77,QVI_data_pretrial)\n",
    "pretrial_sale_233,pretrial_customer_233,pretrial_transaction_233=find_monthly_numbers(233,QVI_data_pretrial)\n",
    "scaling_77_233=pretrial_sale_77.sum()/pretrial_sale_233.sum()"
   ]
  },
  {
   "cell_type": "code",
   "execution_count": 254,
   "id": "7c67e36f",
   "metadata": {},
   "outputs": [
    {
     "data": {
      "text/plain": [
       "TOT_SALES    1.015863\n",
       "dtype: float64"
      ]
     },
     "execution_count": 254,
     "metadata": {},
     "output_type": "execute_result"
    }
   ],
   "source": [
    "scaling_77_233"
   ]
  },
  {
   "cell_type": "code",
   "execution_count": 255,
   "id": "60a62e45",
   "metadata": {},
   "outputs": [],
   "source": [
    "#scale factor for monthly_sale_155 \n",
    "pretrial_sale_86,pretrial_customer_86,pretrial_transaction_86=find_monthly_numbers(86,QVI_data_pretrial)\n",
    "pretrial_sale_155,pretrial_customer_155,pretrial_transaction_155=find_monthly_numbers(155,QVI_data_pretrial)\n",
    "\n",
    "scaling_86_155=pretrial_sale_86.sum()/pretrial_sale_155.sum()"
   ]
  },
  {
   "cell_type": "code",
   "execution_count": 256,
   "id": "6e1b3e7a",
   "metadata": {},
   "outputs": [],
   "source": [
    "#scale factor for  monthly_sale_178 \n",
    "pretrial_sale_88,pretrial_customer_88,pretrial_transaction_88=find_monthly_numbers(88,QVI_data_pretrial)\n",
    "pretrial_sale_178,pretrial_customer_178,pretrial_transaction_178=find_monthly_numbers(178,QVI_data_pretrial)\n",
    "scaling_88_178=pretrial_sale_88.sum()/pretrial_sale_178.sum()"
   ]
  },
  {
   "cell_type": "markdown",
   "id": "299b308f",
   "metadata": {},
   "source": [
    "### Finding the transaction patterns during the trial period ###"
   ]
  },
  {
   "cell_type": "code",
   "execution_count": 257,
   "id": "a94cbb39",
   "metadata": {},
   "outputs": [],
   "source": [
    "QVI_data_assess=QVI_data.loc[(QVI_data['year_filter']>2019)|(QVI_data['year_filter']==2019)& (QVI_data['month_filter']>2)]\n",
    "QVI_data_assess\n",
    "#let's find the transaction trends for within the trial period\n",
    "#\n",
    "trial_monthly_sale_77,trial_monthly_customer_77,trial_monthly_transaction_77=find_monthly_numbers(77,QVI_data_assess)\n",
    "trial_monthly_sale_233,trial_monthly_customer_233,trial_monthly_transaction_233=find_monthly_numbers(233,QVI_data_assess)\n",
    "#\n",
    "trial_monthly_sale_86,trial_monthly_customer_86,trial_monthly_transaction_86=find_monthly_numbers(86,QVI_data_assess)\n",
    "trial_monthly_sale_155,trial_monthly_customer_155,trial_monthly_transaction_155=find_monthly_numbers(155,QVI_data_assess)\n",
    "\n",
    "#\n",
    "trial_monthly_sale_88,trial_monthly_customer_88,trial_monthly_transaction_88=find_monthly_numbers(88,QVI_data_assess)\n",
    "trial_monthly_sale_178,trial_monthly_customer_178,trial_monthly_transaction_178=find_monthly_numbers(178,QVI_data_assess)\n"
   ]
  },
  {
   "cell_type": "markdown",
   "id": "4d284b93",
   "metadata": {},
   "source": [
    "### Scaling up the control stores & finding the percentage difference. ###"
   ]
  },
  {
   "cell_type": "markdown",
   "id": "ec8f64c0",
   "metadata": {},
   "source": [
    "We now have seperate tables for pre-trial and trial periods. Let's merge the tables"
   ]
  },
  {
   "cell_type": "code",
   "execution_count": 258,
   "id": "45b364e0",
   "metadata": {},
   "outputs": [],
   "source": [
    "saletable77 = pd.concat([pretrial_sale_77, trial_monthly_sale_77])\n",
    "scaledsaletable233 = pd.concat([pretrial_sale_233, trial_monthly_sale_233])*scaling_77_233\n",
    "mergedsale77_233 = pd.merge(saletable77, scaledsaletable233, left_index=True, right_index=True)\n",
    "mergedsale77_233.rename(columns={'TOT_SALES_x': 'saletable77', 'TOT_SALES_y': 'scaledsaletable233'}, inplace=True)\n",
    "mergedsale77_233['percentagediff']=(abs(mergedsale77_233['scaledsaletable233']-mergedsale77_233['saletable77']))/mergedsale77_233['scaledsaletable233']"
   ]
  },
  {
   "cell_type": "code",
   "execution_count": 259,
   "id": "0d0dc4e8",
   "metadata": {},
   "outputs": [],
   "source": [
    "saletable86 = pd.concat([pretrial_sale_86, trial_monthly_sale_86])\n",
    "scaledsaletable155 = pd.concat([pretrial_sale_155, trial_monthly_sale_155])*scaling_86_155\n",
    "mergedsale86_155 = pd.merge(saletable86, scaledsaletable155, left_index=True, right_index=True)\n",
    "mergedsale86_155.rename(columns={'TOT_SALES_x': 'saletable86', 'TOT_SALES_y': 'scaledsaletable155'}, inplace=True)\n",
    "mergedsale86_155['percentagediff']=(abs(mergedsale86_155['scaledsaletable155']-mergedsale86_155['saletable86']))/mergedsale86_155['scaledsaletable155']"
   ]
  },
  {
   "cell_type": "code",
   "execution_count": 260,
   "id": "c862f337",
   "metadata": {},
   "outputs": [],
   "source": [
    "saletable88 = pd.concat([pretrial_sale_88, trial_monthly_sale_88])\n",
    "scaledsaletable178 = pd.concat([pretrial_sale_178, trial_monthly_sale_178])*scaling_88_178\n",
    "mergedsale88_178 = pd.merge(saletable88, scaledsaletable178, left_index=True, right_index=True)\n",
    "mergedsale88_178.rename(columns={'TOT_SALES_x': 'saletable88', 'TOT_SALES_y': 'scaledsaletable178'}, inplace=True)\n",
    "mergedsale88_178['percentagediff']=(abs(mergedsale88_178['scaledsaletable178']-mergedsale88_178['saletable88']))/mergedsale88_178['scaledsaletable178']"
   ]
  },
  {
   "cell_type": "markdown",
   "id": "e07fd44f",
   "metadata": {},
   "source": [
    "### Finding the stdev and the t_value ###"
   ]
  },
  {
   "cell_type": "code",
   "execution_count": 40,
   "id": "5e0b328c",
   "metadata": {},
   "outputs": [],
   "source": [
    "mergedsale77_233['YEARMONTH']=mergedsale77_233.index\n",
    "mergedsale77_233['YEARMONTH']=mergedsale77_233['YEARMONTH'].astype(int)\n",
    "stdDev = np.std(mergedsale77_233[mergedsale77_233['YEARMONTH'] < 201902]['percentagediff'].values)\n",
    "degreesOfFreedom = 7"
   ]
  },
  {
   "cell_type": "code",
   "execution_count": 195,
   "id": "7e888327",
   "metadata": {},
   "outputs": [
    {
     "name": "stdout",
     "output_type": "stream",
     "text": [
      "       TransactionMonth     tValue\n",
      "yyyymm                            \n",
      "201902       2019-02-01   1.062077\n",
      "201903       2019-03-01   7.710263\n",
      "201904       2019-04-01  12.998029\n",
      "the t=value of the 95th percentile: 1.894578605061305\n"
     ]
    }
   ],
   "source": [
    "#finding the t_value\n",
    "mergedsale77_233['tValue'] = (mergedsale77_233['percentagediff'] - 0) / stdDev\n",
    "mergedsale77_233['TransactionMonth'] = pd.to_datetime(mergedsale77_233['YEARMONTH'].astype(str), format='%Y%m')\n",
    "#finding the t_value of 2019-02, 2019-03, 2019-04\n",
    "result77_233 = mergedsale77_233[(mergedsale77_233['YEARMONTH'] < 201905) & (mergedsale77_233['YEARMONTH'] > 201901)][['TransactionMonth', 'tValue']]\n",
    "#the t value of the 95th percentile\n",
    "t_value = t.ppf(0.95, df=degreesOfFreedom)\n",
    "\n",
    "print(result77_233)\n",
    "print('the t value of the 95th percentile:', t_value)"
   ]
  },
  {
   "cell_type": "markdown",
   "id": "a278111e",
   "metadata": {},
   "source": [
    "### Let's create a nice plot to show our results ###\n"
   ]
  },
  {
   "cell_type": "code",
   "execution_count": 197,
   "id": "047eb205",
   "metadata": {},
   "outputs": [],
   "source": [
    "#will use for visualisation\n",
    "forvisualisation = QVI_data.groupby(['STORE_NBR', 'yyyymm']).agg(\n",
    "    totSales=('TOT_SALES', 'sum'),\n",
    "    nCustomers=('LYLTY_CARD_NBR', pd.Series.nunique),\n",
    ").reset_index().sort_values(['STORE_NBR', 'yyyymm'])"
   ]
  },
  {
   "cell_type": "code",
   "execution_count": 199,
   "id": "500f0037",
   "metadata": {},
   "outputs": [
    {
     "data": {
      "text/html": [
       "<div>\n",
       "<style scoped>\n",
       "    .dataframe tbody tr th:only-of-type {\n",
       "        vertical-align: middle;\n",
       "    }\n",
       "\n",
       "    .dataframe tbody tr th {\n",
       "        vertical-align: top;\n",
       "    }\n",
       "\n",
       "    .dataframe thead th {\n",
       "        text-align: right;\n",
       "    }\n",
       "</style>\n",
       "<table border=\"1\" class=\"dataframe\">\n",
       "  <thead>\n",
       "    <tr style=\"text-align: right;\">\n",
       "      <th></th>\n",
       "      <th>STORE_NBR</th>\n",
       "      <th>yyyymm</th>\n",
       "      <th>totSales</th>\n",
       "      <th>nCustomers</th>\n",
       "    </tr>\n",
       "  </thead>\n",
       "  <tbody>\n",
       "    <tr>\n",
       "      <th>0</th>\n",
       "      <td>1</td>\n",
       "      <td>201807</td>\n",
       "      <td>206.9</td>\n",
       "      <td>49</td>\n",
       "    </tr>\n",
       "    <tr>\n",
       "      <th>1</th>\n",
       "      <td>1</td>\n",
       "      <td>201808</td>\n",
       "      <td>176.1</td>\n",
       "      <td>42</td>\n",
       "    </tr>\n",
       "    <tr>\n",
       "      <th>2</th>\n",
       "      <td>1</td>\n",
       "      <td>201809</td>\n",
       "      <td>278.8</td>\n",
       "      <td>59</td>\n",
       "    </tr>\n",
       "    <tr>\n",
       "      <th>3</th>\n",
       "      <td>1</td>\n",
       "      <td>201810</td>\n",
       "      <td>188.1</td>\n",
       "      <td>44</td>\n",
       "    </tr>\n",
       "    <tr>\n",
       "      <th>4</th>\n",
       "      <td>1</td>\n",
       "      <td>201811</td>\n",
       "      <td>192.6</td>\n",
       "      <td>46</td>\n",
       "    </tr>\n",
       "    <tr>\n",
       "      <th>...</th>\n",
       "      <td>...</td>\n",
       "      <td>...</td>\n",
       "      <td>...</td>\n",
       "      <td>...</td>\n",
       "    </tr>\n",
       "    <tr>\n",
       "      <th>3164</th>\n",
       "      <td>272</td>\n",
       "      <td>201902</td>\n",
       "      <td>395.5</td>\n",
       "      <td>45</td>\n",
       "    </tr>\n",
       "    <tr>\n",
       "      <th>3165</th>\n",
       "      <td>272</td>\n",
       "      <td>201903</td>\n",
       "      <td>442.3</td>\n",
       "      <td>50</td>\n",
       "    </tr>\n",
       "    <tr>\n",
       "      <th>3166</th>\n",
       "      <td>272</td>\n",
       "      <td>201904</td>\n",
       "      <td>445.1</td>\n",
       "      <td>54</td>\n",
       "    </tr>\n",
       "    <tr>\n",
       "      <th>3167</th>\n",
       "      <td>272</td>\n",
       "      <td>201905</td>\n",
       "      <td>314.6</td>\n",
       "      <td>34</td>\n",
       "    </tr>\n",
       "    <tr>\n",
       "      <th>3168</th>\n",
       "      <td>272</td>\n",
       "      <td>201906</td>\n",
       "      <td>312.1</td>\n",
       "      <td>34</td>\n",
       "    </tr>\n",
       "  </tbody>\n",
       "</table>\n",
       "<p>3169 rows × 4 columns</p>\n",
       "</div>"
      ],
      "text/plain": [
       "      STORE_NBR  yyyymm  totSales  nCustomers\n",
       "0             1  201807     206.9          49\n",
       "1             1  201808     176.1          42\n",
       "2             1  201809     278.8          59\n",
       "3             1  201810     188.1          44\n",
       "4             1  201811     192.6          46\n",
       "...         ...     ...       ...         ...\n",
       "3164        272  201902     395.5          45\n",
       "3165        272  201903     442.3          50\n",
       "3166        272  201904     445.1          54\n",
       "3167        272  201905     314.6          34\n",
       "3168        272  201906     312.1          34\n",
       "\n",
       "[3169 rows x 4 columns]"
      ]
     },
     "execution_count": 199,
     "metadata": {},
     "output_type": "execute_result"
    }
   ],
   "source": [
    "forvisualisation"
   ]
  },
  {
   "cell_type": "code",
   "execution_count": 200,
   "id": "7d9b40aa",
   "metadata": {},
   "outputs": [
    {
     "data": {
      "text/html": [
       "<div>\n",
       "<style scoped>\n",
       "    .dataframe tbody tr th:only-of-type {\n",
       "        vertical-align: middle;\n",
       "    }\n",
       "\n",
       "    .dataframe tbody tr th {\n",
       "        vertical-align: top;\n",
       "    }\n",
       "\n",
       "    .dataframe thead th {\n",
       "        text-align: right;\n",
       "    }\n",
       "</style>\n",
       "<table border=\"1\" class=\"dataframe\">\n",
       "  <thead>\n",
       "    <tr style=\"text-align: right;\">\n",
       "      <th></th>\n",
       "      <th>yyyymm</th>\n",
       "      <th>Store_type</th>\n",
       "      <th>STORE_NBR</th>\n",
       "      <th>totSales</th>\n",
       "      <th>nCustomers</th>\n",
       "      <th>TransactionMonth</th>\n",
       "    </tr>\n",
       "  </thead>\n",
       "  <tbody>\n",
       "    <tr>\n",
       "      <th>0</th>\n",
       "      <td>201807</td>\n",
       "      <td>Control</td>\n",
       "      <td>233.0</td>\n",
       "      <td>290.7</td>\n",
       "      <td>51.0</td>\n",
       "      <td>2018-07-01</td>\n",
       "    </tr>\n",
       "    <tr>\n",
       "      <th>2</th>\n",
       "      <td>201807</td>\n",
       "      <td>Trial</td>\n",
       "      <td>77.0</td>\n",
       "      <td>296.8</td>\n",
       "      <td>51.0</td>\n",
       "      <td>2018-07-01</td>\n",
       "    </tr>\n",
       "    <tr>\n",
       "      <th>3</th>\n",
       "      <td>201808</td>\n",
       "      <td>Control</td>\n",
       "      <td>233.0</td>\n",
       "      <td>285.9</td>\n",
       "      <td>48.0</td>\n",
       "      <td>2018-08-01</td>\n",
       "    </tr>\n",
       "    <tr>\n",
       "      <th>5</th>\n",
       "      <td>201808</td>\n",
       "      <td>Trial</td>\n",
       "      <td>77.0</td>\n",
       "      <td>255.5</td>\n",
       "      <td>47.0</td>\n",
       "      <td>2018-08-01</td>\n",
       "    </tr>\n",
       "    <tr>\n",
       "      <th>6</th>\n",
       "      <td>201809</td>\n",
       "      <td>Control</td>\n",
       "      <td>233.0</td>\n",
       "      <td>228.6</td>\n",
       "      <td>42.0</td>\n",
       "      <td>2018-09-01</td>\n",
       "    </tr>\n",
       "    <tr>\n",
       "      <th>8</th>\n",
       "      <td>201809</td>\n",
       "      <td>Trial</td>\n",
       "      <td>77.0</td>\n",
       "      <td>225.2</td>\n",
       "      <td>42.0</td>\n",
       "      <td>2018-09-01</td>\n",
       "    </tr>\n",
       "    <tr>\n",
       "      <th>9</th>\n",
       "      <td>201810</td>\n",
       "      <td>Control</td>\n",
       "      <td>233.0</td>\n",
       "      <td>185.7</td>\n",
       "      <td>35.0</td>\n",
       "      <td>2018-10-01</td>\n",
       "    </tr>\n",
       "    <tr>\n",
       "      <th>11</th>\n",
       "      <td>201810</td>\n",
       "      <td>Trial</td>\n",
       "      <td>77.0</td>\n",
       "      <td>204.5</td>\n",
       "      <td>37.0</td>\n",
       "      <td>2018-10-01</td>\n",
       "    </tr>\n",
       "    <tr>\n",
       "      <th>12</th>\n",
       "      <td>201811</td>\n",
       "      <td>Control</td>\n",
       "      <td>233.0</td>\n",
       "      <td>211.6</td>\n",
       "      <td>40.0</td>\n",
       "      <td>2018-11-01</td>\n",
       "    </tr>\n",
       "    <tr>\n",
       "      <th>14</th>\n",
       "      <td>201811</td>\n",
       "      <td>Trial</td>\n",
       "      <td>77.0</td>\n",
       "      <td>245.3</td>\n",
       "      <td>41.0</td>\n",
       "      <td>2018-11-01</td>\n",
       "    </tr>\n",
       "    <tr>\n",
       "      <th>15</th>\n",
       "      <td>201812</td>\n",
       "      <td>Control</td>\n",
       "      <td>233.0</td>\n",
       "      <td>279.8</td>\n",
       "      <td>47.0</td>\n",
       "      <td>2018-12-01</td>\n",
       "    </tr>\n",
       "    <tr>\n",
       "      <th>17</th>\n",
       "      <td>201812</td>\n",
       "      <td>Trial</td>\n",
       "      <td>77.0</td>\n",
       "      <td>267.3</td>\n",
       "      <td>46.0</td>\n",
       "      <td>2018-12-01</td>\n",
       "    </tr>\n",
       "    <tr>\n",
       "      <th>18</th>\n",
       "      <td>201901</td>\n",
       "      <td>Control</td>\n",
       "      <td>233.0</td>\n",
       "      <td>177.5</td>\n",
       "      <td>35.0</td>\n",
       "      <td>2019-01-01</td>\n",
       "    </tr>\n",
       "    <tr>\n",
       "      <th>20</th>\n",
       "      <td>201901</td>\n",
       "      <td>Trial</td>\n",
       "      <td>77.0</td>\n",
       "      <td>204.4</td>\n",
       "      <td>35.0</td>\n",
       "      <td>2019-01-01</td>\n",
       "    </tr>\n",
       "    <tr>\n",
       "      <th>21</th>\n",
       "      <td>201902</td>\n",
       "      <td>Control</td>\n",
       "      <td>233.0</td>\n",
       "      <td>244.0</td>\n",
       "      <td>45.0</td>\n",
       "      <td>2019-02-01</td>\n",
       "    </tr>\n",
       "    <tr>\n",
       "      <th>23</th>\n",
       "      <td>201902</td>\n",
       "      <td>Trial</td>\n",
       "      <td>77.0</td>\n",
       "      <td>235.0</td>\n",
       "      <td>45.0</td>\n",
       "      <td>2019-02-01</td>\n",
       "    </tr>\n",
       "    <tr>\n",
       "      <th>24</th>\n",
       "      <td>201903</td>\n",
       "      <td>Control</td>\n",
       "      <td>233.0</td>\n",
       "      <td>199.1</td>\n",
       "      <td>40.0</td>\n",
       "      <td>2019-03-01</td>\n",
       "    </tr>\n",
       "    <tr>\n",
       "      <th>26</th>\n",
       "      <td>201903</td>\n",
       "      <td>Trial</td>\n",
       "      <td>77.0</td>\n",
       "      <td>278.5</td>\n",
       "      <td>50.0</td>\n",
       "      <td>2019-03-01</td>\n",
       "    </tr>\n",
       "    <tr>\n",
       "      <th>27</th>\n",
       "      <td>201904</td>\n",
       "      <td>Control</td>\n",
       "      <td>233.0</td>\n",
       "      <td>158.6</td>\n",
       "      <td>30.0</td>\n",
       "      <td>2019-04-01</td>\n",
       "    </tr>\n",
       "    <tr>\n",
       "      <th>29</th>\n",
       "      <td>201904</td>\n",
       "      <td>Trial</td>\n",
       "      <td>77.0</td>\n",
       "      <td>263.5</td>\n",
       "      <td>47.0</td>\n",
       "      <td>2019-04-01</td>\n",
       "    </tr>\n",
       "    <tr>\n",
       "      <th>30</th>\n",
       "      <td>201905</td>\n",
       "      <td>Control</td>\n",
       "      <td>233.0</td>\n",
       "      <td>344.4</td>\n",
       "      <td>57.0</td>\n",
       "      <td>2019-05-01</td>\n",
       "    </tr>\n",
       "    <tr>\n",
       "      <th>32</th>\n",
       "      <td>201905</td>\n",
       "      <td>Trial</td>\n",
       "      <td>77.0</td>\n",
       "      <td>299.3</td>\n",
       "      <td>55.0</td>\n",
       "      <td>2019-05-01</td>\n",
       "    </tr>\n",
       "    <tr>\n",
       "      <th>33</th>\n",
       "      <td>201906</td>\n",
       "      <td>Control</td>\n",
       "      <td>233.0</td>\n",
       "      <td>221.0</td>\n",
       "      <td>41.0</td>\n",
       "      <td>2019-06-01</td>\n",
       "    </tr>\n",
       "    <tr>\n",
       "      <th>35</th>\n",
       "      <td>201906</td>\n",
       "      <td>Trial</td>\n",
       "      <td>77.0</td>\n",
       "      <td>264.7</td>\n",
       "      <td>41.0</td>\n",
       "      <td>2019-06-01</td>\n",
       "    </tr>\n",
       "  </tbody>\n",
       "</table>\n",
       "</div>"
      ],
      "text/plain": [
       "    yyyymm Store_type  STORE_NBR  totSales  nCustomers TransactionMonth\n",
       "0   201807    Control      233.0     290.7        51.0       2018-07-01\n",
       "2   201807      Trial       77.0     296.8        51.0       2018-07-01\n",
       "3   201808    Control      233.0     285.9        48.0       2018-08-01\n",
       "5   201808      Trial       77.0     255.5        47.0       2018-08-01\n",
       "6   201809    Control      233.0     228.6        42.0       2018-09-01\n",
       "8   201809      Trial       77.0     225.2        42.0       2018-09-01\n",
       "9   201810    Control      233.0     185.7        35.0       2018-10-01\n",
       "11  201810      Trial       77.0     204.5        37.0       2018-10-01\n",
       "12  201811    Control      233.0     211.6        40.0       2018-11-01\n",
       "14  201811      Trial       77.0     245.3        41.0       2018-11-01\n",
       "15  201812    Control      233.0     279.8        47.0       2018-12-01\n",
       "17  201812      Trial       77.0     267.3        46.0       2018-12-01\n",
       "18  201901    Control      233.0     177.5        35.0       2019-01-01\n",
       "20  201901      Trial       77.0     204.4        35.0       2019-01-01\n",
       "21  201902    Control      233.0     244.0        45.0       2019-02-01\n",
       "23  201902      Trial       77.0     235.0        45.0       2019-02-01\n",
       "24  201903    Control      233.0     199.1        40.0       2019-03-01\n",
       "26  201903      Trial       77.0     278.5        50.0       2019-03-01\n",
       "27  201904    Control      233.0     158.6        30.0       2019-04-01\n",
       "29  201904      Trial       77.0     263.5        47.0       2019-04-01\n",
       "30  201905    Control      233.0     344.4        57.0       2019-05-01\n",
       "32  201905      Trial       77.0     299.3        55.0       2019-05-01\n",
       "33  201906    Control      233.0     221.0        41.0       2019-06-01\n",
       "35  201906      Trial       77.0     264.7        41.0       2019-06-01"
      ]
     },
     "execution_count": 200,
     "metadata": {},
     "output_type": "execute_result"
    }
   ],
   "source": [
    "#defining a function ti\n",
    "\n",
    "def sales_for_visualisation(trial_store,control_store):\n",
    "    a='QVI_data_'+str(trial_store)+'_'+str(control_store)\n",
    "    a=forvisualisation.copy()\n",
    "    a['Store_type'] = np.where(a['STORE_NBR'] == trial_store, \"Trial\",np.where(a['STORE_NBR'] == control_store, \"Control\", \"Other stores\"))\n",
    "    a = a.groupby(['yyyymm', 'Store_type']).mean('TOT_SALES').reset_index()\n",
    "    #a = a.groupby(['yyyymm', 'Store_type']).agg({'totSales': 'mean'}).reset_index()\n",
    "\n",
    "    a['TransactionMonth'] = pd.to_datetime(a['yyyymm'].astype(str), format='%Y%m')\n",
    "    a = a[a['Store_type'].isin(['Trial', 'Control'])]\n",
    " \n",
    "    pastSales_Controls95 = a[a['Store_type'] == 'Control'].copy()\n",
    "    pastSales_Controls95['stdDev'] = pastSales_Controls95['totSales'].std()\n",
    "    pastSales_Controls95['totSales'] = pastSales_Controls95['totSales'] * (1 + pastSales_Controls95['stdDev'] * 2)\n",
    "    pastSales_Controls95['Store_type'] = 'Control 95th % confidence interval'\n",
    "\n",
    "    pastSales_Controls = a[a['Store_type'] == 'Control']\n",
    "    stdDev = pastSales_Controls['totSales'].std()\n",
    "    pastSales_Controls5 = pastSales_Controls.copy()\n",
    "    pastSales_Controls5['totSales'] = pastSales_Controls5['totSales'] * (1 - stdDev * 2)\n",
    "    pastSales_Controls5['Store_type'] = 'Control 5th % confidence interval'\n",
    "    \n",
    "    trial_assessment = pd.concat([a, pastSales_Controls95, pastSales_Controls5], ignore_index=True)\n",
    "    \n",
    "    #return trial_assessment\n",
    "    return a\n",
    "\n",
    "trial_dataframe=sales_for_visualisation(77,233)\n",
    "trial_dataframe"
   ]
  },
  {
   "cell_type": "code",
   "execution_count": 201,
   "id": "d7a25a0f",
   "metadata": {},
   "outputs": [],
   "source": [
    "rect_data = trial_dataframe[(trial_dataframe['yyyymm'].astype(int) < 201905) &\n",
    "                            (trial_dataframe['yyyymm'].astype(int) > 201901)]"
   ]
  },
  {
   "cell_type": "code",
   "execution_count": 202,
   "id": "6e2aa803",
   "metadata": {},
   "outputs": [],
   "source": [
    "transaction_month = pd.to_datetime(rect_data['TransactionMonth'])\n",
    "xmin = transaction_month.min()\n",
    "xmax = transaction_month.max()\n",
    "ymin=0\n",
    "ymax=float('inf')"
   ]
  },
  {
   "cell_type": "code",
   "execution_count": 203,
   "id": "54ace85d",
   "metadata": {},
   "outputs": [
    {
     "data": {
      "image/png": "[encoded data removed]",
      "text/plain": [
       "<Figure size 640x480 with 1 Axes>"
      ]
     },
     "metadata": {},
     "output_type": "display_data"
    },
    {
     "data": {
      "text/plain": [
       "<ggplot: (8776530811317)>"
      ]
     },
     "execution_count": 203,
     "metadata": {},
     "output_type": "execute_result"
    }
   ],
   "source": [
    "ggplot(trial_dataframe, aes('TransactionMonth', 'totSales', color='Store_type')) \\\n",
    "    + geom_rect(aes(xmin=xmin, xmax=xmax, ymin=ymin,\n",
    "                  ymax=ymax,alpha=0.2 ), show_legend=False)\\\n",
    "    + geom_line() + labs(x=\"Month of operation\", y=\"Total sales\", title=\"Total sales by month\")\n"
   ]
  },
  {
   "cell_type": "code",
   "execution_count": null,
   "id": "874089b2",
   "metadata": {},
   "outputs": [],
   "source": []
  },
  {
   "cell_type": "code",
   "execution_count": null,
   "id": "f2538f8a",
   "metadata": {},
   "outputs": [],
   "source": []
  },
  {
   "cell_type": "code",
   "execution_count": 140,
   "id": "adf5711a",
   "metadata": {},
   "outputs": [],
   "source": []
  },
  {
   "cell_type": "code",
   "execution_count": 206,
   "id": "bed09b19",
   "metadata": {},
   "outputs": [],
   "source": [
    "### creating visualisation for stores 86,155 sales ###"
   ]
  },
  {
   "cell_type": "code",
   "execution_count": 211,
   "id": "cb3e6f64",
   "metadata": {},
   "outputs": [],
   "source": [
    "trial_dataframe86_155=sales_for_visualisation(86,155)"
   ]
  },
  {
   "cell_type": "code",
   "execution_count": 212,
   "id": "33185d9c",
   "metadata": {},
   "outputs": [],
   "source": [
    "rect_data = trial_dataframe86_155[(trial_dataframe86_155['yyyymm'].astype(int) < 201905) &\n",
    "                            (trial_dataframe86_155['yyyymm'].astype(int) > 201901)]"
   ]
  },
  {
   "cell_type": "code",
   "execution_count": 213,
   "id": "e6708511",
   "metadata": {},
   "outputs": [],
   "source": [
    "transaction_month = pd.to_datetime(rect_data['TransactionMonth'])\n",
    "xmin = transaction_month.min()\n",
    "xmax = transaction_month.max()\n",
    "ymin=0\n",
    "ymax=float('inf')"
   ]
  },
  {
   "cell_type": "code",
   "execution_count": 214,
   "id": "77be5384",
   "metadata": {},
   "outputs": [
    {
     "data": {
      "image/png": "[encoded data removed]",
      "text/plain": [
       "<Figure size 640x480 with 1 Axes>"
      ]
     },
     "metadata": {},
     "output_type": "display_data"
    },
    {
     "data": {
      "text/plain": [
       "<ggplot: (8776638628618)>"
      ]
     },
     "execution_count": 214,
     "metadata": {},
     "output_type": "execute_result"
    }
   ],
   "source": [
    "ggplot(trial_dataframe86_155, aes('TransactionMonth', 'totSales', color='Store_type')) \\\n",
    "    + geom_rect(aes(xmin=xmin, xmax=xmax, ymin=ymin,\n",
    "                  ymax=ymax,alpha=0.2 ), show_legend=False)\\\n",
    "    + geom_line() + labs(x=\"Month of operation\", y=\"Total sales\", title=\"Total sales by month\")\n"
   ]
  },
  {
   "cell_type": "code",
   "execution_count": 215,
   "id": "77577fc9",
   "metadata": {},
   "outputs": [],
   "source": [
    "### creating visualisation for stores 88,178 sales ###\n",
    "trial_dataframe88_178=sales_for_visualisation(88,178)\n"
   ]
  },
  {
   "cell_type": "code",
   "execution_count": 216,
   "id": "5b297145",
   "metadata": {},
   "outputs": [],
   "source": [
    "rect_data = trial_dataframe88_178[(trial_dataframe88_178['yyyymm'].astype(int) < 201905) &\n",
    "                            (trial_dataframe88_178['yyyymm'].astype(int) > 201901)]"
   ]
  },
  {
   "cell_type": "code",
   "execution_count": 217,
   "id": "0e276768",
   "metadata": {},
   "outputs": [],
   "source": [
    "transaction_month = pd.to_datetime(rect_data['TransactionMonth'])\n",
    "xmin = transaction_month.min()\n",
    "xmax = transaction_month.max()\n",
    "ymin=0\n",
    "ymax=float('inf')"
   ]
  },
  {
   "cell_type": "code",
   "execution_count": 218,
   "id": "3a1ad43f",
   "metadata": {},
   "outputs": [
    {
     "data": {
      "image/png": "[encoded data removed]",
      "text/plain": [
       "<Figure size 640x480 with 1 Axes>"
      ]
     },
     "metadata": {},
     "output_type": "display_data"
    },
    {
     "data": {
      "text/plain": [
       "<ggplot: (8776565279997)>"
      ]
     },
     "execution_count": 218,
     "metadata": {},
     "output_type": "execute_result"
    }
   ],
   "source": [
    "ggplot(trial_dataframe88_178, aes('TransactionMonth', 'totSales', color='Store_type')) \\\n",
    "    + geom_rect(aes(xmin=xmin, xmax=xmax, ymin=ymin,\n",
    "                  ymax=ymax,alpha=0.2 ), show_legend=False)\\\n",
    "    + geom_line() + labs(x=\"Month of operation\", y=\"Total sales\", title=\"Total sales by month\")\n"
   ]
  },
  {
   "cell_type": "code",
   "execution_count": null,
   "id": "613db656",
   "metadata": {},
   "outputs": [],
   "source": []
  }
 ],
 "metadata": {
  "kernelspec": {
   "display_name": "Python 3",
   "language": "python",
   "name": "python3"
  },
  "language_info": {
   "codemirror_mode": {
    "name": "ipython",
    "version": 3
   },
   "file_extension": ".py",
   "mimetype": "text/x-python",
   "name": "python",
   "nbconvert_exporter": "python",
   "pygments_lexer": "ipython3",
   "version": "3.8.8"
  }
 },
 "nbformat": 4,
 "nbformat_minor": 5
}
