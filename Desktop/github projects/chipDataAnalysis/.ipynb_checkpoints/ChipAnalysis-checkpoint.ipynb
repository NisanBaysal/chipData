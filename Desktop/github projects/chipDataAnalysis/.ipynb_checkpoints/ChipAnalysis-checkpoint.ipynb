{
 "cells": [
  {
   "cell_type": "code",
   "execution_count": 1,
   "id": "cdd73d70",
   "metadata": {},
   "outputs": [],
   "source": [
    "import pandas as pd\n",
    "import xlrd\n",
    "import numpy as np\n",
    "import seaborn as sns\n",
    "import matplotlib.pyplot as plt\n",
    "from scipy.stats import ttest_ind\n",
    "\n"
   ]
  },
  {
   "cell_type": "code",
   "execution_count": 2,
   "id": "b17d9d14",
   "metadata": {},
   "outputs": [],
   "source": [
    "missing_values = [\"n/a\", \"na\", \"--\"]\n",
    "purchaseBehvaiour=pd.read_csv(\"files/QVI_purchase_behaviour.csv\",na_values = missing_values)"
   ]
  },
  {
   "cell_type": "code",
   "execution_count": 3,
   "id": "1fa23f05",
   "metadata": {},
   "outputs": [],
   "source": [
    "transactionData=pd.read_excel(\"files/QVI_transaction_data.xlsx\",na_values = missing_values)\n"
   ]
  },
  {
   "cell_type": "code",
   "execution_count": 4,
   "id": "64b3c8a9",
   "metadata": {},
   "outputs": [],
   "source": [
    "#purchaseBehvaiour.head()"
   ]
  },
  {
   "cell_type": "code",
   "execution_count": 5,
   "id": "7dc9a53c",
   "metadata": {},
   "outputs": [
    {
     "data": {
      "text/html": [
       "<div>\n",
       "<style scoped>\n",
       "    .dataframe tbody tr th:only-of-type {\n",
       "        vertical-align: middle;\n",
       "    }\n",
       "\n",
       "    .dataframe tbody tr th {\n",
       "        vertical-align: top;\n",
       "    }\n",
       "\n",
       "    .dataframe thead th {\n",
       "        text-align: right;\n",
       "    }\n",
       "</style>\n",
       "<table border=\"1\" class=\"dataframe\">\n",
       "  <thead>\n",
       "    <tr style=\"text-align: right;\">\n",
       "      <th></th>\n",
       "      <th>LYLTY_CARD_NBR</th>\n",
       "      <th>LIFESTAGE</th>\n",
       "      <th>PREMIUM_CUSTOMER</th>\n",
       "    </tr>\n",
       "  </thead>\n",
       "  <tbody>\n",
       "    <tr>\n",
       "      <th>0</th>\n",
       "      <td>1000</td>\n",
       "      <td>YOUNG SINGLES/COUPLES</td>\n",
       "      <td>Premium</td>\n",
       "    </tr>\n",
       "    <tr>\n",
       "      <th>1</th>\n",
       "      <td>1002</td>\n",
       "      <td>YOUNG SINGLES/COUPLES</td>\n",
       "      <td>Mainstream</td>\n",
       "    </tr>\n",
       "    <tr>\n",
       "      <th>2</th>\n",
       "      <td>1003</td>\n",
       "      <td>YOUNG FAMILIES</td>\n",
       "      <td>Budget</td>\n",
       "    </tr>\n",
       "    <tr>\n",
       "      <th>3</th>\n",
       "      <td>1004</td>\n",
       "      <td>OLDER SINGLES/COUPLES</td>\n",
       "      <td>Mainstream</td>\n",
       "    </tr>\n",
       "    <tr>\n",
       "      <th>4</th>\n",
       "      <td>1005</td>\n",
       "      <td>MIDAGE SINGLES/COUPLES</td>\n",
       "      <td>Mainstream</td>\n",
       "    </tr>\n",
       "  </tbody>\n",
       "</table>\n",
       "</div>"
      ],
      "text/plain": [
       "   LYLTY_CARD_NBR               LIFESTAGE PREMIUM_CUSTOMER\n",
       "0            1000   YOUNG SINGLES/COUPLES          Premium\n",
       "1            1002   YOUNG SINGLES/COUPLES       Mainstream\n",
       "2            1003          YOUNG FAMILIES           Budget\n",
       "3            1004   OLDER SINGLES/COUPLES       Mainstream\n",
       "4            1005  MIDAGE SINGLES/COUPLES       Mainstream"
      ]
     },
     "execution_count": 5,
     "metadata": {},
     "output_type": "execute_result"
    }
   ],
   "source": [
    "transactionData.head()\n",
    "purchaseBehvaiour.head()"
   ]
  },
  {
   "cell_type": "code",
   "execution_count": 6,
   "id": "50e81d90",
   "metadata": {},
   "outputs": [],
   "source": [
    "#Turn date into date format from integer format\n",
    "transactionData[\"DATE\"] = pd.to_datetime(transactionData[\"DATE\"], origin ='1899/12/30', unit = 'D')"
   ]
  },
  {
   "cell_type": "code",
   "execution_count": 7,
   "id": "d0cb3786",
   "metadata": {},
   "outputs": [
    {
     "data": {
      "text/plain": [
       "count                                     264836\n",
       "unique                                       114\n",
       "top       Kettle Mozzarella   Basil & Pesto 175g\n",
       "freq                                        3304\n",
       "Name: PROD_NAME, dtype: object"
      ]
     },
     "execution_count": 7,
     "metadata": {},
     "output_type": "execute_result"
    }
   ],
   "source": [
    "#quick summary of the prod_name column\n",
    "transactionData['PROD_NAME'].describe()"
   ]
  },
  {
   "cell_type": "code",
   "execution_count": 8,
   "id": "3210b244",
   "metadata": {},
   "outputs": [],
   "source": [
    "#we will look at the prod sizes, and prod brands later so I am multiplying the PROD_NAME column and calling it PROD_SIZES and PROD_BRAND for later analysis.\n",
    "transactionData['PROD_SIZES']=transactionData['PROD_NAME']\n",
    "transactionData['PROD_BRAND']=transactionData['PROD_NAME']"
   ]
  },
  {
   "cell_type": "code",
   "execution_count": 9,
   "id": "f18a5b50",
   "metadata": {},
   "outputs": [],
   "source": [
    "#remove special characters \n",
    "transactionData['PROD_NAME']=transactionData['PROD_NAME'].str.replace('\\W', ' ', regex=True)\n",
    "#remove numbers\n",
    "transactionData['PROD_NAME']=transactionData['PROD_NAME'].str.replace('\\d+', ' ',regex=True)\n",
    "transactionData['PROD_NAME']=transactionData['PROD_NAME'].str.replace('g', ' ',regex=True)\n",
    "transactionData['PROD_NAME']=transactionData['PROD_NAME'].str.replace('\\s+', ' ',regex=True)"
   ]
  },
  {
   "cell_type": "code",
   "execution_count": 10,
   "id": "3f2e0e49",
   "metadata": {},
   "outputs": [
    {
     "data": {
      "text/plain": [
       "0            Natural Chip Compny SeaSalt \n",
       "1                       CCs Nacho Cheese \n",
       "2       Smiths Crinkle Cut Chips Chicken \n",
       "3       Smiths Chip Thinly S Cream Onion \n",
       "4    Kettle Tortilla ChpsHny Jlpno Chili \n",
       "Name: PROD_NAME, dtype: object"
      ]
     },
     "execution_count": 10,
     "metadata": {},
     "output_type": "execute_result"
    }
   ],
   "source": [
    "transactionData['PROD_NAME'].head()"
   ]
  },
  {
   "cell_type": "code",
   "execution_count": 11,
   "id": "54d73e51",
   "metadata": {
    "scrolled": false
   },
   "outputs": [
    {
     "name": "stdout",
     "output_type": "stream",
     "text": [
      "['Natural Chip Compny SeaSalt ', 'CCs Nacho Cheese ', 'Smiths Crinkle Cut Chips Chicken ', 'Smiths Chip Thinly S Cream Onion ', 'Kettle Tortilla ChpsHny Jlpno Chili ', 'Old El Paso Salsa Dip Tomato Mild ', 'Smiths Crinkle Chips Salt Vine ar ', 'Grain Waves Sweet Chilli ', 'Doritos Corn Chip Mexican Jalapeno ', 'Grain Waves Sour Cream Chives G', 'Smiths Crinkle Chips Salt Vine ar ', 'Kettle Sensations Siracha Lime ', 'Twisties Cheese ', 'WW Crinkle Cut Chicken ', 'Thins Chips Li ht Tan y ', 'CCs Ori inal ', 'Bur er Rin s ', 'NCC Sour Cream Garden Chives ', 'Doritos Corn Chip Southern Chicken ', 'Cheezels Cheese Box ', 'Smiths Crinkle Ori inal ', 'NCC Sour Cream Garden Chives ', 'Infzns Crn Crnchers Tan y Gcamole ', 'Kettle Sea Salt And Vine ar ', 'Kettle Tortilla ChpsHny Jlpno Chili ', 'Old El Paso Salsa Dip Tomato Mild ']\n"
     ]
    }
   ],
   "source": [
    "#let's create a list with the product names\n",
    "prod_name_list=[]\n",
    "for x in transactionData.index:\n",
    "    b=transactionData.PROD_NAME[x]\n",
    "    prod_name_list.append(b)\n",
    "print(prod_name_list[0:26])\n",
    "#we can see that there are some salsa products that we dont want"
   ]
  },
  {
   "cell_type": "markdown",
   "id": "4efd7a7c",
   "metadata": {},
   "source": [
    "#let's see the words\n",
    "new_list=[]\n",
    "for word in prod_name_list:\n",
    "    new_list.append(word.split(' '))\n",
    "#print(new_list[0:5])\n",
    "#let's see all the unique words that have been used\n",
    "res = list(set(i for j in new_list for i in j))\n",
    "print(res)\n",
    "#we can see that there are some words that have no meaning"
   ]
  },
  {
   "cell_type": "code",
   "execution_count": 12,
   "id": "670e4749",
   "metadata": {},
   "outputs": [],
   "source": [
    "#let's remove the rows that contain salsa products from the data set\n",
    "transactionData = transactionData[transactionData[\"PROD_NAME\"].str.contains(\"Salsa\") == False]\n"
   ]
  },
  {
   "cell_type": "code",
   "execution_count": 13,
   "id": "ed85f3b0",
   "metadata": {},
   "outputs": [
    {
     "name": "stdout",
     "output_type": "stream",
     "text": [
      "False\n"
     ]
    }
   ],
   "source": [
    "#let's see if there are any missing values\n",
    "print(transactionData.isnull().values.any())\n",
    "#we can see that there are no missing values"
   ]
  },
  {
   "cell_type": "code",
   "execution_count": 14,
   "id": "07c3d264",
   "metadata": {},
   "outputs": [
    {
     "name": "stdout",
     "output_type": "stream",
     "text": [
      "           STORE_NBR  LYLTY_CARD_NBR        TXN_ID       PROD_NBR  \\\n",
      "count  246742.000000    2.467420e+05  2.467420e+05  246742.000000   \n",
      "mean      135.051098    1.355310e+05  1.351311e+05      56.351789   \n",
      "std        76.787096    8.071528e+04  7.814772e+04      33.695428   \n",
      "min         1.000000    1.000000e+03  1.000000e+00       1.000000   \n",
      "25%        70.000000    7.001500e+04  6.756925e+04      26.000000   \n",
      "50%       130.000000    1.303670e+05  1.351830e+05      53.000000   \n",
      "75%       203.000000    2.030840e+05  2.026538e+05      87.000000   \n",
      "max       272.000000    2.373711e+06  2.415841e+06     114.000000   \n",
      "\n",
      "            PROD_QTY      TOT_SALES  \n",
      "count  246742.000000  246742.000000  \n",
      "mean        1.908062       7.321322  \n",
      "std         0.659831       3.077828  \n",
      "min         1.000000       1.700000  \n",
      "25%         2.000000       5.800000  \n",
      "50%         2.000000       7.400000  \n",
      "75%         2.000000       8.800000  \n",
      "max       200.000000     650.000000  \n"
     ]
    }
   ],
   "source": [
    "#let's check the summary statistics of the dataframe to see if there are any outliers\n",
    "print(transactionData.describe())"
   ]
  },
  {
   "cell_type": "markdown",
   "id": "00cb985b",
   "metadata": {},
   "source": [
    "we can see that the mean product quantity is 1.9 however maximum product quantity is 200. Could that be a mistake? Let's check the transaction, to see."
   ]
  },
  {
   "cell_type": "code",
   "execution_count": 15,
   "id": "5e55d925",
   "metadata": {},
   "outputs": [
    {
     "name": "stderr",
     "output_type": "stream",
     "text": [
      "/Users/nisanbaysal/opt/anaconda3/lib/python3.8/site-packages/seaborn/_decorators.py:36: FutureWarning: Pass the following variable as a keyword arg: x. From version 0.12, the only valid positional argument will be `data`, and passing other arguments without an explicit keyword will result in an error or misinterpretation.\n",
      "  warnings.warn(\n"
     ]
    },
    {
     "data": {
      "text/plain": [
       "<AxesSubplot:xlabel='PROD_QTY'>"
      ]
     },
     "execution_count": 15,
     "metadata": {},
     "output_type": "execute_result"
    },
    {
     "data": {
      "image/png": "[encoded data removed]",
      "text/plain": [
       "<Figure size 432x288 with 1 Axes>"
      ]
     },
     "metadata": {
      "needs_background": "light"
     },
     "output_type": "display_data"
    }
   ],
   "source": [
    "#Let's check if there are other outliers\n",
    "sns.boxplot(transactionData['PROD_QTY'])"
   ]
  },
  {
   "cell_type": "code",
   "execution_count": 16,
   "id": "9b60d61d",
   "metadata": {},
   "outputs": [
    {
     "name": "stdout",
     "output_type": "stream",
     "text": [
      "            DATE  STORE_NBR  LYLTY_CARD_NBR  TXN_ID  PROD_NBR  \\\n",
      "69762 2018-08-19        226          226000  226201         4   \n",
      "69763 2019-05-20        226          226000  226210         4   \n",
      "\n",
      "                      PROD_NAME  PROD_QTY  TOT_SALES  \\\n",
      "69762  Dorito Corn Chp Supreme        200      650.0   \n",
      "69763  Dorito Corn Chp Supreme        200      650.0   \n",
      "\n",
      "                             PROD_SIZES                        PROD_BRAND  \n",
      "69762  Dorito Corn Chp     Supreme 380g  Dorito Corn Chp     Supreme 380g  \n",
      "69763  Dorito Corn Chp     Supreme 380g  Dorito Corn Chp     Supreme 380g  \n"
     ]
    }
   ],
   "source": [
    "#Let's select the outlier rows\n",
    "check_outlier = transactionData[transactionData['PROD_QTY'] >150] \n",
    "print(check_outlier)"
   ]
  },
  {
   "cell_type": "markdown",
   "id": "4c4b2f63",
   "metadata": {},
   "source": [
    "Interesting! There seems to be 2 of those sales and the customer number is the same in both transactions. Let's see if the customer has made other purchases."
   ]
  },
  {
   "cell_type": "code",
   "execution_count": 17,
   "id": "6bc17f68",
   "metadata": {},
   "outputs": [
    {
     "name": "stdout",
     "output_type": "stream",
     "text": [
      "            DATE  STORE_NBR  LYLTY_CARD_NBR  TXN_ID  PROD_NBR  \\\n",
      "69762 2018-08-19        226          226000  226201         4   \n",
      "69763 2019-05-20        226          226000  226210         4   \n",
      "\n",
      "                      PROD_NAME  PROD_QTY  TOT_SALES  \\\n",
      "69762  Dorito Corn Chp Supreme        200      650.0   \n",
      "69763  Dorito Corn Chp Supreme        200      650.0   \n",
      "\n",
      "                             PROD_SIZES                        PROD_BRAND  \n",
      "69762  Dorito Corn Chp     Supreme 380g  Dorito Corn Chp     Supreme 380g  \n",
      "69763  Dorito Corn Chp     Supreme 380g  Dorito Corn Chp     Supreme 380g  \n"
     ]
    }
   ],
   "source": [
    "check_customer=transactionData[transactionData['LYLTY_CARD_NBR'] == 226000] \n",
    "print(check_customer)"
   ]
  },
  {
   "cell_type": "markdown",
   "id": "6ec38c47",
   "metadata": {},
   "source": [
    "The customer hasn't made any other purchases. Let's remove these transactions from our analysis as the customer seems to make commercial purchases. "
   ]
  },
  {
   "cell_type": "code",
   "execution_count": 18,
   "id": "78c8593d",
   "metadata": {},
   "outputs": [
    {
     "name": "stdout",
     "output_type": "stream",
     "text": [
      "           STORE_NBR  LYLTY_CARD_NBR        TXN_ID       PROD_NBR  \\\n",
      "count  246740.000000    2.467400e+05  2.467400e+05  246740.000000   \n",
      "mean      135.050361    1.355303e+05  1.351304e+05      56.352213   \n",
      "std        76.786971    8.071520e+04  7.814760e+04      33.695235   \n",
      "min         1.000000    1.000000e+03  1.000000e+00       1.000000   \n",
      "25%        70.000000    7.001500e+04  6.756875e+04      26.000000   \n",
      "50%       130.000000    1.303670e+05  1.351815e+05      53.000000   \n",
      "75%       203.000000    2.030832e+05  2.026522e+05      87.000000   \n",
      "max       272.000000    2.373711e+06  2.415841e+06     114.000000   \n",
      "\n",
      "            PROD_QTY      TOT_SALES  \n",
      "count  246740.000000  246740.000000  \n",
      "mean        1.906456       7.316113  \n",
      "std         0.342499       2.474897  \n",
      "min         1.000000       1.700000  \n",
      "25%         2.000000       5.800000  \n",
      "50%         2.000000       7.400000  \n",
      "75%         2.000000       8.800000  \n",
      "max         5.000000      29.500000  \n"
     ]
    }
   ],
   "source": [
    "#let's remove the outliers and resummarise our data\n",
    "transactionData=transactionData[transactionData['LYLTY_CARD_NBR'] != 226000] \n",
    "print(transactionData.describe())"
   ]
  },
  {
   "cell_type": "code",
   "execution_count": 19,
   "id": "983f9db2",
   "metadata": {},
   "outputs": [
    {
     "name": "stdout",
     "output_type": "stream",
     "text": [
      "            Counts\n",
      "2018-07-01     663\n",
      "2018-07-02     650\n",
      "2018-07-03     674\n",
      "2018-07-04     669\n",
      "2018-07-05     660\n",
      "...            ...\n",
      "2019-06-26     657\n",
      "2019-06-27     669\n",
      "2019-06-28     673\n",
      "2019-06-29     703\n",
      "2019-06-30     704\n",
      "\n",
      "[364 rows x 1 columns]\n"
     ]
    }
   ],
   "source": [
    "#let's see if the data contains any missing dates\n",
    "date_counts = transactionData[\"DATE\"].value_counts()\n",
    "date_counts = pd.DataFrame(data=date_counts)\n",
    "date_counts.rename({'DATE': 'Counts'}, axis=1, inplace=True)\n",
    "date_counts = date_counts.sort_index()\n",
    "print(date_counts)"
   ]
  },
  {
   "cell_type": "markdown",
   "id": "d2129153",
   "metadata": {},
   "source": [
    "There is one missing date. We can create a dataframe containing 365 days and check the difference within dataframes."
   ]
  },
  {
   "cell_type": "code",
   "execution_count": 20,
   "id": "4efe54dd",
   "metadata": {},
   "outputs": [],
   "source": [
    "year = pd.date_range(start='2018-07-01', end='2019-06-30', freq='D')\n",
    "date_counts['date'] = pd.to_datetime(date_counts.index)\n",
    "missing_day = np.setdiff1d(year, date_counts['date'])\n"
   ]
  },
  {
   "cell_type": "markdown",
   "id": "ec35964a",
   "metadata": {},
   "source": [
    "Here we can see that the missing day is 2018-12-25. Let's add that to the dataframe."
   ]
  },
  {
   "cell_type": "code",
   "execution_count": 21,
   "id": "c2c60f66",
   "metadata": {},
   "outputs": [
    {
     "name": "stdout",
     "output_type": "stream",
     "text": [
      "['2018-12-25T00:00:00.000000000']\n"
     ]
    }
   ],
   "source": [
    "print(missing_day)"
   ]
  },
  {
   "cell_type": "code",
   "execution_count": 22,
   "id": "2b734cfa",
   "metadata": {},
   "outputs": [
    {
     "name": "stdout",
     "output_type": "stream",
     "text": [
      "            Counts\n",
      "2018-07-01   663.0\n",
      "2018-07-02   650.0\n",
      "2018-07-03   674.0\n",
      "2018-07-04   669.0\n",
      "2018-07-05   660.0\n",
      "...            ...\n",
      "2019-06-26   657.0\n",
      "2019-06-27   669.0\n",
      "2019-06-28   673.0\n",
      "2019-06-29   703.0\n",
      "2019-06-30   704.0\n",
      "\n",
      "[365 rows x 1 columns]\n"
     ]
    }
   ],
   "source": [
    "date_counts = date_counts.reindex(year)\n",
    "date_counts=date_counts.drop('date', axis=1)\n",
    "print(date_counts)"
   ]
  },
  {
   "cell_type": "code",
   "execution_count": 23,
   "id": "418ee752",
   "metadata": {},
   "outputs": [
    {
     "data": {
      "image/png": "[encoded data removed]",
      "text/plain": [
       "<Figure size 432x288 with 1 Axes>"
      ]
     },
     "metadata": {
      "needs_background": "light"
     },
     "output_type": "display_data"
    }
   ],
   "source": [
    "date_counts.plot()\n",
    "plt.title('Transactions per day')\n",
    "plt.xlabel('Date')\n",
    "plt.ylabel('Transaction count')\n",
    "plt.show()"
   ]
  },
  {
   "cell_type": "markdown",
   "id": "e575e19b",
   "metadata": {},
   "source": [
    "We can see that sales rise up leading to Chrismas and the shops are closed on Chrismas day. Other than that we dont have any outliers. Let's move on to check the pack sizes in PR0D_SIZE and see if they are sensible."
   ]
  },
  {
   "cell_type": "code",
   "execution_count": 24,
   "id": "ce1da1dd",
   "metadata": {},
   "outputs": [],
   "source": [
    "#this step is to parse numbers and get rid of the letters or any other special characters\n",
    "transactionData['PROD_SIZES']=transactionData['PROD_SIZES'].str.extract('(\\d+)')\n",
    "transactionData['PROD_SIZES']\n",
    "transactionData['PROD_SIZES'].describe()\n",
    "PROD_SIZES_COUNTS = transactionData[\"PROD_SIZES\"].value_counts()\n",
    "PROD_SIZES_COUNTS = pd.DataFrame(data=PROD_SIZES_COUNTS)\n",
    "PROD_SIZES_COUNTS = PROD_SIZES_COUNTS.sort_index()"
   ]
  },
  {
   "cell_type": "code",
   "execution_count": 25,
   "id": "d7f5f8f8",
   "metadata": {},
   "outputs": [],
   "source": [
    "#changing the placement of the last two rows to be the first two rows\n",
    "last_two_rows = PROD_SIZES_COUNTS.iloc[-2:]\n",
    "PROD_SIZES_COUNTS = pd.concat([last_two_rows, PROD_SIZES_COUNTS.iloc[:-2]])"
   ]
  },
  {
   "cell_type": "code",
   "execution_count": 26,
   "id": "431d341d",
   "metadata": {},
   "outputs": [
    {
     "data": {
      "text/plain": [
       "<BarContainer object of 20 artists>"
      ]
     },
     "execution_count": 26,
     "metadata": {},
     "output_type": "execute_result"
    },
    {
     "data": {
      "image/png": "[encoded data removed]",
      "text/plain": [
       "<Figure size 720x360 with 1 Axes>"
      ]
     },
     "metadata": {
      "needs_background": "light"
     },
     "output_type": "display_data"
    }
   ],
   "source": [
    "#plotting our figure\n",
    "plt.figure(figsize=(10, 5))\n",
    "plt.title('Transaction by pack size')\n",
    "plt.xlabel('Pack size')\n",
    "plt.ylabel('Transaction count')\n",
    "plt.bar(PROD_SIZES_COUNTS.index, PROD_SIZES_COUNTS['PROD_SIZES'])"
   ]
  },
  {
   "cell_type": "markdown",
   "id": "d48606cd",
   "metadata": {},
   "source": [
    "We can see the pack sizes bought seem to be reasonable. The most popular pack sizes are 175 g and 150 g. Too big and too small packs are both not that popular."
   ]
  },
  {
   "cell_type": "markdown",
   "id": "09a71dc9",
   "metadata": {},
   "source": [
    "Let's look at the brands now. To analyse the brands we will use the PROD_BRAND column we have created before. As the brand names are usually in the beginning of the string, we will extract the first word of the string in every column."
   ]
  },
  {
   "cell_type": "code",
   "execution_count": 27,
   "id": "f7e432e2",
   "metadata": {},
   "outputs": [
    {
     "data": {
      "text/plain": [
       "0          Natural\n",
       "1              CCs\n",
       "2           Smiths\n",
       "3           Smiths\n",
       "4           Kettle\n",
       "            ...   \n",
       "264831      Kettle\n",
       "264832    Tostitos\n",
       "264833     Doritos\n",
       "264834     Doritos\n",
       "264835    Tostitos\n",
       "Name: PROD_BRAND, Length: 246740, dtype: object"
      ]
     },
     "execution_count": 27,
     "metadata": {},
     "output_type": "execute_result"
    }
   ],
   "source": [
    "transactionData['PROD_BRAND'] = transactionData['PROD_BRAND'].str.split().str[0]\n",
    "transactionData['PROD_BRAND']"
   ]
  },
  {
   "cell_type": "markdown",
   "id": "843d0c61",
   "metadata": {},
   "source": [
    "Let's group these together now to see if there are any of the same brands with different names. Before we group them together we can see that some brands have multiple name enties(doritos, dorito). Let's remove all the s's at the end of the string so the value.counts() function can see they're the same brand. The use of uppercase and lowercase seems to follow the same convention in every string however just to be safe, we will convert everything to lowercase."
   ]
  },
  {
   "cell_type": "code",
   "execution_count": 28,
   "id": "bb6fe8db",
   "metadata": {},
   "outputs": [],
   "source": [
    "transactionData['PROD_BRAND'] = transactionData['PROD_BRAND'].str.replace('s$', '', regex=True)\n",
    "transactionData['PROD_BRAND'] = transactionData['PROD_BRAND'].str.lower()\n"
   ]
  },
  {
   "cell_type": "code",
   "execution_count": 29,
   "id": "71a89b1a",
   "metadata": {},
   "outputs": [],
   "source": [
    "brand_counts = transactionData[\"PROD_BRAND\"].value_counts()\n",
    "brand_counts = pd.DataFrame(data=brand_counts)"
   ]
  },
  {
   "cell_type": "markdown",
   "id": "1d0944cf",
   "metadata": {},
   "source": [
    "When we look at the data we can see that we still have some brand entires twice. Let's find them all and combine them. red&rrd, ww& woolworth, infuzion&infzn,natural&ncc, grain& grnwve, snbt,sunbite."
   ]
  },
  {
   "cell_type": "code",
   "execution_count": 30,
   "id": "1a65ca2d",
   "metadata": {},
   "outputs": [],
   "source": [
    "#we can make all these changes in one line however for easier readibility I'll combine each brand on a different line.\n",
    "brand_counts.rename(index={\"red\": \"redrockdeli\", \"rrd\": \"redrockdeli\"}, inplace=True)\n",
    "brand_counts.rename(index={\"ww\": \"woolworths\", \"woolworth\": \"woolworths\"}, inplace=True)\n",
    "brand_counts.rename(index={\"infuzion\": \"infuzions\", \"infzn\": \"infuzions\"}, inplace=True)\n",
    "brand_counts.rename(index={\"natural\": \"naturalchipco\", \"ncc\": \"naturalchipco\"}, inplace=True)\n",
    "brand_counts.rename(index={\"grain\": \"grainwaves\", \"grnwve\": \"grainwaves\"}, inplace=True)\n",
    "brand_counts.rename(index={\"snbt\": \"sunbites\", \"sunbite\": \"sunbites\"}, inplace=True)\n",
    "#now that we have the same naming convention let's merge the same brands into the same row.\n",
    "brand_counts=brand_counts.groupby(brand_counts.index).sum()\n",
    "brand_counts = brand_counts.sort_values('PROD_BRAND')"
   ]
  },
  {
   "cell_type": "markdown",
   "id": "dc2e9144",
   "metadata": {},
   "source": [
    "Let's create a plot to see how much each brand sold throughout the year."
   ]
  },
  {
   "cell_type": "code",
   "execution_count": 31,
   "id": "6e3dee17",
   "metadata": {},
   "outputs": [
    {
     "data": {
      "text/plain": [
       "<BarContainer object of 20 artists>"
      ]
     },
     "execution_count": 31,
     "metadata": {},
     "output_type": "execute_result"
    },
    {
     "data": {
      "image/png": "[encoded data removed]",
      "text/plain": [
       "<Figure size 720x360 with 1 Axes>"
      ]
     },
     "metadata": {
      "needs_background": "light"
     },
     "output_type": "display_data"
    }
   ],
   "source": [
    "plt.figure(figsize=(10, 5))\n",
    "plt.title('Transaction by brand')\n",
    "plt.xlabel('Brand Name')\n",
    "plt.xticks(rotation=60)\n",
    "plt.ylabel('Transaction count')\n",
    "plt.bar(brand_counts.index, brand_counts['PROD_BRAND'])"
   ]
  },
  {
   "cell_type": "markdown",
   "id": "8765992f",
   "metadata": {},
   "source": [
    "## Insights\n",
    "There we go we can see the most popular brands now. We vab see that the most sold chip brand was kettle, followed by Smiths and Doritos. We can also see that the least popular chip brands are french fries, burger and Cheetos. Which is interesting to see as I personally thought Cheetos would sell more."
   ]
  },
  {
   "cell_type": "markdown",
   "id": "d428eb6c",
   "metadata": {},
   "source": [
    "Okay! We've cleaned our transactionData dataset and analysed it. Let's do the same for our customer dataset(purchase behaviour)."
   ]
  },
  {
   "cell_type": "code",
   "execution_count": 32,
   "id": "3d988959",
   "metadata": {},
   "outputs": [
    {
     "data": {
      "text/html": [
       "<div>\n",
       "<style scoped>\n",
       "    .dataframe tbody tr th:only-of-type {\n",
       "        vertical-align: middle;\n",
       "    }\n",
       "\n",
       "    .dataframe tbody tr th {\n",
       "        vertical-align: top;\n",
       "    }\n",
       "\n",
       "    .dataframe thead th {\n",
       "        text-align: right;\n",
       "    }\n",
       "</style>\n",
       "<table border=\"1\" class=\"dataframe\">\n",
       "  <thead>\n",
       "    <tr style=\"text-align: right;\">\n",
       "      <th></th>\n",
       "      <th>LYLTY_CARD_NBR</th>\n",
       "      <th>LIFESTAGE</th>\n",
       "      <th>PREMIUM_CUSTOMER</th>\n",
       "    </tr>\n",
       "  </thead>\n",
       "  <tbody>\n",
       "    <tr>\n",
       "      <th>0</th>\n",
       "      <td>1000</td>\n",
       "      <td>YOUNG SINGLES/COUPLES</td>\n",
       "      <td>Premium</td>\n",
       "    </tr>\n",
       "    <tr>\n",
       "      <th>1</th>\n",
       "      <td>1002</td>\n",
       "      <td>YOUNG SINGLES/COUPLES</td>\n",
       "      <td>Mainstream</td>\n",
       "    </tr>\n",
       "    <tr>\n",
       "      <th>2</th>\n",
       "      <td>1003</td>\n",
       "      <td>YOUNG FAMILIES</td>\n",
       "      <td>Budget</td>\n",
       "    </tr>\n",
       "    <tr>\n",
       "      <th>3</th>\n",
       "      <td>1004</td>\n",
       "      <td>OLDER SINGLES/COUPLES</td>\n",
       "      <td>Mainstream</td>\n",
       "    </tr>\n",
       "    <tr>\n",
       "      <th>4</th>\n",
       "      <td>1005</td>\n",
       "      <td>MIDAGE SINGLES/COUPLES</td>\n",
       "      <td>Mainstream</td>\n",
       "    </tr>\n",
       "    <tr>\n",
       "      <th>...</th>\n",
       "      <td>...</td>\n",
       "      <td>...</td>\n",
       "      <td>...</td>\n",
       "    </tr>\n",
       "    <tr>\n",
       "      <th>72632</th>\n",
       "      <td>2370651</td>\n",
       "      <td>MIDAGE SINGLES/COUPLES</td>\n",
       "      <td>Mainstream</td>\n",
       "    </tr>\n",
       "    <tr>\n",
       "      <th>72633</th>\n",
       "      <td>2370701</td>\n",
       "      <td>YOUNG FAMILIES</td>\n",
       "      <td>Mainstream</td>\n",
       "    </tr>\n",
       "    <tr>\n",
       "      <th>72634</th>\n",
       "      <td>2370751</td>\n",
       "      <td>YOUNG FAMILIES</td>\n",
       "      <td>Premium</td>\n",
       "    </tr>\n",
       "    <tr>\n",
       "      <th>72635</th>\n",
       "      <td>2370961</td>\n",
       "      <td>OLDER FAMILIES</td>\n",
       "      <td>Budget</td>\n",
       "    </tr>\n",
       "    <tr>\n",
       "      <th>72636</th>\n",
       "      <td>2373711</td>\n",
       "      <td>YOUNG SINGLES/COUPLES</td>\n",
       "      <td>Mainstream</td>\n",
       "    </tr>\n",
       "  </tbody>\n",
       "</table>\n",
       "<p>72637 rows × 3 columns</p>\n",
       "</div>"
      ],
      "text/plain": [
       "       LYLTY_CARD_NBR               LIFESTAGE PREMIUM_CUSTOMER\n",
       "0                1000   YOUNG SINGLES/COUPLES          Premium\n",
       "1                1002   YOUNG SINGLES/COUPLES       Mainstream\n",
       "2                1003          YOUNG FAMILIES           Budget\n",
       "3                1004   OLDER SINGLES/COUPLES       Mainstream\n",
       "4                1005  MIDAGE SINGLES/COUPLES       Mainstream\n",
       "...               ...                     ...              ...\n",
       "72632         2370651  MIDAGE SINGLES/COUPLES       Mainstream\n",
       "72633         2370701          YOUNG FAMILIES       Mainstream\n",
       "72634         2370751          YOUNG FAMILIES          Premium\n",
       "72635         2370961          OLDER FAMILIES           Budget\n",
       "72636         2373711   YOUNG SINGLES/COUPLES       Mainstream\n",
       "\n",
       "[72637 rows x 3 columns]"
      ]
     },
     "execution_count": 32,
     "metadata": {},
     "output_type": "execute_result"
    }
   ],
   "source": [
    "purchaseBehvaiour"
   ]
  },
  {
   "cell_type": "code",
   "execution_count": 33,
   "id": "0e79f678",
   "metadata": {},
   "outputs": [
    {
     "data": {
      "text/html": [
       "<div>\n",
       "<style scoped>\n",
       "    .dataframe tbody tr th:only-of-type {\n",
       "        vertical-align: middle;\n",
       "    }\n",
       "\n",
       "    .dataframe tbody tr th {\n",
       "        vertical-align: top;\n",
       "    }\n",
       "\n",
       "    .dataframe thead th {\n",
       "        text-align: right;\n",
       "    }\n",
       "</style>\n",
       "<table border=\"1\" class=\"dataframe\">\n",
       "  <thead>\n",
       "    <tr style=\"text-align: right;\">\n",
       "      <th></th>\n",
       "      <th>Customer_Count</th>\n",
       "    </tr>\n",
       "    <tr>\n",
       "      <th>LIFESTAGE</th>\n",
       "      <th></th>\n",
       "    </tr>\n",
       "  </thead>\n",
       "  <tbody>\n",
       "    <tr>\n",
       "      <th>MIDAGE SINGLES/COUPLES</th>\n",
       "      <td>7275</td>\n",
       "    </tr>\n",
       "    <tr>\n",
       "      <th>NEW FAMILIES</th>\n",
       "      <td>2549</td>\n",
       "    </tr>\n",
       "    <tr>\n",
       "      <th>OLDER FAMILIES</th>\n",
       "      <td>9780</td>\n",
       "    </tr>\n",
       "    <tr>\n",
       "      <th>OLDER SINGLES/COUPLES</th>\n",
       "      <td>14609</td>\n",
       "    </tr>\n",
       "    <tr>\n",
       "      <th>RETIREES</th>\n",
       "      <td>14805</td>\n",
       "    </tr>\n",
       "    <tr>\n",
       "      <th>YOUNG FAMILIES</th>\n",
       "      <td>9178</td>\n",
       "    </tr>\n",
       "    <tr>\n",
       "      <th>YOUNG SINGLES/COUPLES</th>\n",
       "      <td>14441</td>\n",
       "    </tr>\n",
       "  </tbody>\n",
       "</table>\n",
       "</div>"
      ],
      "text/plain": [
       "                        Customer_Count\n",
       "LIFESTAGE                             \n",
       "MIDAGE SINGLES/COUPLES            7275\n",
       "NEW FAMILIES                      2549\n",
       "OLDER FAMILIES                    9780\n",
       "OLDER SINGLES/COUPLES            14609\n",
       "RETIREES                         14805\n",
       "YOUNG FAMILIES                    9178\n",
       "YOUNG SINGLES/COUPLES            14441"
      ]
     },
     "execution_count": 33,
     "metadata": {},
     "output_type": "execute_result"
    }
   ],
   "source": [
    "customer_lifestage_count=purchaseBehvaiour.groupby(['LIFESTAGE']).count()\n",
    "customer_lifestage_count.drop('LYLTY_CARD_NBR', axis=1, inplace=True)\n",
    "customer_lifestage_count =customer_lifestage_count.rename(columns={'PREMIUM_CUSTOMER': 'Customer_Count'})\n",
    "customer_lifestage_count"
   ]
  },
  {
   "cell_type": "code",
   "execution_count": 34,
   "id": "80b91e86",
   "metadata": {},
   "outputs": [
    {
     "data": {
      "text/plain": [
       "<BarContainer object of 7 artists>"
      ]
     },
     "execution_count": 34,
     "metadata": {},
     "output_type": "execute_result"
    },
    {
     "data": {
      "image/png": "[encoded data removed]",
      "text/plain": [
       "<Figure size 432x288 with 1 Axes>"
      ]
     },
     "metadata": {
      "needs_background": "light"
     },
     "output_type": "display_data"
    }
   ],
   "source": [
    "plt.figure(figsize=(6, 4))\n",
    "plt.title('Customer by lifestage')\n",
    "plt.xlabel('Customer Lifestage')\n",
    "plt.xticks(rotation=90)\n",
    "plt.ylabel('Customer count')\n",
    "plt.bar(customer_lifestage_count.index, customer_lifestage_count['Customer_Count'])"
   ]
  },
  {
   "cell_type": "markdown",
   "id": "d1c67cc7",
   "metadata": {},
   "source": [
    "We can see that most customers are retirees and older singles/couples. Followed by young singles/couples. "
   ]
  },
  {
   "cell_type": "markdown",
   "id": "c2f05079",
   "metadata": {},
   "source": [
    "Let's combine the two tables(transactionData,purchaseBehvaiour). We are primarily interested in purchases and which customer they're connected to so we'll do a left join. "
   ]
  },
  {
   "cell_type": "code",
   "execution_count": 35,
   "id": "e88879dd",
   "metadata": {},
   "outputs": [],
   "source": [
    "combined_df = pd.merge(transactionData, purchaseBehvaiour, on='LYLTY_CARD_NBR', how='left')\n"
   ]
  },
  {
   "cell_type": "code",
   "execution_count": 36,
   "id": "c0f982de",
   "metadata": {},
   "outputs": [
    {
     "name": "stdout",
     "output_type": "stream",
     "text": [
      "False\n"
     ]
    }
   ],
   "source": [
    "#check if there are any null values. There are no null values!\n",
    "print(combined_df.isnull().values.any())"
   ]
  },
  {
   "cell_type": "markdown",
   "id": "d6bac19d",
   "metadata": {},
   "source": [
    "Let's save this dataset for later use in task 2"
   ]
  },
  {
   "cell_type": "code",
   "execution_count": 37,
   "id": "b0394abd",
   "metadata": {},
   "outputs": [],
   "source": [
    "combined_df.to_csv('combined_df_for_task2.csv', index=True)\n",
    "combined_df_fortask1=combined_df"
   ]
  },
  {
   "cell_type": "code",
   "execution_count": 38,
   "id": "8e76047c",
   "metadata": {},
   "outputs": [],
   "source": [
    "#removing the columns we don't need\n",
    "combined_df_for_last_bit=combined_df_fortask1.drop(['LYLTY_CARD_NBR', 'TXN_ID','PROD_NBR','PROD_SIZES','PROD_NAME','DATE','PROD_QTY','STORE_NBR'], axis=1)\n",
    "combined_df_fortask1 = combined_df_fortask1.drop(['LYLTY_CARD_NBR', 'TXN_ID','PROD_NBR', 'PROD_NAME','PROD_SIZES','PROD_BRAND','DATE','PROD_QTY','STORE_NBR'], axis=1)"
   ]
  },
  {
   "cell_type": "code",
   "execution_count": 39,
   "id": "6c126c67",
   "metadata": {},
   "outputs": [
    {
     "data": {
      "text/html": [
       "<div>\n",
       "<style scoped>\n",
       "    .dataframe tbody tr th:only-of-type {\n",
       "        vertical-align: middle;\n",
       "    }\n",
       "\n",
       "    .dataframe tbody tr th {\n",
       "        vertical-align: top;\n",
       "    }\n",
       "\n",
       "    .dataframe thead th {\n",
       "        text-align: right;\n",
       "    }\n",
       "</style>\n",
       "<table border=\"1\" class=\"dataframe\">\n",
       "  <thead>\n",
       "    <tr style=\"text-align: right;\">\n",
       "      <th></th>\n",
       "      <th>TOT_SALES</th>\n",
       "      <th>LIFESTAGE</th>\n",
       "      <th>PREMIUM_CUSTOMER</th>\n",
       "    </tr>\n",
       "  </thead>\n",
       "  <tbody>\n",
       "    <tr>\n",
       "      <th>0</th>\n",
       "      <td>6.0</td>\n",
       "      <td>YOUNG SINGLES/COUPLES</td>\n",
       "      <td>Premium</td>\n",
       "    </tr>\n",
       "    <tr>\n",
       "      <th>1</th>\n",
       "      <td>6.3</td>\n",
       "      <td>MIDAGE SINGLES/COUPLES</td>\n",
       "      <td>Budget</td>\n",
       "    </tr>\n",
       "    <tr>\n",
       "      <th>2</th>\n",
       "      <td>2.9</td>\n",
       "      <td>MIDAGE SINGLES/COUPLES</td>\n",
       "      <td>Budget</td>\n",
       "    </tr>\n",
       "    <tr>\n",
       "      <th>3</th>\n",
       "      <td>15.0</td>\n",
       "      <td>MIDAGE SINGLES/COUPLES</td>\n",
       "      <td>Budget</td>\n",
       "    </tr>\n",
       "    <tr>\n",
       "      <th>4</th>\n",
       "      <td>13.8</td>\n",
       "      <td>MIDAGE SINGLES/COUPLES</td>\n",
       "      <td>Budget</td>\n",
       "    </tr>\n",
       "    <tr>\n",
       "      <th>...</th>\n",
       "      <td>...</td>\n",
       "      <td>...</td>\n",
       "      <td>...</td>\n",
       "    </tr>\n",
       "    <tr>\n",
       "      <th>246735</th>\n",
       "      <td>10.8</td>\n",
       "      <td>YOUNG SINGLES/COUPLES</td>\n",
       "      <td>Premium</td>\n",
       "    </tr>\n",
       "    <tr>\n",
       "      <th>246736</th>\n",
       "      <td>4.4</td>\n",
       "      <td>YOUNG SINGLES/COUPLES</td>\n",
       "      <td>Premium</td>\n",
       "    </tr>\n",
       "    <tr>\n",
       "      <th>246737</th>\n",
       "      <td>8.8</td>\n",
       "      <td>YOUNG SINGLES/COUPLES</td>\n",
       "      <td>Premium</td>\n",
       "    </tr>\n",
       "    <tr>\n",
       "      <th>246738</th>\n",
       "      <td>7.8</td>\n",
       "      <td>YOUNG SINGLES/COUPLES</td>\n",
       "      <td>Premium</td>\n",
       "    </tr>\n",
       "    <tr>\n",
       "      <th>246739</th>\n",
       "      <td>8.8</td>\n",
       "      <td>YOUNG SINGLES/COUPLES</td>\n",
       "      <td>Premium</td>\n",
       "    </tr>\n",
       "  </tbody>\n",
       "</table>\n",
       "<p>246740 rows × 3 columns</p>\n",
       "</div>"
      ],
      "text/plain": [
       "        TOT_SALES               LIFESTAGE PREMIUM_CUSTOMER\n",
       "0             6.0   YOUNG SINGLES/COUPLES          Premium\n",
       "1             6.3  MIDAGE SINGLES/COUPLES           Budget\n",
       "2             2.9  MIDAGE SINGLES/COUPLES           Budget\n",
       "3            15.0  MIDAGE SINGLES/COUPLES           Budget\n",
       "4            13.8  MIDAGE SINGLES/COUPLES           Budget\n",
       "...           ...                     ...              ...\n",
       "246735       10.8   YOUNG SINGLES/COUPLES          Premium\n",
       "246736        4.4   YOUNG SINGLES/COUPLES          Premium\n",
       "246737        8.8   YOUNG SINGLES/COUPLES          Premium\n",
       "246738        7.8   YOUNG SINGLES/COUPLES          Premium\n",
       "246739        8.8   YOUNG SINGLES/COUPLES          Premium\n",
       "\n",
       "[246740 rows x 3 columns]"
      ]
     },
     "execution_count": 39,
     "metadata": {},
     "output_type": "execute_result"
    }
   ],
   "source": [
    "combined_df_fortask1"
   ]
  },
  {
   "cell_type": "markdown",
   "id": "2fd0a083",
   "metadata": {},
   "source": [
    "Let's create a dataset to find the total sales by lifestage and premium customer"
   ]
  },
  {
   "cell_type": "code",
   "execution_count": 40,
   "id": "7244a633",
   "metadata": {},
   "outputs": [],
   "source": [
    "sales_by_Cardtype = combined_df_fortask1.groupby('PREMIUM_CUSTOMER')[['TOT_SALES']].sum()"
   ]
  },
  {
   "cell_type": "code",
   "execution_count": 41,
   "id": "f4eaf834",
   "metadata": {},
   "outputs": [
    {
     "data": {
      "image/png": "[encoded data removed]",
      "text/plain": [
       "<Figure size 432x288 with 1 Axes>"
      ]
     },
     "metadata": {},
     "output_type": "display_data"
    }
   ],
   "source": [
    "plt.pie(sales_by_Cardtype['TOT_SALES'], labels=sales_by_Cardtype.index)\n",
    "# display the chart\n",
    "plt.show()"
   ]
  },
  {
   "cell_type": "markdown",
   "id": "d7e8df97",
   "metadata": {},
   "source": [
    "We can see that most customers who have cards and made purchases were using a Budget or Mainstream membership."
   ]
  },
  {
   "cell_type": "markdown",
   "id": "f5a0d688",
   "metadata": {},
   "source": [
    "Let's do the same for total sales by lifestage, to see which lifestage customers make more purchases."
   ]
  },
  {
   "cell_type": "code",
   "execution_count": 42,
   "id": "7e1d2d2f",
   "metadata": {},
   "outputs": [
    {
     "data": {
      "text/html": [
       "<div>\n",
       "<style scoped>\n",
       "    .dataframe tbody tr th:only-of-type {\n",
       "        vertical-align: middle;\n",
       "    }\n",
       "\n",
       "    .dataframe tbody tr th {\n",
       "        vertical-align: top;\n",
       "    }\n",
       "\n",
       "    .dataframe thead th {\n",
       "        text-align: right;\n",
       "    }\n",
       "</style>\n",
       "<table border=\"1\" class=\"dataframe\">\n",
       "  <thead>\n",
       "    <tr style=\"text-align: right;\">\n",
       "      <th></th>\n",
       "      <th>TOT_SALES</th>\n",
       "    </tr>\n",
       "    <tr>\n",
       "      <th>LIFESTAGE</th>\n",
       "      <th></th>\n",
       "    </tr>\n",
       "  </thead>\n",
       "  <tbody>\n",
       "    <tr>\n",
       "      <th>MIDAGE SINGLES/COUPLES</th>\n",
       "      <td>172523.80</td>\n",
       "    </tr>\n",
       "    <tr>\n",
       "      <th>NEW FAMILIES</th>\n",
       "      <td>47347.95</td>\n",
       "    </tr>\n",
       "    <tr>\n",
       "      <th>OLDER FAMILIES</th>\n",
       "      <td>328519.90</td>\n",
       "    </tr>\n",
       "    <tr>\n",
       "      <th>OLDER SINGLES/COUPLES</th>\n",
       "      <td>376019.65</td>\n",
       "    </tr>\n",
       "    <tr>\n",
       "      <th>RETIREES</th>\n",
       "      <td>342381.90</td>\n",
       "    </tr>\n",
       "    <tr>\n",
       "      <th>YOUNG FAMILIES</th>\n",
       "      <td>294627.90</td>\n",
       "    </tr>\n",
       "    <tr>\n",
       "      <th>YOUNG SINGLES/COUPLES</th>\n",
       "      <td>243756.60</td>\n",
       "    </tr>\n",
       "  </tbody>\n",
       "</table>\n",
       "</div>"
      ],
      "text/plain": [
       "                        TOT_SALES\n",
       "LIFESTAGE                        \n",
       "MIDAGE SINGLES/COUPLES  172523.80\n",
       "NEW FAMILIES             47347.95\n",
       "OLDER FAMILIES          328519.90\n",
       "OLDER SINGLES/COUPLES   376019.65\n",
       "RETIREES                342381.90\n",
       "YOUNG FAMILIES          294627.90\n",
       "YOUNG SINGLES/COUPLES   243756.60"
      ]
     },
     "execution_count": 42,
     "metadata": {},
     "output_type": "execute_result"
    }
   ],
   "source": [
    "sales_by_LifeStage = combined_df_fortask1.groupby('LIFESTAGE')[['TOT_SALES']].sum()\n",
    "sales_by_LifeStage\n",
    "#plt.bar(df_byLifeStage)"
   ]
  },
  {
   "cell_type": "code",
   "execution_count": 43,
   "id": "e45d72fb",
   "metadata": {},
   "outputs": [
    {
     "data": {
      "image/png": "[encoded data removed]",
      "text/plain": [
       "<Figure size 432x288 with 1 Axes>"
      ]
     },
     "metadata": {
      "needs_background": "light"
     },
     "output_type": "display_data"
    }
   ],
   "source": [
    "ax=sales_by_LifeStage.plot(kind='bar')\n",
    "ax.set_xlabel('LifeStage')\n",
    "ax.set_ylabel('Total Sales')\n",
    "ax.set_title('Total Sales by Lifestage')\n",
    "plt.show()\n"
   ]
  },
  {
   "cell_type": "markdown",
   "id": "1de47f14",
   "metadata": {},
   "source": [
    "## Insights\n",
    "We can see that older singles/couples, older families and retirees made more chips purchases than the other customer groups. Perhaps we can use this information to change the advertisement platforms and contents to increase interest in younger adults as well."
   ]
  },
  {
   "cell_type": "markdown",
   "id": "c86ff6de",
   "metadata": {},
   "source": [
    "Let's see which Lifestage+ customer type the sales are coming from."
   ]
  },
  {
   "cell_type": "code",
   "execution_count": 44,
   "id": "3751e78e",
   "metadata": {},
   "outputs": [],
   "source": [
    "sales_by_LifeStage_and_CardType = combined_df_fortask1.groupby(['LIFESTAGE', 'PREMIUM_CUSTOMER'])[['TOT_SALES']].sum()"
   ]
  },
  {
   "cell_type": "code",
   "execution_count": 45,
   "id": "5a8af633",
   "metadata": {},
   "outputs": [
    {
     "data": {
      "text/html": [
       "<div>\n",
       "<style scoped>\n",
       "    .dataframe tbody tr th:only-of-type {\n",
       "        vertical-align: middle;\n",
       "    }\n",
       "\n",
       "    .dataframe tbody tr th {\n",
       "        vertical-align: top;\n",
       "    }\n",
       "\n",
       "    .dataframe thead tr th {\n",
       "        text-align: left;\n",
       "    }\n",
       "\n",
       "    .dataframe thead tr:last-of-type th {\n",
       "        text-align: right;\n",
       "    }\n",
       "</style>\n",
       "<table border=\"1\" class=\"dataframe\">\n",
       "  <thead>\n",
       "    <tr>\n",
       "      <th></th>\n",
       "      <th colspan=\"3\" halign=\"left\">TOT_SALES</th>\n",
       "    </tr>\n",
       "    <tr>\n",
       "      <th>PREMIUM_CUSTOMER</th>\n",
       "      <th>Budget</th>\n",
       "      <th>Mainstream</th>\n",
       "      <th>Premium</th>\n",
       "    </tr>\n",
       "    <tr>\n",
       "      <th>LIFESTAGE</th>\n",
       "      <th></th>\n",
       "      <th></th>\n",
       "      <th></th>\n",
       "    </tr>\n",
       "  </thead>\n",
       "  <tbody>\n",
       "    <tr>\n",
       "      <th>MIDAGE SINGLES/COUPLES</th>\n",
       "      <td>33345.70</td>\n",
       "      <td>84734.25</td>\n",
       "      <td>54443.85</td>\n",
       "    </tr>\n",
       "    <tr>\n",
       "      <th>NEW FAMILIES</th>\n",
       "      <td>20607.45</td>\n",
       "      <td>15979.70</td>\n",
       "      <td>10760.80</td>\n",
       "    </tr>\n",
       "    <tr>\n",
       "      <th>OLDER FAMILIES</th>\n",
       "      <td>156863.75</td>\n",
       "      <td>96413.55</td>\n",
       "      <td>75242.60</td>\n",
       "    </tr>\n",
       "    <tr>\n",
       "      <th>OLDER SINGLES/COUPLES</th>\n",
       "      <td>127833.60</td>\n",
       "      <td>124648.50</td>\n",
       "      <td>123537.55</td>\n",
       "    </tr>\n",
       "    <tr>\n",
       "      <th>RETIREES</th>\n",
       "      <td>105916.30</td>\n",
       "      <td>145168.95</td>\n",
       "      <td>91296.65</td>\n",
       "    </tr>\n",
       "    <tr>\n",
       "      <th>YOUNG FAMILIES</th>\n",
       "      <td>129717.95</td>\n",
       "      <td>86338.25</td>\n",
       "      <td>78571.70</td>\n",
       "    </tr>\n",
       "    <tr>\n",
       "      <th>YOUNG SINGLES/COUPLES</th>\n",
       "      <td>57122.10</td>\n",
       "      <td>147582.20</td>\n",
       "      <td>39052.30</td>\n",
       "    </tr>\n",
       "  </tbody>\n",
       "</table>\n",
       "</div>"
      ],
      "text/plain": [
       "                        TOT_SALES                      \n",
       "PREMIUM_CUSTOMER           Budget Mainstream    Premium\n",
       "LIFESTAGE                                              \n",
       "MIDAGE SINGLES/COUPLES   33345.70   84734.25   54443.85\n",
       "NEW FAMILIES             20607.45   15979.70   10760.80\n",
       "OLDER FAMILIES          156863.75   96413.55   75242.60\n",
       "OLDER SINGLES/COUPLES   127833.60  124648.50  123537.55\n",
       "RETIREES                105916.30  145168.95   91296.65\n",
       "YOUNG FAMILIES          129717.95   86338.25   78571.70\n",
       "YOUNG SINGLES/COUPLES    57122.10  147582.20   39052.30"
      ]
     },
     "execution_count": 45,
     "metadata": {},
     "output_type": "execute_result"
    }
   ],
   "source": [
    "sales_by_LifeStage_and_CardType\n",
    "sales_by_LifeStage_and_CardType = sales_by_LifeStage_and_CardType.unstack()\n",
    "sales_by_LifeStage_and_CardType"
   ]
  },
  {
   "cell_type": "code",
   "execution_count": 46,
   "id": "77522b53",
   "metadata": {
    "scrolled": true
   },
   "outputs": [
    {
     "data": {
      "image/png": "[encoded data removed]",
      "text/plain": [
       "<Figure size 432x288 with 1 Axes>"
      ]
     },
     "metadata": {
      "needs_background": "light"
     },
     "output_type": "display_data"
    }
   ],
   "source": [
    "ax=sales_by_LifeStage_and_CardType.plot(kind='bar')\n",
    "plt.show()\n"
   ]
  },
  {
   "cell_type": "markdown",
   "id": "005c641f",
   "metadata": {},
   "source": [
    "## Insights\n",
    "We can get a lot of information from this barchart. None of the age groups have Premium as their most preffered card type. Maybe we should make Premium card more desirable by having more promotions and discounts exclusive to people who use the premium membership.\n",
    "We can also see that most chip sales are coming from older budget families, singles/couples and retires and retirees and young singles/couples that have the mainstream membership."
   ]
  },
  {
   "cell_type": "markdown",
   "id": "85657d91",
   "metadata": {},
   "source": [
    "We can now check if this difference in customer purchase quantities are due to there being more customers to buy chips."
   ]
  },
  {
   "cell_type": "code",
   "execution_count": 47,
   "id": "ee85e985",
   "metadata": {},
   "outputs": [
    {
     "data": {
      "text/html": [
       "<div>\n",
       "<style scoped>\n",
       "    .dataframe tbody tr th:only-of-type {\n",
       "        vertical-align: middle;\n",
       "    }\n",
       "\n",
       "    .dataframe tbody tr th {\n",
       "        vertical-align: top;\n",
       "    }\n",
       "\n",
       "    .dataframe thead tr th {\n",
       "        text-align: left;\n",
       "    }\n",
       "\n",
       "    .dataframe thead tr:last-of-type th {\n",
       "        text-align: right;\n",
       "    }\n",
       "</style>\n",
       "<table border=\"1\" class=\"dataframe\">\n",
       "  <thead>\n",
       "    <tr>\n",
       "      <th></th>\n",
       "      <th colspan=\"3\" halign=\"left\">TOT_SALES</th>\n",
       "    </tr>\n",
       "    <tr>\n",
       "      <th>PREMIUM_CUSTOMER</th>\n",
       "      <th>Budget</th>\n",
       "      <th>Mainstream</th>\n",
       "      <th>Premium</th>\n",
       "    </tr>\n",
       "    <tr>\n",
       "      <th>LIFESTAGE</th>\n",
       "      <th></th>\n",
       "      <th></th>\n",
       "      <th></th>\n",
       "    </tr>\n",
       "  </thead>\n",
       "  <tbody>\n",
       "    <tr>\n",
       "      <th>MIDAGE SINGLES/COUPLES</th>\n",
       "      <td>4691</td>\n",
       "      <td>11095</td>\n",
       "      <td>7612</td>\n",
       "    </tr>\n",
       "    <tr>\n",
       "      <th>NEW FAMILIES</th>\n",
       "      <td>2824</td>\n",
       "      <td>2185</td>\n",
       "      <td>1488</td>\n",
       "    </tr>\n",
       "    <tr>\n",
       "      <th>OLDER FAMILIES</th>\n",
       "      <td>21514</td>\n",
       "      <td>13241</td>\n",
       "      <td>10403</td>\n",
       "    </tr>\n",
       "    <tr>\n",
       "      <th>OLDER SINGLES/COUPLES</th>\n",
       "      <td>17172</td>\n",
       "      <td>17061</td>\n",
       "      <td>16560</td>\n",
       "    </tr>\n",
       "    <tr>\n",
       "      <th>RETIREES</th>\n",
       "      <td>14225</td>\n",
       "      <td>19970</td>\n",
       "      <td>12236</td>\n",
       "    </tr>\n",
       "    <tr>\n",
       "      <th>YOUNG FAMILIES</th>\n",
       "      <td>17763</td>\n",
       "      <td>11947</td>\n",
       "      <td>10784</td>\n",
       "    </tr>\n",
       "    <tr>\n",
       "      <th>YOUNG SINGLES/COUPLES</th>\n",
       "      <td>8573</td>\n",
       "      <td>19544</td>\n",
       "      <td>5852</td>\n",
       "    </tr>\n",
       "  </tbody>\n",
       "</table>\n",
       "</div>"
      ],
      "text/plain": [
       "                       TOT_SALES                   \n",
       "PREMIUM_CUSTOMER          Budget Mainstream Premium\n",
       "LIFESTAGE                                          \n",
       "MIDAGE SINGLES/COUPLES      4691      11095    7612\n",
       "NEW FAMILIES                2824       2185    1488\n",
       "OLDER FAMILIES             21514      13241   10403\n",
       "OLDER SINGLES/COUPLES      17172      17061   16560\n",
       "RETIREES                   14225      19970   12236\n",
       "YOUNG FAMILIES             17763      11947   10784\n",
       "YOUNG SINGLES/COUPLES       8573      19544    5852"
      ]
     },
     "execution_count": 47,
     "metadata": {},
     "output_type": "execute_result"
    }
   ],
   "source": [
    "peoplecount_bylifestage_bycardtype = combined_df_fortask1.groupby(['LIFESTAGE', 'PREMIUM_CUSTOMER']).count()\n",
    "peoplecount_bylifestage_bycardtype=peoplecount_bylifestage_bycardtype.unstack()\n",
    "peoplecount_bylifestage_bycardtype"
   ]
  },
  {
   "cell_type": "markdown",
   "id": "1a16585d",
   "metadata": {},
   "source": [
    "We have now created two dataframes, one containing information of sale quantities per customer lifestage and premium_customer type, the other one containing information about customer counts per customer lifestage and premium_customer type. Let's divide the sale quantity dataset by the customer counts dataset to see sale quantities per person in each category.\n"
   ]
  },
  {
   "cell_type": "code",
   "execution_count": 48,
   "id": "a40c9521",
   "metadata": {},
   "outputs": [
    {
     "data": {
      "text/html": [
       "<div>\n",
       "<style scoped>\n",
       "    .dataframe tbody tr th:only-of-type {\n",
       "        vertical-align: middle;\n",
       "    }\n",
       "\n",
       "    .dataframe tbody tr th {\n",
       "        vertical-align: top;\n",
       "    }\n",
       "\n",
       "    .dataframe thead tr th {\n",
       "        text-align: left;\n",
       "    }\n",
       "\n",
       "    .dataframe thead tr:last-of-type th {\n",
       "        text-align: right;\n",
       "    }\n",
       "</style>\n",
       "<table border=\"1\" class=\"dataframe\">\n",
       "  <thead>\n",
       "    <tr>\n",
       "      <th></th>\n",
       "      <th colspan=\"3\" halign=\"left\">TOT_SALES</th>\n",
       "    </tr>\n",
       "    <tr>\n",
       "      <th>PREMIUM_CUSTOMER</th>\n",
       "      <th>Budget</th>\n",
       "      <th>Mainstream</th>\n",
       "      <th>Premium</th>\n",
       "    </tr>\n",
       "    <tr>\n",
       "      <th>LIFESTAGE</th>\n",
       "      <th></th>\n",
       "      <th></th>\n",
       "      <th></th>\n",
       "    </tr>\n",
       "  </thead>\n",
       "  <tbody>\n",
       "    <tr>\n",
       "      <th>MIDAGE SINGLES/COUPLES</th>\n",
       "      <td>7.108442</td>\n",
       "      <td>7.637156</td>\n",
       "      <td>7.152371</td>\n",
       "    </tr>\n",
       "    <tr>\n",
       "      <th>NEW FAMILIES</th>\n",
       "      <td>7.297256</td>\n",
       "      <td>7.313364</td>\n",
       "      <td>7.231720</td>\n",
       "    </tr>\n",
       "    <tr>\n",
       "      <th>OLDER FAMILIES</th>\n",
       "      <td>7.291241</td>\n",
       "      <td>7.281440</td>\n",
       "      <td>7.232779</td>\n",
       "    </tr>\n",
       "    <tr>\n",
       "      <th>OLDER SINGLES/COUPLES</th>\n",
       "      <td>7.444305</td>\n",
       "      <td>7.306049</td>\n",
       "      <td>7.459997</td>\n",
       "    </tr>\n",
       "    <tr>\n",
       "      <th>RETIREES</th>\n",
       "      <td>7.445786</td>\n",
       "      <td>7.269352</td>\n",
       "      <td>7.461315</td>\n",
       "    </tr>\n",
       "    <tr>\n",
       "      <th>YOUNG FAMILIES</th>\n",
       "      <td>7.302705</td>\n",
       "      <td>7.226772</td>\n",
       "      <td>7.285951</td>\n",
       "    </tr>\n",
       "    <tr>\n",
       "      <th>YOUNG SINGLES/COUPLES</th>\n",
       "      <td>6.663023</td>\n",
       "      <td>7.551279</td>\n",
       "      <td>6.673325</td>\n",
       "    </tr>\n",
       "  </tbody>\n",
       "</table>\n",
       "</div>"
      ],
      "text/plain": [
       "                       TOT_SALES                     \n",
       "PREMIUM_CUSTOMER          Budget Mainstream   Premium\n",
       "LIFESTAGE                                            \n",
       "MIDAGE SINGLES/COUPLES  7.108442   7.637156  7.152371\n",
       "NEW FAMILIES            7.297256   7.313364  7.231720\n",
       "OLDER FAMILIES          7.291241   7.281440  7.232779\n",
       "OLDER SINGLES/COUPLES   7.444305   7.306049  7.459997\n",
       "RETIREES                7.445786   7.269352  7.461315\n",
       "YOUNG FAMILIES          7.302705   7.226772  7.285951\n",
       "YOUNG SINGLES/COUPLES   6.663023   7.551279  6.673325"
      ]
     },
     "execution_count": 48,
     "metadata": {},
     "output_type": "execute_result"
    }
   ],
   "source": [
    "result = sales_by_LifeStage_and_CardType.div(peoplecount_bylifestage_bycardtype)\n",
    "result"
   ]
  },
  {
   "cell_type": "markdown",
   "id": "a5c02a92",
   "metadata": {},
   "source": [
    "## Insights\n",
    "We can see that sales by each customer type is similar however mainstream midage singles/couples seem to be making more purchases per customer compared to budget young singles/couples. Let's see if this is a significant difference by performing a t-test.\n"
   ]
  },
  {
   "cell_type": "code",
   "execution_count": 49,
   "id": "75ff56b4",
   "metadata": {},
   "outputs": [],
   "source": [
    "#t-test on two values\n",
    "midage_mainstream = combined_df_fortask1[(combined_df_fortask1['LIFESTAGE']=='MIDAGE SINGLES/COUPLES') & (combined_df_fortask1['PREMIUM_CUSTOMER']=='Mainstream')]['TOT_SALES']\n",
    "young_budget = combined_df_fortask1[(combined_df_fortask1['LIFESTAGE']=='YOUNG SINGLES/COUPLES') & (combined_df_fortask1['PREMIUM_CUSTOMER']=='Budget')]['TOT_SALES']"
   ]
  },
  {
   "cell_type": "code",
   "execution_count": 50,
   "id": "84da1454",
   "metadata": {},
   "outputs": [],
   "source": [
    "t_stat, p_value = ttest_ind(midage_mainstream, young_budget, equal_var=False)\n"
   ]
  },
  {
   "cell_type": "code",
   "execution_count": 51,
   "id": "75612da2",
   "metadata": {},
   "outputs": [
    {
     "name": "stdout",
     "output_type": "stream",
     "text": [
      "T_stat is: 26.66895079465475\n",
      "P_value is: 1.2126956790291748e-153\n"
     ]
    }
   ],
   "source": [
    "print('T_stat is:', t_stat )\n",
    "print('P_value is:', p_value )"
   ]
  },
  {
   "cell_type": "markdown",
   "id": "c729a426",
   "metadata": {},
   "source": [
    "## Insights\n",
    "We can see that our p_value is smaller than 0.05 and we have a large value so these two groups are significantly different. Meaning young couple/singles using a budget membership and midage singles/couples using a mainstream membership buy significantly different quantities of chips per customer. Midage singles/couples with a mainstream membership buy significantly more packs of chips than young singles/couples with a budget membership."
   ]
  },
  {
   "cell_type": "markdown",
   "id": "6622115b",
   "metadata": {},
   "source": [
    "From the results table we remember that mainstream midage singles/couples and mainstream young singles/couples have larger purchase power. Let's check if there are any brands that they specifically prefer."
   ]
  },
  {
   "cell_type": "code",
   "execution_count": 54,
   "id": "d3995985",
   "metadata": {},
   "outputs": [
    {
     "data": {
      "text/html": [
       "<div>\n",
       "<style scoped>\n",
       "    .dataframe tbody tr th:only-of-type {\n",
       "        vertical-align: middle;\n",
       "    }\n",
       "\n",
       "    .dataframe tbody tr th {\n",
       "        vertical-align: top;\n",
       "    }\n",
       "\n",
       "    .dataframe thead th {\n",
       "        text-align: right;\n",
       "    }\n",
       "</style>\n",
       "<table border=\"1\" class=\"dataframe\">\n",
       "  <thead>\n",
       "    <tr style=\"text-align: right;\">\n",
       "      <th></th>\n",
       "      <th>TOT_SALES</th>\n",
       "      <th>PROD_BRAND</th>\n",
       "      <th>LIFESTAGE</th>\n",
       "      <th>PREMIUM_CUSTOMER</th>\n",
       "    </tr>\n",
       "  </thead>\n",
       "  <tbody>\n",
       "    <tr>\n",
       "      <th>0</th>\n",
       "      <td>6.0</td>\n",
       "      <td>natural</td>\n",
       "      <td>YOUNG SINGLES/COUPLES</td>\n",
       "      <td>Premium</td>\n",
       "    </tr>\n",
       "    <tr>\n",
       "      <th>1</th>\n",
       "      <td>6.3</td>\n",
       "      <td>cc</td>\n",
       "      <td>MIDAGE SINGLES/COUPLES</td>\n",
       "      <td>Budget</td>\n",
       "    </tr>\n",
       "    <tr>\n",
       "      <th>2</th>\n",
       "      <td>2.9</td>\n",
       "      <td>smith</td>\n",
       "      <td>MIDAGE SINGLES/COUPLES</td>\n",
       "      <td>Budget</td>\n",
       "    </tr>\n",
       "    <tr>\n",
       "      <th>3</th>\n",
       "      <td>15.0</td>\n",
       "      <td>smith</td>\n",
       "      <td>MIDAGE SINGLES/COUPLES</td>\n",
       "      <td>Budget</td>\n",
       "    </tr>\n",
       "    <tr>\n",
       "      <th>4</th>\n",
       "      <td>13.8</td>\n",
       "      <td>kettle</td>\n",
       "      <td>MIDAGE SINGLES/COUPLES</td>\n",
       "      <td>Budget</td>\n",
       "    </tr>\n",
       "    <tr>\n",
       "      <th>...</th>\n",
       "      <td>...</td>\n",
       "      <td>...</td>\n",
       "      <td>...</td>\n",
       "      <td>...</td>\n",
       "    </tr>\n",
       "    <tr>\n",
       "      <th>246735</th>\n",
       "      <td>10.8</td>\n",
       "      <td>kettle</td>\n",
       "      <td>YOUNG SINGLES/COUPLES</td>\n",
       "      <td>Premium</td>\n",
       "    </tr>\n",
       "    <tr>\n",
       "      <th>246736</th>\n",
       "      <td>4.4</td>\n",
       "      <td>tostito</td>\n",
       "      <td>YOUNG SINGLES/COUPLES</td>\n",
       "      <td>Premium</td>\n",
       "    </tr>\n",
       "    <tr>\n",
       "      <th>246737</th>\n",
       "      <td>8.8</td>\n",
       "      <td>dorito</td>\n",
       "      <td>YOUNG SINGLES/COUPLES</td>\n",
       "      <td>Premium</td>\n",
       "    </tr>\n",
       "    <tr>\n",
       "      <th>246738</th>\n",
       "      <td>7.8</td>\n",
       "      <td>dorito</td>\n",
       "      <td>YOUNG SINGLES/COUPLES</td>\n",
       "      <td>Premium</td>\n",
       "    </tr>\n",
       "    <tr>\n",
       "      <th>246739</th>\n",
       "      <td>8.8</td>\n",
       "      <td>tostito</td>\n",
       "      <td>YOUNG SINGLES/COUPLES</td>\n",
       "      <td>Premium</td>\n",
       "    </tr>\n",
       "  </tbody>\n",
       "</table>\n",
       "<p>246740 rows × 4 columns</p>\n",
       "</div>"
      ],
      "text/plain": [
       "        TOT_SALES PROD_BRAND               LIFESTAGE PREMIUM_CUSTOMER\n",
       "0             6.0    natural   YOUNG SINGLES/COUPLES          Premium\n",
       "1             6.3         cc  MIDAGE SINGLES/COUPLES           Budget\n",
       "2             2.9      smith  MIDAGE SINGLES/COUPLES           Budget\n",
       "3            15.0      smith  MIDAGE SINGLES/COUPLES           Budget\n",
       "4            13.8     kettle  MIDAGE SINGLES/COUPLES           Budget\n",
       "...           ...        ...                     ...              ...\n",
       "246735       10.8     kettle   YOUNG SINGLES/COUPLES          Premium\n",
       "246736        4.4    tostito   YOUNG SINGLES/COUPLES          Premium\n",
       "246737        8.8     dorito   YOUNG SINGLES/COUPLES          Premium\n",
       "246738        7.8     dorito   YOUNG SINGLES/COUPLES          Premium\n",
       "246739        8.8    tostito   YOUNG SINGLES/COUPLES          Premium\n",
       "\n",
       "[246740 rows x 4 columns]"
      ]
     },
     "execution_count": 54,
     "metadata": {},
     "output_type": "execute_result"
    }
   ],
   "source": [
    "combined_df_for_last_bit"
   ]
  },
  {
   "cell_type": "code",
   "execution_count": 65,
   "id": "12c93f2d",
   "metadata": {},
   "outputs": [
    {
     "data": {
      "text/plain": [
       "LIFESTAGE              PREMIUM_CUSTOMER  PROD_BRAND\n",
       "YOUNG FAMILIES         Premium           cob           3233.8\n",
       "                                         dorito        9061.9\n",
       "                                         french         384.0\n",
       "                                         grain         1724.4\n",
       "                                         grnwve         468.1\n",
       "                                                        ...  \n",
       "YOUNG SINGLES/COUPLES  Premium           tostito       1698.4\n",
       "                                         twistie       1619.0\n",
       "                                         tyrrell        991.2\n",
       "                                         woolworth      163.8\n",
       "                                         ww            1105.9\n",
       "Name: TOT_SALES, Length: 100, dtype: float64"
      ]
     },
     "execution_count": 65,
     "metadata": {},
     "output_type": "execute_result"
    }
   ],
   "source": [
    "combined_df_for_last_bit = combined_df_for_last_bit.groupby(['LIFESTAGE', 'PREMIUM_CUSTOMER', 'PROD_BRAND'])['TOT_SALES'].sum()"
   ]
  },
  {
   "cell_type": "code",
   "execution_count": 88,
   "id": "deec6370",
   "metadata": {},
   "outputs": [],
   "source": [
    "combined_df_for_last_bit=combined_df_for_last_bit.to_frame()\n",
    "combined_df_for_last_bit = combined_df_for_last_bit.sort_index(level=[0, 1, 2])\n"
   ]
  },
  {
   "cell_type": "code",
   "execution_count": 98,
   "id": "bfab97f2",
   "metadata": {},
   "outputs": [
    {
     "data": {
      "text/html": [
       "<div>\n",
       "<style scoped>\n",
       "    .dataframe tbody tr th:only-of-type {\n",
       "        vertical-align: middle;\n",
       "    }\n",
       "\n",
       "    .dataframe tbody tr th {\n",
       "        vertical-align: top;\n",
       "    }\n",
       "\n",
       "    .dataframe thead th {\n",
       "        text-align: right;\n",
       "    }\n",
       "</style>\n",
       "<table border=\"1\" class=\"dataframe\">\n",
       "  <thead>\n",
       "    <tr style=\"text-align: right;\">\n",
       "      <th></th>\n",
       "      <th>TOT_SALES</th>\n",
       "    </tr>\n",
       "    <tr>\n",
       "      <th>PROD_BRAND</th>\n",
       "      <th></th>\n",
       "    </tr>\n",
       "  </thead>\n",
       "  <tbody>\n",
       "    <tr>\n",
       "      <th>kettle</th>\n",
       "      <td>35423.6</td>\n",
       "    </tr>\n",
       "    <tr>\n",
       "      <th>dorito</th>\n",
       "      <td>20925.9</td>\n",
       "    </tr>\n",
       "    <tr>\n",
       "      <th>pringle</th>\n",
       "      <td>16006.2</td>\n",
       "    </tr>\n",
       "  </tbody>\n",
       "</table>\n",
       "</div>"
      ],
      "text/plain": [
       "            TOT_SALES\n",
       "PROD_BRAND           \n",
       "kettle        35423.6\n",
       "dorito        20925.9\n",
       "pringle       16006.2"
      ]
     },
     "execution_count": 98,
     "metadata": {},
     "output_type": "execute_result"
    }
   ],
   "source": [
    "YoungMainstream=combined_df_for_last_bit.loc[('YOUNG SINGLES/COUPLES', 'Mainstream')].sort_values('TOT_SALES', ascending=False)\n",
    "YoungMainstream[:3]"
   ]
  },
  {
   "cell_type": "code",
   "execution_count": 97,
   "id": "89326f15",
   "metadata": {},
   "outputs": [
    {
     "data": {
      "text/html": [
       "<div>\n",
       "<style scoped>\n",
       "    .dataframe tbody tr th:only-of-type {\n",
       "        vertical-align: middle;\n",
       "    }\n",
       "\n",
       "    .dataframe tbody tr th {\n",
       "        vertical-align: top;\n",
       "    }\n",
       "\n",
       "    .dataframe thead th {\n",
       "        text-align: right;\n",
       "    }\n",
       "</style>\n",
       "<table border=\"1\" class=\"dataframe\">\n",
       "  <thead>\n",
       "    <tr style=\"text-align: right;\">\n",
       "      <th></th>\n",
       "      <th>TOT_SALES</th>\n",
       "    </tr>\n",
       "    <tr>\n",
       "      <th>PROD_BRAND</th>\n",
       "      <th></th>\n",
       "    </tr>\n",
       "  </thead>\n",
       "  <tbody>\n",
       "    <tr>\n",
       "      <th>kettle</th>\n",
       "      <td>20231.80</td>\n",
       "    </tr>\n",
       "    <tr>\n",
       "      <th>dorito</th>\n",
       "      <td>10714.65</td>\n",
       "    </tr>\n",
       "    <tr>\n",
       "      <th>smith</th>\n",
       "      <td>9874.10</td>\n",
       "    </tr>\n",
       "  </tbody>\n",
       "</table>\n",
       "</div>"
      ],
      "text/plain": [
       "            TOT_SALES\n",
       "PROD_BRAND           \n",
       "kettle       20231.80\n",
       "dorito       10714.65\n",
       "smith         9874.10"
      ]
     },
     "execution_count": 97,
     "metadata": {},
     "output_type": "execute_result"
    }
   ],
   "source": [
    "MidageMainstream=combined_df_for_last_bit.loc[('MIDAGE SINGLES/COUPLES', 'Mainstream')].sort_values('TOT_SALES', ascending=False)\n",
    "MidageMainstream[:3]"
   ]
  },
  {
   "cell_type": "markdown",
   "id": "460af4ec",
   "metadata": {},
   "source": [
    "## Insights\n",
    "We can see that for both groups the most popular brands are Kettle and Dorito's chips. Following those two Midage singles/couples prefer Smiths chips whereas Young singles/couples prefer Pringles."
   ]
  }
 ],
 "metadata": {
  "kernelspec": {
   "display_name": "Python 3",
   "language": "python",
   "name": "python3"
  },
  "language_info": {
   "codemirror_mode": {
    "name": "ipython",
    "version": 3
   },
   "file_extension": ".py",
   "mimetype": "text/x-python",
   "name": "python",
   "nbconvert_exporter": "python",
   "pygments_lexer": "ipython3",
   "version": "3.8.8"
  }
 },
 "nbformat": 4,
 "nbformat_minor": 5
}
