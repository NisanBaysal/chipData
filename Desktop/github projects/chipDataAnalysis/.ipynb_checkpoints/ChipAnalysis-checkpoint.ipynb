{
 "cells": [
  {
   "cell_type": "code",
   "execution_count": 617,
   "id": "cdd73d70",
   "metadata": {},
   "outputs": [],
   "source": [
    "import pandas as pd\n",
    "import xlrd\n",
    "import numpy as np\n",
    "import seaborn as sns\n",
    "import matplotlib.pyplot as plt\n"
   ]
  },
  {
   "cell_type": "code",
   "execution_count": 618,
   "id": "b17d9d14",
   "metadata": {},
   "outputs": [],
   "source": [
    "purchaseBehvaiour=pd.read_csv(\"files/QVI_purchase_behaviour.csv\",na_values = missing_values)"
   ]
  },
  {
   "cell_type": "code",
   "execution_count": 619,
   "id": "1fa23f05",
   "metadata": {},
   "outputs": [],
   "source": [
    "missing_values = [\"n/a\", \"na\", \"--\"]\n",
    "transactionData=pd.read_excel(\"files/QVI_transaction_data.xlsx\",na_values = missing_values)\n"
   ]
  },
  {
   "cell_type": "code",
   "execution_count": 620,
   "id": "64b3c8a9",
   "metadata": {},
   "outputs": [],
   "source": [
    "#purchaseBehvaiour.head()"
   ]
  },
  {
   "cell_type": "code",
   "execution_count": 621,
   "id": "7dc9a53c",
   "metadata": {},
   "outputs": [
    {
     "data": {
      "text/html": [
       "<div>\n",
       "<style scoped>\n",
       "    .dataframe tbody tr th:only-of-type {\n",
       "        vertical-align: middle;\n",
       "    }\n",
       "\n",
       "    .dataframe tbody tr th {\n",
       "        vertical-align: top;\n",
       "    }\n",
       "\n",
       "    .dataframe thead th {\n",
       "        text-align: right;\n",
       "    }\n",
       "</style>\n",
       "<table border=\"1\" class=\"dataframe\">\n",
       "  <thead>\n",
       "    <tr style=\"text-align: right;\">\n",
       "      <th></th>\n",
       "      <th>DATE</th>\n",
       "      <th>STORE_NBR</th>\n",
       "      <th>LYLTY_CARD_NBR</th>\n",
       "      <th>TXN_ID</th>\n",
       "      <th>PROD_NBR</th>\n",
       "      <th>PROD_NAME</th>\n",
       "      <th>PROD_QTY</th>\n",
       "      <th>TOT_SALES</th>\n",
       "    </tr>\n",
       "  </thead>\n",
       "  <tbody>\n",
       "    <tr>\n",
       "      <th>0</th>\n",
       "      <td>43390</td>\n",
       "      <td>1</td>\n",
       "      <td>1000</td>\n",
       "      <td>1</td>\n",
       "      <td>5</td>\n",
       "      <td>Natural Chip        Compny SeaSalt175g</td>\n",
       "      <td>2</td>\n",
       "      <td>6.0</td>\n",
       "    </tr>\n",
       "    <tr>\n",
       "      <th>1</th>\n",
       "      <td>43599</td>\n",
       "      <td>1</td>\n",
       "      <td>1307</td>\n",
       "      <td>348</td>\n",
       "      <td>66</td>\n",
       "      <td>CCs Nacho Cheese    175g</td>\n",
       "      <td>3</td>\n",
       "      <td>6.3</td>\n",
       "    </tr>\n",
       "    <tr>\n",
       "      <th>2</th>\n",
       "      <td>43605</td>\n",
       "      <td>1</td>\n",
       "      <td>1343</td>\n",
       "      <td>383</td>\n",
       "      <td>61</td>\n",
       "      <td>Smiths Crinkle Cut  Chips Chicken 170g</td>\n",
       "      <td>2</td>\n",
       "      <td>2.9</td>\n",
       "    </tr>\n",
       "    <tr>\n",
       "      <th>3</th>\n",
       "      <td>43329</td>\n",
       "      <td>2</td>\n",
       "      <td>2373</td>\n",
       "      <td>974</td>\n",
       "      <td>69</td>\n",
       "      <td>Smiths Chip Thinly  S/Cream&amp;Onion 175g</td>\n",
       "      <td>5</td>\n",
       "      <td>15.0</td>\n",
       "    </tr>\n",
       "    <tr>\n",
       "      <th>4</th>\n",
       "      <td>43330</td>\n",
       "      <td>2</td>\n",
       "      <td>2426</td>\n",
       "      <td>1038</td>\n",
       "      <td>108</td>\n",
       "      <td>Kettle Tortilla ChpsHny&amp;Jlpno Chili 150g</td>\n",
       "      <td>3</td>\n",
       "      <td>13.8</td>\n",
       "    </tr>\n",
       "  </tbody>\n",
       "</table>\n",
       "</div>"
      ],
      "text/plain": [
       "    DATE  STORE_NBR  LYLTY_CARD_NBR  TXN_ID  PROD_NBR  \\\n",
       "0  43390          1            1000       1         5   \n",
       "1  43599          1            1307     348        66   \n",
       "2  43605          1            1343     383        61   \n",
       "3  43329          2            2373     974        69   \n",
       "4  43330          2            2426    1038       108   \n",
       "\n",
       "                                  PROD_NAME  PROD_QTY  TOT_SALES  \n",
       "0    Natural Chip        Compny SeaSalt175g         2        6.0  \n",
       "1                  CCs Nacho Cheese    175g         3        6.3  \n",
       "2    Smiths Crinkle Cut  Chips Chicken 170g         2        2.9  \n",
       "3    Smiths Chip Thinly  S/Cream&Onion 175g         5       15.0  \n",
       "4  Kettle Tortilla ChpsHny&Jlpno Chili 150g         3       13.8  "
      ]
     },
     "execution_count": 621,
     "metadata": {},
     "output_type": "execute_result"
    }
   ],
   "source": [
    "transactionData.head()"
   ]
  },
  {
   "cell_type": "code",
   "execution_count": 622,
   "id": "50e81d90",
   "metadata": {},
   "outputs": [],
   "source": [
    "#Turn date into date format from integer format\n",
    "transactionData[\"DATE\"] = pd.to_datetime(transactionData[\"DATE\"], origin ='1899/12/30', unit = 'D')"
   ]
  },
  {
   "cell_type": "code",
   "execution_count": 623,
   "id": "d0cb3786",
   "metadata": {},
   "outputs": [
    {
     "data": {
      "text/plain": [
       "count                                     264836\n",
       "unique                                       114\n",
       "top       Kettle Mozzarella   Basil & Pesto 175g\n",
       "freq                                        3304\n",
       "Name: PROD_NAME, dtype: object"
      ]
     },
     "execution_count": 623,
     "metadata": {},
     "output_type": "execute_result"
    }
   ],
   "source": [
    "#quick summary of the prod_name column\n",
    "transactionData['PROD_NAME'].describe()"
   ]
  },
  {
   "cell_type": "code",
   "execution_count": 624,
   "id": "3210b244",
   "metadata": {},
   "outputs": [],
   "source": [
    "#we will look at the prod sizes, and prod brands later so I am multiplying the PROD_NAME column and calling it PROD_SIZES and PROD_BRAND for later analysis.\n",
    "transactionData['PROD_SIZES']=transactionData['PROD_NAME']\n",
    "transactionData['PROD_BRAND']=transactionData['PROD_NAME']"
   ]
  },
  {
   "cell_type": "code",
   "execution_count": 625,
   "id": "f18a5b50",
   "metadata": {},
   "outputs": [],
   "source": [
    "#remove special characters \n",
    "transactionData['PROD_NAME']=transactionData['PROD_NAME'].str.replace('\\W', ' ', regex=True)\n",
    "#remove numbers\n",
    "transactionData['PROD_NAME']=transactionData['PROD_NAME'].str.replace('\\d+', ' ',regex=True)\n",
    "transactionData['PROD_NAME']=transactionData['PROD_NAME'].str.replace('g', ' ',regex=True)\n",
    "transactionData['PROD_NAME']=transactionData['PROD_NAME'].str.replace('\\s+', ' ',regex=True)"
   ]
  },
  {
   "cell_type": "code",
   "execution_count": 626,
   "id": "3f2e0e49",
   "metadata": {},
   "outputs": [
    {
     "data": {
      "text/plain": [
       "0            Natural Chip Compny SeaSalt \n",
       "1                       CCs Nacho Cheese \n",
       "2       Smiths Crinkle Cut Chips Chicken \n",
       "3       Smiths Chip Thinly S Cream Onion \n",
       "4    Kettle Tortilla ChpsHny Jlpno Chili \n",
       "Name: PROD_NAME, dtype: object"
      ]
     },
     "execution_count": 626,
     "metadata": {},
     "output_type": "execute_result"
    }
   ],
   "source": [
    "transactionData['PROD_NAME'].head()"
   ]
  },
  {
   "cell_type": "code",
   "execution_count": 627,
   "id": "54d73e51",
   "metadata": {
    "scrolled": false
   },
   "outputs": [
    {
     "name": "stdout",
     "output_type": "stream",
     "text": [
      "['Natural Chip Compny SeaSalt ', 'CCs Nacho Cheese ', 'Smiths Crinkle Cut Chips Chicken ', 'Smiths Chip Thinly S Cream Onion ', 'Kettle Tortilla ChpsHny Jlpno Chili ', 'Old El Paso Salsa Dip Tomato Mild ', 'Smiths Crinkle Chips Salt Vine ar ', 'Grain Waves Sweet Chilli ', 'Doritos Corn Chip Mexican Jalapeno ', 'Grain Waves Sour Cream Chives G', 'Smiths Crinkle Chips Salt Vine ar ', 'Kettle Sensations Siracha Lime ', 'Twisties Cheese ', 'WW Crinkle Cut Chicken ', 'Thins Chips Li ht Tan y ', 'CCs Ori inal ', 'Bur er Rin s ', 'NCC Sour Cream Garden Chives ', 'Doritos Corn Chip Southern Chicken ', 'Cheezels Cheese Box ', 'Smiths Crinkle Ori inal ', 'NCC Sour Cream Garden Chives ', 'Infzns Crn Crnchers Tan y Gcamole ', 'Kettle Sea Salt And Vine ar ', 'Kettle Tortilla ChpsHny Jlpno Chili ', 'Old El Paso Salsa Dip Tomato Mild ']\n"
     ]
    }
   ],
   "source": [
    "#let's create a list with the product names\n",
    "prod_name_list=[]\n",
    "for x in transactionData.index:\n",
    "    b=transactionData.PROD_NAME[x]\n",
    "    prod_name_list.append(b)\n",
    "print(prod_name_list[0:26])\n",
    "#we can see that there are some salsa products that we dont want"
   ]
  },
  {
   "cell_type": "markdown",
   "id": "4efd7a7c",
   "metadata": {},
   "source": [
    "#let's see the words\n",
    "new_list=[]\n",
    "for word in prod_name_list:\n",
    "    new_list.append(word.split(' '))\n",
    "#print(new_list[0:5])\n",
    "#let's see all the unique words that have been used\n",
    "res = list(set(i for j in new_list for i in j))\n",
    "print(res)\n",
    "#we can see that there are some words that have no meaning"
   ]
  },
  {
   "cell_type": "code",
   "execution_count": 628,
   "id": "670e4749",
   "metadata": {},
   "outputs": [],
   "source": [
    "#let's remove the rows that contain salsa products from the data set\n",
    "transactionData = transactionData[transactionData[\"PROD_NAME\"].str.contains(\"Salsa\") == False]\n"
   ]
  },
  {
   "cell_type": "code",
   "execution_count": 629,
   "id": "ed85f3b0",
   "metadata": {},
   "outputs": [
    {
     "name": "stdout",
     "output_type": "stream",
     "text": [
      "False\n"
     ]
    }
   ],
   "source": [
    "#let's see if there are any missing values\n",
    "print(transactionData.isnull().values.any())\n",
    "#we can see that there are no missing values"
   ]
  },
  {
   "cell_type": "code",
   "execution_count": 630,
   "id": "07c3d264",
   "metadata": {},
   "outputs": [
    {
     "name": "stdout",
     "output_type": "stream",
     "text": [
      "           STORE_NBR  LYLTY_CARD_NBR        TXN_ID       PROD_NBR  \\\n",
      "count  246742.000000    2.467420e+05  2.467420e+05  246742.000000   \n",
      "mean      135.051098    1.355310e+05  1.351311e+05      56.351789   \n",
      "std        76.787096    8.071528e+04  7.814772e+04      33.695428   \n",
      "min         1.000000    1.000000e+03  1.000000e+00       1.000000   \n",
      "25%        70.000000    7.001500e+04  6.756925e+04      26.000000   \n",
      "50%       130.000000    1.303670e+05  1.351830e+05      53.000000   \n",
      "75%       203.000000    2.030840e+05  2.026538e+05      87.000000   \n",
      "max       272.000000    2.373711e+06  2.415841e+06     114.000000   \n",
      "\n",
      "            PROD_QTY      TOT_SALES  \n",
      "count  246742.000000  246742.000000  \n",
      "mean        1.908062       7.321322  \n",
      "std         0.659831       3.077828  \n",
      "min         1.000000       1.700000  \n",
      "25%         2.000000       5.800000  \n",
      "50%         2.000000       7.400000  \n",
      "75%         2.000000       8.800000  \n",
      "max       200.000000     650.000000  \n"
     ]
    }
   ],
   "source": [
    "#let's check the summary statistics of the dataframe to see if there are any outliers\n",
    "print(transactionData.describe())"
   ]
  },
  {
   "cell_type": "markdown",
   "id": "00cb985b",
   "metadata": {},
   "source": [
    "we can see that the mean product quantity is 1.9 however maximum product quantity is 200. Could that be a mistake? Let's check the transaction, to see."
   ]
  },
  {
   "cell_type": "code",
   "execution_count": 631,
   "id": "5e55d925",
   "metadata": {},
   "outputs": [
    {
     "name": "stderr",
     "output_type": "stream",
     "text": [
      "/Users/nisanbaysal/opt/anaconda3/lib/python3.8/site-packages/seaborn/_decorators.py:36: FutureWarning: Pass the following variable as a keyword arg: x. From version 0.12, the only valid positional argument will be `data`, and passing other arguments without an explicit keyword will result in an error or misinterpretation.\n",
      "  warnings.warn(\n"
     ]
    },
    {
     "data": {
      "text/plain": [
       "<AxesSubplot:xlabel='PROD_QTY'>"
      ]
     },
     "execution_count": 631,
     "metadata": {},
     "output_type": "execute_result"
    },
    {
     "data": {
      "image/png": "[encoded data removed]",
      "text/plain": [
       "<Figure size 432x288 with 1 Axes>"
      ]
     },
     "metadata": {
      "needs_background": "light"
     },
     "output_type": "display_data"
    }
   ],
   "source": [
    "#Let's check if there are other outliers\n",
    "sns.boxplot(transactionData['PROD_QTY'])"
   ]
  },
  {
   "cell_type": "code",
   "execution_count": 632,
   "id": "9b60d61d",
   "metadata": {},
   "outputs": [
    {
     "name": "stdout",
     "output_type": "stream",
     "text": [
      "            DATE  STORE_NBR  LYLTY_CARD_NBR  TXN_ID  PROD_NBR  \\\n",
      "69762 2018-08-19        226          226000  226201         4   \n",
      "69763 2019-05-20        226          226000  226210         4   \n",
      "\n",
      "                      PROD_NAME  PROD_QTY  TOT_SALES  \\\n",
      "69762  Dorito Corn Chp Supreme        200      650.0   \n",
      "69763  Dorito Corn Chp Supreme        200      650.0   \n",
      "\n",
      "                             PROD_SIZES                        PROD_BRAND  \n",
      "69762  Dorito Corn Chp     Supreme 380g  Dorito Corn Chp     Supreme 380g  \n",
      "69763  Dorito Corn Chp     Supreme 380g  Dorito Corn Chp     Supreme 380g  \n"
     ]
    }
   ],
   "source": [
    "#Let's select the outlier rows\n",
    "check_outlier = transactionData[transactionData['PROD_QTY'] >150] \n",
    "print(check_outlier)"
   ]
  },
  {
   "cell_type": "markdown",
   "id": "4c4b2f63",
   "metadata": {},
   "source": [
    "Interesting! There seems to be 2 of those sales and the customer number is the same in both transactions. Let's see if the customer has made other purchases."
   ]
  },
  {
   "cell_type": "code",
   "execution_count": 633,
   "id": "6bc17f68",
   "metadata": {},
   "outputs": [
    {
     "name": "stdout",
     "output_type": "stream",
     "text": [
      "            DATE  STORE_NBR  LYLTY_CARD_NBR  TXN_ID  PROD_NBR  \\\n",
      "69762 2018-08-19        226          226000  226201         4   \n",
      "69763 2019-05-20        226          226000  226210         4   \n",
      "\n",
      "                      PROD_NAME  PROD_QTY  TOT_SALES  \\\n",
      "69762  Dorito Corn Chp Supreme        200      650.0   \n",
      "69763  Dorito Corn Chp Supreme        200      650.0   \n",
      "\n",
      "                             PROD_SIZES                        PROD_BRAND  \n",
      "69762  Dorito Corn Chp     Supreme 380g  Dorito Corn Chp     Supreme 380g  \n",
      "69763  Dorito Corn Chp     Supreme 380g  Dorito Corn Chp     Supreme 380g  \n"
     ]
    }
   ],
   "source": [
    "check_customer=transactionData[transactionData['LYLTY_CARD_NBR'] == 226000] \n",
    "print(check_customer)"
   ]
  },
  {
   "cell_type": "markdown",
   "id": "6ec38c47",
   "metadata": {},
   "source": [
    "The customer hasn't made any other purchases. Let's remove these transactions from our analysis as the customer seems to make commercial purchases. "
   ]
  },
  {
   "cell_type": "code",
   "execution_count": 634,
   "id": "78c8593d",
   "metadata": {},
   "outputs": [
    {
     "name": "stdout",
     "output_type": "stream",
     "text": [
      "           STORE_NBR  LYLTY_CARD_NBR        TXN_ID       PROD_NBR  \\\n",
      "count  246740.000000    2.467400e+05  2.467400e+05  246740.000000   \n",
      "mean      135.050361    1.355303e+05  1.351304e+05      56.352213   \n",
      "std        76.786971    8.071520e+04  7.814760e+04      33.695235   \n",
      "min         1.000000    1.000000e+03  1.000000e+00       1.000000   \n",
      "25%        70.000000    7.001500e+04  6.756875e+04      26.000000   \n",
      "50%       130.000000    1.303670e+05  1.351815e+05      53.000000   \n",
      "75%       203.000000    2.030832e+05  2.026522e+05      87.000000   \n",
      "max       272.000000    2.373711e+06  2.415841e+06     114.000000   \n",
      "\n",
      "            PROD_QTY      TOT_SALES  \n",
      "count  246740.000000  246740.000000  \n",
      "mean        1.906456       7.316113  \n",
      "std         0.342499       2.474897  \n",
      "min         1.000000       1.700000  \n",
      "25%         2.000000       5.800000  \n",
      "50%         2.000000       7.400000  \n",
      "75%         2.000000       8.800000  \n",
      "max         5.000000      29.500000  \n"
     ]
    }
   ],
   "source": [
    "#let's remove the outliers and resummarise our data\n",
    "transactionData=transactionData[transactionData['LYLTY_CARD_NBR'] != 226000] \n",
    "print(transactionData.describe())"
   ]
  },
  {
   "cell_type": "code",
   "execution_count": 635,
   "id": "983f9db2",
   "metadata": {},
   "outputs": [
    {
     "name": "stdout",
     "output_type": "stream",
     "text": [
      "            Counts\n",
      "2018-07-01     663\n",
      "2018-07-02     650\n",
      "2018-07-03     674\n",
      "2018-07-04     669\n",
      "2018-07-05     660\n",
      "...            ...\n",
      "2019-06-26     657\n",
      "2019-06-27     669\n",
      "2019-06-28     673\n",
      "2019-06-29     703\n",
      "2019-06-30     704\n",
      "\n",
      "[364 rows x 1 columns]\n"
     ]
    }
   ],
   "source": [
    "#let's see if the data contains any missing dates\n",
    "date_counts = transactionData[\"DATE\"].value_counts()\n",
    "date_counts = pd.DataFrame(data=date_counts)\n",
    "date_counts.rename({'DATE': 'Counts'}, axis=1, inplace=True)\n",
    "date_counts = date_counts.sort_index()\n",
    "print(date_counts)"
   ]
  },
  {
   "cell_type": "markdown",
   "id": "d2129153",
   "metadata": {},
   "source": [
    "There is one missing date. We can create a dataframe containing 365 days and check the difference within dataframes."
   ]
  },
  {
   "cell_type": "code",
   "execution_count": 636,
   "id": "4efe54dd",
   "metadata": {},
   "outputs": [],
   "source": [
    "year = pd.date_range(start='2018-07-01', end='2019-06-30', freq='D')\n",
    "date_counts['date'] = pd.to_datetime(date_counts.index)\n",
    "missing_day = np.setdiff1d(year, date_counts['date'])\n"
   ]
  },
  {
   "cell_type": "markdown",
   "id": "ec35964a",
   "metadata": {},
   "source": [
    "Here we can see that the missing day is 2018-12-25. Let's add that to the dataframe."
   ]
  },
  {
   "cell_type": "code",
   "execution_count": 637,
   "id": "c2c60f66",
   "metadata": {},
   "outputs": [
    {
     "name": "stdout",
     "output_type": "stream",
     "text": [
      "['2018-12-25T00:00:00.000000000']\n"
     ]
    }
   ],
   "source": [
    "print(missing_day)"
   ]
  },
  {
   "cell_type": "code",
   "execution_count": 638,
   "id": "2b734cfa",
   "metadata": {},
   "outputs": [
    {
     "name": "stdout",
     "output_type": "stream",
     "text": [
      "            Counts\n",
      "2018-07-01   663.0\n",
      "2018-07-02   650.0\n",
      "2018-07-03   674.0\n",
      "2018-07-04   669.0\n",
      "2018-07-05   660.0\n",
      "...            ...\n",
      "2019-06-26   657.0\n",
      "2019-06-27   669.0\n",
      "2019-06-28   673.0\n",
      "2019-06-29   703.0\n",
      "2019-06-30   704.0\n",
      "\n",
      "[365 rows x 1 columns]\n"
     ]
    }
   ],
   "source": [
    "date_counts = date_counts.reindex(year)\n",
    "date_counts=date_counts.drop('date', axis=1)\n",
    "print(date_counts)"
   ]
  },
  {
   "cell_type": "code",
   "execution_count": 639,
   "id": "418ee752",
   "metadata": {},
   "outputs": [
    {
     "data": {
      "image/png": "[encoded data removed]",
      "text/plain": [
       "<Figure size 432x288 with 1 Axes>"
      ]
     },
     "metadata": {
      "needs_background": "light"
     },
     "output_type": "display_data"
    }
   ],
   "source": [
    "date_counts.plot()\n",
    "plt.title('Transactions per day')\n",
    "plt.xlabel('Date')\n",
    "plt.ylabel('Transaction count')\n",
    "plt.show()"
   ]
  },
  {
   "cell_type": "markdown",
   "id": "e575e19b",
   "metadata": {},
   "source": [
    "We can see that sales rise up leading to Chrismas and the shops are closed on Chrismas day. Other than that we dont have any outliers. Let's move on to check the pack sizes in PR0D_SIZE and see if they are sensible."
   ]
  },
  {
   "cell_type": "code",
   "execution_count": 640,
   "id": "ce1da1dd",
   "metadata": {},
   "outputs": [],
   "source": [
    "#this step is to parse numbers and get rid of the letters or any other special characters\n",
    "transactionData['PROD_SIZES']=transactionData['PROD_SIZES'].str.extract('(\\d+)')\n",
    "transactionData['PROD_SIZES']\n",
    "transactionData['PROD_SIZES'].describe()\n",
    "PROD_SIZES_COUNTS = transactionData[\"PROD_SIZES\"].value_counts()\n",
    "PROD_SIZES_COUNTS = pd.DataFrame(data=PROD_SIZES_COUNTS)\n",
    "PROD_SIZES_COUNTS = PROD_SIZES_COUNTS.sort_index()"
   ]
  },
  {
   "cell_type": "code",
   "execution_count": 641,
   "id": "d7f5f8f8",
   "metadata": {},
   "outputs": [],
   "source": [
    "#changing the placement of the last two rows to be the first two rows\n",
    "last_two_rows = PROD_SIZES_COUNTS.iloc[-2:]\n",
    "PROD_SIZES_COUNTS = pd.concat([last_two_rows, PROD_SIZES_COUNTS.iloc[:-2]])"
   ]
  },
  {
   "cell_type": "code",
   "execution_count": 642,
   "id": "431d341d",
   "metadata": {},
   "outputs": [
    {
     "data": {
      "text/plain": [
       "<BarContainer object of 20 artists>"
      ]
     },
     "execution_count": 642,
     "metadata": {},
     "output_type": "execute_result"
    },
    {
     "data": {
      "image/png": "[encoded data removed]",
      "text/plain": [
       "<Figure size 720x360 with 1 Axes>"
      ]
     },
     "metadata": {
      "needs_background": "light"
     },
     "output_type": "display_data"
    }
   ],
   "source": [
    "#plotting our figure\n",
    "plt.figure(figsize=(10, 5))\n",
    "plt.title('Transaction by pack size')\n",
    "plt.xlabel('Pack size')\n",
    "plt.ylabel('Transaction count')\n",
    "plt.bar(PROD_SIZES_COUNTS.index, PROD_SIZES_COUNTS['PROD_SIZES'])"
   ]
  },
  {
   "cell_type": "markdown",
   "id": "d48606cd",
   "metadata": {},
   "source": [
    "We can see the pack sizes bought seem to be reasonable. The most popular pack sizes are 175 g and 150 g. Too big and too small packs are both not that popular."
   ]
  },
  {
   "cell_type": "markdown",
   "id": "09a71dc9",
   "metadata": {},
   "source": [
    "Let's look at the brands now. To analyse the brands we will use the PROD_BRAND column we have created before. As the brand names are usually in the beginning of the string, we will extract the first word of the string in every column."
   ]
  },
  {
   "cell_type": "code",
   "execution_count": 643,
   "id": "f7e432e2",
   "metadata": {},
   "outputs": [
    {
     "data": {
      "text/plain": [
       "0          Natural\n",
       "1              CCs\n",
       "2           Smiths\n",
       "3           Smiths\n",
       "4           Kettle\n",
       "            ...   \n",
       "264831      Kettle\n",
       "264832    Tostitos\n",
       "264833     Doritos\n",
       "264834     Doritos\n",
       "264835    Tostitos\n",
       "Name: PROD_BRAND, Length: 246740, dtype: object"
      ]
     },
     "execution_count": 643,
     "metadata": {},
     "output_type": "execute_result"
    }
   ],
   "source": [
    "transactionData['PROD_BRAND'] = transactionData['PROD_BRAND'].str.split().str[0]\n",
    "transactionData['PROD_BRAND']"
   ]
  },
  {
   "cell_type": "markdown",
   "id": "843d0c61",
   "metadata": {},
   "source": [
    "Let's group these together now to see if there are any of the same brands with different names. Before we group them together we can see that some brands have multiple name enties(doritos, dorito). Let's remove all the s's at the end of the string so the value.counts() function can see they're the same brand. The use of uppercase and lowercase seems to follow the same convention in every string however just to be safe, we will convert everything to lowercase."
   ]
  },
  {
   "cell_type": "code",
   "execution_count": 644,
   "id": "bb6fe8db",
   "metadata": {},
   "outputs": [],
   "source": [
    "transactionData['PROD_BRAND'] = transactionData['PROD_BRAND'].str.replace('s$', '', regex=True)\n",
    "transactionData['PROD_BRAND'] = transactionData['PROD_BRAND'].str.lower()\n"
   ]
  },
  {
   "cell_type": "code",
   "execution_count": 645,
   "id": "71a89b1a",
   "metadata": {},
   "outputs": [],
   "source": [
    "brand_counts = transactionData[\"PROD_BRAND\"].value_counts()\n",
    "brand_counts = pd.DataFrame(data=brand_counts)"
   ]
  },
  {
   "cell_type": "markdown",
   "id": "1d0944cf",
   "metadata": {},
   "source": [
    "When we look at the data we can see that we still have some brand entires twice. Let's find them all and combine them. red&rrd, ww& woolworth, infuzion&infzn,natural&ncc, grain& grnwve, snbt,sunbite."
   ]
  },
  {
   "cell_type": "code",
   "execution_count": 646,
   "id": "1a65ca2d",
   "metadata": {},
   "outputs": [],
   "source": [
    "#we can make all these changes in one line however for easier readibility I'll combine each brand on a different line.\n",
    "brand_counts.rename(index={\"red\": \"redrockdeli\", \"rrd\": \"redrockdeli\"}, inplace=True)\n",
    "brand_counts.rename(index={\"ww\": \"woolworths\", \"woolworth\": \"woolworths\"}, inplace=True)\n",
    "brand_counts.rename(index={\"infuzion\": \"infuzions\", \"infzn\": \"infuzions\"}, inplace=True)\n",
    "brand_counts.rename(index={\"natural\": \"naturalchipco\", \"ncc\": \"naturalchipco\"}, inplace=True)\n",
    "brand_counts.rename(index={\"grain\": \"grainwaves\", \"grnwve\": \"grainwaves\"}, inplace=True)\n",
    "brand_counts.rename(index={\"snbt\": \"sunbites\", \"sunbite\": \"sunbites\"}, inplace=True)\n",
    "#now that we have the same naming convention let's merge the same brands into the same row.\n",
    "brand_counts=brand_counts.groupby(brand_counts.index).sum()\n",
    "brand_counts = brand_counts.sort_values('PROD_BRAND')"
   ]
  },
  {
   "cell_type": "markdown",
   "id": "dc2e9144",
   "metadata": {},
   "source": [
    "Let's create a plot to see how much each brand sold throughout the year."
   ]
  },
  {
   "cell_type": "code",
   "execution_count": 647,
   "id": "6e3dee17",
   "metadata": {},
   "outputs": [
    {
     "data": {
      "text/plain": [
       "<BarContainer object of 20 artists>"
      ]
     },
     "execution_count": 647,
     "metadata": {},
     "output_type": "execute_result"
    },
    {
     "data": {
      "image/png": "[encoded data removed]",
      "text/plain": [
       "<Figure size 720x360 with 1 Axes>"
      ]
     },
     "metadata": {
      "needs_background": "light"
     },
     "output_type": "display_data"
    }
   ],
   "source": [
    "plt.figure(figsize=(10, 5))\n",
    "plt.title('Transaction by brand')\n",
    "plt.xlabel('Brand Name')\n",
    "plt.xticks(rotation=60)\n",
    "plt.ylabel('Transaction count')\n",
    "plt.bar(brand_counts.index, brand_counts['PROD_BRAND'])"
   ]
  },
  {
   "cell_type": "markdown",
   "id": "8765992f",
   "metadata": {},
   "source": [
    "There we go we can see the most popular brands now. We vab see that the most sold chip brand was kettle, followed by Smiths and Doritos. We can also see that the least popular chip brands are french fries, burger and Cheetos. Which is interesting to see as I personally thought Cheetos would sell more."
   ]
  },
  {
   "cell_type": "markdown",
   "id": "d428eb6c",
   "metadata": {},
   "source": [
    "Okay! We've cleaned our transactionData dataset and analysed it. Let's do the same for our customer dataset(purchase behaviour)."
   ]
  },
  {
   "cell_type": "code",
   "execution_count": 648,
   "id": "3d988959",
   "metadata": {},
   "outputs": [
    {
     "data": {
      "text/html": [
       "<div>\n",
       "<style scoped>\n",
       "    .dataframe tbody tr th:only-of-type {\n",
       "        vertical-align: middle;\n",
       "    }\n",
       "\n",
       "    .dataframe tbody tr th {\n",
       "        vertical-align: top;\n",
       "    }\n",
       "\n",
       "    .dataframe thead th {\n",
       "        text-align: right;\n",
       "    }\n",
       "</style>\n",
       "<table border=\"1\" class=\"dataframe\">\n",
       "  <thead>\n",
       "    <tr style=\"text-align: right;\">\n",
       "      <th></th>\n",
       "      <th>LYLTY_CARD_NBR</th>\n",
       "      <th>LIFESTAGE</th>\n",
       "      <th>PREMIUM_CUSTOMER</th>\n",
       "    </tr>\n",
       "  </thead>\n",
       "  <tbody>\n",
       "    <tr>\n",
       "      <th>0</th>\n",
       "      <td>1000</td>\n",
       "      <td>YOUNG SINGLES/COUPLES</td>\n",
       "      <td>Premium</td>\n",
       "    </tr>\n",
       "    <tr>\n",
       "      <th>1</th>\n",
       "      <td>1002</td>\n",
       "      <td>YOUNG SINGLES/COUPLES</td>\n",
       "      <td>Mainstream</td>\n",
       "    </tr>\n",
       "    <tr>\n",
       "      <th>2</th>\n",
       "      <td>1003</td>\n",
       "      <td>YOUNG FAMILIES</td>\n",
       "      <td>Budget</td>\n",
       "    </tr>\n",
       "    <tr>\n",
       "      <th>3</th>\n",
       "      <td>1004</td>\n",
       "      <td>OLDER SINGLES/COUPLES</td>\n",
       "      <td>Mainstream</td>\n",
       "    </tr>\n",
       "    <tr>\n",
       "      <th>4</th>\n",
       "      <td>1005</td>\n",
       "      <td>MIDAGE SINGLES/COUPLES</td>\n",
       "      <td>Mainstream</td>\n",
       "    </tr>\n",
       "    <tr>\n",
       "      <th>...</th>\n",
       "      <td>...</td>\n",
       "      <td>...</td>\n",
       "      <td>...</td>\n",
       "    </tr>\n",
       "    <tr>\n",
       "      <th>72632</th>\n",
       "      <td>2370651</td>\n",
       "      <td>MIDAGE SINGLES/COUPLES</td>\n",
       "      <td>Mainstream</td>\n",
       "    </tr>\n",
       "    <tr>\n",
       "      <th>72633</th>\n",
       "      <td>2370701</td>\n",
       "      <td>YOUNG FAMILIES</td>\n",
       "      <td>Mainstream</td>\n",
       "    </tr>\n",
       "    <tr>\n",
       "      <th>72634</th>\n",
       "      <td>2370751</td>\n",
       "      <td>YOUNG FAMILIES</td>\n",
       "      <td>Premium</td>\n",
       "    </tr>\n",
       "    <tr>\n",
       "      <th>72635</th>\n",
       "      <td>2370961</td>\n",
       "      <td>OLDER FAMILIES</td>\n",
       "      <td>Budget</td>\n",
       "    </tr>\n",
       "    <tr>\n",
       "      <th>72636</th>\n",
       "      <td>2373711</td>\n",
       "      <td>YOUNG SINGLES/COUPLES</td>\n",
       "      <td>Mainstream</td>\n",
       "    </tr>\n",
       "  </tbody>\n",
       "</table>\n",
       "<p>72637 rows × 3 columns</p>\n",
       "</div>"
      ],
      "text/plain": [
       "       LYLTY_CARD_NBR               LIFESTAGE PREMIUM_CUSTOMER\n",
       "0                1000   YOUNG SINGLES/COUPLES          Premium\n",
       "1                1002   YOUNG SINGLES/COUPLES       Mainstream\n",
       "2                1003          YOUNG FAMILIES           Budget\n",
       "3                1004   OLDER SINGLES/COUPLES       Mainstream\n",
       "4                1005  MIDAGE SINGLES/COUPLES       Mainstream\n",
       "...               ...                     ...              ...\n",
       "72632         2370651  MIDAGE SINGLES/COUPLES       Mainstream\n",
       "72633         2370701          YOUNG FAMILIES       Mainstream\n",
       "72634         2370751          YOUNG FAMILIES          Premium\n",
       "72635         2370961          OLDER FAMILIES           Budget\n",
       "72636         2373711   YOUNG SINGLES/COUPLES       Mainstream\n",
       "\n",
       "[72637 rows x 3 columns]"
      ]
     },
     "execution_count": 648,
     "metadata": {},
     "output_type": "execute_result"
    }
   ],
   "source": [
    "purchaseBehvaiour"
   ]
  },
  {
   "cell_type": "code",
   "execution_count": 649,
   "id": "80b91e86",
   "metadata": {},
   "outputs": [
    {
     "data": {
      "text/plain": [
       "<BarContainer object of 7 artists>"
      ]
     },
     "execution_count": 649,
     "metadata": {},
     "output_type": "execute_result"
    },
    {
     "data": {
      "image/png": "[encoded data removed]",
      "text/plain": [
       "<Figure size 432x288 with 1 Axes>"
      ]
     },
     "metadata": {
      "needs_background": "light"
     },
     "output_type": "display_data"
    }
   ],
   "source": [
    "plt.figure(figsize=(6, 4))\n",
    "plt.title('Customer by lifestage')\n",
    "plt.xlabel('Customer Lifestage')\n",
    "plt.xticks(rotation=90)\n",
    "plt.ylabel('Customer count')\n",
    "plt.bar(customer_lifestage_count.index, customer_lifestage_count['LIFESTAGE'])"
   ]
  },
  {
   "cell_type": "markdown",
   "id": "d1c67cc7",
   "metadata": {},
   "source": [
    "We can see that most customers are retirees and older singles/couples. Followed by young singles/couples. "
   ]
  },
  {
   "cell_type": "markdown",
   "id": "c2f05079",
   "metadata": {},
   "source": [
    "Let's combine the two tables(transactionData,purchaseBehvaiour). We are primarily interested in purchases and which customer they're connected to so we'll do a left join. "
   ]
  },
  {
   "cell_type": "code",
   "execution_count": 650,
   "id": "e88879dd",
   "metadata": {},
   "outputs": [
    {
     "data": {
      "text/html": [
       "<div>\n",
       "<style scoped>\n",
       "    .dataframe tbody tr th:only-of-type {\n",
       "        vertical-align: middle;\n",
       "    }\n",
       "\n",
       "    .dataframe tbody tr th {\n",
       "        vertical-align: top;\n",
       "    }\n",
       "\n",
       "    .dataframe thead th {\n",
       "        text-align: right;\n",
       "    }\n",
       "</style>\n",
       "<table border=\"1\" class=\"dataframe\">\n",
       "  <thead>\n",
       "    <tr style=\"text-align: right;\">\n",
       "      <th></th>\n",
       "      <th>DATE</th>\n",
       "      <th>STORE_NBR</th>\n",
       "      <th>LYLTY_CARD_NBR</th>\n",
       "      <th>TXN_ID</th>\n",
       "      <th>PROD_NBR</th>\n",
       "      <th>PROD_NAME</th>\n",
       "      <th>PROD_QTY</th>\n",
       "      <th>TOT_SALES</th>\n",
       "      <th>PROD_SIZES</th>\n",
       "      <th>PROD_BRAND</th>\n",
       "      <th>LIFESTAGE</th>\n",
       "      <th>PREMIUM_CUSTOMER</th>\n",
       "    </tr>\n",
       "  </thead>\n",
       "  <tbody>\n",
       "    <tr>\n",
       "      <th>0</th>\n",
       "      <td>2018-10-17</td>\n",
       "      <td>1</td>\n",
       "      <td>1000</td>\n",
       "      <td>1</td>\n",
       "      <td>5</td>\n",
       "      <td>Natural Chip Compny SeaSalt</td>\n",
       "      <td>2</td>\n",
       "      <td>6.0</td>\n",
       "      <td>175</td>\n",
       "      <td>natural</td>\n",
       "      <td>YOUNG SINGLES/COUPLES</td>\n",
       "      <td>Premium</td>\n",
       "    </tr>\n",
       "    <tr>\n",
       "      <th>1</th>\n",
       "      <td>2019-05-14</td>\n",
       "      <td>1</td>\n",
       "      <td>1307</td>\n",
       "      <td>348</td>\n",
       "      <td>66</td>\n",
       "      <td>CCs Nacho Cheese</td>\n",
       "      <td>3</td>\n",
       "      <td>6.3</td>\n",
       "      <td>175</td>\n",
       "      <td>cc</td>\n",
       "      <td>MIDAGE SINGLES/COUPLES</td>\n",
       "      <td>Budget</td>\n",
       "    </tr>\n",
       "    <tr>\n",
       "      <th>2</th>\n",
       "      <td>2019-05-20</td>\n",
       "      <td>1</td>\n",
       "      <td>1343</td>\n",
       "      <td>383</td>\n",
       "      <td>61</td>\n",
       "      <td>Smiths Crinkle Cut Chips Chicken</td>\n",
       "      <td>2</td>\n",
       "      <td>2.9</td>\n",
       "      <td>170</td>\n",
       "      <td>smith</td>\n",
       "      <td>MIDAGE SINGLES/COUPLES</td>\n",
       "      <td>Budget</td>\n",
       "    </tr>\n",
       "    <tr>\n",
       "      <th>3</th>\n",
       "      <td>2018-08-17</td>\n",
       "      <td>2</td>\n",
       "      <td>2373</td>\n",
       "      <td>974</td>\n",
       "      <td>69</td>\n",
       "      <td>Smiths Chip Thinly S Cream Onion</td>\n",
       "      <td>5</td>\n",
       "      <td>15.0</td>\n",
       "      <td>175</td>\n",
       "      <td>smith</td>\n",
       "      <td>MIDAGE SINGLES/COUPLES</td>\n",
       "      <td>Budget</td>\n",
       "    </tr>\n",
       "    <tr>\n",
       "      <th>4</th>\n",
       "      <td>2018-08-18</td>\n",
       "      <td>2</td>\n",
       "      <td>2426</td>\n",
       "      <td>1038</td>\n",
       "      <td>108</td>\n",
       "      <td>Kettle Tortilla ChpsHny Jlpno Chili</td>\n",
       "      <td>3</td>\n",
       "      <td>13.8</td>\n",
       "      <td>150</td>\n",
       "      <td>kettle</td>\n",
       "      <td>MIDAGE SINGLES/COUPLES</td>\n",
       "      <td>Budget</td>\n",
       "    </tr>\n",
       "    <tr>\n",
       "      <th>...</th>\n",
       "      <td>...</td>\n",
       "      <td>...</td>\n",
       "      <td>...</td>\n",
       "      <td>...</td>\n",
       "      <td>...</td>\n",
       "      <td>...</td>\n",
       "      <td>...</td>\n",
       "      <td>...</td>\n",
       "      <td>...</td>\n",
       "      <td>...</td>\n",
       "      <td>...</td>\n",
       "      <td>...</td>\n",
       "    </tr>\n",
       "    <tr>\n",
       "      <th>246735</th>\n",
       "      <td>2019-03-09</td>\n",
       "      <td>272</td>\n",
       "      <td>272319</td>\n",
       "      <td>270088</td>\n",
       "      <td>89</td>\n",
       "      <td>Kettle Sweet Chilli And Sour Cream</td>\n",
       "      <td>2</td>\n",
       "      <td>10.8</td>\n",
       "      <td>175</td>\n",
       "      <td>kettle</td>\n",
       "      <td>YOUNG SINGLES/COUPLES</td>\n",
       "      <td>Premium</td>\n",
       "    </tr>\n",
       "    <tr>\n",
       "      <th>246736</th>\n",
       "      <td>2018-08-13</td>\n",
       "      <td>272</td>\n",
       "      <td>272358</td>\n",
       "      <td>270154</td>\n",
       "      <td>74</td>\n",
       "      <td>Tostitos Splash Of Lime</td>\n",
       "      <td>1</td>\n",
       "      <td>4.4</td>\n",
       "      <td>175</td>\n",
       "      <td>tostito</td>\n",
       "      <td>YOUNG SINGLES/COUPLES</td>\n",
       "      <td>Premium</td>\n",
       "    </tr>\n",
       "    <tr>\n",
       "      <th>246737</th>\n",
       "      <td>2018-11-06</td>\n",
       "      <td>272</td>\n",
       "      <td>272379</td>\n",
       "      <td>270187</td>\n",
       "      <td>51</td>\n",
       "      <td>Doritos Mexicana</td>\n",
       "      <td>2</td>\n",
       "      <td>8.8</td>\n",
       "      <td>170</td>\n",
       "      <td>dorito</td>\n",
       "      <td>YOUNG SINGLES/COUPLES</td>\n",
       "      <td>Premium</td>\n",
       "    </tr>\n",
       "    <tr>\n",
       "      <th>246738</th>\n",
       "      <td>2018-12-27</td>\n",
       "      <td>272</td>\n",
       "      <td>272379</td>\n",
       "      <td>270188</td>\n",
       "      <td>42</td>\n",
       "      <td>Doritos Corn Chip Mexican Jalapeno</td>\n",
       "      <td>2</td>\n",
       "      <td>7.8</td>\n",
       "      <td>150</td>\n",
       "      <td>dorito</td>\n",
       "      <td>YOUNG SINGLES/COUPLES</td>\n",
       "      <td>Premium</td>\n",
       "    </tr>\n",
       "    <tr>\n",
       "      <th>246739</th>\n",
       "      <td>2018-09-22</td>\n",
       "      <td>272</td>\n",
       "      <td>272380</td>\n",
       "      <td>270189</td>\n",
       "      <td>74</td>\n",
       "      <td>Tostitos Splash Of Lime</td>\n",
       "      <td>2</td>\n",
       "      <td>8.8</td>\n",
       "      <td>175</td>\n",
       "      <td>tostito</td>\n",
       "      <td>YOUNG SINGLES/COUPLES</td>\n",
       "      <td>Premium</td>\n",
       "    </tr>\n",
       "  </tbody>\n",
       "</table>\n",
       "<p>246740 rows × 12 columns</p>\n",
       "</div>"
      ],
      "text/plain": [
       "             DATE  STORE_NBR  LYLTY_CARD_NBR  TXN_ID  PROD_NBR  \\\n",
       "0      2018-10-17          1            1000       1         5   \n",
       "1      2019-05-14          1            1307     348        66   \n",
       "2      2019-05-20          1            1343     383        61   \n",
       "3      2018-08-17          2            2373     974        69   \n",
       "4      2018-08-18          2            2426    1038       108   \n",
       "...           ...        ...             ...     ...       ...   \n",
       "246735 2019-03-09        272          272319  270088        89   \n",
       "246736 2018-08-13        272          272358  270154        74   \n",
       "246737 2018-11-06        272          272379  270187        51   \n",
       "246738 2018-12-27        272          272379  270188        42   \n",
       "246739 2018-09-22        272          272380  270189        74   \n",
       "\n",
       "                                   PROD_NAME  PROD_QTY  TOT_SALES PROD_SIZES  \\\n",
       "0               Natural Chip Compny SeaSalt          2        6.0        175   \n",
       "1                          CCs Nacho Cheese          3        6.3        175   \n",
       "2          Smiths Crinkle Cut Chips Chicken          2        2.9        170   \n",
       "3          Smiths Chip Thinly S Cream Onion          5       15.0        175   \n",
       "4       Kettle Tortilla ChpsHny Jlpno Chili          3       13.8        150   \n",
       "...                                      ...       ...        ...        ...   \n",
       "246735   Kettle Sweet Chilli And Sour Cream          2       10.8        175   \n",
       "246736              Tostitos Splash Of Lime          1        4.4        175   \n",
       "246737                     Doritos Mexicana          2        8.8        170   \n",
       "246738   Doritos Corn Chip Mexican Jalapeno          2        7.8        150   \n",
       "246739              Tostitos Splash Of Lime          2        8.8        175   \n",
       "\n",
       "       PROD_BRAND               LIFESTAGE PREMIUM_CUSTOMER  \n",
       "0         natural   YOUNG SINGLES/COUPLES          Premium  \n",
       "1              cc  MIDAGE SINGLES/COUPLES           Budget  \n",
       "2           smith  MIDAGE SINGLES/COUPLES           Budget  \n",
       "3           smith  MIDAGE SINGLES/COUPLES           Budget  \n",
       "4          kettle  MIDAGE SINGLES/COUPLES           Budget  \n",
       "...           ...                     ...              ...  \n",
       "246735     kettle   YOUNG SINGLES/COUPLES          Premium  \n",
       "246736    tostito   YOUNG SINGLES/COUPLES          Premium  \n",
       "246737     dorito   YOUNG SINGLES/COUPLES          Premium  \n",
       "246738     dorito   YOUNG SINGLES/COUPLES          Premium  \n",
       "246739    tostito   YOUNG SINGLES/COUPLES          Premium  \n",
       "\n",
       "[246740 rows x 12 columns]"
      ]
     },
     "execution_count": 650,
     "metadata": {},
     "output_type": "execute_result"
    }
   ],
   "source": [
    "combined_df = pd.merge(transactionData, purchaseBehvaiour, on='LYLTY_CARD_NBR', how='left')\n",
    "combined_df"
   ]
  },
  {
   "cell_type": "code",
   "execution_count": 651,
   "id": "c0f982de",
   "metadata": {},
   "outputs": [
    {
     "name": "stdout",
     "output_type": "stream",
     "text": [
      "False\n"
     ]
    }
   ],
   "source": [
    "#check if there are any null values. There are no null values!\n",
    "print(combined_df.isnull().values.any())"
   ]
  },
  {
   "cell_type": "markdown",
   "id": "d6bac19d",
   "metadata": {},
   "source": [
    "Let's save this dataset for later use in task 2"
   ]
  },
  {
   "cell_type": "code",
   "execution_count": 652,
   "id": "b0394abd",
   "metadata": {},
   "outputs": [],
   "source": [
    "combined_df.to_csv('combined_df_for_task2.csv', index=True)\n",
    "combined_df_fortask1=combined_df"
   ]
  },
  {
   "cell_type": "code",
   "execution_count": 653,
   "id": "8e76047c",
   "metadata": {},
   "outputs": [],
   "source": [
    "#removing the columns we don't need\n",
    "combined_df_fortask1 = combined_df_fortask1.drop(['LYLTY_CARD_NBR', 'TXN_ID','PROD_NBR', 'PROD_NAME','PROD_SIZES','PROD_BRAND','DATE','PROD_QTY','STORE_NBR'], axis=1)"
   ]
  },
  {
   "cell_type": "code",
   "execution_count": 654,
   "id": "6c126c67",
   "metadata": {},
   "outputs": [
    {
     "data": {
      "text/html": [
       "<div>\n",
       "<style scoped>\n",
       "    .dataframe tbody tr th:only-of-type {\n",
       "        vertical-align: middle;\n",
       "    }\n",
       "\n",
       "    .dataframe tbody tr th {\n",
       "        vertical-align: top;\n",
       "    }\n",
       "\n",
       "    .dataframe thead th {\n",
       "        text-align: right;\n",
       "    }\n",
       "</style>\n",
       "<table border=\"1\" class=\"dataframe\">\n",
       "  <thead>\n",
       "    <tr style=\"text-align: right;\">\n",
       "      <th></th>\n",
       "      <th>TOT_SALES</th>\n",
       "      <th>LIFESTAGE</th>\n",
       "      <th>PREMIUM_CUSTOMER</th>\n",
       "    </tr>\n",
       "  </thead>\n",
       "  <tbody>\n",
       "    <tr>\n",
       "      <th>0</th>\n",
       "      <td>6.0</td>\n",
       "      <td>YOUNG SINGLES/COUPLES</td>\n",
       "      <td>Premium</td>\n",
       "    </tr>\n",
       "    <tr>\n",
       "      <th>1</th>\n",
       "      <td>6.3</td>\n",
       "      <td>MIDAGE SINGLES/COUPLES</td>\n",
       "      <td>Budget</td>\n",
       "    </tr>\n",
       "    <tr>\n",
       "      <th>2</th>\n",
       "      <td>2.9</td>\n",
       "      <td>MIDAGE SINGLES/COUPLES</td>\n",
       "      <td>Budget</td>\n",
       "    </tr>\n",
       "    <tr>\n",
       "      <th>3</th>\n",
       "      <td>15.0</td>\n",
       "      <td>MIDAGE SINGLES/COUPLES</td>\n",
       "      <td>Budget</td>\n",
       "    </tr>\n",
       "    <tr>\n",
       "      <th>4</th>\n",
       "      <td>13.8</td>\n",
       "      <td>MIDAGE SINGLES/COUPLES</td>\n",
       "      <td>Budget</td>\n",
       "    </tr>\n",
       "    <tr>\n",
       "      <th>...</th>\n",
       "      <td>...</td>\n",
       "      <td>...</td>\n",
       "      <td>...</td>\n",
       "    </tr>\n",
       "    <tr>\n",
       "      <th>246735</th>\n",
       "      <td>10.8</td>\n",
       "      <td>YOUNG SINGLES/COUPLES</td>\n",
       "      <td>Premium</td>\n",
       "    </tr>\n",
       "    <tr>\n",
       "      <th>246736</th>\n",
       "      <td>4.4</td>\n",
       "      <td>YOUNG SINGLES/COUPLES</td>\n",
       "      <td>Premium</td>\n",
       "    </tr>\n",
       "    <tr>\n",
       "      <th>246737</th>\n",
       "      <td>8.8</td>\n",
       "      <td>YOUNG SINGLES/COUPLES</td>\n",
       "      <td>Premium</td>\n",
       "    </tr>\n",
       "    <tr>\n",
       "      <th>246738</th>\n",
       "      <td>7.8</td>\n",
       "      <td>YOUNG SINGLES/COUPLES</td>\n",
       "      <td>Premium</td>\n",
       "    </tr>\n",
       "    <tr>\n",
       "      <th>246739</th>\n",
       "      <td>8.8</td>\n",
       "      <td>YOUNG SINGLES/COUPLES</td>\n",
       "      <td>Premium</td>\n",
       "    </tr>\n",
       "  </tbody>\n",
       "</table>\n",
       "<p>246740 rows × 3 columns</p>\n",
       "</div>"
      ],
      "text/plain": [
       "        TOT_SALES               LIFESTAGE PREMIUM_CUSTOMER\n",
       "0             6.0   YOUNG SINGLES/COUPLES          Premium\n",
       "1             6.3  MIDAGE SINGLES/COUPLES           Budget\n",
       "2             2.9  MIDAGE SINGLES/COUPLES           Budget\n",
       "3            15.0  MIDAGE SINGLES/COUPLES           Budget\n",
       "4            13.8  MIDAGE SINGLES/COUPLES           Budget\n",
       "...           ...                     ...              ...\n",
       "246735       10.8   YOUNG SINGLES/COUPLES          Premium\n",
       "246736        4.4   YOUNG SINGLES/COUPLES          Premium\n",
       "246737        8.8   YOUNG SINGLES/COUPLES          Premium\n",
       "246738        7.8   YOUNG SINGLES/COUPLES          Premium\n",
       "246739        8.8   YOUNG SINGLES/COUPLES          Premium\n",
       "\n",
       "[246740 rows x 3 columns]"
      ]
     },
     "execution_count": 654,
     "metadata": {},
     "output_type": "execute_result"
    }
   ],
   "source": [
    "combined_df_fortask1"
   ]
  },
  {
   "cell_type": "markdown",
   "id": "2fd0a083",
   "metadata": {},
   "source": [
    "Let's create a dataset to fins the total sales by lafestage and premium customer"
   ]
  },
  {
   "cell_type": "code",
   "execution_count": 655,
   "id": "7244a633",
   "metadata": {},
   "outputs": [],
   "source": [
    "df_byPremium=combined_df_fortask1.groupby(['PREMIUM_CUSTOMER']).count()\n",
    "df_byLifeStage=combined_df_fortask1.groupby(['LIFESTAGE']).count()\n",
    "df_byPremium_byLifestage=combined_df_fortask1.groupby(['PREMIUM_CUSTOMER','LIFESTAGE']).count()"
   ]
  },
  {
   "cell_type": "code",
   "execution_count": 656,
   "id": "7e1d2d2f",
   "metadata": {},
   "outputs": [
    {
     "data": {
      "text/html": [
       "<div>\n",
       "<style scoped>\n",
       "    .dataframe tbody tr th:only-of-type {\n",
       "        vertical-align: middle;\n",
       "    }\n",
       "\n",
       "    .dataframe tbody tr th {\n",
       "        vertical-align: top;\n",
       "    }\n",
       "\n",
       "    .dataframe thead th {\n",
       "        text-align: right;\n",
       "    }\n",
       "</style>\n",
       "<table border=\"1\" class=\"dataframe\">\n",
       "  <thead>\n",
       "    <tr style=\"text-align: right;\">\n",
       "      <th></th>\n",
       "      <th>TOT_SALES</th>\n",
       "      <th>PREMIUM_CUSTOMER</th>\n",
       "    </tr>\n",
       "    <tr>\n",
       "      <th>LIFESTAGE</th>\n",
       "      <th></th>\n",
       "      <th></th>\n",
       "    </tr>\n",
       "  </thead>\n",
       "  <tbody>\n",
       "    <tr>\n",
       "      <th>MIDAGE SINGLES/COUPLES</th>\n",
       "      <td>23398</td>\n",
       "      <td>23398</td>\n",
       "    </tr>\n",
       "    <tr>\n",
       "      <th>NEW FAMILIES</th>\n",
       "      <td>6497</td>\n",
       "      <td>6497</td>\n",
       "    </tr>\n",
       "    <tr>\n",
       "      <th>OLDER FAMILIES</th>\n",
       "      <td>45158</td>\n",
       "      <td>45158</td>\n",
       "    </tr>\n",
       "    <tr>\n",
       "      <th>OLDER SINGLES/COUPLES</th>\n",
       "      <td>50793</td>\n",
       "      <td>50793</td>\n",
       "    </tr>\n",
       "    <tr>\n",
       "      <th>RETIREES</th>\n",
       "      <td>46431</td>\n",
       "      <td>46431</td>\n",
       "    </tr>\n",
       "    <tr>\n",
       "      <th>YOUNG FAMILIES</th>\n",
       "      <td>40494</td>\n",
       "      <td>40494</td>\n",
       "    </tr>\n",
       "    <tr>\n",
       "      <th>YOUNG SINGLES/COUPLES</th>\n",
       "      <td>33969</td>\n",
       "      <td>33969</td>\n",
       "    </tr>\n",
       "  </tbody>\n",
       "</table>\n",
       "</div>"
      ],
      "text/plain": [
       "                        TOT_SALES  PREMIUM_CUSTOMER\n",
       "LIFESTAGE                                          \n",
       "MIDAGE SINGLES/COUPLES      23398             23398\n",
       "NEW FAMILIES                 6497              6497\n",
       "OLDER FAMILIES              45158             45158\n",
       "OLDER SINGLES/COUPLES       50793             50793\n",
       "RETIREES                    46431             46431\n",
       "YOUNG FAMILIES              40494             40494\n",
       "YOUNG SINGLES/COUPLES       33969             33969"
      ]
     },
     "execution_count": 656,
     "metadata": {},
     "output_type": "execute_result"
    }
   ],
   "source": [
    "df_byLifeStage\n",
    "#plt.bar(df_byLifeStage)"
   ]
  },
  {
   "cell_type": "code",
   "execution_count": 657,
   "id": "18b80c1d",
   "metadata": {},
   "outputs": [
    {
     "data": {
      "text/html": [
       "<div>\n",
       "<style scoped>\n",
       "    .dataframe tbody tr th:only-of-type {\n",
       "        vertical-align: middle;\n",
       "    }\n",
       "\n",
       "    .dataframe tbody tr th {\n",
       "        vertical-align: top;\n",
       "    }\n",
       "\n",
       "    .dataframe thead th {\n",
       "        text-align: right;\n",
       "    }\n",
       "</style>\n",
       "<table border=\"1\" class=\"dataframe\">\n",
       "  <thead>\n",
       "    <tr style=\"text-align: right;\">\n",
       "      <th></th>\n",
       "      <th>TOT_SALES</th>\n",
       "      <th>LIFESTAGE</th>\n",
       "    </tr>\n",
       "    <tr>\n",
       "      <th>PREMIUM_CUSTOMER</th>\n",
       "      <th></th>\n",
       "      <th></th>\n",
       "    </tr>\n",
       "  </thead>\n",
       "  <tbody>\n",
       "    <tr>\n",
       "      <th>Budget</th>\n",
       "      <td>86762</td>\n",
       "      <td>86762</td>\n",
       "    </tr>\n",
       "    <tr>\n",
       "      <th>Mainstream</th>\n",
       "      <td>95043</td>\n",
       "      <td>95043</td>\n",
       "    </tr>\n",
       "    <tr>\n",
       "      <th>Premium</th>\n",
       "      <td>64935</td>\n",
       "      <td>64935</td>\n",
       "    </tr>\n",
       "  </tbody>\n",
       "</table>\n",
       "</div>"
      ],
      "text/plain": [
       "                  TOT_SALES  LIFESTAGE\n",
       "PREMIUM_CUSTOMER                      \n",
       "Budget                86762      86762\n",
       "Mainstream            95043      95043\n",
       "Premium               64935      64935"
      ]
     },
     "execution_count": 657,
     "metadata": {},
     "output_type": "execute_result"
    }
   ],
   "source": [
    "df_byPremium"
   ]
  },
  {
   "cell_type": "code",
   "execution_count": 658,
   "id": "5a8af633",
   "metadata": {},
   "outputs": [],
   "source": [
    "df_byPremium_byLifestage\n",
    "df_byPremium_byLifestage = df_byPremium_byLifestage.unstack()"
   ]
  },
  {
   "cell_type": "code",
   "execution_count": 659,
   "id": "77522b53",
   "metadata": {
    "scrolled": true
   },
   "outputs": [
    {
     "data": {
      "image/png": "[encoded data removed]",
      "text/plain": [
       "<Figure size 432x288 with 1 Axes>"
      ]
     },
     "metadata": {
      "needs_background": "light"
     },
     "output_type": "display_data"
    }
   ],
   "source": [
    "ax=df_byPremium_byLifestage.plot(kind='bar')\n",
    "plt.show()\n"
   ]
  },
  {
   "cell_type": "code",
   "execution_count": null,
   "id": "929bf19c",
   "metadata": {},
   "outputs": [],
   "source": []
  }
 ],
 "metadata": {
  "kernelspec": {
   "display_name": "Python 3",
   "language": "python",
   "name": "python3"
  },
  "language_info": {
   "codemirror_mode": {
    "name": "ipython",
    "version": 3
   },
   "file_extension": ".py",
   "mimetype": "text/x-python",
   "name": "python",
   "nbconvert_exporter": "python",
   "pygments_lexer": "ipython3",
   "version": "3.8.8"
  }
 },
 "nbformat": 4,
 "nbformat_minor": 5
}
