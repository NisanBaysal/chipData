{
 "cells": [
  {
   "cell_type": "code",
   "execution_count": 181,
   "id": "cdd73d70",
   "metadata": {},
   "outputs": [],
   "source": [
    "import pandas as pd\n",
    "import xlrd\n",
    "import numpy as np\n",
    "import seaborn as sns\n"
   ]
  },
  {
   "cell_type": "code",
   "execution_count": 162,
   "id": "b17d9d14",
   "metadata": {},
   "outputs": [],
   "source": [
    "purchaseBehvaiour=pd.read_csv(\"files/QVI_purchase_behaviour.csv\")"
   ]
  },
  {
   "cell_type": "code",
   "execution_count": 163,
   "id": "1fa23f05",
   "metadata": {},
   "outputs": [],
   "source": [
    "missing_values = [\"n/a\", \"na\", \"--\"]\n",
    "transactionData=pd.read_excel(\"files/QVI_transaction_data.xlsx\",na_values = missing_values)\n"
   ]
  },
  {
   "cell_type": "code",
   "execution_count": 164,
   "id": "64b3c8a9",
   "metadata": {},
   "outputs": [],
   "source": [
    "#purchaseBehvaiour.head()"
   ]
  },
  {
   "cell_type": "code",
   "execution_count": 165,
   "id": "7dc9a53c",
   "metadata": {},
   "outputs": [
    {
     "data": {
      "text/html": [
       "<div>\n",
       "<style scoped>\n",
       "    .dataframe tbody tr th:only-of-type {\n",
       "        vertical-align: middle;\n",
       "    }\n",
       "\n",
       "    .dataframe tbody tr th {\n",
       "        vertical-align: top;\n",
       "    }\n",
       "\n",
       "    .dataframe thead th {\n",
       "        text-align: right;\n",
       "    }\n",
       "</style>\n",
       "<table border=\"1\" class=\"dataframe\">\n",
       "  <thead>\n",
       "    <tr style=\"text-align: right;\">\n",
       "      <th></th>\n",
       "      <th>DATE</th>\n",
       "      <th>STORE_NBR</th>\n",
       "      <th>LYLTY_CARD_NBR</th>\n",
       "      <th>TXN_ID</th>\n",
       "      <th>PROD_NBR</th>\n",
       "      <th>PROD_NAME</th>\n",
       "      <th>PROD_QTY</th>\n",
       "      <th>TOT_SALES</th>\n",
       "    </tr>\n",
       "  </thead>\n",
       "  <tbody>\n",
       "    <tr>\n",
       "      <th>0</th>\n",
       "      <td>43390</td>\n",
       "      <td>1</td>\n",
       "      <td>1000</td>\n",
       "      <td>1</td>\n",
       "      <td>5</td>\n",
       "      <td>Natural Chip        Compny SeaSalt175g</td>\n",
       "      <td>2</td>\n",
       "      <td>6.0</td>\n",
       "    </tr>\n",
       "    <tr>\n",
       "      <th>1</th>\n",
       "      <td>43599</td>\n",
       "      <td>1</td>\n",
       "      <td>1307</td>\n",
       "      <td>348</td>\n",
       "      <td>66</td>\n",
       "      <td>CCs Nacho Cheese    175g</td>\n",
       "      <td>3</td>\n",
       "      <td>6.3</td>\n",
       "    </tr>\n",
       "    <tr>\n",
       "      <th>2</th>\n",
       "      <td>43605</td>\n",
       "      <td>1</td>\n",
       "      <td>1343</td>\n",
       "      <td>383</td>\n",
       "      <td>61</td>\n",
       "      <td>Smiths Crinkle Cut  Chips Chicken 170g</td>\n",
       "      <td>2</td>\n",
       "      <td>2.9</td>\n",
       "    </tr>\n",
       "    <tr>\n",
       "      <th>3</th>\n",
       "      <td>43329</td>\n",
       "      <td>2</td>\n",
       "      <td>2373</td>\n",
       "      <td>974</td>\n",
       "      <td>69</td>\n",
       "      <td>Smiths Chip Thinly  S/Cream&amp;Onion 175g</td>\n",
       "      <td>5</td>\n",
       "      <td>15.0</td>\n",
       "    </tr>\n",
       "    <tr>\n",
       "      <th>4</th>\n",
       "      <td>43330</td>\n",
       "      <td>2</td>\n",
       "      <td>2426</td>\n",
       "      <td>1038</td>\n",
       "      <td>108</td>\n",
       "      <td>Kettle Tortilla ChpsHny&amp;Jlpno Chili 150g</td>\n",
       "      <td>3</td>\n",
       "      <td>13.8</td>\n",
       "    </tr>\n",
       "  </tbody>\n",
       "</table>\n",
       "</div>"
      ],
      "text/plain": [
       "    DATE  STORE_NBR  LYLTY_CARD_NBR  TXN_ID  PROD_NBR  \\\n",
       "0  43390          1            1000       1         5   \n",
       "1  43599          1            1307     348        66   \n",
       "2  43605          1            1343     383        61   \n",
       "3  43329          2            2373     974        69   \n",
       "4  43330          2            2426    1038       108   \n",
       "\n",
       "                                  PROD_NAME  PROD_QTY  TOT_SALES  \n",
       "0    Natural Chip        Compny SeaSalt175g         2        6.0  \n",
       "1                  CCs Nacho Cheese    175g         3        6.3  \n",
       "2    Smiths Crinkle Cut  Chips Chicken 170g         2        2.9  \n",
       "3    Smiths Chip Thinly  S/Cream&Onion 175g         5       15.0  \n",
       "4  Kettle Tortilla ChpsHny&Jlpno Chili 150g         3       13.8  "
      ]
     },
     "execution_count": 165,
     "metadata": {},
     "output_type": "execute_result"
    }
   ],
   "source": [
    "transactionData.head()"
   ]
  },
  {
   "cell_type": "code",
   "execution_count": 191,
   "id": "50e81d90",
   "metadata": {},
   "outputs": [
    {
     "ename": "ValueError",
     "evalue": "'0        2018-10-17\n1        2019-05-14\n2        2019-05-20\n3        2018-08-17\n4        2018-08-18\n            ...    \n264831   2019-03-09\n264832   2018-08-13\n264833   2018-11-06\n264834   2018-12-27\n264835   2018-09-22\nName: DATE, Length: 246740, dtype: datetime64[ns]' is not compatible with origin='1899/12/30'; it must be numeric with a unit specified",
     "output_type": "error",
     "traceback": [
      "\u001b[0;31m---------------------------------------------------------------------------\u001b[0m",
      "\u001b[0;31mValueError\u001b[0m                                Traceback (most recent call last)",
      "\u001b[0;32m<ipython-input-191-c0ead350375a>\u001b[0m in \u001b[0;36m<module>\u001b[0;34m\u001b[0m\n\u001b[1;32m      1\u001b[0m \u001b[0;31m#Turn date into date format from integer format\u001b[0m\u001b[0;34m\u001b[0m\u001b[0;34m\u001b[0m\u001b[0;34m\u001b[0m\u001b[0m\n\u001b[0;32m----> 2\u001b[0;31m \u001b[0mtransactionData\u001b[0m\u001b[0;34m[\u001b[0m\u001b[0;34m\"DATE\"\u001b[0m\u001b[0;34m]\u001b[0m \u001b[0;34m=\u001b[0m \u001b[0mpd\u001b[0m\u001b[0;34m.\u001b[0m\u001b[0mto_datetime\u001b[0m\u001b[0;34m(\u001b[0m\u001b[0mtransactionData\u001b[0m\u001b[0;34m[\u001b[0m\u001b[0;34m\"DATE\"\u001b[0m\u001b[0;34m]\u001b[0m\u001b[0;34m,\u001b[0m \u001b[0morigin\u001b[0m \u001b[0;34m=\u001b[0m\u001b[0;34m'1899/12/30'\u001b[0m\u001b[0;34m,\u001b[0m \u001b[0munit\u001b[0m \u001b[0;34m=\u001b[0m \u001b[0;34m'D'\u001b[0m\u001b[0;34m)\u001b[0m\u001b[0;34m\u001b[0m\u001b[0;34m\u001b[0m\u001b[0m\n\u001b[0m\u001b[1;32m      3\u001b[0m \u001b[0mprint\u001b[0m\u001b[0;34m(\u001b[0m\u001b[0mtransactionData\u001b[0m\u001b[0;34m[\u001b[0m\u001b[0;34m\"DATE\"\u001b[0m\u001b[0;34m]\u001b[0m\u001b[0;34m[\u001b[0m\u001b[0;36m0\u001b[0m\u001b[0;34m:\u001b[0m\u001b[0;36m2\u001b[0m\u001b[0;34m]\u001b[0m\u001b[0;34m)\u001b[0m\u001b[0;34m\u001b[0m\u001b[0;34m\u001b[0m\u001b[0m\n",
      "\u001b[0;32m~/opt/anaconda3/lib/python3.8/site-packages/pandas/core/tools/datetimes.py\u001b[0m in \u001b[0;36mto_datetime\u001b[0;34m(arg, errors, dayfirst, yearfirst, utc, format, exact, unit, infer_datetime_format, origin, cache)\u001b[0m\n\u001b[1;32m    777\u001b[0m \u001b[0;34m\u001b[0m\u001b[0m\n\u001b[1;32m    778\u001b[0m     \u001b[0;32mif\u001b[0m \u001b[0morigin\u001b[0m \u001b[0;34m!=\u001b[0m \u001b[0;34m\"unix\"\u001b[0m\u001b[0;34m:\u001b[0m\u001b[0;34m\u001b[0m\u001b[0;34m\u001b[0m\u001b[0m\n\u001b[0;32m--> 779\u001b[0;31m         \u001b[0marg\u001b[0m \u001b[0;34m=\u001b[0m \u001b[0m_adjust_to_origin\u001b[0m\u001b[0;34m(\u001b[0m\u001b[0marg\u001b[0m\u001b[0;34m,\u001b[0m \u001b[0morigin\u001b[0m\u001b[0;34m,\u001b[0m \u001b[0munit\u001b[0m\u001b[0;34m)\u001b[0m\u001b[0;34m\u001b[0m\u001b[0;34m\u001b[0m\u001b[0m\n\u001b[0m\u001b[1;32m    780\u001b[0m \u001b[0;34m\u001b[0m\u001b[0m\n\u001b[1;32m    781\u001b[0m     \u001b[0mtz\u001b[0m \u001b[0;34m=\u001b[0m \u001b[0;34m\"utc\"\u001b[0m \u001b[0;32mif\u001b[0m \u001b[0mutc\u001b[0m \u001b[0;32melse\u001b[0m \u001b[0;32mNone\u001b[0m\u001b[0;34m\u001b[0m\u001b[0;34m\u001b[0m\u001b[0m\n",
      "\u001b[0;32m~/opt/anaconda3/lib/python3.8/site-packages/pandas/core/tools/datetimes.py\u001b[0m in \u001b[0;36m_adjust_to_origin\u001b[0;34m(arg, origin, unit)\u001b[0m\n\u001b[1;32m    526\u001b[0m             \u001b[0;32mor\u001b[0m \u001b[0mis_numeric_dtype\u001b[0m\u001b[0;34m(\u001b[0m\u001b[0mnp\u001b[0m\u001b[0;34m.\u001b[0m\u001b[0masarray\u001b[0m\u001b[0;34m(\u001b[0m\u001b[0marg\u001b[0m\u001b[0;34m)\u001b[0m\u001b[0;34m)\u001b[0m\u001b[0;34m\u001b[0m\u001b[0;34m\u001b[0m\u001b[0m\n\u001b[1;32m    527\u001b[0m         ):\n\u001b[0;32m--> 528\u001b[0;31m             raise ValueError(\n\u001b[0m\u001b[1;32m    529\u001b[0m                 \u001b[0;34mf\"'{arg}' is not compatible with origin='{origin}'; \"\u001b[0m\u001b[0;34m\u001b[0m\u001b[0;34m\u001b[0m\u001b[0m\n\u001b[1;32m    530\u001b[0m                 \u001b[0;34m\"it must be numeric with a unit specified\"\u001b[0m\u001b[0;34m\u001b[0m\u001b[0;34m\u001b[0m\u001b[0m\n",
      "\u001b[0;31mValueError\u001b[0m: '0        2018-10-17\n1        2019-05-14\n2        2019-05-20\n3        2018-08-17\n4        2018-08-18\n            ...    \n264831   2019-03-09\n264832   2018-08-13\n264833   2018-11-06\n264834   2018-12-27\n264835   2018-09-22\nName: DATE, Length: 246740, dtype: datetime64[ns]' is not compatible with origin='1899/12/30'; it must be numeric with a unit specified"
     ]
    }
   ],
   "source": [
    "#Turn date into date format from integer format\n",
    "transactionData[\"DATE\"] = pd.to_datetime(transactionData[\"DATE\"], origin ='1899/12/30', unit = 'D')"
   ]
  },
  {
   "cell_type": "code",
   "execution_count": 167,
   "id": "d0cb3786",
   "metadata": {},
   "outputs": [
    {
     "data": {
      "text/plain": [
       "count                                     264836\n",
       "unique                                       114\n",
       "top       Kettle Mozzarella   Basil & Pesto 175g\n",
       "freq                                        3304\n",
       "Name: PROD_NAME, dtype: object"
      ]
     },
     "execution_count": 167,
     "metadata": {},
     "output_type": "execute_result"
    }
   ],
   "source": [
    "#quick summary of the prod_name column\n",
    "transactionData['PROD_NAME'].describe()"
   ]
  },
  {
   "cell_type": "code",
   "execution_count": 168,
   "id": "f18a5b50",
   "metadata": {},
   "outputs": [],
   "source": [
    "#remove special characters \n",
    "transactionData['PROD_NAME']=transactionData['PROD_NAME'].str.replace('\\W', ' ', regex=True)\n",
    "#remove numbers\n",
    "transactionData['PROD_NAME']=transactionData['PROD_NAME'].str.replace('\\d+', ' ',regex=True)\n",
    "transactionData['PROD_NAME']=transactionData['PROD_NAME'].str.replace('g', ' ',regex=True)\n",
    "transactionData['PROD_NAME']=transactionData['PROD_NAME'].str.replace('\\s+', ' ',regex=True)"
   ]
  },
  {
   "cell_type": "code",
   "execution_count": 169,
   "id": "3f2e0e49",
   "metadata": {},
   "outputs": [
    {
     "data": {
      "text/plain": [
       "0            Natural Chip Compny SeaSalt \n",
       "1                       CCs Nacho Cheese \n",
       "2       Smiths Crinkle Cut Chips Chicken \n",
       "3       Smiths Chip Thinly S Cream Onion \n",
       "4    Kettle Tortilla ChpsHny Jlpno Chili \n",
       "Name: PROD_NAME, dtype: object"
      ]
     },
     "execution_count": 169,
     "metadata": {},
     "output_type": "execute_result"
    }
   ],
   "source": [
    "transactionData['PROD_NAME'].head()"
   ]
  },
  {
   "cell_type": "code",
   "execution_count": 170,
   "id": "54d73e51",
   "metadata": {
    "scrolled": false
   },
   "outputs": [
    {
     "name": "stdout",
     "output_type": "stream",
     "text": [
      "['Natural Chip Compny SeaSalt ', 'CCs Nacho Cheese ', 'Smiths Crinkle Cut Chips Chicken ', 'Smiths Chip Thinly S Cream Onion ', 'Kettle Tortilla ChpsHny Jlpno Chili ', 'Old El Paso Salsa Dip Tomato Mild ', 'Smiths Crinkle Chips Salt Vine ar ', 'Grain Waves Sweet Chilli ', 'Doritos Corn Chip Mexican Jalapeno ', 'Grain Waves Sour Cream Chives G', 'Smiths Crinkle Chips Salt Vine ar ', 'Kettle Sensations Siracha Lime ', 'Twisties Cheese ', 'WW Crinkle Cut Chicken ', 'Thins Chips Li ht Tan y ', 'CCs Ori inal ', 'Bur er Rin s ', 'NCC Sour Cream Garden Chives ', 'Doritos Corn Chip Southern Chicken ', 'Cheezels Cheese Box ', 'Smiths Crinkle Ori inal ', 'NCC Sour Cream Garden Chives ', 'Infzns Crn Crnchers Tan y Gcamole ', 'Kettle Sea Salt And Vine ar ', 'Kettle Tortilla ChpsHny Jlpno Chili ', 'Old El Paso Salsa Dip Tomato Mild ']\n"
     ]
    }
   ],
   "source": [
    "#let's create a list with the product names\n",
    "prod_name_list=[]\n",
    "for x in transactionData.index:\n",
    "    b=transactionData.PROD_NAME[x]\n",
    "    prod_name_list.append(b)\n",
    "print(prod_name_list[0:26])\n",
    "#we can see that there are some salsa products that we dont want"
   ]
  },
  {
   "cell_type": "markdown",
   "id": "4efd7a7c",
   "metadata": {},
   "source": [
    "#let's see the words\n",
    "new_list=[]\n",
    "for word in prod_name_list:\n",
    "    new_list.append(word.split(' '))\n",
    "#print(new_list[0:5])\n",
    "#let's see all the unique words that have been used\n",
    "res = list(set(i for j in new_list for i in j))\n",
    "print(res)\n",
    "#we can see that there are some words that have no meaning"
   ]
  },
  {
   "cell_type": "code",
   "execution_count": 171,
   "id": "670e4749",
   "metadata": {},
   "outputs": [],
   "source": [
    "#let's remove the rows that contain salsa products from the data set\n",
    "transactionData = transactionData[transactionData[\"PROD_NAME\"].str.contains(\"Salsa\") == False]\n"
   ]
  },
  {
   "cell_type": "code",
   "execution_count": 172,
   "id": "ed85f3b0",
   "metadata": {},
   "outputs": [
    {
     "name": "stdout",
     "output_type": "stream",
     "text": [
      "False\n"
     ]
    }
   ],
   "source": [
    "#let's see if there are any missing values\n",
    "print(transactionData.isnull().values.any())\n",
    "#we can see that there are no missing values"
   ]
  },
  {
   "cell_type": "code",
   "execution_count": 173,
   "id": "07c3d264",
   "metadata": {},
   "outputs": [
    {
     "name": "stdout",
     "output_type": "stream",
     "text": [
      "           STORE_NBR  LYLTY_CARD_NBR        TXN_ID       PROD_NBR  \\\n",
      "count  246742.000000    2.467420e+05  2.467420e+05  246742.000000   \n",
      "mean      135.051098    1.355310e+05  1.351311e+05      56.351789   \n",
      "std        76.787096    8.071528e+04  7.814772e+04      33.695428   \n",
      "min         1.000000    1.000000e+03  1.000000e+00       1.000000   \n",
      "25%        70.000000    7.001500e+04  6.756925e+04      26.000000   \n",
      "50%       130.000000    1.303670e+05  1.351830e+05      53.000000   \n",
      "75%       203.000000    2.030840e+05  2.026538e+05      87.000000   \n",
      "max       272.000000    2.373711e+06  2.415841e+06     114.000000   \n",
      "\n",
      "            PROD_QTY      TOT_SALES  \n",
      "count  246742.000000  246742.000000  \n",
      "mean        1.908062       7.321322  \n",
      "std         0.659831       3.077828  \n",
      "min         1.000000       1.700000  \n",
      "25%         2.000000       5.800000  \n",
      "50%         2.000000       7.400000  \n",
      "75%         2.000000       8.800000  \n",
      "max       200.000000     650.000000  \n"
     ]
    }
   ],
   "source": [
    "#let's check the summary statistics of the dataframe to see if there are any outliers\n",
    "print(transactionData.describe())"
   ]
  },
  {
   "cell_type": "markdown",
   "id": "00cb985b",
   "metadata": {},
   "source": [
    "we can see that the mean product quantity is 1.9 however maximum product quantity is 200. Could that be a mistake? Let's check the transaction, to see."
   ]
  },
  {
   "cell_type": "code",
   "execution_count": 183,
   "id": "5e55d925",
   "metadata": {},
   "outputs": [
    {
     "name": "stderr",
     "output_type": "stream",
     "text": [
      "/Users/nisanbaysal/opt/anaconda3/lib/python3.8/site-packages/seaborn/_decorators.py:36: FutureWarning: Pass the following variable as a keyword arg: x. From version 0.12, the only valid positional argument will be `data`, and passing other arguments without an explicit keyword will result in an error or misinterpretation.\n",
      "  warnings.warn(\n"
     ]
    },
    {
     "data": {
      "text/plain": [
       "<AxesSubplot:xlabel='PROD_QTY'>"
      ]
     },
     "execution_count": 183,
     "metadata": {},
     "output_type": "execute_result"
    },
    {
     "data": {
      "image/png": "[encoded data removed]",
      "text/plain": [
       "<Figure size 432x288 with 1 Axes>"
      ]
     },
     "metadata": {
      "needs_background": "light"
     },
     "output_type": "display_data"
    }
   ],
   "source": [
    "#Let's check if there are other outliers\n",
    "sns.boxplot(transactionData['PROD_QTY'])"
   ]
  },
  {
   "cell_type": "code",
   "execution_count": 177,
   "id": "9b60d61d",
   "metadata": {},
   "outputs": [
    {
     "name": "stdout",
     "output_type": "stream",
     "text": [
      "            DATE  STORE_NBR  LYLTY_CARD_NBR  TXN_ID  PROD_NBR  \\\n",
      "69762 2018-08-19        226          226000  226201         4   \n",
      "69763 2019-05-20        226          226000  226210         4   \n",
      "\n",
      "                      PROD_NAME  PROD_QTY  TOT_SALES  \n",
      "69762  Dorito Corn Chp Supreme        200      650.0  \n",
      "69763  Dorito Corn Chp Supreme        200      650.0  \n"
     ]
    }
   ],
   "source": [
    "#Let's select the outlier rows\n",
    "check_outlier = transactionData[transactionData['PROD_QTY'] >150] \n",
    "print(check_outlier)"
   ]
  },
  {
   "cell_type": "markdown",
   "id": "4c4b2f63",
   "metadata": {},
   "source": [
    "Interesting! There seems to be 2 of those sales and the customer number is the same in both transactions. Let's see if the customer has made other purchases."
   ]
  },
  {
   "cell_type": "code",
   "execution_count": 186,
   "id": "6bc17f68",
   "metadata": {},
   "outputs": [
    {
     "name": "stdout",
     "output_type": "stream",
     "text": [
      "            DATE  STORE_NBR  LYLTY_CARD_NBR  TXN_ID  PROD_NBR  \\\n",
      "69762 2018-08-19        226          226000  226201         4   \n",
      "69763 2019-05-20        226          226000  226210         4   \n",
      "\n",
      "                      PROD_NAME  PROD_QTY  TOT_SALES  \n",
      "69762  Dorito Corn Chp Supreme        200      650.0  \n",
      "69763  Dorito Corn Chp Supreme        200      650.0  \n"
     ]
    }
   ],
   "source": [
    "check_customer=transactionData[transactionData['LYLTY_CARD_NBR'] == 226000] \n",
    "print(check_customer)"
   ]
  },
  {
   "cell_type": "markdown",
   "id": "6ec38c47",
   "metadata": {},
   "source": [
    "The customer hasn't made any other purchases. Let's remove these transactions from our analysis as the customer seems to make commercial purchases. "
   ]
  },
  {
   "cell_type": "code",
   "execution_count": 188,
   "id": "78c8593d",
   "metadata": {},
   "outputs": [
    {
     "name": "stdout",
     "output_type": "stream",
     "text": [
      "           STORE_NBR  LYLTY_CARD_NBR        TXN_ID       PROD_NBR  \\\n",
      "count  246740.000000    2.467400e+05  2.467400e+05  246740.000000   \n",
      "mean      135.050361    1.355303e+05  1.351304e+05      56.352213   \n",
      "std        76.786971    8.071520e+04  7.814760e+04      33.695235   \n",
      "min         1.000000    1.000000e+03  1.000000e+00       1.000000   \n",
      "25%        70.000000    7.001500e+04  6.756875e+04      26.000000   \n",
      "50%       130.000000    1.303670e+05  1.351815e+05      53.000000   \n",
      "75%       203.000000    2.030832e+05  2.026522e+05      87.000000   \n",
      "max       272.000000    2.373711e+06  2.415841e+06     114.000000   \n",
      "\n",
      "            PROD_QTY      TOT_SALES  \n",
      "count  246740.000000  246740.000000  \n",
      "mean        1.906456       7.316113  \n",
      "std         0.342499       2.474897  \n",
      "min         1.000000       1.700000  \n",
      "25%         2.000000       5.800000  \n",
      "50%         2.000000       7.400000  \n",
      "75%         2.000000       8.800000  \n",
      "max         5.000000      29.500000  \n"
     ]
    }
   ],
   "source": [
    "#let's remove the outliers and resummarise our data\n",
    "transactionData=transactionData[transactionData['LYLTY_CARD_NBR'] != 226000] \n",
    "print(transactionData.describe())"
   ]
  },
  {
   "cell_type": "code",
   "execution_count": 208,
   "id": "983f9db2",
   "metadata": {},
   "outputs": [
    {
     "name": "stdout",
     "output_type": "stream",
     "text": [
      "            Counts\n",
      "2018-12-24     865\n",
      "2018-12-23     853\n",
      "2018-12-22     840\n",
      "2018-12-19     839\n",
      "2018-12-20     808\n",
      "...            ...\n",
      "2019-06-24     612\n",
      "2018-10-18     611\n",
      "2018-11-25     610\n",
      "2018-09-22     609\n",
      "2019-06-13     607\n",
      "\n",
      "[364 rows x 1 columns]\n"
     ]
    }
   ],
   "source": [
    "#let's see if the data contains any missing dates\n",
    "date_counts = transactionData[\"DATE\"].value_counts()\n",
    "date_counts = pd.DataFrame(data=date_counts)\n",
    "date_counts.rename({'DATE': 'Counts'}, axis=1, inplace=True)\n",
    "\n",
    "print(date_counts)"
   ]
  },
  {
   "cell_type": "markdown",
   "id": "97f06971",
   "metadata": {},
   "source": [
    "We can see that the length of unique dates is 364. Meaning there is a missing date. Can we find it?"
   ]
  },
  {
   "cell_type": "code",
   "execution_count": 212,
   "id": "a7ea50bd",
   "metadata": {},
   "outputs": [
    {
     "data": {
      "text/html": [
       "<div>\n",
       "<style scoped>\n",
       "    .dataframe tbody tr th:only-of-type {\n",
       "        vertical-align: middle;\n",
       "    }\n",
       "\n",
       "    .dataframe tbody tr th {\n",
       "        vertical-align: top;\n",
       "    }\n",
       "\n",
       "    .dataframe thead th {\n",
       "        text-align: right;\n",
       "    }\n",
       "</style>\n",
       "<table border=\"1\" class=\"dataframe\">\n",
       "  <thead>\n",
       "    <tr style=\"text-align: right;\">\n",
       "      <th></th>\n",
       "      <th>0</th>\n",
       "    </tr>\n",
       "  </thead>\n",
       "  <tbody>\n",
       "    <tr>\n",
       "      <th>2018-07-01</th>\n",
       "      <td>2018-07-01</td>\n",
       "    </tr>\n",
       "    <tr>\n",
       "      <th>2018-07-02</th>\n",
       "      <td>2018-07-02</td>\n",
       "    </tr>\n",
       "    <tr>\n",
       "      <th>2018-07-03</th>\n",
       "      <td>2018-07-03</td>\n",
       "    </tr>\n",
       "    <tr>\n",
       "      <th>2018-07-04</th>\n",
       "      <td>2018-07-04</td>\n",
       "    </tr>\n",
       "    <tr>\n",
       "      <th>2018-07-05</th>\n",
       "      <td>2018-07-05</td>\n",
       "    </tr>\n",
       "    <tr>\n",
       "      <th>...</th>\n",
       "      <td>...</td>\n",
       "    </tr>\n",
       "    <tr>\n",
       "      <th>2019-06-26</th>\n",
       "      <td>2019-06-26</td>\n",
       "    </tr>\n",
       "    <tr>\n",
       "      <th>2019-06-27</th>\n",
       "      <td>2019-06-27</td>\n",
       "    </tr>\n",
       "    <tr>\n",
       "      <th>2019-06-28</th>\n",
       "      <td>2019-06-28</td>\n",
       "    </tr>\n",
       "    <tr>\n",
       "      <th>2019-06-29</th>\n",
       "      <td>2019-06-29</td>\n",
       "    </tr>\n",
       "    <tr>\n",
       "      <th>2019-06-30</th>\n",
       "      <td>2019-06-30</td>\n",
       "    </tr>\n",
       "  </tbody>\n",
       "</table>\n",
       "<p>365 rows × 1 columns</p>\n",
       "</div>"
      ],
      "text/plain": [
       "                    0\n",
       "2018-07-01 2018-07-01\n",
       "2018-07-02 2018-07-02\n",
       "2018-07-03 2018-07-03\n",
       "2018-07-04 2018-07-04\n",
       "2018-07-05 2018-07-05\n",
       "...               ...\n",
       "2019-06-26 2019-06-26\n",
       "2019-06-27 2019-06-27\n",
       "2019-06-28 2019-06-28\n",
       "2019-06-29 2019-06-29\n",
       "2019-06-30 2019-06-30\n",
       "\n",
       "[365 rows x 1 columns]"
      ]
     },
     "execution_count": 212,
     "metadata": {},
     "output_type": "execute_result"
    }
   ],
   "source": [
    "#let's create a sequence from 2018-07-1 to 2019-06-30\n",
    "date_range=pd.date_range(start='2018-07-01', end='2019-06-30')\n",
    "date_range.to_frame()"
   ]
  },
  {
   "cell_type": "code",
   "execution_count": 214,
   "id": "fa9b2cd6",
   "metadata": {},
   "outputs": [
    {
     "ename": "AttributeError",
     "evalue": "'DataFrame' object has no attribute 'dtype'",
     "output_type": "error",
     "traceback": [
      "\u001b[0;31m---------------------------------------------------------------------------\u001b[0m",
      "\u001b[0;31mAttributeError\u001b[0m                            Traceback (most recent call last)",
      "\u001b[0;32m<ipython-input-214-1f50b7d822c0>\u001b[0m in \u001b[0;36m<module>\u001b[0;34m\u001b[0m\n\u001b[0;32m----> 1\u001b[0;31m \u001b[0mtransaction_count_bydate\u001b[0m\u001b[0;34m=\u001b[0m\u001b[0mdate_range\u001b[0m\u001b[0;34m.\u001b[0m\u001b[0mjoin\u001b[0m\u001b[0;34m(\u001b[0m\u001b[0mdate_counts\u001b[0m\u001b[0;34m)\u001b[0m\u001b[0;34m\u001b[0m\u001b[0;34m\u001b[0m\u001b[0m\n\u001b[0m",
      "\u001b[0;32m~/opt/anaconda3/lib/python3.8/site-packages/pandas/core/indexes/datetimelike.py\u001b[0m in \u001b[0;36mjoin\u001b[0;34m(self, other, how, level, return_indexers, sort)\u001b[0m\n\u001b[1;32m    885\u001b[0m         \u001b[0mSee\u001b[0m \u001b[0mIndex\u001b[0m\u001b[0;34m.\u001b[0m\u001b[0mjoin\u001b[0m\u001b[0;34m\u001b[0m\u001b[0;34m\u001b[0m\u001b[0m\n\u001b[1;32m    886\u001b[0m         \"\"\"\n\u001b[0;32m--> 887\u001b[0;31m         \u001b[0mpself\u001b[0m\u001b[0;34m,\u001b[0m \u001b[0mpother\u001b[0m \u001b[0;34m=\u001b[0m \u001b[0mself\u001b[0m\u001b[0;34m.\u001b[0m\u001b[0m_maybe_promote\u001b[0m\u001b[0;34m(\u001b[0m\u001b[0mother\u001b[0m\u001b[0;34m)\u001b[0m\u001b[0;34m\u001b[0m\u001b[0;34m\u001b[0m\u001b[0m\n\u001b[0m\u001b[1;32m    888\u001b[0m         \u001b[0;32mif\u001b[0m \u001b[0mpself\u001b[0m \u001b[0;32mis\u001b[0m \u001b[0;32mnot\u001b[0m \u001b[0mself\u001b[0m \u001b[0;32mor\u001b[0m \u001b[0mpother\u001b[0m \u001b[0;32mis\u001b[0m \u001b[0;32mnot\u001b[0m \u001b[0mother\u001b[0m\u001b[0;34m:\u001b[0m\u001b[0;34m\u001b[0m\u001b[0;34m\u001b[0m\u001b[0m\n\u001b[1;32m    889\u001b[0m             return pself.join(\n",
      "\u001b[0;32m~/opt/anaconda3/lib/python3.8/site-packages/pandas/core/indexes/base.py\u001b[0m in \u001b[0;36m_maybe_promote\u001b[0;34m(self, other)\u001b[0m\n\u001b[1;32m   5028\u001b[0m                 \u001b[0;32mreturn\u001b[0m \u001b[0mself\u001b[0m\u001b[0;34m.\u001b[0m\u001b[0mastype\u001b[0m\u001b[0;34m(\u001b[0m\u001b[0;34m\"object\"\u001b[0m\u001b[0;34m)\u001b[0m\u001b[0;34m,\u001b[0m \u001b[0mother\u001b[0m\u001b[0;34m.\u001b[0m\u001b[0mastype\u001b[0m\u001b[0;34m(\u001b[0m\u001b[0;34m\"object\"\u001b[0m\u001b[0;34m)\u001b[0m\u001b[0;34m\u001b[0m\u001b[0;34m\u001b[0m\u001b[0m\n\u001b[1;32m   5029\u001b[0m \u001b[0;34m\u001b[0m\u001b[0m\n\u001b[0;32m-> 5030\u001b[0;31m         \u001b[0;32mif\u001b[0m \u001b[0;32mnot\u001b[0m \u001b[0mis_object_dtype\u001b[0m\u001b[0;34m(\u001b[0m\u001b[0mself\u001b[0m\u001b[0;34m.\u001b[0m\u001b[0mdtype\u001b[0m\u001b[0;34m)\u001b[0m \u001b[0;32mand\u001b[0m \u001b[0mis_object_dtype\u001b[0m\u001b[0;34m(\u001b[0m\u001b[0mother\u001b[0m\u001b[0;34m.\u001b[0m\u001b[0mdtype\u001b[0m\u001b[0;34m)\u001b[0m\u001b[0;34m:\u001b[0m\u001b[0;34m\u001b[0m\u001b[0;34m\u001b[0m\u001b[0m\n\u001b[0m\u001b[1;32m   5031\u001b[0m             \u001b[0;31m# Reverse op so we dont need to re-implement on the subclasses\u001b[0m\u001b[0;34m\u001b[0m\u001b[0;34m\u001b[0m\u001b[0;34m\u001b[0m\u001b[0m\n\u001b[1;32m   5032\u001b[0m             \u001b[0mother\u001b[0m\u001b[0;34m,\u001b[0m \u001b[0mself\u001b[0m \u001b[0;34m=\u001b[0m \u001b[0mother\u001b[0m\u001b[0;34m.\u001b[0m\u001b[0m_maybe_promote\u001b[0m\u001b[0;34m(\u001b[0m\u001b[0mself\u001b[0m\u001b[0;34m)\u001b[0m\u001b[0;34m\u001b[0m\u001b[0;34m\u001b[0m\u001b[0m\n",
      "\u001b[0;32m~/opt/anaconda3/lib/python3.8/site-packages/pandas/core/generic.py\u001b[0m in \u001b[0;36m__getattr__\u001b[0;34m(self, name)\u001b[0m\n\u001b[1;32m   5463\u001b[0m             \u001b[0;32mif\u001b[0m \u001b[0mself\u001b[0m\u001b[0;34m.\u001b[0m\u001b[0m_info_axis\u001b[0m\u001b[0;34m.\u001b[0m\u001b[0m_can_hold_identifiers_and_holds_name\u001b[0m\u001b[0;34m(\u001b[0m\u001b[0mname\u001b[0m\u001b[0;34m)\u001b[0m\u001b[0;34m:\u001b[0m\u001b[0;34m\u001b[0m\u001b[0;34m\u001b[0m\u001b[0m\n\u001b[1;32m   5464\u001b[0m                 \u001b[0;32mreturn\u001b[0m \u001b[0mself\u001b[0m\u001b[0;34m[\u001b[0m\u001b[0mname\u001b[0m\u001b[0;34m]\u001b[0m\u001b[0;34m\u001b[0m\u001b[0;34m\u001b[0m\u001b[0m\n\u001b[0;32m-> 5465\u001b[0;31m             \u001b[0;32mreturn\u001b[0m \u001b[0mobject\u001b[0m\u001b[0;34m.\u001b[0m\u001b[0m__getattribute__\u001b[0m\u001b[0;34m(\u001b[0m\u001b[0mself\u001b[0m\u001b[0;34m,\u001b[0m \u001b[0mname\u001b[0m\u001b[0;34m)\u001b[0m\u001b[0;34m\u001b[0m\u001b[0;34m\u001b[0m\u001b[0m\n\u001b[0m\u001b[1;32m   5466\u001b[0m \u001b[0;34m\u001b[0m\u001b[0m\n\u001b[1;32m   5467\u001b[0m     \u001b[0;32mdef\u001b[0m \u001b[0m__setattr__\u001b[0m\u001b[0;34m(\u001b[0m\u001b[0mself\u001b[0m\u001b[0;34m,\u001b[0m \u001b[0mname\u001b[0m\u001b[0;34m:\u001b[0m \u001b[0mstr\u001b[0m\u001b[0;34m,\u001b[0m \u001b[0mvalue\u001b[0m\u001b[0;34m)\u001b[0m \u001b[0;34m->\u001b[0m \u001b[0;32mNone\u001b[0m\u001b[0;34m:\u001b[0m\u001b[0;34m\u001b[0m\u001b[0;34m\u001b[0m\u001b[0m\n",
      "\u001b[0;31mAttributeError\u001b[0m: 'DataFrame' object has no attribute 'dtype'"
     ]
    }
   ],
   "source": [
    "transaction_count_bydate=date_range.join(date_counts)"
   ]
  },
  {
   "cell_type": "code",
   "execution_count": null,
   "id": "f741bf93",
   "metadata": {},
   "outputs": [],
   "source": []
  }
 ],
 "metadata": {
  "kernelspec": {
   "display_name": "Python 3",
   "language": "python",
   "name": "python3"
  },
  "language_info": {
   "codemirror_mode": {
    "name": "ipython",
    "version": 3
   },
   "file_extension": ".py",
   "mimetype": "text/x-python",
   "name": "python",
   "nbconvert_exporter": "python",
   "pygments_lexer": "ipython3",
   "version": "3.8.8"
  }
 },
 "nbformat": 4,
 "nbformat_minor": 5
}
